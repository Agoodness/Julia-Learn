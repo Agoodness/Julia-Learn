{
 "cells": [
  {
   "cell_type": "code",
   "execution_count": 1,
   "metadata": {},
   "outputs": [
    {
     "data": {
      "text/plain": [
       "Dict{Any, Any}()"
      ]
     },
     "metadata": {},
     "output_type": "display_data"
    }
   ],
   "source": [
    "Test = Dict()"
   ]
  },
  {
   "cell_type": "code",
   "execution_count": 4,
   "metadata": {},
   "outputs": [
    {
     "data": {
      "text/plain": [
       "1"
      ]
     },
     "metadata": {},
     "output_type": "display_data"
    }
   ],
   "source": [
    "Test[\"new\"] = 1"
   ]
  },
  {
   "cell_type": "markdown",
   "metadata": {},
   "source": [
    "## Exercise 11-2\n",
    "\n",
    "Write a function that reads the words in words.txt and stores them as keys in a dictio‐\n",
    "nary. It doesn’t matter what the values are. Then you can use the ∈ operator as a fast\n",
    "way to check whether a string is in the dictionary.\n",
    "If you did “Exercise 10-10” on page 125, you can compare the speed of this imple‐\n",
    "mentation with the array ∈ operator and the bisection search."
   ]
  },
  {
   "cell_type": "code",
   "execution_count": 17,
   "metadata": {},
   "outputs": [
    {
     "data": {
      "text/plain": [
       "wordsDict (generic function with 1 method)"
      ]
     },
     "metadata": {},
     "output_type": "display_data"
    }
   ],
   "source": [
    "function wordsDict(a)\n",
    "    block = Dict()\n",
    "    counter = 1\n",
    "    for word in eachline(a) \n",
    "        block[word] = counter\n",
    "        counter +=1\n",
    "    end\n",
    "    block\n",
    "    \"cliquing\" ∈ keys(block)\n",
    "end"
   ]
  },
  {
   "cell_type": "code",
   "execution_count": 18,
   "metadata": {},
   "outputs": [
    {
     "name": "stdout",
     "output_type": "stream",
     "text": [
      "  0.019054 seconds (349.69 k allocations: 13.593 MiB, 38.77% compilation time)\n"
     ]
    },
    {
     "data": {
      "text/plain": [
       "true"
      ]
     },
     "metadata": {},
     "output_type": "display_data"
    }
   ],
   "source": [
    "a = \"words.txt\"\n",
    "\n",
    "@time wordsDict(a)"
   ]
  },
  {
   "cell_type": "markdown",
   "metadata": {},
   "source": [
    "## Exercise 11-3\n",
    "\n",
    "Read the documentation of the dictionary function get! and use it to write a more\n",
    "concise version of invertdict."
   ]
  },
  {
   "cell_type": "code",
   "execution_count": 3,
   "metadata": {},
   "outputs": [
    {
     "data": {
      "text/plain": [
       "Dict{Char, Int64} with 5 entries:\n",
       "  'a' => 1\n",
       "  'r' => 2\n",
       "  'p' => 1\n",
       "  'o' => 2\n",
       "  't' => 1"
      ]
     },
     "metadata": {},
     "output_type": "display_data"
    }
   ],
   "source": [
    "his = Dict('a' => 1, 'r' => 2,  'p' => 1, 'o' => 2,  't' => 1)"
   ]
  },
  {
   "cell_type": "code",
   "execution_count": 19,
   "metadata": {},
   "outputs": [
    {
     "data": {
      "text/plain": [
       "invertdict (generic function with 1 method)"
      ]
     },
     "metadata": {},
     "output_type": "display_data"
    }
   ],
   "source": [
    "function invertdict(d)\n",
    "    inverse = Dict()\n",
    "    for key in keys(d) \n",
    "        val = d[key]\n",
    "        inverse[val] = get!(inverse, val, [key])\n",
    "    end\n",
    "    inverse\n",
    "end"
   ]
  },
  {
   "cell_type": "code",
   "execution_count": 20,
   "metadata": {},
   "outputs": [
    {
     "data": {
      "text/plain": [
       "Dict{Any, Any} with 2 entries:\n",
       "  2 => ['r']\n",
       "  1 => ['a']"
      ]
     },
     "metadata": {},
     "output_type": "display_data"
    }
   ],
   "source": [
    "invertdict(his)"
   ]
  },
  {
   "cell_type": "code",
   "execution_count": null,
   "metadata": {},
   "outputs": [],
   "source": []
  }
 ],
 "metadata": {
  "kernelspec": {
   "display_name": "Julia 1.10.2",
   "language": "julia",
   "name": "julia-1.10"
  },
  "language_info": {
   "file_extension": ".jl",
   "mimetype": "application/julia",
   "name": "julia",
   "version": "1.10.2"
  }
 },
 "nbformat": 4,
 "nbformat_minor": 2
}
