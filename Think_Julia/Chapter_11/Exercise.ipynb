{
 "cells": [
  {
   "cell_type": "code",
   "execution_count": 1,
   "metadata": {},
   "outputs": [
    {
     "data": {
      "text/plain": [
       "Dict{Any, Any}()"
      ]
     },
     "metadata": {},
     "output_type": "display_data"
    }
   ],
   "source": [
    "Test = Dict()"
   ]
  },
  {
   "cell_type": "code",
   "execution_count": 4,
   "metadata": {},
   "outputs": [
    {
     "data": {
      "text/plain": [
       "1"
      ]
     },
     "metadata": {},
     "output_type": "display_data"
    }
   ],
   "source": [
    "Test[\"new\"] = 1"
   ]
  },
  {
   "cell_type": "markdown",
   "metadata": {},
   "source": [
    "## Exercise 11-2\n",
    "\n",
    "Write a function that reads the words in words.txt and stores them as keys in a dictio‐\n",
    "nary. It doesn’t matter what the values are. Then you can use the ∈ operator as a fast\n",
    "way to check whether a string is in the dictionary.\n",
    "If you did “Exercise 10-10” on page 125, you can compare the speed of this imple‐\n",
    "mentation with the array ∈ operator and the bisection search."
   ]
  },
  {
   "cell_type": "code",
   "execution_count": 17,
   "metadata": {},
   "outputs": [
    {
     "data": {
      "text/plain": [
       "wordsDict (generic function with 1 method)"
      ]
     },
     "metadata": {},
     "output_type": "display_data"
    }
   ],
   "source": [
    "function wordsDict(a)\n",
    "    block = Dict()\n",
    "    counter = 1\n",
    "    for word in eachline(a) \n",
    "        block[word] = counter\n",
    "        counter +=1\n",
    "    end\n",
    "    block\n",
    "    \"cliquing\" ∈ keys(block)\n",
    "end"
   ]
  },
  {
   "cell_type": "code",
   "execution_count": 18,
   "metadata": {},
   "outputs": [
    {
     "name": "stdout",
     "output_type": "stream",
     "text": [
      "  0.019054 seconds (349.69 k allocations: 13.593 MiB, 38.77% compilation time)\n"
     ]
    },
    {
     "data": {
      "text/plain": [
       "true"
      ]
     },
     "metadata": {},
     "output_type": "display_data"
    }
   ],
   "source": [
    "a = \"words.txt\"\n",
    "\n",
    "@time wordsDict(a)3"
   ]
  },
  {
   "cell_type": "markdown",
   "metadata": {},
   "source": [
    "## Exercise 11-3\n",
    "\n",
    "Read the documentation of the dictionary function get! and use it to write a more\n",
    "concise version of invertdict."
   ]
  },
  {
   "cell_type": "code",
   "execution_count": 3,
   "metadata": {},
   "outputs": [
    {
     "data": {
      "text/plain": [
       "Dict{Char, Int64} with 5 entries:\n",
       "  'a' => 1\n",
       "  'r' => 2\n",
       "  'p' => 1\n",
       "  'o' => 2\n",
       "  't' => 1"
      ]
     },
     "metadata": {},
     "output_type": "display_data"
    }
   ],
   "source": [
    "his = Dict('a' => 1, 'r' => 2,  'p' => 1, 'o' => 2,  't' => 1)"
   ]
  },
  {
   "cell_type": "code",
   "execution_count": 19,
   "metadata": {},
   "outputs": [
    {
     "data": {
      "text/plain": [
       "invertdict (generic function with 1 method)"
      ]
     },
     "metadata": {},
     "output_type": "display_data"
    }
   ],
   "source": [
    "function invertdict(d)\n",
    "    inverse = Dict()\n",
    "    for key in keys(d) \n",
    "        val = d[key]\n",
    "        inverse[val] = get!(inverse, val, [key])\n",
    "    end\n",
    "    inverse\n",
    "end"
   ]
  },
  {
   "cell_type": "code",
   "execution_count": 20,
   "metadata": {},
   "outputs": [
    {
     "data": {
      "text/plain": [
       "Dict{Any, Any} with 2 entries:\n",
       "  2 => ['r']\n",
       "  1 => ['a']"
      ]
     },
     "metadata": {},
     "output_type": "display_data"
    }
   ],
   "source": [
    "invertdict(his)"
   ]
  },
  {
   "cell_type": "markdown",
   "metadata": {},
   "source": [
    "## Exercise 11-4\n",
    "\n",
    "Memoize the Ackermann function from “Exercise 6-5” on page 75 and see if memoi‐\n",
    "zation makes it possible to evaluate the function with bigger arguments."
   ]
  },
  {
   "cell_type": "code",
   "execution_count": null,
   "metadata": {},
   "outputs": [],
   "source": []
  },
  {
   "cell_type": "markdown",
   "metadata": {},
   "source": [
    "## Exercise 11-5\n",
    "\n",
    "If you did “Exercise 10-7” on page 125, you already have a function named\n",
    "hasduplicates that takes an array as a parameter and returns true if there is any\n",
    "object that appears more than once in the array.\n",
    "Use a dictionary to write a faster, simpler version of hasduplicates."
   ]
  },
  {
   "cell_type": "code",
   "execution_count": 8,
   "metadata": {},
   "outputs": [
    {
     "data": {
      "text/plain": [
       "hasduplicate (generic function with 1 method)"
      ]
     },
     "metadata": {},
     "output_type": "display_data"
    }
   ],
   "source": [
    "function hasduplicate(a)\n",
    "    store = Dict()\n",
    "    for key in a\n",
    "        if key ∉ keys(store)\n",
    "            store[key] = 1\n",
    "        else\n",
    "            return true\n",
    "        end\n",
    "    end\n",
    "    store\n",
    "end"
   ]
  },
  {
   "cell_type": "code",
   "execution_count": 10,
   "metadata": {},
   "outputs": [
    {
     "data": {
      "text/plain": [
       "Dict{Any, Any} with 7 entries:\n",
       "  'n' => 1\n",
       "  'h' => 1\n",
       "  'a' => 1\n",
       "  'c' => 1\n",
       "  'r' => 1\n",
       "  'p' => 1\n",
       "  'b' => 1"
      ]
     },
     "metadata": {},
     "output_type": "display_data"
    }
   ],
   "source": [
    "hasduplicate(\"abcnrph\")"
   ]
  },
  {
   "cell_type": "markdown",
   "metadata": {},
   "source": [
    "## Exercise 11-6\n",
    "\n",
    "Two words are “rotate pairs” if you can rotate one of them and get the other (see\n",
    "rotateword in “Exercise 8-11” on page 99).\n",
    "Write a program that reads a word array and finds all the rotate pairs."
   ]
  },
  {
   "cell_type": "code",
   "execution_count": 36,
   "metadata": {},
   "outputs": [
    {
     "data": {
      "text/plain": [
       "rotateword (generic function with 2 methods)"
      ]
     },
     "metadata": {},
     "output_type": "display_data"
    }
   ],
   "source": [
    "function rotate(a, b)\n",
    "    if islowercase(a) == true\n",
    "        result = Char(Int(a) + b)\n",
    "        if Int(result) > 122\n",
    "            result = Char(96 + (Int(result) % 122))\n",
    "        end \n",
    "        return result\n",
    "    elseif isuppercase(a) == true\n",
    "        result = Char(Int(a) + b)\n",
    "        if Int(result) > 90\n",
    "            result = Char(64 + (Int(result) % 90))\n",
    "        end \n",
    "        return result\n",
    "    else \n",
    "        error(\"Function can only work with Char\")\n",
    "    end\n",
    "end\n",
    "\n",
    "function rotateword(array)\n",
    "    array = array\n",
    "    Rotate = Dict()\n",
    "    \n",
    "    for a in array\n",
    "        for b in 1:25\n",
    "            rotate_word = \"\"\n",
    "            for (i, char) in enumerate(a)\n",
    "                rotate_char = rotate(char, b)\n",
    "                rotate_word = rotate_word * rotate_char\n",
    "                \n",
    "                if rotate_word in array\n",
    "                    Rotate[a] = rotate_word\n",
    "                else\n",
    "                    continue\n",
    "                end   \n",
    "            end\n",
    "        end \n",
    "    end \n",
    "    Rotate\n",
    "end"
   ]
  },
  {
   "cell_type": "code",
   "execution_count": 37,
   "metadata": {},
   "outputs": [
    {
     "data": {
      "text/plain": [
       "Dict{Any, Any} with 2 entries:\n",
       "  \"abc\" => \"bcd\"\n",
       "  \"bcd\" => \"abc\""
      ]
     },
     "metadata": {},
     "output_type": "display_data"
    }
   ],
   "source": [
    "a = [\"abc\", \"bcd\", \"gbf\", \"yth\"]\n",
    "\n",
    "rotateword(a)"
   ]
  },
  {
   "cell_type": "code",
   "execution_count": 25,
   "metadata": {},
   "outputs": [
    {
     "name": "stdout",
     "output_type": "stream",
     "text": [
      "1 and abc\n",
      "2 and bcd\n",
      "3 and gbf\n",
      "4 and yth\n"
     ]
    }
   ],
   "source": [
    "a = [\"abc\", \"bcd\", \"gbf\", \"yth\"]\n",
    "\n",
    "for (i, char) in enumerate(a)\n",
    "    println(\"$i and $char\")\n",
    "end"
   ]
  },
  {
   "cell_type": "markdown",
   "metadata": {},
   "source": [
    "## Exercise 11-7\n",
    "\n",
    "Here’s another Puzzler from Car Talk:\n",
    "[A contributor] came upon a common one-syllable, five-letter word recently that has\n",
    "the following unique property. When you remove the first letter, the remaining letters\n",
    "form a homophone of the original word, that is a word that sounds exactly the same.\n",
    "Replace the first letter, that is, put it back and remove the second letter and the result is\n",
    "yet another homophone of the original word. And the question is, what’s the word?\n",
    "Now I’m going to give you an example that doesn’t work. Let’s look at the five-letter\n",
    "word, ‘wrack.’ W-R-A-C-K, you know like to ‘wrack with pain.’ If I remove the first let‐\n",
    "ter, I am left with a four-letter word, ‘R-A-C-K.’ As in, ‘Holy cow, did you see the rack\n",
    "on that buck! It must have been a nine-pointer!’ It’s a perfect homophone. If you put\n",
    "the ‘w’ back, and remove the ‘r,’ instead, you’re left with the word, ‘wack,’ which is a real\n",
    "word, it’s just not a homophone of the other two words.\n",
    "But there is, however, at least one word that [I] know of, which will yield two homo‐\n",
    "phones if you remove either of the first two letters to make two, new four-letter words.\n",
    "The question is, what’s the word?\n",
    "You can use the dictionary from “Exercise 11-2” on page 139 to check whether a\n",
    "string is in the word array.\n",
    "\n",
    "To check whether two words are homophones, you can use the\n",
    "Carnegie Mellon University Pronouncing Dictionary.\n",
    "\n",
    "Write a program that lists all the words that solve the Puzzler."
   ]
  },
  {
   "cell_type": "code",
   "execution_count": 1,
   "metadata": {},
   "outputs": [
    {
     "data": {
      "text/plain": [
       "CarTalk (generic function with 1 method)"
      ]
     },
     "metadata": {},
     "output_type": "display_data"
    }
   ],
   "source": [
    "function CarTalk()\n",
    "    WordDict = Dict()\n",
    "    open(\"cmudict.txt\") do file\n",
    "        for line in eachline(file) \n",
    "            if startswith(line, \";;;\") \n",
    "                continue\n",
    "            end\n",
    "            extract = split(line, \" \", limit=2)         \n",
    "            word, pronounciation = extract[1], extract[2]\n",
    "            WordDict[word] = pronounciation\n",
    "        end\n",
    "\n",
    "        for word in keys(WordDict)\n",
    "            first_word = word[2:end]\n",
    "            second_word = word[1] * word[3:end]\n",
    "\n",
    "            if first_word in keys(WordDict) && second_word in keys(WordDict) && word[1] != '-'\n",
    "                if WordDict[first_word] == WordDict[second_word]\n",
    "                    pronoun = WordDict[first_word]\n",
    "                    println(\"Word is $word with $first_word and $second_word has the pronounciation $pronoun\")\n",
    "\n",
    "                else\n",
    "                    continue\n",
    "                end\n",
    "            else\n",
    "                continue\n",
    "            end\n",
    "        end\n",
    "    end \n",
    "    WordDict\n",
    "end"
   ]
  },
  {
   "cell_type": "code",
   "execution_count": 2,
   "metadata": {},
   "outputs": [
    {
     "name": "stdout",
     "output_type": "stream",
     "text": [
      "Word is IIDA with IDA and IDA has the pronounciation  AY1 D AH0\n",
      "Word is CC with C and C has the pronounciation  S IY1\n",
      "Word is EELAM with ELAM and ELAM has the pronounciation  EH1 L AH0 M\n",
      "Word is IIAMS with IAMS and IAMS has the pronounciation  IY1 AA0 M Z\n",
      "Word is LLOYD with LOYD and LOYD has the pronounciation  L OY1 D\n",
      "Word is AALIYAH with ALIYAH and ALIYAH has the pronounciation  AH0 L IY1 AH0\n",
      "Word is AAKER with AKER and AKER has the pronounciation  AE1 K ER0\n",
      "Word is OODLE with ODLE and ODLE has the pronounciation  OW1 D AH0 L\n",
      "Word is OOHS with OHS and OHS has the pronounciation  OW1 Z\n",
      "Word is LLANO with LANO and LANO has the pronounciation  L AA1 N OW0\n",
      "Word is OOPS with OPS and OPS has the pronounciation  AA1 P S\n",
      "Word is TT'S with T'S and T'S has the pronounciation  T IY1 Z\n",
      "Word is KCAL with CAL and KAL has the pronounciation  K AE1 L\n",
      "Word is LLAMAS with LAMAS and LAMAS has the pronounciation  L AA1 M AH0 Z\n",
      "Word is AAA with AA and AA has the pronounciation  EY2 EY1\n",
      "Word is EERIE with ERIE and ERIE has the pronounciation  IH1 R IY0\n",
      "Word is OOLEY with OLEY and OLEY has the pronounciation  OW1 L IY0\n",
      "Word is LLAMA with LAMA and LAMA has the pronounciation  L AA1 M AH0\n",
      "Word is AARON with ARON and ARON has the pronounciation  EH1 R AH0 N\n",
      "Word is EELS with ELS and ELS has the pronounciation  EH1 L Z\n",
      "Word is OOP with OP and OP has the pronounciation  AA1 P\n",
      "Word is AABERG with ABERG and ABERG has the pronounciation  AE1 B ER0 G\n",
      "Word is SCENT with CENT and SENT has the pronounciation  S EH1 N T\n",
      "Word is OONA with ONA and ONA has the pronounciation  AH0 N AA1\n",
      "Word is OOH with OH and OH has the pronounciation  OW1\n",
      "Word is EEL with EL and EL has the pronounciation  EH1 L\n",
      "Word is AARONS with ARONS and ARONS has the pronounciation  AA1 R OW0 N Z\n",
      "Word is LLANA with LANA and LANA has the pronounciation  L AE1 N AH0\n",
      "Word is EE with E and E has the pronounciation  IY1\n",
      "Word is CCD with CD and CD has the pronounciation  S IY2 D IY1\n",
      "Word is LLEWELLYN with LEWELLYN and LEWELLYN has the pronounciation  L UW2 EH1 L IH0 N\n",
      "Word is AA with A and A has the pronounciation  AH0\n",
      "Word is AARGH with ARGH and ARGH has the pronounciation  AA1 R G\n",
      "Word is OOOH with OOH and OOH has the pronounciation  UW1\n",
      "Word is AAH with AH and AH has the pronounciation  AA1\n",
      "Word is E'S with 'S and ES has the pronounciation  EH1 S\n",
      "Word is LLANES with LANES and LANES has the pronounciation  L EY1 N Z\n",
      "Word is AARONSON with ARONSON and ARONSON has the pronounciation  EH1 R AH0 N S AH0 N\n",
      "Word is OOOHS with OOHS and OOHS has the pronounciation  UW1 Z\n",
      "Word is BBC with BC and BC has the pronounciation  B IY2 S IY1\n"
     ]
    },
    {
     "data": {
      "text/plain": [
       "Dict{Any, Any} with 134373 entries:\n",
       "  \"ZUREK\"       => \" Z UH1 R EH0 K\"\n",
       "  \"BERGERMAN\"   => \" B ER1 G ER0 M AH0 N\"\n",
       "  \"COWARDICE\"   => \" K AW1 ER0 D AH0 S\"\n",
       "  \"PARTICIPLES\" => \" P AA1 R T IH0 S IH2 P AH0 L Z\"\n",
       "  \"HALLWAYS\"    => \" HH AO1 L W EY2 Z\"\n",
       "  \"BUDZYN\"      => \" B AH1 D Z IH0 N\"\n",
       "  \"KIRMSE\"      => \" K ER1 M S IY0\"\n",
       "  \"ADAMCZYK\"    => \" AA1 D AH0 M CH IH0 K\"\n",
       "  \"CAUSING(1)\"  => \" K AO1 Z IH0 NG\"\n",
       "  \"ROUTER(1)\"   => \" R AW1 T ER0\"\n",
       "  \"DEPRIVING\"   => \" D IH0 P R AY1 V IH0 NG\"\n",
       "  \"PURVEYOR\"    => \" P ER0 V EY1 ER0\"\n",
       "  \"DIPLOMATIC\"  => \" D IH2 P L AH0 M AE1 T IH0 K\"\n",
       "  \"TOPPLING\"    => \" T AA1 P AH0 L IH0 NG\"\n",
       "  \"BOZE\"        => \" B OW1 Z\"\n",
       "  \"PELKA\"       => \" P EH1 L K AH0\"\n",
       "  \"RELUCTANTLY\" => \" R IH0 L AH1 K T AH0 N T L IY0\"\n",
       "  \"COINED\"      => \" K OY1 N D\"\n",
       "  \"ARMTEC\"      => \" AA1 R M T EH2 K\"\n",
       "  ⋮             => ⋮"
      ]
     },
     "metadata": {},
     "output_type": "display_data"
    }
   ],
   "source": [
    "CarTalk()"
   ]
  },
  {
   "cell_type": "code",
   "execution_count": 3,
   "metadata": {},
   "outputs": [
    {
     "data": {
      "text/plain": [
       "true"
      ]
     },
     "metadata": {},
     "output_type": "display_data"
    }
   ],
   "source": [
    "isa('-', Char)"
   ]
  },
  {
   "cell_type": "code",
   "execution_count": null,
   "metadata": {},
   "outputs": [],
   "source": []
  }
 ],
 "metadata": {
  "kernelspec": {
   "display_name": "Julia 1.10.2",
   "language": "julia",
   "name": "julia-1.10"
  },
  "language_info": {
   "file_extension": ".jl",
   "mimetype": "application/julia",
   "name": "julia",
   "version": "1.10.2"
  }
 },
 "nbformat": 4,
 "nbformat_minor": 2
}
