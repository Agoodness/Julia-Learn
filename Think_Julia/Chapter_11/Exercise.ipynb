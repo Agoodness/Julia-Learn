{
 "cells": [
  {
   "cell_type": "code",
   "execution_count": 1,
   "metadata": {},
   "outputs": [
    {
     "data": {
      "text/plain": [
       "Dict{Any, Any}()"
      ]
     },
     "metadata": {},
     "output_type": "display_data"
    }
   ],
   "source": [
    "Test = Dict()"
   ]
  },
  {
   "cell_type": "code",
   "execution_count": 4,
   "metadata": {},
   "outputs": [
    {
     "data": {
      "text/plain": [
       "1"
      ]
     },
     "metadata": {},
     "output_type": "display_data"
    }
   ],
   "source": [
    "Test[\"new\"] = 1"
   ]
  },
  {
   "cell_type": "markdown",
   "metadata": {},
   "source": [
    "## Exercise 11-2\n",
    "\n",
    "Write a function that reads the words in words.txt and stores them as keys in a dictio‐\n",
    "nary. It doesn’t matter what the values are. Then you can use the ∈ operator as a fast\n",
    "way to check whether a string is in the dictionary.\n",
    "If you did “Exercise 10-10” on page 125, you can compare the speed of this imple‐\n",
    "mentation with the array ∈ operator and the bisection search."
   ]
  },
  {
   "cell_type": "code",
   "execution_count": 17,
   "metadata": {},
   "outputs": [
    {
     "data": {
      "text/plain": [
       "wordsDict (generic function with 1 method)"
      ]
     },
     "metadata": {},
     "output_type": "display_data"
    }
   ],
   "source": [
    "function wordsDict(a)\n",
    "    block = Dict()\n",
    "    counter = 1\n",
    "    for word in eachline(a) \n",
    "        block[word] = counter\n",
    "        counter +=1\n",
    "    end\n",
    "    block\n",
    "    \"cliquing\" ∈ keys(block)\n",
    "end"
   ]
  },
  {
   "cell_type": "code",
   "execution_count": 18,
   "metadata": {},
   "outputs": [
    {
     "name": "stdout",
     "output_type": "stream",
     "text": [
      "  0.019054 seconds (349.69 k allocations: 13.593 MiB, 38.77% compilation time)\n"
     ]
    },
    {
     "data": {
      "text/plain": [
       "true"
      ]
     },
     "metadata": {},
     "output_type": "display_data"
    }
   ],
   "source": [
    "a = \"words.txt\"\n",
    "\n",
    "@time wordsDict(a)"
   ]
  },
  {
   "cell_type": "markdown",
   "metadata": {},
   "source": [
    "## Exercise 11-3\n",
    "\n",
    "Read the documentation of the dictionary function get! and use it to write a more\n",
    "concise version of invertdict."
   ]
  },
  {
   "cell_type": "code",
   "execution_count": 3,
   "metadata": {},
   "outputs": [
    {
     "data": {
      "text/plain": [
       "Dict{Char, Int64} with 5 entries:\n",
       "  'a' => 1\n",
       "  'r' => 2\n",
       "  'p' => 1\n",
       "  'o' => 2\n",
       "  't' => 1"
      ]
     },
     "metadata": {},
     "output_type": "display_data"
    }
   ],
   "source": [
    "his = Dict('a' => 1, 'r' => 2,  'p' => 1, 'o' => 2,  't' => 1)"
   ]
  },
  {
   "cell_type": "code",
   "execution_count": 19,
   "metadata": {},
   "outputs": [
    {
     "data": {
      "text/plain": [
       "invertdict (generic function with 1 method)"
      ]
     },
     "metadata": {},
     "output_type": "display_data"
    }
   ],
   "source": [
    "function invertdict(d)\n",
    "    inverse = Dict()\n",
    "    for key in keys(d) \n",
    "        val = d[key]\n",
    "        inverse[val] = get!(inverse, val, [key])\n",
    "    end\n",
    "    inverse\n",
    "end"
   ]
  },
  {
   "cell_type": "code",
   "execution_count": 20,
   "metadata": {},
   "outputs": [
    {
     "data": {
      "text/plain": [
       "Dict{Any, Any} with 2 entries:\n",
       "  2 => ['r']\n",
       "  1 => ['a']"
      ]
     },
     "metadata": {},
     "output_type": "display_data"
    }
   ],
   "source": [
    "invertdict(his)"
   ]
  },
  {
   "cell_type": "markdown",
   "metadata": {},
   "source": [
    "## Exercise 11-4\n",
    "\n",
    "Memoize the Ackermann function from “Exercise 6-5” on page 75 and see if memoi‐\n",
    "zation makes it possible to evaluate the function with bigger arguments."
   ]
  },
  {
   "cell_type": "code",
   "execution_count": null,
   "metadata": {},
   "outputs": [],
   "source": []
  },
  {
   "cell_type": "markdown",
   "metadata": {},
   "source": [
    "## Exercise 11-5\n",
    "\n",
    "If you did “Exercise 10-7” on page 125, you already have a function named\n",
    "hasduplicates that takes an array as a parameter and returns true if there is any\n",
    "object that appears more than once in the array.\n",
    "Use a dictionary to write a faster, simpler version of hasduplicates."
   ]
  },
  {
   "cell_type": "code",
   "execution_count": 8,
   "metadata": {},
   "outputs": [
    {
     "data": {
      "text/plain": [
       "hasduplicate (generic function with 1 method)"
      ]
     },
     "metadata": {},
     "output_type": "display_data"
    }
   ],
   "source": [
    "function hasduplicate(a)\n",
    "    store = Dict()\n",
    "    for key in a\n",
    "        if key ∉ keys(store)\n",
    "            store[key] = 1\n",
    "        else\n",
    "            return true\n",
    "        end\n",
    "    end\n",
    "    store\n",
    "end"
   ]
  },
  {
   "cell_type": "code",
   "execution_count": 10,
   "metadata": {},
   "outputs": [
    {
     "data": {
      "text/plain": [
       "Dict{Any, Any} with 7 entries:\n",
       "  'n' => 1\n",
       "  'h' => 1\n",
       "  'a' => 1\n",
       "  'c' => 1\n",
       "  'r' => 1\n",
       "  'p' => 1\n",
       "  'b' => 1"
      ]
     },
     "metadata": {},
     "output_type": "display_data"
    }
   ],
   "source": [
    "hasduplicate(\"abcnrph\")"
   ]
  },
  {
   "cell_type": "markdown",
   "metadata": {},
   "source": [
    "## Exercise 11-6\n",
    "\n",
    "Two words are “rotate pairs” if you can rotate one of them and get the other (see\n",
    "rotateword in “Exercise 8-11” on page 99).\n",
    "Write a program that reads a word array and finds all the rotate pairs."
   ]
  },
  {
   "cell_type": "code",
   "execution_count": null,
   "metadata": {},
   "outputs": [],
   "source": []
  }
 ],
 "metadata": {
  "kernelspec": {
   "display_name": "Julia 1.10.2",
   "language": "julia",
   "name": "julia-1.10"
  },
  "language_info": {
   "file_extension": ".jl",
   "mimetype": "application/julia",
   "name": "julia",
   "version": "1.10.2"
  }
 },
 "nbformat": 4,
 "nbformat_minor": 2
}
