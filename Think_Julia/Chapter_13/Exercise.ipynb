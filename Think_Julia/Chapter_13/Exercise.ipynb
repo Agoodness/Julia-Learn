{
 "cells": [
  {
   "cell_type": "markdown",
   "metadata": {},
   "source": [
    "## Exercise 13-9\n",
    "\n",
    "Write a program that reads a text from a file, counts word frequencies, and prints one\n",
    "line for each word, in descending order of frequency, with log f and log r."
   ]
  },
  {
   "cell_type": "code",
   "execution_count": null,
   "metadata": {
    "vscode": {
     "languageId": "plaintext"
    }
   },
   "outputs": [],
   "source": []
  }
 ],
 "metadata": {
  "language_info": {
   "name": "python"
  }
 },
 "nbformat": 4,
 "nbformat_minor": 2
}
