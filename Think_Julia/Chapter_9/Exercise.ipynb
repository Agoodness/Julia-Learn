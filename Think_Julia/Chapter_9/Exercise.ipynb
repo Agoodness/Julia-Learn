{
 "cells": [
  {
   "cell_type": "code",
   "execution_count": 2,
   "metadata": {},
   "outputs": [
    {
     "name": "stdout",
     "output_type": "stream",
     "text": [
      "counterdemonstrations\n",
      "hyperaggressivenesses\n",
      "microminiaturizations\n"
     ]
    }
   ],
   "source": [
    "function wordcount(a)\n",
    "    counter = 0 \n",
    "    for i in 1:length(a) \n",
    "        counter +=1\n",
    "    end\n",
    "    \n",
    "    if counter > 20\n",
    "        return a\n",
    "    else\n",
    "        return 0\n",
    "    end\n",
    "end\n",
    "\n",
    "\n",
    "function printword(b)\n",
    "    for word in eachline(b) \n",
    "        Word = wordcount(word)\n",
    "\n",
    "        if Word != 0 \n",
    "            println(Word)\n",
    "        end\n",
    "    end\n",
    "end\n",
    "\n",
    "printword(\"words.txt\")"
   ]
  },
  {
   "cell_type": "markdown",
   "metadata": {},
   "source": [
    "## Exercise 9-2\n",
    "\n",
    "Modify your program from the previous exercise to print only the words that have no\n",
    "e and compute the percentage of the words in the list that have no e."
   ]
  },
  {
   "cell_type": "code",
   "execution_count": 4,
   "metadata": {},
   "outputs": [],
   "source": []
  },
  {
   "cell_type": "code",
   "execution_count": 24,
   "metadata": {},
   "outputs": [],
   "source": [
    "\n",
    "for line in eachline(\"words.txt\") \n",
    "    println(line)\n",
    "end"
   ]
  },
  {
   "cell_type": "code",
   "execution_count": null,
   "metadata": {},
   "outputs": [],
   "source": []
  }
 ],
 "metadata": {
  "kernelspec": {
   "display_name": "Julia 1.10.2",
   "language": "julia",
   "name": "julia-1.10"
  },
  "language_info": {
   "file_extension": ".jl",
   "mimetype": "application/julia",
   "name": "julia",
   "version": "1.10.2"
  }
 },
 "nbformat": 4,
 "nbformat_minor": 2
}
