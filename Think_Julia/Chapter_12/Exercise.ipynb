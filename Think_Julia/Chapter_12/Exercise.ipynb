{
 "cells": [
  {
   "cell_type": "markdown",
   "metadata": {},
   "source": [
    "# Exercises\n",
    "\n",
    "## Exercise 12-2\n",
    "\n",
    "Write a function called mostfrequent that takes a string and prints the letters in\n",
    "decreasing order of frequency. Find text samples from several different languages and\n",
    "see how letter frequency varies between languages. Compare your results with the\n",
    "tables at https://en.wikipedia.org/wiki/Letter_frequencies."
   ]
  },
  {
   "cell_type": "code",
   "execution_count": 27,
   "metadata": {},
   "outputs": [
    {
     "data": {
      "text/plain": [
       "mostfrequent (generic function with 1 method)"
      ]
     },
     "metadata": {},
     "output_type": "display_data"
    }
   ],
   "source": [
    "function mostfrequent(a)\n",
    "    safe = Dict()\n",
    "    for letter in a \n",
    "        if letter ∉ keys(safe)\n",
    "            safe[letter] = 1\n",
    "        else\n",
    "            safe[letter] = safe[letter] + 1\n",
    "        end\n",
    "    end\n",
    "    \n",
    "    items = collect(safe)\n",
    "    sorted_items = sort(items, by = x -> x[2], rev = true)\n",
    "    \n",
    "    for (key, value) in sorted_items \n",
    "       println(\"$key: $value\") \n",
    "    end\n",
    "end"
   ]
  },
  {
   "cell_type": "code",
   "execution_count": 30,
   "metadata": {},
   "outputs": [
    {
     "name": "stdout",
     "output_type": "stream",
     "text": [
      "f: 5\n",
      "t: 3\n",
      "g: 2\n",
      "h: 2\n",
      "d: 2\n",
      "j: 1\n",
      "v: 1\n",
      "b: 1\n"
     ]
    }
   ],
   "source": [
    "a = \"ffftghttfdhfjgdbv\"\n",
    "mostfrequent(a)"
   ]
  },
  {
   "cell_type": "code",
   "execution_count": null,
   "metadata": {},
   "outputs": [],
   "source": []
  }
 ],
 "metadata": {
  "kernelspec": {
   "display_name": "Julia 1.10.2",
   "language": "julia",
   "name": "julia-1.10"
  },
  "language_info": {
   "file_extension": ".jl",
   "mimetype": "application/julia",
   "name": "julia",
   "version": "1.10.2"
  }
 },
 "nbformat": 4,
 "nbformat_minor": 2
}
