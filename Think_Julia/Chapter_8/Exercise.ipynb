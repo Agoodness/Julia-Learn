{
 "cells": [
  {
   "cell_type": "code",
   "execution_count": 1,
   "metadata": {},
   "outputs": [
    {
     "data": {
      "text/plain": [
       "\"banana\""
      ]
     },
     "metadata": {},
     "output_type": "display_data"
    }
   ],
   "source": [
    "fruit = \"banana\""
   ]
  },
  {
   "cell_type": "code",
   "execution_count": 7,
   "metadata": {},
   "outputs": [
    {
     "data": {
      "text/plain": [
       "\"ananab\""
      ]
     },
     "metadata": {},
     "output_type": "display_data"
    }
   ],
   "source": [
    "fruit[6:-1:1]"
   ]
  },
  {
   "cell_type": "markdown",
   "metadata": {},
   "source": [
    "## Exercise 8-8\n",
    "\n",
    "There is a built-in function called count that is similar to the function in “Looping\n",
    "and Counting” on page 93. Read the documentation of this function and use it to\n",
    "count the number of a’s in \"banana\"."
   ]
  },
  {
   "cell_type": "code",
   "execution_count": 8,
   "metadata": {},
   "outputs": [
    {
     "data": {
      "text/plain": [
       "3"
      ]
     },
     "metadata": {},
     "output_type": "display_data"
    }
   ],
   "source": [
    "count('a', \"banana\")"
   ]
  },
  {
   "cell_type": "markdown",
   "metadata": {},
   "source": [
    "## Exercise 8-9\n",
    "\n",
    "+ A step size of -1 goes through the word backward, so the slice [end:-1:1] generates a\n",
    "reversed string.\n",
    "+ Use this idiom to write a one-line version of ispalindrome from “Exercise 6-6” on\n",
    "page 75."
   ]
  },
  {
   "cell_type": "code",
   "execution_count": 67,
   "metadata": {},
   "outputs": [
    {
     "name": "stdout",
     "output_type": "stream",
     "text": [
      "true\n"
     ]
    }
   ],
   "source": [
    "word = \"sNooNs\"\n",
    "\n",
    "println((word[1:Int64(ceil(lastindex(word)/2))]) == (word[end:-1:(Int64(floor(lastindex(word)/2))+1)]))\n",
    "\n"
   ]
  },
  {
   "cell_type": "code",
   "execution_count": 50,
   "metadata": {},
   "outputs": [
    {
     "data": {
      "text/plain": [
       "\"no\""
      ]
     },
     "metadata": {},
     "output_type": "display_data"
    }
   ],
   "source": []
  },
  {
   "cell_type": "code",
   "execution_count": 55,
   "metadata": {},
   "outputs": [
    {
     "name": "stdout",
     "output_type": "stream",
     "text": [
      "true\n"
     ]
    }
   ],
   "source": [
    "println(a == b)"
   ]
  },
  {
   "cell_type": "code",
   "execution_count": 37,
   "metadata": {},
   "outputs": [
    {
     "data": {
      "text/plain": [
       "3"
      ]
     },
     "metadata": {},
     "output_type": "display_data"
    }
   ],
   "source": [
    "Int64(floor(7/2))"
   ]
  },
  {
   "cell_type": "code",
   "execution_count": 68,
   "metadata": {},
   "outputs": [
    {
     "data": {
      "text/plain": [
       "anylowercase1 (generic function with 1 method)"
      ]
     },
     "metadata": {},
     "output_type": "display_data"
    }
   ],
   "source": [
    "function anylowercase1(s)\n",
    "    for c in s\n",
    "        if islowercase(c)\n",
    "             return true\n",
    "        else\n",
    "            return false\n",
    "        end\n",
    "    end\n",
    "end"
   ]
  },
  {
   "cell_type": "code",
   "execution_count": 70,
   "metadata": {},
   "outputs": [
    {
     "data": {
      "text/plain": [
       "false"
      ]
     },
     "metadata": {},
     "output_type": "display_data"
    }
   ],
   "source": [
    "\"\"\"\n",
    "The function checks is every alphabet of a string is lower case\n",
    "\"\"\"\n",
    "\n",
    "anylowercase1(\"Goodness\")"
   ]
  },
  {
   "cell_type": "code",
   "execution_count": 80,
   "metadata": {},
   "outputs": [
    {
     "data": {
      "text/plain": [
       "anylowercase2 (generic function with 1 method)"
      ]
     },
     "metadata": {},
     "output_type": "display_data"
    }
   ],
   "source": [
    "function anylowercase2(s)\n",
    "    for c in s\n",
    "        if islowercase('c')\n",
    "            return \"true\"\n",
    "        else\n",
    "            return \"false\"\n",
    "        end\n",
    "    end\n",
    "end"
   ]
  },
  {
   "cell_type": "code",
   "execution_count": 81,
   "metadata": {},
   "outputs": [
    {
     "data": {
      "text/plain": [
       "\"true\""
      ]
     },
     "metadata": {},
     "output_type": "display_data"
    }
   ],
   "source": [
    "\"\"\"\n",
    "The error in the code is, it will always check if the character \n",
    "'c' is a lower case, and that will aways be true\n",
    "\"\"\"\n",
    "\n",
    "anylowercase2(\"GOOD\")"
   ]
  },
  {
   "cell_type": "code",
   "execution_count": 84,
   "metadata": {},
   "outputs": [
    {
     "data": {
      "text/plain": [
       "anylowercase3 (generic function with 1 method)"
      ]
     },
     "metadata": {},
     "output_type": "display_data"
    }
   ],
   "source": [
    "function anylowercase3(s)\n",
    "    for c in s\n",
    "        flag = islowercase(c)\n",
    "    end\n",
    "    #flag\n",
    "end"
   ]
  },
  {
   "cell_type": "code",
   "execution_count": 85,
   "metadata": {},
   "outputs": [],
   "source": [
    "anylowercase3(\"goodnes\")"
   ]
  },
  {
   "cell_type": "code",
   "execution_count": 24,
   "metadata": {},
   "outputs": [
    {
     "data": {
      "text/plain": [
       "5-element Vector{Int64}:\n",
       "  65\n",
       "  66\n",
       "  90\n",
       "  97\n",
       " 122"
      ]
     },
     "metadata": {},
     "output_type": "display_data"
    }
   ],
   "source": [
    "Int['A','B','Z','a','z']"
   ]
  },
  {
   "cell_type": "markdown",
   "metadata": {},
   "source": [
    "## Exercise 8-11\n",
    "\n",
    "\n",
    "Write a function called rotateword that takes a string and an integer as parameters,\n",
    "and returns a new string that contains the letters from the original string rotated by\n",
    "the given amount."
   ]
  },
  {
   "cell_type": "code",
   "execution_count": 19,
   "metadata": {},
   "outputs": [
    {
     "name": "stdout",
     "output_type": "stream",
     "text": [
      "Rotating: Hello  by: 1  Gives: Ifmmp\n"
     ]
    }
   ],
   "source": [
    "function rotate(a, b)\n",
    "    if islowercase(a) == true\n",
    "        result = Char(Int(a) + b)\n",
    "        if Int(result) > 122\n",
    "            result = Char(96 + (Int(result) % 122))\n",
    "        end \n",
    "        return result\n",
    "    elseif isuppercase(a) == true\n",
    "        result = Char(Int(a) + b)\n",
    "        if Int(result) > 90\n",
    "            result = Char(64 + (Int(result) % 90))\n",
    "        end \n",
    "        return result\n",
    "    else \n",
    "        error(\"Function can only work with Char\")\n",
    "    end\n",
    "end\n",
    "\n",
    "function rotateword(word, num)\n",
    "    a = word\n",
    "    b = num\n",
    "\n",
    "    rotate_word = \"\"\n",
    "\n",
    "    for (i, char) in enumerate(a)\n",
    "        rotate_char = rotate(char, b)\n",
    "        rotate_word = rotate_word * rotate_char\n",
    "    end\n",
    "\n",
    "    println(\"Rotating: $word  by: $b  Gives: $rotate_word\" )\n",
    "end\n",
    "\n",
    "rotateword(\"Hello\", 1)"
   ]
  },
  {
   "cell_type": "code",
   "execution_count": 2,
   "metadata": {},
   "outputs": [
    {
     "name": "stdout",
     "output_type": "stream",
     "text": [
      "Rotating: Goodness  by: 4  Gives: Ksshriww\n"
     ]
    }
   ],
   "source": [
    "rotateword(\"Goodness\", 4)"
   ]
  },
  {
   "cell_type": "code",
   "execution_count": 3,
   "metadata": {},
   "outputs": [
    {
     "name": "stdout",
     "output_type": "stream",
     "text": [
      "(1, 'G')\n",
      "(2, 'o')\n",
      "(3, 'o')\n",
      "(4, 'd')\n",
      "(5, 'n')\n",
      "(6, 'e')\n",
      "(7, 's')\n",
      "(8, 's')\n"
     ]
    }
   ],
   "source": [
    "a = \"Goodness\"\n",
    "\n",
    "for char in enumerate(a)\n",
    "    println(char)\n",
    "end"
   ]
  },
  {
   "cell_type": "code",
   "execution_count": 4,
   "metadata": {},
   "outputs": [
    {
     "name": "stdout",
     "output_type": "stream",
     "text": [
      "Index: 1 Character: G\n",
      "Index: 2 Character: o\n",
      "Index: 3 Character: o\n",
      "Index: 4 Character: d\n",
      "Index: 5 Character: n\n",
      "Index: 6 Character: e\n",
      "Index: 7 Character: s\n",
      "Index: 8 Character: s\n"
     ]
    }
   ],
   "source": [
    "a = \"Goodness\"\n",
    "\n",
    "for (index, char) in enumerate(a)\n",
    "    println(\"Index: \", index, \" Character: \", char)\n",
    "end\n"
   ]
  },
  {
   "cell_type": "code",
   "execution_count": 5,
   "metadata": {},
   "outputs": [
    {
     "data": {
      "text/plain": [
       "\"gc\""
      ]
     },
     "metadata": {},
     "output_type": "display_data"
    }
   ],
   "source": [
    "str = \"\"\n",
    "\n",
    "out = str * 'g' * 'c'"
   ]
  },
  {
   "cell_type": "code",
   "execution_count": 6,
   "metadata": {},
   "outputs": [],
   "source": []
  }
 ],
 "metadata": {
  "kernelspec": {
   "display_name": "Julia 1.10.2",
   "language": "julia",
   "name": "julia-1.10"
  },
  "language_info": {
   "file_extension": ".jl",
   "mimetype": "application/julia",
   "name": "julia",
   "version": "1.10.2"
  }
 },
 "nbformat": 4,
 "nbformat_minor": 2
}
