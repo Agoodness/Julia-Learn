{
 "cells": [
  {
   "cell_type": "markdown",
   "metadata": {},
   "source": [
    "## Floor Division and Modulus\n",
    "\n",
    "The floor division operator, ÷ (\\div TAB), divides two numbers and rounds down to\n",
    "an integer."
   ]
  },
  {
   "cell_type": "code",
   "execution_count": 8,
   "metadata": {},
   "outputs": [
    {
     "data": {
      "text/plain": [
       "105"
      ]
     },
     "metadata": {},
     "output_type": "display_data"
    }
   ],
   "source": [
    "minutes = 105"
   ]
  },
  {
   "cell_type": "code",
   "execution_count": 9,
   "metadata": {},
   "outputs": [
    {
     "data": {
      "text/plain": [
       "1.75"
      ]
     },
     "metadata": {},
     "output_type": "display_data"
    }
   ],
   "source": [
    "minutes/60"
   ]
  },
  {
   "cell_type": "code",
   "execution_count": 10,
   "metadata": {},
   "outputs": [
    {
     "data": {
      "text/plain": [
       "1"
      ]
     },
     "metadata": {},
     "output_type": "display_data"
    }
   ],
   "source": [
    "minutes ÷ 60"
   ]
  },
  {
   "cell_type": "code",
   "execution_count": 11,
   "metadata": {},
   "outputs": [
    {
     "data": {
      "text/plain": [
       "1"
      ]
     },
     "metadata": {},
     "output_type": "display_data"
    }
   ],
   "source": [
    "hours = minutes ÷ 60"
   ]
  },
  {
   "cell_type": "code",
   "execution_count": 14,
   "metadata": {},
   "outputs": [
    {
     "data": {
      "text/plain": [
       "45"
      ]
     },
     "metadata": {},
     "output_type": "display_data"
    }
   ],
   "source": [
    "remainder = minutes - (hours * 60)"
   ]
  },
  {
   "cell_type": "code",
   "execution_count": 15,
   "metadata": {},
   "outputs": [
    {
     "data": {
      "text/plain": [
       "45"
      ]
     },
     "metadata": {},
     "output_type": "display_data"
    }
   ],
   "source": [
    "# Alternatively\n",
    "\n",
    "remainder = minutes % 60"
   ]
  },
  {
   "cell_type": "markdown",
   "metadata": {},
   "source": [
    "####  Also usefull for:\n",
    "\n",
    "+ The modulus operator is more useful than it seems. For example,\n",
    "you can check whether one number is divisible by another—if x %\n",
    "y is 0, then x is divisible by y.\n",
    "\n",
    "+ Also, you can extract the rightmost digit or digits from a number.\n",
    "For example, x % 10 yields the rightmost digit of an integer x (in\n",
    "base 10). Similarly, x % 100 yields the last two digits."
   ]
  },
  {
   "cell_type": "code",
   "execution_count": 17,
   "metadata": {},
   "outputs": [
    {
     "data": {
      "text/plain": [
       "75"
      ]
     },
     "metadata": {},
     "output_type": "display_data"
    }
   ],
   "source": [
    "30675 % 100"
   ]
  },
  {
   "cell_type": "markdown",
   "metadata": {},
   "source": [
    "## Boolean Expressions\n",
    "\n",
    "A Boolean expression is an expression that is either true or false."
   ]
  },
  {
   "cell_type": "code",
   "execution_count": 21,
   "metadata": {},
   "outputs": [
    {
     "data": {
      "text/plain": [
       "Bool"
      ]
     },
     "metadata": {},
     "output_type": "display_data"
    }
   ],
   "source": [
    "5 == 5\n",
    "\n",
    "5 == 6\n",
    "typeof(true)\n",
    "typeof(false)"
   ]
  },
  {
   "cell_type": "code",
   "execution_count": 31,
   "metadata": {},
   "outputs": [
    {
     "data": {
      "text/plain": [
       "true"
      ]
     },
     "metadata": {},
     "output_type": "display_data"
    }
   ],
   "source": [
    "x, y = 5, 6\n",
    "\n",
    "x != y\n",
    "x ≠ y       # \\ne tab\n",
    "x > y\n",
    "x < y\n",
    "x >= y\n",
    "x ≥ y       # \\ge tab\n",
    "x ≤ y       # \\le tab"
   ]
  },
  {
   "cell_type": "markdown",
   "metadata": {},
   "source": [
    "## Logical Operators\n",
    "\n",
    "+ There are three logical operators: && (and), || (or), and ! (not). The semantics (mean‐\n",
    "ing) of these operators is similar to their meaning in English. For example, x > 0 &&\n",
    "x < 10 is true only if x is greater than 0 and less than 10.\n",
    "\n",
    "+ n % 2 == 0 || n % 3 == 0 is true if either or both of the conditions is true; that is, if\n",
    "the number is divisible by 2 or 3.\n",
    "\n",
    "+ Both && and || associate to the right (i.e., grouped from the right), but && has higher\n",
    "precedence than || does.\n",
    "\n",
    "+ Finally, the ! operator negates a Boolean expression, so !(x > y) is true if x > y is\n",
    "false; that is, if x is less than or equal to y."
   ]
  },
  {
   "cell_type": "markdown",
   "metadata": {},
   "source": [
    "## Conditional Execution\n",
    "\n",
    "In order to write useful programs, we almost always need the ability to check condi‐\n",
    "tions and change the behavior of the program accordingly. Conditional statements\n",
    "give us this ability."
   ]
  },
  {
   "cell_type": "code",
   "execution_count": 32,
   "metadata": {},
   "outputs": [
    {
     "name": "stdout",
     "output_type": "stream",
     "text": [
      "X is positive\n"
     ]
    }
   ],
   "source": [
    "# Example \n",
    "\n",
    "\n",
    "if x > 0\n",
    "    println(\"X is positive\")\n",
    "end"
   ]
  },
  {
   "cell_type": "code",
   "execution_count": 34,
   "metadata": {},
   "outputs": [],
   "source": [
    "x =-5\n",
    "\n",
    "if x < 0\n",
    "    # TODO: need to handle negative values\n",
    "end"
   ]
  },
  {
   "cell_type": "markdown",
   "metadata": {},
   "source": [
    "## Alternative Execution\n",
    "\n",
    "A second form of the if statement is “alternative execution,” in which there are two\n",
    "possibilities and the condition determines which one runs. The syntax looks like this:"
   ]
  },
  {
   "cell_type": "code",
   "execution_count": 36,
   "metadata": {},
   "outputs": [
    {
     "name": "stdout",
     "output_type": "stream",
     "text": [
      "X is odd\n"
     ]
    }
   ],
   "source": [
    "x = 7\n",
    "\n",
    "if x % 2 == 0\n",
    "    println(\"X is even\")\n",
    "else\n",
    "    println(\"X is odd\")\n",
    "end"
   ]
  },
  {
   "cell_type": "markdown",
   "metadata": {},
   "source": [
    "## Chained Conditionals\n",
    "\n",
    "Sometimes there are more than two possibilities and we need more than two\n",
    "branches. One way to express a computation like that is using a chained conditional:"
   ]
  },
  {
   "cell_type": "code",
   "execution_count": 37,
   "metadata": {},
   "outputs": [
    {
     "name": "stdout",
     "output_type": "stream",
     "text": [
      "x is less than y\n"
     ]
    }
   ],
   "source": [
    "x, y = 3, 7\n",
    "\n",
    "if x < y \n",
    "    println(\"x is less than y\")\n",
    "elseif x > y \n",
    "    println(\"X is greater y\")\n",
    "else \n",
    "    println(\"X and y are equal\")\n",
    "end"
   ]
  },
  {
   "cell_type": "markdown",
   "metadata": {},
   "source": [
    "For strings "
   ]
  },
  {
   "cell_type": "code",
   "execution_count": null,
   "metadata": {},
   "outputs": [],
   "source": [
    "using ThinkJulia\n",
    "\n",
    "choice = \"a\"\n",
    "\n",
    "if choice == \"a\"\n",
    "    draw_a()\n",
    "elseif choice == \"b\"\n",
    "    draw_b()\n",
    "elseif choice == \"c\"\n",
    "    draw_c()\n",
    "end "
   ]
  },
  {
   "cell_type": "markdown",
   "metadata": {},
   "source": [
    "##  Nested Conditionals\n",
    "\n",
    "One conditional can also be nested within another. We could have written the exam‐\n",
    "ple in the previous section like this:"
   ]
  },
  {
   "cell_type": "code",
   "execution_count": 39,
   "metadata": {},
   "outputs": [
    {
     "name": "stdout",
     "output_type": "stream",
     "text": [
      "x is less than y\n"
     ]
    }
   ],
   "source": [
    "if x == y \n",
    "    println(\"x is equal to y\")\n",
    "else \n",
    "    if x < y\n",
    "        println(\"x is less than y\")\n",
    "    else\n",
    "        println(\"x is greater than y\")\n",
    "    end\n",
    "end "
   ]
  },
  {
   "cell_type": "code",
   "execution_count": 43,
   "metadata": {},
   "outputs": [
    {
     "name": "stdout",
     "output_type": "stream",
     "text": [
      "x is a positive single-digit number\n",
      "x is a positive single-digit number\n",
      "x is a positive single-digit number\n"
     ]
    }
   ],
   "source": [
    "# logical operators often provide a way to simplify nested conditional statements.\n",
    "if 0 < x \n",
    "    if x < 10 \n",
    "        println(\"x is a positive single-digit number\")\n",
    "    end\n",
    "end\n",
    "\n",
    "# Alternatively\n",
    "\n",
    "if 0 < x && x < 10\n",
    "    println(\"x is a positive single-digit number\")\n",
    "end\n",
    "\n",
    "# Alternatively \n",
    "\n",
    "if 0 < x < 10\n",
    "    println(\"x is a positive single-digit number\")\n",
    "end"
   ]
  },
  {
   "cell_type": "markdown",
   "metadata": {},
   "source": [
    "## Recursion\n",
    "\n",
    "It is legal for one function to call another; it is also legal for a function to call itself. It\n",
    "may not be obvious why that is a good thing, but it turns out to be one of the most\n",
    "magical things a program can do."
   ]
  },
  {
   "cell_type": "code",
   "execution_count": null,
   "metadata": {},
   "outputs": [],
   "source": [
    "function countdown()\n",
    "    \n",
    "end"
   ]
  }
 ],
 "metadata": {
  "kernelspec": {
   "display_name": "Julia 1.10.2",
   "language": "julia",
   "name": "julia-1.10"
  },
  "language_info": {
   "file_extension": ".jl",
   "mimetype": "application/julia",
   "name": "julia",
   "version": "1.10.2"
  }
 },
 "nbformat": 4,
 "nbformat_minor": 2
}
