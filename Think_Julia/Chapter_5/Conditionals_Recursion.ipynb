{
 "cells": [
  {
   "cell_type": "markdown",
   "metadata": {},
   "source": [
    "## Floor Division and Modulus\n",
    "\n",
    "The floor division operator, ÷ (\\div TAB), divides two numbers and rounds down to\n",
    "an integer."
   ]
  },
  {
   "cell_type": "code",
   "execution_count": 8,
   "metadata": {},
   "outputs": [
    {
     "data": {
      "text/plain": [
       "105"
      ]
     },
     "metadata": {},
     "output_type": "display_data"
    }
   ],
   "source": [
    "minutes = 105"
   ]
  },
  {
   "cell_type": "code",
   "execution_count": 9,
   "metadata": {},
   "outputs": [
    {
     "data": {
      "text/plain": [
       "1.75"
      ]
     },
     "metadata": {},
     "output_type": "display_data"
    }
   ],
   "source": [
    "minutes/60"
   ]
  },
  {
   "cell_type": "code",
   "execution_count": 10,
   "metadata": {},
   "outputs": [
    {
     "data": {
      "text/plain": [
       "1"
      ]
     },
     "metadata": {},
     "output_type": "display_data"
    }
   ],
   "source": [
    "minutes ÷ 60"
   ]
  },
  {
   "cell_type": "code",
   "execution_count": 11,
   "metadata": {},
   "outputs": [
    {
     "data": {
      "text/plain": [
       "1"
      ]
     },
     "metadata": {},
     "output_type": "display_data"
    }
   ],
   "source": [
    "hours = minutes ÷ 60"
   ]
  },
  {
   "cell_type": "code",
   "execution_count": 14,
   "metadata": {},
   "outputs": [
    {
     "data": {
      "text/plain": [
       "45"
      ]
     },
     "metadata": {},
     "output_type": "display_data"
    }
   ],
   "source": [
    "remainder = minutes - (hours * 60)"
   ]
  },
  {
   "cell_type": "code",
   "execution_count": 15,
   "metadata": {},
   "outputs": [
    {
     "data": {
      "text/plain": [
       "45"
      ]
     },
     "metadata": {},
     "output_type": "display_data"
    }
   ],
   "source": [
    "# Alternatively\n",
    "\n",
    "remainder = minutes % 60"
   ]
  },
  {
   "cell_type": "markdown",
   "metadata": {},
   "source": [
    "####  Also usefull for:\n",
    "\n",
    "+ The modulus operator is more useful than it seems. For example,\n",
    "you can check whether one number is divisible by another—if x %\n",
    "y is 0, then x is divisible by y.\n",
    "\n",
    "+ Also, you can extract the rightmost digit or digits from a number.\n",
    "For example, x % 10 yields the rightmost digit of an integer x (in\n",
    "base 10). Similarly, x % 100 yields the last two digits."
   ]
  },
  {
   "cell_type": "code",
   "execution_count": 17,
   "metadata": {},
   "outputs": [
    {
     "data": {
      "text/plain": [
       "75"
      ]
     },
     "metadata": {},
     "output_type": "display_data"
    }
   ],
   "source": [
    "30675 % 100"
   ]
  },
  {
   "cell_type": "markdown",
   "metadata": {},
   "source": [
    "## Boolean Expressions\n",
    "\n",
    "A Boolean expression is an expression that is either true or false."
   ]
  },
  {
   "cell_type": "code",
   "execution_count": 21,
   "metadata": {},
   "outputs": [
    {
     "data": {
      "text/plain": [
       "Bool"
      ]
     },
     "metadata": {},
     "output_type": "display_data"
    }
   ],
   "source": [
    "5 == 5\n",
    "\n",
    "5 == 6\n",
    "typeof(true)\n",
    "typeof(false)"
   ]
  },
  {
   "cell_type": "code",
   "execution_count": 31,
   "metadata": {},
   "outputs": [
    {
     "data": {
      "text/plain": [
       "true"
      ]
     },
     "metadata": {},
     "output_type": "display_data"
    }
   ],
   "source": [
    "x, y = 5, 6\n",
    "\n",
    "x != y\n",
    "x ≠ y       # \\ne tab\n",
    "x > y\n",
    "x < y\n",
    "x >= y\n",
    "x ≥ y       # \\ge tab\n",
    "x ≤ y       # \\le tab"
   ]
  },
  {
   "cell_type": "markdown",
   "metadata": {},
   "source": [
    "## Logical Operators\n",
    "\n",
    "+ There are three logical operators: && (and), || (or), and ! (not). The semantics (mean‐\n",
    "ing) of these operators is similar to their meaning in English. For example, x > 0 &&\n",
    "x < 10 is true only if x is greater than 0 and less than 10.\n",
    "\n",
    "+ n % 2 == 0 || n % 3 == 0 is true if either or both of the conditions is true; that is, if\n",
    "the number is divisible by 2 or 3.\n",
    "\n",
    "+ Both && and || associate to the right (i.e., grouped from the right), but && has higher\n",
    "precedence than || does.\n",
    "\n",
    "+ Finally, the ! operator negates a Boolean expression, so !(x > y) is true if x > y is\n",
    "false; that is, if x is less than or equal to y."
   ]
  },
  {
   "cell_type": "markdown",
   "metadata": {},
   "source": [
    "## Conditional Execution\n",
    "\n",
    "In order to write useful programs, we almost always need the ability to check condi‐\n",
    "tions and change the behavior of the program accordingly. Conditional statements\n",
    "give us this ability."
   ]
  },
  {
   "cell_type": "code",
   "execution_count": 32,
   "metadata": {},
   "outputs": [
    {
     "name": "stdout",
     "output_type": "stream",
     "text": [
      "X is positive\n"
     ]
    }
   ],
   "source": [
    "# Example \n",
    "\n",
    "\n",
    "if x > 0\n",
    "    println(\"X is positive\")\n",
    "end"
   ]
  },
  {
   "cell_type": "code",
   "execution_count": 34,
   "metadata": {},
   "outputs": [],
   "source": [
    "x =-5\n",
    "\n",
    "if x < 0\n",
    "    # TODO: need to handle negative values\n",
    "end"
   ]
  },
  {
   "cell_type": "markdown",
   "metadata": {},
   "source": [
    "## Alternative Execution\n",
    "\n",
    "A second form of the if statement is “alternative execution,” in which there are two\n",
    "possibilities and the condition determines which one runs. The syntax looks like this:"
   ]
  },
  {
   "cell_type": "code",
   "execution_count": 36,
   "metadata": {},
   "outputs": [
    {
     "name": "stdout",
     "output_type": "stream",
     "text": [
      "X is odd\n"
     ]
    }
   ],
   "source": [
    "x = 7\n",
    "\n",
    "if x % 2 == 0\n",
    "    println(\"X is even\")\n",
    "else\n",
    "    println(\"X is odd\")\n",
    "end"
   ]
  },
  {
   "cell_type": "markdown",
   "metadata": {},
   "source": [
    "## Chained Conditionals\n",
    "\n",
    "Sometimes there are more than two possibilities and we need more than two\n",
    "branches. One way to express a computation like that is using a chained conditional:"
   ]
  },
  {
   "cell_type": "code",
   "execution_count": 37,
   "metadata": {},
   "outputs": [
    {
     "name": "stdout",
     "output_type": "stream",
     "text": [
      "x is less than y\n"
     ]
    }
   ],
   "source": [
    "x, y = 3, 7\n",
    "\n",
    "if x < y \n",
    "    println(\"x is less than y\")\n",
    "elseif x > y \n",
    "    println(\"X is greater y\")\n",
    "else \n",
    "    println(\"X and y are equal\")\n",
    "end"
   ]
  },
  {
   "cell_type": "markdown",
   "metadata": {},
   "source": [
    "For strings "
   ]
  },
  {
   "cell_type": "code",
   "execution_count": null,
   "metadata": {},
   "outputs": [],
   "source": [
    "using ThinkJulia\n",
    "\n",
    "choice = \"a\"\n",
    "\n",
    "if choice == \"a\"\n",
    "    draw_a()\n",
    "elseif choice == \"b\"\n",
    "    draw_b()\n",
    "elseif choice == \"c\"\n",
    "    draw_c()\n",
    "end "
   ]
  },
  {
   "cell_type": "markdown",
   "metadata": {},
   "source": [
    "##  Nested Conditionals\n",
    "\n",
    "One conditional can also be nested within another. We could have written the exam‐\n",
    "ple in the previous section like this:"
   ]
  },
  {
   "cell_type": "code",
   "execution_count": 39,
   "metadata": {},
   "outputs": [
    {
     "name": "stdout",
     "output_type": "stream",
     "text": [
      "x is less than y\n"
     ]
    }
   ],
   "source": [
    "if x == y \n",
    "    println(\"x is equal to y\")\n",
    "else \n",
    "    if x < y\n",
    "        println(\"x is less than y\")\n",
    "    else\n",
    "        println(\"x is greater than y\")\n",
    "    end\n",
    "end "
   ]
  },
  {
   "cell_type": "code",
   "execution_count": 43,
   "metadata": {},
   "outputs": [
    {
     "name": "stdout",
     "output_type": "stream",
     "text": [
      "x is a positive single-digit number\n",
      "x is a positive single-digit number\n",
      "x is a positive single-digit number\n"
     ]
    }
   ],
   "source": [
    "# logical operators often provide a way to simplify nested conditional statements.\n",
    "if 0 < x \n",
    "    if x < 10 \n",
    "        println(\"x is a positive single-digit number\")\n",
    "    end\n",
    "end\n",
    "\n",
    "# Alternatively\n",
    "\n",
    "if 0 < x && x < 10\n",
    "    println(\"x is a positive single-digit number\")\n",
    "end\n",
    "\n",
    "# Alternatively \n",
    "\n",
    "if 0 < x < 10\n",
    "    println(\"x is a positive single-digit number\")\n",
    "end"
   ]
  },
  {
   "cell_type": "markdown",
   "metadata": {},
   "source": [
    "## Recursion\n",
    "\n",
    "It is legal for one function to call another; it is also legal for a function to call itself. It\n",
    "may not be obvious why that is a good thing, but it turns out to be one of the most\n",
    "magical things a program can do."
   ]
  },
  {
   "cell_type": "code",
   "execution_count": 3,
   "metadata": {},
   "outputs": [
    {
     "data": {
      "text/plain": [
       "countdown (generic function with 2 methods)"
      ]
     },
     "metadata": {},
     "output_type": "display_data"
    }
   ],
   "source": [
    "function countdown(n)\n",
    "    if n ≤ 0\n",
    "        println(\"Blasoff!\")\n",
    "    else\n",
    "        print(n, \" \")\n",
    "        countdown(n-1)\n",
    "    end\n",
    "end"
   ]
  },
  {
   "cell_type": "code",
   "execution_count": 6,
   "metadata": {},
   "outputs": [
    {
     "name": "stdout",
     "output_type": "stream",
     "text": [
      "10 9 8 7 6 5 4 3 2 1 Blasoff!\n"
     ]
    }
   ],
   "source": [
    "countdown(10)"
   ]
  },
  {
   "cell_type": "code",
   "execution_count": 7,
   "metadata": {},
   "outputs": [
    {
     "data": {
      "text/plain": [
       "printn (generic function with 1 method)"
      ]
     },
     "metadata": {},
     "output_type": "display_data"
    }
   ],
   "source": [
    "# Another example\n",
    "\n",
    "function printn(s, n)\n",
    "    if n ≤ 0\n",
    "        return\n",
    "    end\n",
    "    println(s)\n",
    "    printn(s, n-1)\n",
    "end"
   ]
  },
  {
   "cell_type": "code",
   "execution_count": 13,
   "metadata": {},
   "outputs": [
    {
     "name": "stdout",
     "output_type": "stream",
     "text": [
      "Goodness\n",
      "Goodness\n",
      "Goodness\n",
      "Goodness\n",
      "Goodness\n",
      "Goodness\n"
     ]
    }
   ],
   "source": [
    "printn(\"Goodness\", 6)"
   ]
  },
  {
   "cell_type": "markdown",
   "metadata": {},
   "source": [
    "## Keyboard Input\n",
    "\n",
    "Julia provides a built-in function called readline that stops the program and waits\n",
    "for the user to type something. When the user presses Return or Enter, the program\n",
    "resumes and readline returns what the user typed as a string:"
   ]
  },
  {
   "cell_type": "code",
   "execution_count": null,
   "metadata": {},
   "outputs": [],
   "source": [
    "text = readline()"
   ]
  },
  {
   "cell_type": "markdown",
   "metadata": {},
   "source": [
    "## Deburgging\n",
    "\n",
    "Syntax errors are usually easy to find, but there are a few gotchas. In general, error\n",
    "messages indicate where the problem was discovered, but the actual error might be\n",
    "earlier in the code, sometimes on a previous line."
   ]
  },
  {
   "cell_type": "code",
   "execution_count": 3,
   "metadata": {},
   "outputs": [
    {
     "name": "stdout",
     "output_type": "stream",
     "text": [
      "-0.4575749056067512"
     ]
    }
   ],
   "source": [
    "signal_power = 9 \n",
    "noise_power = 10 \n",
    "ratio = signal_power / noise_power\n",
    "decibels = 10 * log10(ratio)\n",
    "print(decibels)"
   ]
  },
  {
   "cell_type": "markdown",
   "metadata": {},
   "source": [
    "## Exercise 5-2\n",
    "\n",
    "+ The function time returns the current Greenwich Mean Time in seconds since “the\n",
    "epoch,” which is an arbitrary time used as a reference point. On Unix systems, the\n",
    "epoch is 1 January 1970:\n",
    "\n",
    "+ julia> time()\n",
    "1.550846226624217e9\n",
    "\n",
    "+ Write a script that reads the current time and converts it to a time of day in hours,\n",
    "minutes, and seconds, plus the number of days since the epoch."
   ]
  },
  {
   "cell_type": "code",
   "execution_count": 24,
   "metadata": {},
   "outputs": [
    {
     "name": "stdout",
     "output_type": "stream",
     "text": [
      "September\n",
      "2.1766854315890074e7\n",
      "8.0\n"
     ]
    }
   ],
   "source": [
    "begin\n",
    "    Start_Month = 0\n",
    "    Day = 0\n",
    "\n",
    "    # Calculation for number of years is done here\n",
    "    Time = time()\n",
    "    No_Years = Time ÷ 31536000\n",
    "    Remainder = Time - (No_Years * 31536000)\n",
    "\n",
    "    Year = 1970 + No_Years\n",
    "    \n",
    "    #Calculation of the month \n",
    "    if Remainder > 0 && Remainder ≤ 2678400\n",
    "        Month = \"January\"\n",
    "        day = Remainder\n",
    "        Day = day ÷ 86400\n",
    "        remainder = day - (Day * 86400)\n",
    "\n",
    "    elseif Remainder > 2678400 && Remainder ≤ 5097600\n",
    "        Month = \"February\"\n",
    "        day = Remainder - 2678400\n",
    "        Day = day ÷ 86400\n",
    "        remainder = day - (Day * 86400)\n",
    "    \n",
    "    elseif Remainder > 5097600 && Remainder ≤ 7776000\n",
    "        Month = \"March\"\n",
    "        day = Remainder - 5097600\n",
    "        Day = day ÷ 86400\n",
    "        remainder = day - (Day * 86400)\n",
    "\n",
    "    elseif Remainder > 7776000 && Remainder ≤ 10368000\n",
    "        Month = \"April\" \n",
    "        day = Remainder - 7776000\n",
    "        Day = day ÷ 86400\n",
    "        remainder = day - (Day * 86400)\n",
    "\n",
    "    elseif Remainder > 10368000 && Remainder ≤ 13046400\n",
    "        Month = \"May\" \n",
    "        day = Remainder - 10368000\n",
    "        Day = day ÷ 86400\n",
    "        remainder = day - (Day * 86400)\n",
    "\n",
    "    elseif Remainder > 13046400 && Remainder ≤ 15638400\n",
    "        Month = \"June\"\n",
    "        day = Remainder - 13046400\n",
    "        Day = day ÷ 86400\n",
    "        remainder = day - (Day * 86400)\n",
    "    \n",
    "    elseif Remainder > 15638400 && Remainder ≤ 18316800\n",
    "        Month = \"July\"\n",
    "        day = Remainder - 15638400\n",
    "        Day = day ÷ 86400\n",
    "        remainder = day - (Day * 86400)\n",
    "\n",
    "    elseif Remainder > 18316800 && Remainder ≤ 20995200\n",
    "        Month = \"August\"\n",
    "        day = Remainder - 18316800\n",
    "        Day = day ÷ 86400\n",
    "        remainder = day - (Day * 86400)\n",
    "\n",
    "    elseif Remainder > 20995200 && Remainder ≤ 23587200\n",
    "        Month = \"September\"\n",
    "        day = Remainder - 20995200\n",
    "        Day = day ÷ 86400\n",
    "        remainder = day - (Day * 86400)\n",
    "\n",
    "    elseif Remainder > 23587200 && Remainder ≤ 26265600\n",
    "        Month = \"October\"\n",
    "        day = Remainder - 23587200\n",
    "        Day = day ÷ 86400\n",
    "        remainder = day - (Day * 86400)\n",
    "\n",
    "    elseif Remainder > 26265600 && Remainder ≤ 28857600\n",
    "        Month = \"November\"\n",
    "        day = Remainder - 26265600\n",
    "        Day = day ÷ 86400\n",
    "        remainder = day - (Day * 86400)\n",
    "\n",
    "    elseif Remainder > 28857600 && Remainder ≤ 31536000\n",
    "        Month = \"December\"\n",
    "        day = Remainder - 28857600\n",
    "        Day = day ÷ 86400\n",
    "        remainder = day - (Day * 86400)\n",
    "    \n",
    "    else\n",
    "        println(\"This condition does not exist\")\n",
    "end\n",
    "\n",
    "println(Month);\n",
    "println(Remainder)\n",
    "println(Day)\n",
    "\n",
    "end"
   ]
  },
  {
   "cell_type": "markdown",
   "metadata": {},
   "source": [
    "The previos project could not be completed because of some factors, like the leap year"
   ]
  },
  {
   "cell_type": "markdown",
   "metadata": {},
   "source": [
    "## Exercise 5-3\n",
    "\n",
    "+ Fermat’s Last Theorem says that there are no positive integers a, b, and c such that:\n",
    "+ an + bn = cn\n",
    "+ for any value of n greater than 2."
   ]
  },
  {
   "cell_type": "code",
   "execution_count": 4,
   "metadata": {},
   "outputs": [
    {
     "data": {
      "text/plain": [
       "checkfermat (generic function with 1 method)"
      ]
     },
     "metadata": {},
     "output_type": "display_data"
    }
   ],
   "source": [
    "function checkfermat(a, b, c, n)\n",
    "    Left = a^n \n",
    "    Right = c^n\n",
    "\n",
    "    if n ≤ 2\n",
    "        println(\"Note: This is out fermat condition\")\n",
    "        if Left == Right \n",
    "            println(\"Fermat's condition violated\")\n",
    "            println(\"for a = $a  b = $b  c = $c  n = $n\")\n",
    "        else \n",
    "            println(\"No, that doesn't work\")\n",
    "        end \n",
    "    else\n",
    "        if Left == Right\n",
    "            println(\"Smoke Everywhere, Fermat was wrong!\")\n",
    "        else \n",
    "            println(\"No that doesn't work\")\n",
    "        end\n",
    "    end\n",
    "end"
   ]
  },
  {
   "cell_type": "code",
   "execution_count": 8,
   "metadata": {},
   "outputs": [
    {
     "name": "stdout",
     "output_type": "stream",
     "text": [
      "Note: This is out fermat condition\n",
      "No, that doesn't work\n"
     ]
    }
   ],
   "source": [
    "checkfermat(1, 2, 3, 2)"
   ]
  },
  {
   "cell_type": "code",
   "execution_count": null,
   "metadata": {},
   "outputs": [],
   "source": []
  }
 ],
 "metadata": {
  "kernelspec": {
   "display_name": "Julia 1.10.2",
   "language": "julia",
   "name": "julia-1.10"
  },
  "language_info": {
   "file_extension": ".jl",
   "mimetype": "application/julia",
   "name": "julia",
   "version": "1.10.2"
  }
 },
 "nbformat": 4,
 "nbformat_minor": 2
}
