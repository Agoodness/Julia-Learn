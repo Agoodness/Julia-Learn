{
 "cells": [
  {
   "cell_type": "markdown",
   "metadata": {},
   "source": [
    "## Exercise 6-4\n",
    "\n",
    "Draw a stack diagram for the following program. What does the program print?"
   ]
  },
  {
   "cell_type": "code",
   "execution_count": 1,
   "metadata": {},
   "outputs": [
    {
     "name": "stdout",
     "output_type": "stream",
     "text": [
      "9 90\n",
      "8100\n"
     ]
    }
   ],
   "source": [
    "function b(z)\n",
    "    prod = a(z, z)\n",
    "    println(z, \" \", prod)\n",
    "    prod\n",
    "end\n",
    "\n",
    "function a(x, y)\n",
    "    x = x + 1\n",
    "    x * y   \n",
    "end\n",
    "\n",
    "function c(x, y, z)\n",
    "    total = x + y + z \n",
    "    square = b(total)^2\n",
    "    square\n",
    "end\n",
    "\n",
    "x = 1\n",
    "y = x + 1\n",
    "println(c(x, y+3, x+y))"
   ]
  },
  {
   "cell_type": "markdown",
   "metadata": {},
   "source": [
    "## Exercise 6-5\n",
    "\n",
    "The Ackermann function, A m, n , is defined as:\n",
    "\n",
    "![Exercise 6-5](Exercide6.png)\n"
   ]
  },
  {
   "cell_type": "code",
   "execution_count": 2,
   "metadata": {},
   "outputs": [
    {
     "data": {
      "text/plain": [
       "ack (generic function with 1 method)"
      ]
     },
     "metadata": {},
     "output_type": "display_data"
    }
   ],
   "source": [
    "function ack(m ,n)\n",
    "    if m == 0\n",
    "        return n + 1\n",
    "    elseif m > 0 && n == 0\n",
    "        result = ack(m-1, 1)\n",
    "        return result\n",
    "    elseif m > 0 && n > 0\n",
    "        result = ack(m-1, ack(m, n-1))\n",
    "    else\n",
    "        println(\"The condition does not exist\")\n",
    "    end\n",
    "end"
   ]
  },
  {
   "cell_type": "code",
   "execution_count": 9,
   "metadata": {},
   "outputs": [
    {
     "data": {
      "text/plain": [
       "125"
      ]
     },
     "metadata": {},
     "output_type": "display_data"
    }
   ],
   "source": [
    "ack(3, 4)"
   ]
  },
  {
   "cell_type": "markdown",
   "metadata": {},
   "source": [
    "## Exercise 6-6\n",
    "\n",
    "The following are functions that take a string argument and return the first, last, and\n",
    "middle letters:"
   ]
  },
  {
   "cell_type": "code",
   "execution_count": 23,
   "metadata": {},
   "outputs": [
    {
     "data": {
      "text/plain": [
       "middle (generic function with 1 method)"
      ]
     },
     "metadata": {},
     "output_type": "display_data"
    }
   ],
   "source": [
    "function first(word)\n",
    "    first = firstindex(word)\n",
    "    word[first]\n",
    "end\n",
    "\n",
    "function last(word)\n",
    "    last = lastindex(word)\n",
    "    word[last]\n",
    "end\n",
    "\n",
    "function middle(word)\n",
    "    first = firstindex(word)\n",
    "    last = lastindex(word)\n",
    "    word[nextind(word, first) : prevind(word, last)]\n",
    "end"
   ]
  },
  {
   "cell_type": "markdown",
   "metadata": {},
   "source": [
    "1. Test these functions out. What happens if you call middle with a string with two\n",
    "letters? One letter? What about the empty string, which is written \"\" and con‐\n",
    "tains no letters?"
   ]
  },
  {
   "cell_type": "code",
   "execution_count": 29,
   "metadata": {},
   "outputs": [
    {
     "data": {
      "text/plain": [
       "\"\""
      ]
     },
     "metadata": {},
     "output_type": "display_data"
    }
   ],
   "source": [
    "middle(\"a\")"
   ]
  },
  {
   "cell_type": "markdown",
   "metadata": {},
   "source": [
    "2. Write a function called ispalindrome that takes a string argument and returns\n",
    "true if it is a palindrome and false otherwise. Remember that you can use the\n",
    "built-in function length to check the length of a string."
   ]
  },
  {
   "cell_type": "code",
   "execution_count": 110,
   "metadata": {},
   "outputs": [
    {
     "data": {
      "text/plain": [
       "ispalindrome (generic function with 1 method)"
      ]
     },
     "metadata": {},
     "output_type": "display_data"
    }
   ],
   "source": [
    "function ispalindrome(word)\n",
    "    if word == \"\" || length(word) == 1\n",
    "        println(\"This is not a complete word\")\n",
    "\n",
    "    else\n",
    "        center = length(word)/2\n",
    "        low_center = floor(center)\n",
    "        high_center = ceil(center)\n",
    "        part1 = word[firstindex(word) : Int(low_center)]\n",
    "        part2 = reverse(word[Int(high_center) + 1 : lastindex(word)])\n",
    "        if part1 == part2\n",
    "            return true\n",
    "        else \n",
    "            return false\n",
    "        end\n",
    "    end\n",
    "end"
   ]
  },
  {
   "cell_type": "code",
   "execution_count": 111,
   "metadata": {},
   "outputs": [
    {
     "data": {
      "text/plain": [
       "true"
      ]
     },
     "metadata": {},
     "output_type": "display_data"
    }
   ],
   "source": [
    "ispalindrome(\"abcgcba\")"
   ]
  },
  {
   "cell_type": "code",
   "execution_count": 31,
   "metadata": {},
   "outputs": [
    {
     "name": "stdout",
     "output_type": "stream",
     "text": [
      "Not a name\n"
     ]
    }
   ],
   "source": [
    "name = \"\"\n",
    "\n",
    "if name == \"\"\n",
    "    println(\"Not a name\")\n",
    "else\n",
    "    println(name)\n",
    "end"
   ]
  },
  {
   "cell_type": "code",
   "execution_count": 88,
   "metadata": {},
   "outputs": [
    {
     "data": {
      "text/plain": [
       "4.0"
      ]
     },
     "metadata": {},
     "output_type": "display_data"
    }
   ],
   "source": [
    "length(\"Goodneess\")÷2\n",
    "# center = length(wo)÷2\n",
    "ceil(2.5)\n",
    "floor(4.5)"
   ]
  },
  {
   "cell_type": "code",
   "execution_count": null,
   "metadata": {},
   "outputs": [],
   "source": []
  }
 ],
 "metadata": {
  "kernelspec": {
   "display_name": "Julia 1.10.2",
   "language": "julia",
   "name": "julia-1.10"
  },
  "language_info": {
   "file_extension": ".jl",
   "mimetype": "application/julia",
   "name": "julia",
   "version": "1.10.2"
  }
 },
 "nbformat": 4,
 "nbformat_minor": 2
}
