{
 "cells": [
  {
   "cell_type": "markdown",
   "metadata": {},
   "source": [
    "## Exercise 6-4\n",
    "\n",
    "Draw a stack diagram for the following program. What does the program print?"
   ]
  },
  {
   "cell_type": "code",
   "execution_count": 1,
   "metadata": {},
   "outputs": [
    {
     "name": "stdout",
     "output_type": "stream",
     "text": [
      "9 90\n",
      "8100\n"
     ]
    }
   ],
   "source": [
    "function b(z)\n",
    "    prod = a(z, z)\n",
    "    println(z, \" \", prod)\n",
    "    prod\n",
    "end\n",
    "\n",
    "function a(x, y)\n",
    "    x = x + 1\n",
    "    x * y   \n",
    "end\n",
    "\n",
    "function c(x, y, z)\n",
    "    total = x + y + z \n",
    "    square = b(total)^2\n",
    "    square\n",
    "end\n",
    "\n",
    "x = 1\n",
    "y = x + 1\n",
    "println(c(x, y+3, x+y))"
   ]
  },
  {
   "cell_type": "markdown",
   "metadata": {},
   "source": [
    "## Exercise 6-5\n",
    "\n",
    "The Ackermann function, A m, n , is defined as:\n",
    "\n",
    "![Exercise 6-5](Exercide6.png)\n"
   ]
  },
  {
   "cell_type": "code",
   "execution_count": 2,
   "metadata": {},
   "outputs": [
    {
     "data": {
      "text/plain": [
       "ack (generic function with 1 method)"
      ]
     },
     "metadata": {},
     "output_type": "display_data"
    }
   ],
   "source": [
    "function ack(m ,n)\n",
    "    if m == 0\n",
    "        return n + 1\n",
    "    elseif m > 0 && n == 0\n",
    "        result = ack(m-1, 1)\n",
    "        return result\n",
    "    elseif m > 0 && n > 0\n",
    "        result = ack(m-1, ack(m, n-1))\n",
    "    else\n",
    "        println(\"The condition does not exist\")\n",
    "    end\n",
    "end"
   ]
  },
  {
   "cell_type": "code",
   "execution_count": 9,
   "metadata": {},
   "outputs": [
    {
     "data": {
      "text/plain": [
       "125"
      ]
     },
     "metadata": {},
     "output_type": "display_data"
    }
   ],
   "source": [
    "ack(3, 4)"
   ]
  },
  {
   "cell_type": "markdown",
   "metadata": {},
   "source": [
    "## Exercise 6-6\n",
    "\n",
    "The following are functions that take a string argument and return the first, last, and\n",
    "middle letters:"
   ]
  },
  {
   "cell_type": "code",
   "execution_count": 23,
   "metadata": {},
   "outputs": [
    {
     "data": {
      "text/plain": [
       "middle (generic function with 1 method)"
      ]
     },
     "metadata": {},
     "output_type": "display_data"
    }
   ],
   "source": [
    "function first(word)\n",
    "    first = firstindex(word)\n",
    "    word[first]\n",
    "end\n",
    "\n",
    "function last(word)\n",
    "    last = lastindex(word)\n",
    "    word[last]\n",
    "end\n",
    "\n",
    "function middle(word)\n",
    "    first = firstindex(word)\n",
    "    last = lastindex(word)\n",
    "    word[nextind(word, first) : prevind(word, last)]\n",
    "end"
   ]
  },
  {
   "cell_type": "markdown",
   "metadata": {},
   "source": [
    "1. Test these functions out. What happens if you call middle with a string with two\n",
    "letters? One letter? What about the empty string, which is written \"\" and con‐\n",
    "tains no letters?"
   ]
  },
  {
   "cell_type": "code",
   "execution_count": 29,
   "metadata": {},
   "outputs": [
    {
     "data": {
      "text/plain": [
       "\"\""
      ]
     },
     "metadata": {},
     "output_type": "display_data"
    }
   ],
   "source": [
    "middle(\"a\")"
   ]
  },
  {
   "cell_type": "markdown",
   "metadata": {},
   "source": [
    "2. Write a function called ispalindrome that takes a string argument and returns\n",
    "true if it is a palindrome and false otherwise. Remember that you can use the\n",
    "built-in function length to check the length of a string."
   ]
  },
  {
   "cell_type": "code",
   "execution_count": 110,
   "metadata": {},
   "outputs": [
    {
     "data": {
      "text/plain": [
       "ispalindrome (generic function with 1 method)"
      ]
     },
     "metadata": {},
     "output_type": "display_data"
    }
   ],
   "source": [
    "function ispalindrome(word)\n",
    "    if word == \"\" || length(word) == 1\n",
    "        println(\"This is not a complete word\")\n",
    "    else\n",
    "        center = length(word)/2\n",
    "        low_center = floor(center)\n",
    "        high_center = ceil(center)\n",
    "        part1 = word[firstindex(word) : Int(low_center)]\n",
    "        part2 = reverse(word[Int(high_center) + 1 : lastindex(word)])\n",
    "        if part1 == part2\n",
    "            return true\n",
    "        else \n",
    "            return false\n",
    "        end\n",
    "    end\n",
    "end"
   ]
  },
  {
   "cell_type": "code",
   "execution_count": 111,
   "metadata": {},
   "outputs": [
    {
     "data": {
      "text/plain": [
       "true"
      ]
     },
     "metadata": {},
     "output_type": "display_data"
    }
   ],
   "source": [
    "ispalindrome(\"abcgcba\")"
   ]
  },
  {
   "cell_type": "code",
   "execution_count": 31,
   "metadata": {},
   "outputs": [
    {
     "name": "stdout",
     "output_type": "stream",
     "text": [
      "Not a name\n"
     ]
    }
   ],
   "source": [
    "name = \"\"\n",
    "\n",
    "if name == \"\"\n",
    "    println(\"Not a name\")\n",
    "else\n",
    "    println(name)\n",
    "end"
   ]
  },
  {
   "cell_type": "code",
   "execution_count": 88,
   "metadata": {},
   "outputs": [
    {
     "data": {
      "text/plain": [
       "4.0"
      ]
     },
     "metadata": {},
     "output_type": "display_data"
    }
   ],
   "source": [
    "length(\"Goodneess\")÷2\n",
    "# center = length(wo)÷2\n",
    "ceil(2.5)\n",
    "floor(4.5)"
   ]
  },
  {
   "cell_type": "markdown",
   "metadata": {},
   "source": [
    "##  Exercise 6-8\n",
    "\n",
    "+ The greatest common divisor (GCD) of a and b is the largest number that divides\n",
    "both of them with no remainder.\n",
    "+ One way to find the GCD of two numbers is based on the observation that if r is the\n",
    "remainder when a is divided by b, then gcd(a, b) = gcd(b, r). As a base case, we\n",
    "can use gcd(a, 0) = a.\n",
    "+ Write a function called gcd that takes parameters a and b and returns their greatest\n",
    "common divisor."
   ]
  },
  {
   "cell_type": "code",
   "execution_count": 1,
   "metadata": {},
   "outputs": [
    {
     "data": {
      "text/plain": [
       "2"
      ]
     },
     "metadata": {},
     "output_type": "display_data"
    }
   ],
   "source": [
    "r = 12%5"
   ]
  },
  {
   "cell_type": "markdown",
   "metadata": {},
   "source": []
  },
  {
   "cell_type": "code",
   "execution_count": 12,
   "metadata": {},
   "outputs": [
    {
     "data": {
      "text/plain": [
       "gcd (generic function with 1 method)"
      ]
     },
     "metadata": {},
     "output_type": "display_data"
    }
   ],
   "source": [
    "## Wrong part I was following\n",
    "\n",
    "function gcd(a, b)\n",
    "    Min_num = min(a, b)\n",
    "    Max_num = max(a, b)\n",
    "    div_array = []\n",
    "    for i in 1:Min_num \n",
    "        Max_div = Max_num ÷ i \n",
    "        Max_rem = Max_num % i\n",
    "\n",
    "        Min_div = Min_num ÷ i \n",
    "        Min_rem = Min_num % i\n",
    "        if Max_rem == 0 && Min_rem == 0\n",
    "            append!(div_array, i)\n",
    "            gcd(Max_div, Min_div)\n",
    "        end\n",
    "    end\n",
    "    return c\n",
    "end"
   ]
  },
  {
   "cell_type": "code",
   "execution_count": 14,
   "metadata": {},
   "outputs": [
    {
     "data": {
      "text/plain": [
       "5"
      ]
     },
     "metadata": {},
     "output_type": "display_data"
    }
   ],
   "source": [
    "gcd(70, 5)"
   ]
  },
  {
   "cell_type": "code",
   "execution_count": 16,
   "metadata": {},
   "outputs": [
    {
     "data": {
      "text/plain": [
       "3"
      ]
     },
     "metadata": {},
     "output_type": "display_data"
    }
   ],
   "source": [
    "7÷2"
   ]
  },
  {
   "cell_type": "markdown",
   "metadata": {},
   "source": [
    "Solution to Exercise 6-8"
   ]
  },
  {
   "cell_type": "code",
   "execution_count": 21,
   "metadata": {},
   "outputs": [
    {
     "data": {
      "text/plain": [
       "gcd (generic function with 1 method)"
      ]
     },
     "metadata": {},
     "output_type": "display_data"
    }
   ],
   "source": [
    "function gcd(a, b)\n",
    "    while b !=0\n",
    "        a, b = b, a % b\n",
    "    end\n",
    "    return a\n",
    "end"
   ]
  },
  {
   "cell_type": "code",
   "execution_count": 22,
   "metadata": {},
   "outputs": [
    {
     "data": {
      "text/plain": [
       "2"
      ]
     },
     "metadata": {},
     "output_type": "display_data"
    }
   ],
   "source": [
    "gcd(12, 10)"
   ]
  },
  {
   "cell_type": "code",
   "execution_count": null,
   "metadata": {},
   "outputs": [],
   "source": []
  }
 ],
 "metadata": {
  "kernelspec": {
   "display_name": "Julia 1.10.2",
   "language": "julia",
   "name": "julia-1.10"
  },
  "language_info": {
   "file_extension": ".jl",
   "mimetype": "application/julia",
   "name": "julia",
   "version": "1.10.2"
  }
 },
 "nbformat": 4,
 "nbformat_minor": 2
}
