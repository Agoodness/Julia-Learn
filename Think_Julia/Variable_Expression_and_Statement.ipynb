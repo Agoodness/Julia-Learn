{
 "cells": [
  {
   "cell_type": "code",
   "execution_count": 5,
   "metadata": {},
   "outputs": [
    {
     "name": "stdout",
     "output_type": "stream",
     "text": [
      "Hello World\n"
     ]
    }
   ],
   "source": [
    "println(\"Hello World\")"
   ]
  },
  {
   "cell_type": "code",
   "execution_count": 18,
   "metadata": {},
   "outputs": [
    {
     "name": "stdout",
     "output_type": "stream",
     "text": [
      " Goodness Goodness Adedeji\n"
     ]
    }
   ],
   "source": [
    "FirstName = \" Goodness\"\n",
    "lastName = \" Adedeji\"\n",
    "println(FirstName^2 * lastName)"
   ]
  },
  {
   "cell_type": "code",
   "execution_count": 31,
   "metadata": {},
   "outputs": [
    {
     "data": {
      "text/plain": [
       "25"
      ]
     },
     "metadata": {},
     "output_type": "display_data"
    }
   ],
   "source": [
    "n = 42\n",
    "x = y = 1\n",
    "x, y = 3, 5\n",
    "\n",
    "5y"
   ]
  },
  {
   "cell_type": "code",
   "execution_count": 35,
   "metadata": {},
   "outputs": [
    {
     "data": {
      "text/plain": [
       "523.5987755982989"
      ]
     },
     "metadata": {},
     "output_type": "display_data"
    }
   ],
   "source": [
    "r = 5\n",
    "\n",
    "volume = (4/3)*π*r^3"
   ]
  },
  {
   "cell_type": "markdown",
   "metadata": {},
   "source": [
    "## Exercise 2-3, No. 2\n",
    "\n",
    "Suppose the cover price of a book is $24.95, but bookstores get a 40% discount.\n",
    "Shipping costs $3 for the first copy and 75 cents for each additional copy. What is\n",
    "the total wholesale cost for 60 copies?"
   ]
  },
  {
   "cell_type": "code",
   "execution_count": 39,
   "metadata": {},
   "outputs": [
    {
     "data": {
      "text/plain": [
       "1533.078"
      ]
     },
     "metadata": {},
     "output_type": "display_data"
    }
   ],
   "source": [
    "# Variable definition \n",
    "Price = 24.93\n",
    "ship_1 = 3\n",
    "ship_other = 0.75\n",
    "Total_copies = 60 \n",
    "\n",
    "# Prices calculation\n",
    "Discount = 0.4 * Price\n",
    "Total_ship = (ship_1 + (Total_copies - 1)*ship_other)\n",
    "Total_price = Price * Total_copies\n",
    "\n",
    "Total_cost = (Total_price + Total_ship - Discount)\n"
   ]
  },
  {
   "cell_type": "markdown",
   "metadata": {},
   "source": [
    "## exercise 2-3,  No.3\n",
    "\n",
    "If I leave my house at 6:52 a.m. and run 1 mile at an easy pace (8:15 per mile),\n",
    "then 3 miles at tempo (7:12 per mile) and 1 mile at easy pace again, what time do\n",
    "I get home for breakfast?"
   ]
  },
  {
   "cell_type": "code",
   "execution_count": 41,
   "metadata": {},
   "outputs": [
    {
     "data": {
      "text/plain": [
       "42 seconds"
      ]
     },
     "metadata": {},
     "output_type": "display_data"
    }
   ],
   "source": [
    "using Dates\n",
    "\n",
    "# Definition of initial conditions\n",
    "Start_hour = Dates.Hour(6)\n",
    "Start_minute = Dates.Minute(52)\n",
    "Start_second = Dates.Second(0)\n",
    "\n",
    "# Definition of rate of travel, the travel rate was divided into 3 parts\n",
    "\n",
    "# First phase rates now \n",
    "First_hour = Dates.Hour(0)\n",
    "First_minute = Dates.Minute(8)\n",
    "First_second = Dates.Second(15)\n",
    "Mile1 = 1\n",
    "\n",
    "# Second phase rates now \n",
    "Second_hour = Dates.Hour(0)\n",
    "Second_minute = Dates.Minute(7)\n",
    "Second_second = Dates.Second(12)\n",
    "Mile2 = 3\n",
    "\n",
    "# Third phase rates now \n",
    "Third_hour = Dates.Hour(0)\n",
    "Third_minute = Dates.Minute(8)\n",
    "Third_second = Dates.Second(15)\n",
    "Mile3 =1\n",
    "\n",
    "# Time taken for the race is here\n",
    "\n",
    "Hour_taken = First_hour + Second_hour + Third_hour\n",
    "Minute_taken = First_minute + Second_minute + Third_minute\n",
    "Second_taken = First_second + Second_second + Third_second\n",
    "\n",
    "Stop_Hour = Start_hour + Hour_taken\n",
    "Stop_minute = Start_minute + Minute_taken\n",
    "Stop_second = Start_second + Second_taken\n",
    "\n",
    "# new here"
   ]
  },
  {
   "cell_type": "code",
   "execution_count": null,
   "metadata": {},
   "outputs": [],
   "source": []
  }
 ],
 "metadata": {
  "kernelspec": {
   "display_name": "Julia 1.10.2",
   "language": "julia",
   "name": "julia-1.10"
  },
  "language_info": {
   "file_extension": ".jl",
   "mimetype": "application/julia",
   "name": "julia",
   "version": "1.10.2"
  }
 },
 "nbformat": 4,
 "nbformat_minor": 2
}
