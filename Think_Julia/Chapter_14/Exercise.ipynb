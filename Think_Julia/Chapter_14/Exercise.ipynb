{
 "cells": [
  {
   "cell_type": "markdown",
   "metadata": {},
   "source": [
    "# Exercises\n",
    "\n",
    "## Exercise 14-2\n",
    "Write a function called sed that takes as arguments a pattern string, a replacement\n",
    "string, and two filenames; it should read the first file and write the contents into the\n",
    "second file (creating it if necessary). If the pattern string appears anywhere in the file,\n",
    "it should be replaced with the replacement string.\n",
    "If an error occurs while opening, reading, writing, or closing files, your program\n",
    "should catch the exception, print an error message, and exit."
   ]
  },
  {
   "cell_type": "code",
   "execution_count": 19,
   "metadata": {},
   "outputs": [
    {
     "data": {
      "text/plain": [
       "sed (generic function with 1 method)"
      ]
     },
     "metadata": {},
     "output_type": "display_data"
    }
   ],
   "source": [
    "function sed(pat_string, rep_string, file_a; file_b::String = \"Default_file.txt\")\n",
    "    try\n",
    "    open(file_a, \"r\") do file1\n",
    "        content_a = read(file1, String)\n",
    "\n",
    "        updated_content = replace(content_a, pat_string => rep_string)\n",
    "\n",
    "        open(file_b, \"w\") do file2\n",
    "            write(file2, updated_content)\n",
    "        end\n",
    "    end\n",
    "\n",
    "    catch\n",
    "        println(\"Something went wrong\")\n",
    "    end\n",
    "    println(\"Pattern successfully replaced to file $file_b\")\n",
    "end"
   ]
  },
  {
   "cell_type": "code",
   "execution_count": 21,
   "metadata": {},
   "outputs": [
    {
     "name": "stdout",
     "output_type": "stream",
     "text": [
      "Pattern successfully replaced to file Default_file.txt\n"
     ]
    }
   ],
   "source": [
    "pat_string = \"\\r\"\n",
    "rep_string = \"\\n\"\n",
    "file_a = \"output.txt\"\n",
    "\n",
    "sed(pat_string, rep_string, file_a)"
   ]
  },
  {
   "cell_type": "code",
   "execution_count": null,
   "metadata": {},
   "outputs": [],
   "source": []
  }
 ],
 "metadata": {
  "kernelspec": {
   "display_name": "Julia 1.10.2",
   "language": "julia",
   "name": "julia-1.10"
  },
  "language_info": {
   "file_extension": ".jl",
   "mimetype": "application/julia",
   "name": "julia",
   "version": "1.10.2"
  }
 },
 "nbformat": 4,
 "nbformat_minor": 2
}
