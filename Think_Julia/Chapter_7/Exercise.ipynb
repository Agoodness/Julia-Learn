{
 "cells": [
  {
   "cell_type": "markdown",
   "metadata": {},
   "source": [
    "## Exercises 7-2\n",
    "\n",
    "Copy the loop from “Square Roots” on page 81 and encapsulate it in a function called\n",
    "mysqrt that takes a as a parameter, chooses a reasonable value of x, and returns an\n",
    "estimate of the square root of a."
   ]
  },
  {
   "cell_type": "code",
   "execution_count": 11,
   "metadata": {},
   "outputs": [
    {
     "data": {
      "text/plain": [
       "mysqrt (generic function with 1 method)"
      ]
     },
     "metadata": {},
     "output_type": "display_data"
    }
   ],
   "source": [
    "function mysqrt(a)\n",
    "    x = sqrt(a) + rand(1:15)\n",
    "    while true \n",
    "        y = (x + a/x)/2\n",
    "        if abs(y-x) < 0.0000001\n",
    "            break\n",
    "        end\n",
    "        x = y\n",
    "    end\n",
    "    return x\n",
    "end\n"
   ]
  },
  {
   "cell_type": "code",
   "execution_count": 12,
   "metadata": {},
   "outputs": [
    {
     "data": {
      "text/plain": [
       "testsqrt (generic function with 1 method)"
      ]
     },
     "metadata": {},
     "output_type": "display_data"
    }
   ],
   "source": [
    "using Printf\n",
    "\n",
    "function testsqrt(b)\n",
    "    x = mysqrt(b)\n",
    "    Sqrt = sqrt(b)\n",
    "    diff = abs(Sqrt - x)\n",
    "    @printf(\"%-20s %-20s %-20s %-20s\\n\", \"a\", \"mysqrt\", \"sqrt\", \"diff\")\n",
    "    @printf(\"%-20s %-20s %-20s %-20s\\n\", \"$b\", \"$x\", \"$Sqrt\", \"$diff\")\n",
    "end"
   ]
  },
  {
   "cell_type": "code",
   "execution_count": 13,
   "metadata": {},
   "outputs": [
    {
     "name": "stdout",
     "output_type": "stream",
     "text": [
      "a                    mysqrt               sqrt                 diff                \n",
      "9                    3.000000000000038    3.0                  3.8191672047105385e-14\n"
     ]
    }
   ],
   "source": [
    "testsqrt(9)"
   ]
  },
  {
   "cell_type": "code",
   "execution_count": 14,
   "metadata": {},
   "outputs": [
    {
     "data": {
      "text/plain": [
       "9.000000000000089"
      ]
     },
     "metadata": {},
     "output_type": "display_data"
    }
   ],
   "source": [
    "mysqrt(81)"
   ]
  },
  {
   "cell_type": "code",
   "execution_count": 15,
   "metadata": {},
   "outputs": [
    {
     "data": {
      "text/plain": [
       "Mtestsqrt (generic function with 1 method)"
      ]
     },
     "metadata": {},
     "output_type": "display_data"
    }
   ],
   "source": [
    "\n",
    "\n",
    "function Mtestsqrt(args...)\n",
    "    values = args\n",
    "    @printf(\"%-20s %-20s %-20s %-20s\\n\", \"a\", \"mysqrt\", \"sqrt\", \"diff\")\n",
    "    for i in eachindex(values)\n",
    "        b = values[i]\n",
    "        x = mysqrt(b)\n",
    "        Sqrt = sqrt(b)\n",
    "        diff = abs(Sqrt - x)\n",
    "        @printf(\"%-20s %-20s %-20s %-20s\\n\", \"$b\", \"$x\", \"$Sqrt\", \"$diff\")\n",
    "    end\n",
    "end"
   ]
  },
  {
   "cell_type": "code",
   "execution_count": 16,
   "metadata": {},
   "outputs": [
    {
     "name": "stdout",
     "output_type": "stream",
     "text": [
      "a                    mysqrt               sqrt                 diff                \n",
      "4                    2.0000000000000426   2.0                  4.263256414560601e-14\n",
      "9                    3.0000000000001803   3.0                  1.8030021919912542e-13\n",
      "81                   9.000000004190952    9.0                  4.190951585769653e-9\n",
      "27                   5.19615242312443     5.196152422706632    4.177982404485192e-10\n",
      "5                    2.236067977499873    2.23606797749979     8.304468224196171e-14\n",
      "4                    2.0000000000000253   2.0                  2.531308496145357e-14\n",
      "25                   5.000000000000005    5.0                  5.329070518200751e-15\n",
      "48                   6.9282032385516485   6.928203230275509    8.276139773499835e-9\n",
      "34                   5.830951945276066    5.830951894845301    5.043076534150259e-8\n"
     ]
    }
   ],
   "source": [
    "Mtestsqrt(4,9,81,27,5, 4, 25, 48, 34)"
   ]
  },
  {
   "cell_type": "code",
   "execution_count": 17,
   "metadata": {},
   "outputs": [
    {
     "data": {
      "text/plain": [
       "f (generic function with 1 method)"
      ]
     },
     "metadata": {},
     "output_type": "display_data"
    }
   ],
   "source": [
    "# test code\n",
    "\n",
    "function f(args...)\n",
    "    a = args\n",
    "    return a[firstindex(a)]\n",
    "end"
   ]
  },
  {
   "cell_type": "code",
   "execution_count": 18,
   "metadata": {},
   "outputs": [
    {
     "data": {
      "text/plain": [
       "1"
      ]
     },
     "metadata": {},
     "output_type": "display_data"
    }
   ],
   "source": [
    "f(1,2,3,4,6,7,7,8,10,12)"
   ]
  },
  {
   "cell_type": "code",
   "execution_count": 19,
   "metadata": {},
   "outputs": [
    {
     "name": "stdout",
     "output_type": "stream",
     "text": [
      "Col1       Col2       Col3      \n",
      "1          2          3         \n",
      "4          5          6         \n"
     ]
    }
   ],
   "source": [
    "# Test code\n",
    "\n",
    "# Define column widths and print data\n",
    "@printf(\"%-10s %-10s %-10s\\n\", \"Col1\", \"Col2\", \"Col3\")\n",
    "@printf(\"%-10d %-10d %-10d\\n\", 1, 2, 3)\n",
    "@printf(\"%-10d %-10d %-10d\\n\", 4, 5, 6)"
   ]
  },
  {
   "cell_type": "code",
   "execution_count": 20,
   "metadata": {},
   "outputs": [
    {
     "name": "stdout",
     "output_type": "stream",
     "text": [
      "\tGood\n",
      "\tGoo\n"
     ]
    }
   ],
   "source": [
    "s = \"Goodness\"\n",
    "\n",
    "@printf(\"\\t%.4s\\n\", s);\n",
    "@printf(\"\\t%.*s\\n\", 3, s);"
   ]
  }
 ],
 "metadata": {
  "kernelspec": {
   "display_name": "Julia 1.10.2",
   "language": "julia",
   "name": "julia-1.10"
  },
  "language_info": {
   "file_extension": ".jl",
   "mimetype": "application/julia",
   "name": "julia",
   "version": "1.10.2"
  }
 },
 "nbformat": 4,
 "nbformat_minor": 2
}
