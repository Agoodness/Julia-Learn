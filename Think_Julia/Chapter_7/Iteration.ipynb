{
 "cells": [
  {
   "cell_type": "markdown",
   "metadata": {},
   "source": [
    "## The while Statement"
   ]
  },
  {
   "cell_type": "code",
   "execution_count": 3,
   "metadata": {},
   "outputs": [
    {
     "data": {
      "text/plain": [
       "countdown (generic function with 1 method)"
      ]
     },
     "metadata": {},
     "output_type": "display_data"
    }
   ],
   "source": [
    "function countdown(n)\n",
    "    while n > 0\n",
    "        print(n, \" \")\n",
    "        n -= 1\n",
    "    end\n",
    "    println(\"Blastoff\")\n",
    "end"
   ]
  },
  {
   "cell_type": "code",
   "execution_count": 5,
   "metadata": {},
   "outputs": [
    {
     "name": "stdout",
     "output_type": "stream",
     "text": [
      "23 22 21 20 19 18 17 16 15 14 13 12 11 10 9 8 7 6 5 4 3 2 1 Blastoff\n"
     ]
    }
   ],
   "source": [
    "countdown(23)"
   ]
  },
  {
   "cell_type": "markdown",
   "metadata": {},
   "source": [
    "## break\n",
    "\n",
    "Break help exit a loop anytime you want to"
   ]
  },
  {
   "cell_type": "markdown",
   "metadata": {},
   "source": [
    "## continue\n",
    "\n",
    "While the break statement exit the loop, continue will jumps to the beginning of the loop for the next iteration\n"
   ]
  },
  {
   "cell_type": "code",
   "execution_count": 64,
   "metadata": {},
   "outputs": [
    {
     "name": "stdout",
     "output_type": "stream",
     "text": [
      "1 2 "
     ]
    }
   ],
   "source": [
    "for i in 1:10\n",
    "    if i % 3 == 0\n",
    "        break\n",
    "    end \n",
    "    print(i, \" \")\n",
    "end"
   ]
  },
  {
   "cell_type": "markdown",
   "metadata": {},
   "source": [
    "## Square roots\n",
    "For example, one way of computing square roots is Newton’s method. Suppose that\n",
    "you want to know the square root of a. If you start with almost any estimate, x, you\n",
    "can compute a better estimate with the following formula:\n",
    "\n",
    "$$y = \\frac{1}{2} (x + \\frac{a}{b})$$"
   ]
  },
  {
   "cell_type": "code",
   "execution_count": 10,
   "metadata": {},
   "outputs": [
    {
     "data": {
      "text/plain": [
       "2.1666666666666665"
      ]
     },
     "metadata": {},
     "output_type": "display_data"
    }
   ],
   "source": [
    "a = 4\n",
    "x = 3 \n",
    "\n",
    "y = (x + a/x)/2\n",
    "\n",
    "\n"
   ]
  },
  {
   "cell_type": "code",
   "execution_count": 14,
   "metadata": {},
   "outputs": [
    {
     "data": {
      "text/plain": [
       "2.050869265405729"
      ]
     },
     "metadata": {},
     "output_type": "display_data"
    }
   ],
   "source": [
    "x = y \n",
    "\n",
    "y = (x + a/x)/2"
   ]
  },
  {
   "cell_type": "code",
   "execution_count": 15,
   "metadata": {},
   "outputs": [
    {
     "data": {
      "text/plain": [
       "2.000630874480048"
      ]
     },
     "metadata": {},
     "output_type": "display_data"
    }
   ],
   "source": [
    "x = y\n",
    "\n",
    "y = y = (x + a/x)/2"
   ]
  },
  {
   "cell_type": "code",
   "execution_count": 16,
   "metadata": {},
   "outputs": [
    {
     "data": {
      "text/plain": [
       "2.000000099469276"
      ]
     },
     "metadata": {},
     "output_type": "display_data"
    }
   ],
   "source": [
    "x = y\n",
    "\n",
    "y = y = (x + a/x)/2"
   ]
  },
  {
   "cell_type": "markdown",
   "metadata": {},
   "source": [
    "Note: Y will keep converging at the right answer"
   ]
  },
  {
   "cell_type": "markdown",
   "metadata": {},
   "source": [
    "When y == x, we can stop. Here is a loop that starts with an initial estimate, x, and\n",
    "improves it until it stops changing:"
   ]
  },
  {
   "cell_type": "code",
   "execution_count": 18,
   "metadata": {},
   "outputs": [
    {
     "name": "stdout",
     "output_type": "stream",
     "text": [
      "3\n",
      "2.1666666666666665\n",
      "2.0064102564102564\n",
      "2.0000102400262145\n",
      "2.0000000000262146\n",
      "2.0\n"
     ]
    }
   ],
   "source": [
    "a = 4\n",
    "x = 3\n",
    "\n",
    "while true \n",
    "    println(x)\n",
    "    y = y = (x + a/x)/2\n",
    "    if y ==x\n",
    "        break\n",
    "    end\n",
    "    x = y\n",
    "end"
   ]
  },
  {
   "cell_type": "markdown",
   "metadata": {},
   "source": [
    "Rather than checking whether x and y are exactly equal, it is safer to use the built-in\n",
    "function abs to compute the absolute value, or magnitude, of the difference between\n",
    "them:"
   ]
  },
  {
   "cell_type": "code",
   "execution_count": 31,
   "metadata": {},
   "outputs": [
    {
     "name": "stdout",
     "output_type": "stream",
     "text": [
      "1\n",
      "1.5\n",
      "1.4166666666666665\n",
      "1.4142156862745097\n",
      "1.4142135623746899\n"
     ]
    }
   ],
   "source": [
    "a = 2\n",
    "x = 1\n",
    "\n",
    "while true \n",
    "    println(x)\n",
    "    y = (x + a/x)/2\n",
    "    if abs(y-x) < 0.0000001\n",
    "        break\n",
    "    end\n",
    "    x = y\n",
    "end"
   ]
  },
  {
   "cell_type": "code",
   "execution_count": 51,
   "metadata": {},
   "outputs": [
    {
     "data": {
      "text/plain": [
       "4.688828724664399"
      ]
     },
     "metadata": {},
     "output_type": "display_data"
    }
   ],
   "source": [
    "sqrt(5)\n",
    "rand(1:10)\n",
    "rand() * (9.0 - 1.0) + 1.0"
   ]
  },
  {
   "cell_type": "code",
   "execution_count": 61,
   "metadata": {},
   "outputs": [
    {
     "data": {
      "text/plain": [
       "Mtestsqrt (generic function with 1 method)"
      ]
     },
     "metadata": {},
     "output_type": "display_data"
    }
   ],
   "source": []
  },
  {
   "cell_type": "code",
   "execution_count": 63,
   "metadata": {},
   "outputs": [
    {
     "name": "stdout",
     "output_type": "stream",
     "text": [
      "a                    mysqrt               sqrt                 diff                \n",
      "4                    2.0000000271231317   2.0                  2.7123131740580675e-8\n",
      "9                    3.0000000007318564   3.0                  7.318563532976441e-10\n",
      "81                   9.000000000015062    9.0                  1.5061729641274724e-11\n",
      "27                   5.196152422734636    5.196152422706632    2.800426557314495e-11\n",
      "5                    2.236067977737707    2.23606797749979     2.3791724146349225e-10\n",
      "4                    2.0000000929222947   2.0                  9.2922294747666e-8  \n",
      "25                   5.000000000000005    5.0                  5.329070518200751e-15\n",
      "48                   6.928203230832574    6.928203230275509    5.570655048359185e-10\n",
      "34                   5.830951894878192    5.830951894845301    3.289102323833504e-11\n"
     ]
    }
   ],
   "source": []
  }
 ],
 "metadata": {
  "kernelspec": {
   "display_name": "Julia 1.10.2",
   "language": "julia",
   "name": "julia-1.10"
  },
  "language_info": {
   "file_extension": ".jl",
   "mimetype": "application/julia",
   "name": "julia",
   "version": "1.10.2"
  }
 },
 "nbformat": 4,
 "nbformat_minor": 2
}
