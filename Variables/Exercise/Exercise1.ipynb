{
 "cells": [
  {
   "cell_type": "markdown",
   "metadata": {},
   "source": [
    "Exercise 1: Create a struct for a rectangular prism, create an instance of prism and calculate the volume of prism"
   ]
  },
  {
   "cell_type": "code",
   "execution_count": 2,
   "metadata": {},
   "outputs": [],
   "source": [
    "struct RectangularPrism{T <: Real}\n",
    "    width::T\n",
    "    length::T\n",
    "    height::T\n",
    "end"
   ]
  },
  {
   "cell_type": "markdown",
   "metadata": {},
   "source": [
    "The three fields are all expected to be subtype of real numbers"
   ]
  },
  {
   "cell_type": "code",
   "execution_count": 4,
   "metadata": {},
   "outputs": [
    {
     "data": {
      "text/plain": [
       "RectangularPrism{Int64}(5, 15, 12)"
      ]
     },
     "metadata": {},
     "output_type": "display_data"
    }
   ],
   "source": [
    "Prism = RectangularPrism(5, 15, 12)"
   ]
  },
  {
   "cell_type": "code",
   "execution_count": 8,
   "metadata": {},
   "outputs": [
    {
     "name": "stdout",
     "output_type": "stream",
     "text": [
      "The volume of the prism is 900 "
     ]
    }
   ],
   "source": [
    "VolumePrism = Prism.width * Prism.length * Prism.height\n",
    "print(\"The volume of the prism is $VolumePrism \")"
   ]
  },
  {
   "cell_type": "markdown",
   "metadata": {},
   "source": [
    "Exercise 2: Create a variable myint with value 42, then convert the variable to float and then save in myfloat"
   ]
  },
  {
   "cell_type": "code",
   "execution_count": 21,
   "metadata": {},
   "outputs": [
    {
     "name": "stdout",
     "output_type": "stream",
     "text": [
      "42.0"
     ]
    }
   ],
   "source": [
    "myint = 42\n",
    "myfloat = convert(Float64, myint) #This is also an alternative myfloat = Float64(myint)\n",
    "print(myfloat)"
   ]
  },
  {
   "cell_type": "code",
   "execution_count": 16,
   "metadata": {},
   "outputs": [
    {
     "data": {
      "text/plain": [
       "Float64"
      ]
     },
     "metadata": {},
     "output_type": "display_data"
    }
   ],
   "source": [
    "typeof(myfloat)"
   ]
  },
  {
   "cell_type": "code",
   "execution_count": 4,
   "metadata": {},
   "outputs": [],
   "source": [
    "struct MassIndex{P <: AbstractString, T <: Int64, Q <: Float64}\n",
    "    name::P\n",
    "    weight::T\n",
    "    height::Q\n",
    "end"
   ]
  },
  {
   "cell_type": "code",
   "execution_count": 5,
   "metadata": {},
   "outputs": [
    {
     "data": {
      "text/plain": [
       "MassIndex{String, Int64, Float64}(\"Authur\", 75, 1.8)"
      ]
     },
     "metadata": {},
     "output_type": "display_data"
    }
   ],
   "source": [
    "MassInd = MassIndex(\"Authur\", 75, 1.80)"
   ]
  },
  {
   "cell_type": "code",
   "execution_count": 19,
   "metadata": {},
   "outputs": [
    {
     "name": "stdout",
     "output_type": "stream",
     "text": [
      "23.15"
     ]
    }
   ],
   "source": [
    "Mass_Index = convert(Float64, MassInd.weight)/MassInd.height^2\n",
    "Ans= (round(Mass_Index, digits=2))\n",
    "print(Ans)"
   ]
  },
  {
   "cell_type": "code",
   "execution_count": 20,
   "metadata": {},
   "outputs": [
    {
     "name": "stdout",
     "output_type": "stream",
     "text": [
      "Hello Authur. You are 75 and 1.8. Your BMI is 23.15"
     ]
    }
   ],
   "source": [
    "print(\"Hello $(MassInd.name). You are $(MassInd.weight) and $(MassInd.height). Your BMI is $(Ans)\")"
   ]
  },
  {
   "cell_type": "code",
   "execution_count": null,
   "metadata": {},
   "outputs": [],
   "source": []
  }
 ],
 "metadata": {
  "kernelspec": {
   "display_name": "Julia 1.10.2",
   "language": "julia",
   "name": "julia-1.10"
  },
  "language_info": {
   "file_extension": ".jl",
   "mimetype": "application/julia",
   "name": "julia",
   "version": "1.10.2"
  }
 },
 "nbformat": 4,
 "nbformat_minor": 2
}
