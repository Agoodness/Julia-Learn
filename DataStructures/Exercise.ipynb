{
 "cells": [
  {
   "cell_type": "markdown",
   "metadata": {
    "vscode": {
     "languageId": "julia"
    }
   },
   "source": [
    "## Exercise 1\n",
    "Calculate the optimum beta = (X'X)^-1X'y\n"
   ]
  },
  {
   "cell_type": "code",
   "execution_count": 2,
   "metadata": {},
   "outputs": [
    {
     "data": {
      "text/plain": [
       "100×3 Matrix{Float64}:\n",
       " 0.346275   0.756019   0.955564\n",
       " 0.916469   0.186398   0.0532403\n",
       " 0.938019   0.150046   0.732201\n",
       " 0.0289088  0.724155   0.677239\n",
       " 0.688469   0.764739   0.905782\n",
       " 0.520892   0.7342     0.443512\n",
       " 0.527462   0.793777   0.304947\n",
       " 0.726117   0.260108   0.76409\n",
       " 0.935769   0.587344   0.513523\n",
       " 0.925916   0.0180294  0.18348\n",
       " ⋮                     \n",
       " 0.825767   0.33273    0.421699\n",
       " 0.736513   0.213951   0.42936\n",
       " 0.887776   0.382321   0.720735\n",
       " 0.219258   0.41149    0.247802\n",
       " 0.649155   0.324785   0.777267\n",
       " 0.797197   0.697661   0.917202\n",
       " 0.893039   0.934902   0.170546\n",
       " 0.719115   0.477579   0.351544\n",
       " 0.505081   0.0239592  0.202755"
      ]
     },
     "metadata": {},
     "output_type": "display_data"
    }
   ],
   "source": [
    "X = rand(Float64, (100, 3))"
   ]
  },
  {
   "cell_type": "code",
   "execution_count": 5,
   "metadata": {},
   "outputs": [
    {
     "data": {
      "text/plain": [
       "100-element Vector{Float64}:\n",
       " 0.7327037076542012\n",
       " 0.8599589991275229\n",
       " 0.33960432083092806\n",
       " 0.8018607501438901\n",
       " 0.5917053292327241\n",
       " 0.8542330066096796\n",
       " 0.5054931105230224\n",
       " 0.9939181821817619\n",
       " 0.6063108996140176\n",
       " 0.20272803666441364\n",
       " ⋮\n",
       " 0.9416760516348738\n",
       " 0.45671949818994106\n",
       " 0.03650229363608459\n",
       " 0.021940167336387928\n",
       " 0.10802879335602322\n",
       " 0.8397895828971662\n",
       " 0.7395332638985749\n",
       " 0.5669254255165835\n",
       " 0.6718149318156418"
      ]
     },
     "metadata": {},
     "output_type": "display_data"
    }
   ],
   "source": [
    "y = rand(100)"
   ]
  },
  {
   "cell_type": "code",
   "execution_count": 6,
   "metadata": {},
   "outputs": [
    {
     "ename": "MethodError",
     "evalue": "MethodError: no method matching ^(::Matrix{Float64}, ::Vector{Float64})\n\nClosest candidates are:\n  ^(::AbstractMatrix{T}, !Matched::Real) where T\n   @ LinearAlgebra /usr/local/bin/julia-1.10.2/share/julia/stdlib/v1.10/LinearAlgebra/src/dense.jl:522\n  ^(::AbstractMatrix, !Matched::Integer)\n   @ LinearAlgebra /usr/local/bin/julia-1.10.2/share/julia/stdlib/v1.10/LinearAlgebra/src/dense.jl:479\n  ^(::AbstractMatrix, !Matched::Number)\n   @ LinearAlgebra /usr/local/bin/julia-1.10.2/share/julia/stdlib/v1.10/LinearAlgebra/src/dense.jl:563\n",
     "output_type": "error",
     "traceback": [
      "MethodError: no method matching ^(::Matrix{Float64}, ::Vector{Float64})\n",
      "\n",
      "Closest candidates are:\n",
      "  ^(::AbstractMatrix{T}, !Matched::Real) where T\n",
      "   @ LinearAlgebra /usr/local/bin/julia-1.10.2/share/julia/stdlib/v1.10/LinearAlgebra/src/dense.jl:522\n",
      "  ^(::AbstractMatrix, !Matched::Integer)\n",
      "   @ LinearAlgebra /usr/local/bin/julia-1.10.2/share/julia/stdlib/v1.10/LinearAlgebra/src/dense.jl:479\n",
      "  ^(::AbstractMatrix, !Matched::Number)\n",
      "   @ LinearAlgebra /usr/local/bin/julia-1.10.2/share/julia/stdlib/v1.10/LinearAlgebra/src/dense.jl:563\n",
      "\n",
      "\n",
      "Stacktrace:\n",
      " [1] top-level scope\n",
      "   @ ~/Desktop/OS-SIM/Julia Learn/Learning Materials/Julia/Julia_learn/Julia Learn/DataStructures/Exercise.ipynb:1"
     ]
    }
   ],
   "source": [
    "β = (X'X)^-1X'y"
   ]
  },
  {
   "cell_type": "markdown",
   "metadata": {},
   "source": [
    "## Exercise 2 \n",
    "\n",
    "Create a tuple with your name, age, favorite color, and favorite food. Print the tuple. Extract and print just the name and favorite color."
   ]
  },
  {
   "cell_type": "code",
   "execution_count": 8,
   "metadata": {},
   "outputs": [
    {
     "data": {
      "text/plain": [
       "(Name = \"Adedeji Goodness\", Age = 26, Favourite_color = \"Blue\", Favourite_food = \"Swalow\")"
      ]
     },
     "metadata": {},
     "output_type": "display_data"
    }
   ],
   "source": [
    "Details = (Name = \"Adedeji Goodness\", Age = 26, Favourite_color = \"Blue\", Favourite_food = \"Swalow\")"
   ]
  },
  {
   "cell_type": "code",
   "execution_count": 9,
   "metadata": {},
   "outputs": [
    {
     "data": {
      "text/plain": [
       "\"Adedeji Goodness\""
      ]
     },
     "metadata": {},
     "output_type": "display_data"
    }
   ],
   "source": [
    "Details[1]"
   ]
  },
  {
   "cell_type": "code",
   "execution_count": 10,
   "metadata": {},
   "outputs": [
    {
     "data": {
      "text/plain": [
       "\"Blue\""
      ]
     },
     "metadata": {},
     "output_type": "display_data"
    }
   ],
   "source": [
    "Details[3]"
   ]
  },
  {
   "cell_type": "markdown",
   "metadata": {},
   "source": [
    "## Exercise 3\n",
    "\n",
    "Create a dictionary with keys as country names and values as their capitals. Add at least 5 countries. Print the dictionary keys and values separately. Write a country name as a variable and print the country and it's capital together. Your code should print \"not found\" if the country is not among the keys of the dictionary."
   ]
  },
  {
   "cell_type": "code",
   "execution_count": 8,
   "metadata": {},
   "outputs": [
    {
     "data": {
      "text/plain": [
       "Dict{String, String} with 6 entries:\n",
       "  \"Ghana\"   => \"Acdra\"\n",
       "  \"Ethopia\" => \"Addis Ababa\"\n",
       "  \"Senegal\" => \"Darka\"\n",
       "  \"Algeria\" => \"Algiers\"\n",
       "  \"Nigeria\" => \"Abuja\"\n",
       "  \"Egypt\"   => \"Cairo\""
      ]
     },
     "metadata": {},
     "output_type": "display_data"
    }
   ],
   "source": [
    "Country = Dict(\"Nigeria\" => \"Abuja\", \"Ethopia\" => \"Addis Ababa\", \"Ghana\" => \"Acdra\", \"Algeria\" => \"Algiers\", \"Egypt\" => \"Cairo\", \"Senegal\" => \"Darka\")"
   ]
  },
  {
   "cell_type": "code",
   "execution_count": 10,
   "metadata": {},
   "outputs": [
    {
     "data": {
      "text/plain": [
       "KeySet for a Dict{String, String} with 6 entries. Keys:\n",
       "  \"Ghana\"\n",
       "  \"Ethopia\"\n",
       "  \"Senegal\"\n",
       "  \"Algeria\"\n",
       "  \"Nigeria\"\n",
       "  \"Egypt\""
      ]
     },
     "metadata": {},
     "output_type": "display_data"
    }
   ],
   "source": [
    "# Country[\"Nigeria\"]\n",
    "\n",
    "keys(Country)"
   ]
  },
  {
   "cell_type": "code",
   "execution_count": 11,
   "metadata": {},
   "outputs": [
    {
     "data": {
      "text/plain": [
       "ValueIterator for a Dict{String, String} with 6 entries. Values:\n",
       "  \"Acdra\"\n",
       "  \"Addis Ababa\"\n",
       "  \"Darka\"\n",
       "  \"Algiers\"\n",
       "  \"Abuja\"\n",
       "  \"Cairo\""
      ]
     },
     "metadata": {},
     "output_type": "display_data"
    }
   ],
   "source": [
    "values(Country)"
   ]
  },
  {
   "cell_type": "code",
   "execution_count": 14,
   "metadata": {},
   "outputs": [
    {
     "data": {
      "text/plain": [
       "\"Abuja\""
      ]
     },
     "metadata": {},
     "output_type": "display_data"
    }
   ],
   "source": [
    "get(Country, \"Nigeria\", \"Not Found\")"
   ]
  },
  {
   "cell_type": "markdown",
   "metadata": {},
   "source": [
    "## Exercise 4\n",
    "\n",
    "Create an array with 10 random integers between 1 and 100. Print the array. Find all elements divisible by 5 and print them."
   ]
  },
  {
   "cell_type": "code",
   "execution_count": 39,
   "metadata": {},
   "outputs": [],
   "source": [
    "# Score = {Int64}(1:100, 10)\n",
    "# Score = Array{Int64, 10}(1:100, 10)\n",
    "Arr = rand(1:60, 10);"
   ]
  },
  {
   "cell_type": "code",
   "execution_count": 40,
   "metadata": {},
   "outputs": [
    {
     "name": "stdout",
     "output_type": "stream",
     "text": [
      "[17, 49, 52, 20, 60, 53, 14, 26, 49, 6]"
     ]
    }
   ],
   "source": [
    "print(Arr)"
   ]
  },
  {
   "cell_type": "code",
   "execution_count": 41,
   "metadata": {},
   "outputs": [
    {
     "data": {
      "text/plain": [
       "10-element Vector{Int64}:\n",
       " 2\n",
       " 4\n",
       " 2\n",
       " 0\n",
       " 0\n",
       " 3\n",
       " 4\n",
       " 1\n",
       " 4\n",
       " 1"
      ]
     },
     "metadata": {},
     "output_type": "display_data"
    }
   ],
   "source": [
    "Arr .% 5"
   ]
  },
  {
   "cell_type": "markdown",
   "metadata": {},
   "source": [
    "## Exercise 5\n",
    "\n",
    "Generate a 5x5 matrix with values from 1 to 25. Print the matrix. Extract and print the diagonals. Find the sum of the matrix."
   ]
  },
  {
   "cell_type": "code",
   "execution_count": 9,
   "metadata": {},
   "outputs": [
    {
     "data": {
      "text/plain": [
       "5×5 Matrix{Int64}:\n",
       "  1   5  11  14  15\n",
       "  1  21  23  16  16\n",
       "  2   9  22  13  17\n",
       " 23  24  21  19  16\n",
       " 10  25  15   1  25"
      ]
     },
     "metadata": {},
     "output_type": "display_data"
    }
   ],
   "source": [
    "Mat1 = rand(1:25, (5,5))"
   ]
  },
  {
   "cell_type": "code",
   "execution_count": 10,
   "metadata": {},
   "outputs": [
    {
     "data": {
      "text/plain": [
       "5×5 Diagonal{Bool, Vector{Bool}}:\n",
       " 1  ⋅  ⋅  ⋅  ⋅\n",
       " ⋅  1  ⋅  ⋅  ⋅\n",
       " ⋅  ⋅  1  ⋅  ⋅\n",
       " ⋅  ⋅  ⋅  1  ⋅\n",
       " ⋅  ⋅  ⋅  ⋅  1"
      ]
     },
     "metadata": {},
     "output_type": "display_data"
    }
   ],
   "source": [
    "using LinearAlgebra \n",
    "\n",
    "idnt = I(5)"
   ]
  },
  {
   "cell_type": "code",
   "execution_count": 17,
   "metadata": {},
   "outputs": [
    {
     "data": {
      "text/plain": [
       "5×5 Matrix{Int64}:\n",
       " 1   0   0   0   0\n",
       " 0  21   0   0   0\n",
       " 0   0  22   0   0\n",
       " 0   0   0  19   0\n",
       " 0   0   0   0  25"
      ]
     },
     "metadata": {},
     "output_type": "display_data"
    }
   ],
   "source": [
    "Mat2 = Mat1 .* idnt"
   ]
  },
  {
   "cell_type": "code",
   "execution_count": 18,
   "metadata": {},
   "outputs": [
    {
     "data": {
      "text/plain": [
       "5-element Vector{Int64}:\n",
       "  1\n",
       " 21\n",
       " 22\n",
       " 19\n",
       " 25"
      ]
     },
     "metadata": {},
     "output_type": "display_data"
    }
   ],
   "source": [
    "diag(Mat2)"
   ]
  },
  {
   "cell_type": "code",
   "execution_count": 19,
   "metadata": {},
   "outputs": [
    {
     "data": {
      "text/plain": [
       "88"
      ]
     },
     "metadata": {},
     "output_type": "display_data"
    }
   ],
   "source": [
    "sum(Mat2)"
   ]
  },
  {
   "cell_type": "markdown",
   "metadata": {},
   "source": [
    "## Exercise 6\n",
    "\n",
    "Create a 3D array with 2 layers, each layer a 4x4 matrix with integer values. Print the size. Extract and print one value from the second layer."
   ]
  },
  {
   "cell_type": "code",
   "execution_count": 20,
   "metadata": {},
   "outputs": [
    {
     "ename": "MethodError",
     "evalue": "MethodError: no method matching (Matrix)(::UnitRange{Int64}, ::Tuple{Int64, Int64, Int64})\n\nClosest candidates are:\n  (Array{T, N} where T)(::AbstractArray{S, N}) where {S, N}\n   @ Core boot.jl:498\n",
     "output_type": "error",
     "traceback": [
      "MethodError: no method matching (Matrix)(::UnitRange{Int64}, ::Tuple{Int64, Int64, Int64})\n",
      "\n",
      "Closest candidates are:\n",
      "  (Array{T, N} where T)(::AbstractArray{S, N}) where {S, N}\n",
      "   @ Core boot.jl:498\n",
      "\n",
      "\n",
      "Stacktrace:\n",
      " [1] top-level scope\n",
      "   @ ~/Desktop/OS-SIM/Julia Learn/Learning Materials/Julia/Julia_learn/Julia Learn/DataStructures/Exercise.ipynb:1"
     ]
    }
   ],
   "source": [
    "Mat3 = Matrix(1:60, (4,3,2))"
   ]
  },
  {
   "cell_type": "code",
   "execution_count": null,
   "metadata": {},
   "outputs": [],
   "source": []
  }
 ],
 "metadata": {
  "kernelspec": {
   "display_name": "Julia 1.10.2",
   "language": "julia",
   "name": "julia-1.10"
  },
  "language_info": {
   "file_extension": ".jl",
   "mimetype": "application/julia",
   "name": "julia",
   "version": "1.10.2"
  }
 },
 "nbformat": 4,
 "nbformat_minor": 2
}
