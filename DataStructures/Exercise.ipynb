{
 "cells": [
  {
   "cell_type": "markdown",
   "metadata": {
    "vscode": {
     "languageId": "julia"
    }
   },
   "source": [
    "## Exercise 1\n",
    "Calculate the optimum beta = (X'X)^-1X'y\n"
   ]
  },
  {
   "cell_type": "code",
   "execution_count": 48,
   "metadata": {},
   "outputs": [
    {
     "data": {
      "text/plain": [
       "100×3 Matrix{Float64}:\n",
       " 0.143318    0.143791  0.825903\n",
       " 0.843689    0.366125  0.602324\n",
       " 0.470805    0.354731  0.341542\n",
       " 0.128761    0.667092  0.123801\n",
       " 0.246463    0.76883   0.493734\n",
       " 0.0429528   0.151752  0.455854\n",
       " 0.489084    0.319283  0.727359\n",
       " 0.779548    0.720568  0.49204\n",
       " 0.00886793  0.511158  0.270547\n",
       " 0.675857    0.96161   0.923728\n",
       " ⋮                     \n",
       " 0.505853    0.342105  0.705128\n",
       " 0.693485    0.693084  0.199086\n",
       " 0.272465    0.150829  0.424615\n",
       " 0.280768    0.786311  0.543815\n",
       " 0.475668    0.869285  0.555805\n",
       " 0.970203    0.143846  0.0865903\n",
       " 0.846267    0.812023  0.33992\n",
       " 0.587369    0.259444  0.83901\n",
       " 0.140629    0.182501  0.620778"
      ]
     },
     "metadata": {},
     "output_type": "display_data"
    }
   ],
   "source": [
    "X = rand(Float64, (100, 3))"
   ]
  },
  {
   "cell_type": "code",
   "execution_count": 49,
   "metadata": {},
   "outputs": [
    {
     "data": {
      "text/plain": [
       "100-element Vector{Float64}:\n",
       " 0.4539486251093585\n",
       " 0.14455396117680042\n",
       " 0.6776928454024328\n",
       " 0.5706711989609492\n",
       " 0.38721888381376135\n",
       " 0.08258486451299762\n",
       " 0.32006383128033733\n",
       " 0.6542087531925711\n",
       " 0.6754743097594118\n",
       " 0.6020584944191777\n",
       " ⋮\n",
       " 0.9188284497561784\n",
       " 0.7285660819053713\n",
       " 0.45413834802113895\n",
       " 0.016508492118265883\n",
       " 0.9054445793433935\n",
       " 0.44109659794635125\n",
       " 0.3608045675321433\n",
       " 0.44348454510603885\n",
       " 0.9916126513378248"
      ]
     },
     "metadata": {},
     "output_type": "display_data"
    }
   ],
   "source": [
    "y = rand(100)"
   ]
  },
  {
   "cell_type": "code",
   "execution_count": 83,
   "metadata": {},
   "outputs": [],
   "source": [
    "# β = (X'X)^-1X'y"
   ]
  },
  {
   "cell_type": "markdown",
   "metadata": {},
   "source": [
    "## Exercise 2 \n",
    "\n",
    "Create a tuple with your name, age, favorite color, and favorite food. Print the tuple. Extract and print just the name and favorite color."
   ]
  },
  {
   "cell_type": "code",
   "execution_count": 51,
   "metadata": {},
   "outputs": [
    {
     "data": {
      "text/plain": [
       "(Name = \"Adedeji Goodness\", Age = 26, Favourite_color = \"Blue\", Favourite_food = \"Swalow\")"
      ]
     },
     "metadata": {},
     "output_type": "display_data"
    }
   ],
   "source": [
    "Details = (Name = \"Adedeji Goodness\", Age = 26, Favourite_color = \"Blue\", Favourite_food = \"Swalow\")"
   ]
  },
  {
   "cell_type": "code",
   "execution_count": 52,
   "metadata": {},
   "outputs": [
    {
     "data": {
      "text/plain": [
       "\"Adedeji Goodness\""
      ]
     },
     "metadata": {},
     "output_type": "display_data"
    }
   ],
   "source": [
    "Details[1]"
   ]
  },
  {
   "cell_type": "code",
   "execution_count": 53,
   "metadata": {},
   "outputs": [
    {
     "data": {
      "text/plain": [
       "\"Blue\""
      ]
     },
     "metadata": {},
     "output_type": "display_data"
    }
   ],
   "source": [
    "Details[3]"
   ]
  },
  {
   "cell_type": "markdown",
   "metadata": {},
   "source": [
    "## Exercise 3\n",
    "\n",
    "Create a dictionary with keys as country names and values as their capitals. Add at least 5 countries. Print the dictionary keys and values separately. Write a country name as a variable and print the country and it's capital together. Your code should print \"not found\" if the country is not among the keys of the dictionary."
   ]
  },
  {
   "cell_type": "code",
   "execution_count": 54,
   "metadata": {},
   "outputs": [
    {
     "data": {
      "text/plain": [
       "Dict{String, String} with 6 entries:\n",
       "  \"Ghana\"   => \"Acdra\"\n",
       "  \"Ethopia\" => \"Addis Ababa\"\n",
       "  \"Senegal\" => \"Darka\"\n",
       "  \"Algeria\" => \"Algiers\"\n",
       "  \"Nigeria\" => \"Abuja\"\n",
       "  \"Egypt\"   => \"Cairo\""
      ]
     },
     "metadata": {},
     "output_type": "display_data"
    }
   ],
   "source": [
    "Country = Dict(\"Nigeria\" => \"Abuja\", \"Ethopia\" => \"Addis Ababa\", \"Ghana\" => \"Acdra\", \"Algeria\" => \"Algiers\", \"Egypt\" => \"Cairo\", \"Senegal\" => \"Darka\")"
   ]
  },
  {
   "cell_type": "code",
   "execution_count": 55,
   "metadata": {},
   "outputs": [
    {
     "data": {
      "text/plain": [
       "KeySet for a Dict{String, String} with 6 entries. Keys:\n",
       "  \"Ghana\"\n",
       "  \"Ethopia\"\n",
       "  \"Senegal\"\n",
       "  \"Algeria\"\n",
       "  \"Nigeria\"\n",
       "  \"Egypt\""
      ]
     },
     "metadata": {},
     "output_type": "display_data"
    }
   ],
   "source": [
    "# Country[\"Nigeria\"]\n",
    "\n",
    "keys(Country)"
   ]
  },
  {
   "cell_type": "code",
   "execution_count": 56,
   "metadata": {},
   "outputs": [
    {
     "data": {
      "text/plain": [
       "ValueIterator for a Dict{String, String} with 6 entries. Values:\n",
       "  \"Acdra\"\n",
       "  \"Addis Ababa\"\n",
       "  \"Darka\"\n",
       "  \"Algiers\"\n",
       "  \"Abuja\"\n",
       "  \"Cairo\""
      ]
     },
     "metadata": {},
     "output_type": "display_data"
    }
   ],
   "source": [
    "values(Country)"
   ]
  },
  {
   "cell_type": "code",
   "execution_count": 57,
   "metadata": {},
   "outputs": [
    {
     "data": {
      "text/plain": [
       "\"Abuja\""
      ]
     },
     "metadata": {},
     "output_type": "display_data"
    }
   ],
   "source": [
    "get(Country, \"Nigeria\", \"Not Found\")"
   ]
  },
  {
   "cell_type": "markdown",
   "metadata": {},
   "source": [
    "## Exercise 4\n",
    "\n",
    "Create an array with 10 random integers between 1 and 100. Print the array. Find all elements divisible by 5 and print them."
   ]
  },
  {
   "cell_type": "code",
   "execution_count": 58,
   "metadata": {},
   "outputs": [],
   "source": [
    "# Score = {Int64}(1:100, 10)\n",
    "# Score = Array{Int64, 10}(1:100, 10)\n",
    "Arr = rand(1:60, 10);"
   ]
  },
  {
   "cell_type": "code",
   "execution_count": 59,
   "metadata": {},
   "outputs": [
    {
     "name": "stdout",
     "output_type": "stream",
     "text": [
      "[31, 27, 55, 22, 28, 51, 21, 7, 58, 25]"
     ]
    }
   ],
   "source": [
    "print(Arr)"
   ]
  },
  {
   "cell_type": "code",
   "execution_count": 60,
   "metadata": {},
   "outputs": [
    {
     "data": {
      "text/plain": [
       "10-element Vector{Int64}:\n",
       " 1\n",
       " 2\n",
       " 0\n",
       " 2\n",
       " 3\n",
       " 1\n",
       " 1\n",
       " 2\n",
       " 3\n",
       " 0"
      ]
     },
     "metadata": {},
     "output_type": "display_data"
    }
   ],
   "source": [
    "Arr .% 5"
   ]
  },
  {
   "cell_type": "markdown",
   "metadata": {},
   "source": [
    "## Exercise 5\n",
    "\n",
    "Generate a 5x5 matrix with values from 1 to 25. Print the matrix. Extract and print the diagonals. Find the sum of the matrix."
   ]
  },
  {
   "cell_type": "code",
   "execution_count": 61,
   "metadata": {},
   "outputs": [
    {
     "data": {
      "text/plain": [
       "5×5 Matrix{Int64}:\n",
       " 20  12  19   5  17\n",
       " 23  19   6  18   7\n",
       "  5   6  12   4   3\n",
       "  5   9  18  11  19\n",
       " 23   3  18   3  25"
      ]
     },
     "metadata": {},
     "output_type": "display_data"
    }
   ],
   "source": [
    "Mat1 = rand(1:25, (5,5))"
   ]
  },
  {
   "cell_type": "code",
   "execution_count": 62,
   "metadata": {},
   "outputs": [
    {
     "data": {
      "text/plain": [
       "5×5 Diagonal{Bool, Vector{Bool}}:\n",
       " 1  ⋅  ⋅  ⋅  ⋅\n",
       " ⋅  1  ⋅  ⋅  ⋅\n",
       " ⋅  ⋅  1  ⋅  ⋅\n",
       " ⋅  ⋅  ⋅  1  ⋅\n",
       " ⋅  ⋅  ⋅  ⋅  1"
      ]
     },
     "metadata": {},
     "output_type": "display_data"
    }
   ],
   "source": [
    "using LinearAlgebra \n",
    "\n",
    "idnt = I(5)"
   ]
  },
  {
   "cell_type": "code",
   "execution_count": 63,
   "metadata": {},
   "outputs": [
    {
     "data": {
      "text/plain": [
       "5×5 Matrix{Int64}:\n",
       " 20   0   0   0   0\n",
       "  0  19   0   0   0\n",
       "  0   0  12   0   0\n",
       "  0   0   0  11   0\n",
       "  0   0   0   0  25"
      ]
     },
     "metadata": {},
     "output_type": "display_data"
    }
   ],
   "source": [
    "Mat2 = Mat1 .* idnt"
   ]
  },
  {
   "cell_type": "code",
   "execution_count": 64,
   "metadata": {},
   "outputs": [
    {
     "data": {
      "text/plain": [
       "5-element Vector{Int64}:\n",
       " 20\n",
       " 19\n",
       " 12\n",
       " 11\n",
       " 25"
      ]
     },
     "metadata": {},
     "output_type": "display_data"
    }
   ],
   "source": [
    "diag(Mat2)"
   ]
  },
  {
   "cell_type": "code",
   "execution_count": 65,
   "metadata": {},
   "outputs": [
    {
     "data": {
      "text/plain": [
       "87"
      ]
     },
     "metadata": {},
     "output_type": "display_data"
    }
   ],
   "source": [
    "sum(Mat2)"
   ]
  },
  {
   "cell_type": "markdown",
   "metadata": {},
   "source": [
    "## Exercise 6\n",
    "\n",
    "Create a 3D array with 2 layers, each layer a 4x4 matrix with integer values. Print the size. Extract and print one value from the second layer."
   ]
  },
  {
   "cell_type": "code",
   "execution_count": 66,
   "metadata": {},
   "outputs": [
    {
     "data": {
      "text/plain": [
       "4×4×2 Array{Int64, 3}:\n",
       "[:, :, 1] =\n",
       " 1  5   9  13\n",
       " 2  6  10  14\n",
       " 3  7  11  15\n",
       " 4  8  12  16\n",
       "\n",
       "[:, :, 2] =\n",
       " 17  21  25  29\n",
       " 18  22  26  30\n",
       " 19  23  27  31\n",
       " 20  24  28  32"
      ]
     },
     "metadata": {},
     "output_type": "display_data"
    }
   ],
   "source": [
    "Mat3 = reshape(Vector(1:32), (4, 4, 2))"
   ]
  },
  {
   "cell_type": "code",
   "execution_count": 67,
   "metadata": {},
   "outputs": [
    {
     "data": {
      "text/plain": [
       "(4, 4, 2)"
      ]
     },
     "metadata": {},
     "output_type": "display_data"
    }
   ],
   "source": [
    "size(Mat3)"
   ]
  },
  {
   "cell_type": "code",
   "execution_count": 68,
   "metadata": {},
   "outputs": [
    {
     "data": {
      "text/plain": [
       "27"
      ]
     },
     "metadata": {},
     "output_type": "display_data"
    }
   ],
   "source": [
    "Mat3[3, 3, 2]"
   ]
  },
  {
   "cell_type": "markdown",
   "metadata": {},
   "source": [
    "## Exercise 7\n",
    "\n",
    "Convert the array [1, 2, 2, 3, 4, 5] to a set to get unique elements. Take the union and intersection of this set and set([3, 5, 7])."
   ]
  },
  {
   "cell_type": "code",
   "execution_count": 69,
   "metadata": {},
   "outputs": [
    {
     "data": {
      "text/plain": [
       "6-element Vector{Int64}:\n",
       " 1\n",
       " 2\n",
       " 2\n",
       " 3\n",
       " 4\n",
       " 5"
      ]
     },
     "metadata": {},
     "output_type": "display_data"
    }
   ],
   "source": [
    "Arr2 = [1, 2, 2, 3, 4, 5]"
   ]
  },
  {
   "cell_type": "code",
   "execution_count": 70,
   "metadata": {},
   "outputs": [
    {
     "data": {
      "text/plain": [
       "Set{Int64} with 5 elements:\n",
       "  5\n",
       "  4\n",
       "  2\n",
       "  3\n",
       "  1"
      ]
     },
     "metadata": {},
     "output_type": "display_data"
    }
   ],
   "source": [
    "set1 = Set(Arr2)"
   ]
  },
  {
   "cell_type": "code",
   "execution_count": 71,
   "metadata": {},
   "outputs": [
    {
     "data": {
      "text/plain": [
       "3-element Vector{Int64}:\n",
       " 3\n",
       " 5\n",
       " 7"
      ]
     },
     "metadata": {},
     "output_type": "display_data"
    }
   ],
   "source": [
    "set2 = [3, 5, 7]"
   ]
  },
  {
   "cell_type": "code",
   "execution_count": 72,
   "metadata": {},
   "outputs": [
    {
     "data": {
      "text/plain": [
       "Set{Int64} with 6 elements:\n",
       "  5\n",
       "  4\n",
       "  7\n",
       "  2\n",
       "  3\n",
       "  1"
      ]
     },
     "metadata": {},
     "output_type": "display_data"
    }
   ],
   "source": [
    "union(set1, set2)"
   ]
  },
  {
   "cell_type": "markdown",
   "metadata": {},
   "source": [
    "## Exercise 8 \n",
    "\n",
    "Define a 3x3 matrix. Find its transpose, determinant and inverse. Multiply the matrix with its inverse and print the result."
   ]
  },
  {
   "cell_type": "code",
   "execution_count": 73,
   "metadata": {},
   "outputs": [
    {
     "data": {
      "text/plain": [
       "3×3 Matrix{Int64}:\n",
       " 7  2  1\n",
       " 6  9  1\n",
       " 6  5  1"
      ]
     },
     "metadata": {},
     "output_type": "display_data"
    }
   ],
   "source": [
    "Mat4 = rand(1:10, 3, 3)"
   ]
  },
  {
   "cell_type": "code",
   "execution_count": 74,
   "metadata": {},
   "outputs": [
    {
     "data": {
      "text/plain": [
       "3×3 transpose(::Matrix{Int64}) with eltype Int64:\n",
       " 7  6  6\n",
       " 2  9  5\n",
       " 1  1  1"
      ]
     },
     "metadata": {},
     "output_type": "display_data"
    }
   ],
   "source": [
    "transpose(Mat4)"
   ]
  },
  {
   "cell_type": "code",
   "execution_count": 75,
   "metadata": {},
   "outputs": [
    {
     "data": {
      "text/plain": [
       "4.000000000000003"
      ]
     },
     "metadata": {},
     "output_type": "display_data"
    }
   ],
   "source": [
    "det(Mat4)"
   ]
  },
  {
   "cell_type": "code",
   "execution_count": 77,
   "metadata": {},
   "outputs": [
    {
     "data": {
      "text/plain": [
       "17"
      ]
     },
     "metadata": {},
     "output_type": "display_data"
    }
   ],
   "source": [
    "tr(Mat4)"
   ]
  },
  {
   "cell_type": "code",
   "execution_count": 80,
   "metadata": {},
   "outputs": [
    {
     "data": {
      "text/plain": [
       "3×3 Matrix{Float64}:\n",
       "  1.0           0.75  -1.75\n",
       " -5.55112e-17   0.25  -0.25\n",
       " -6.0          -5.75  12.75"
      ]
     },
     "metadata": {},
     "output_type": "display_data"
    }
   ],
   "source": [
    "Invmat = inv(Mat4)"
   ]
  },
  {
   "cell_type": "code",
   "execution_count": 81,
   "metadata": {},
   "outputs": [
    {
     "data": {
      "text/plain": [
       "3×3 Matrix{Float64}:\n",
       "  1.0          0.0   0.0\n",
       " -8.88178e-16  1.0  -1.77636e-15\n",
       "  0.0          0.0   1.0"
      ]
     },
     "metadata": {},
     "output_type": "display_data"
    }
   ],
   "source": [
    "Mat4 * Invmat"
   ]
  },
  {
   "cell_type": "code",
   "execution_count": 82,
   "metadata": {},
   "outputs": [],
   "source": []
  }
 ],
 "metadata": {
  "kernelspec": {
   "display_name": "Julia 1.10.2",
   "language": "julia",
   "name": "julia-1.10"
  },
  "language_info": {
   "file_extension": ".jl",
   "mimetype": "application/julia",
   "name": "julia",
   "version": "1.10.2"
  }
 },
 "nbformat": 4,
 "nbformat_minor": 2
}
