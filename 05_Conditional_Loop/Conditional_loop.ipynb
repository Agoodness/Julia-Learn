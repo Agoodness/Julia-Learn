{
 "cells": [
  {
   "cell_type": "code",
   "execution_count": 1,
   "metadata": {},
   "outputs": [
    {
     "name": "stdout",
     "output_type": "stream",
     "text": [
      "passed\n"
     ]
    }
   ],
   "source": [
    "score = 70\n",
    "\n",
    "if score > 60\n",
    "    println(\"passed\")\n",
    "end"
   ]
  },
  {
   "cell_type": "code",
   "execution_count": 4,
   "metadata": {},
   "outputs": [
    {
     "name": "stdout",
     "output_type": "stream",
     "text": [
      "I'm sorry, you failed\n"
     ]
    }
   ],
   "source": [
    "score = 34\n",
    "\n",
    "if score > 60 \n",
    "    println(\"Congratulation, you passed\")\n",
    "else\n",
    "    println(\"I'm sorry, you failed\")\n",
    "end "
   ]
  },
  {
   "cell_type": "code",
   "execution_count": 7,
   "metadata": {},
   "outputs": [
    {
     "name": "stdout",
     "output_type": "stream",
     "text": [
      "Your grade is B\n"
     ]
    }
   ],
   "source": [
    "score = 70\n",
    "if score ≥ 85\n",
    "    println(\"Your grade is A\")\n",
    "else\n",
    "    if score ≥ 70 \n",
    "        println(\"Your grade is B\")\n",
    "    else\n",
    "        if score ≥ 60 \n",
    "            println(\"Your grade is C\")\n",
    "        else\n",
    "            println(\"Your score is F\")\n",
    "        end \n",
    "    end \n",
    "end \n"
   ]
  },
  {
   "cell_type": "code",
   "execution_count": 9,
   "metadata": {},
   "outputs": [
    {
     "name": "stdout",
     "output_type": "stream",
     "text": [
      "Your score is F\n"
     ]
    }
   ],
   "source": [
    "score = 45\n",
    "if score ≥ 85\n",
    "    println(\"Your grade is A\")\n",
    "elseif score ≥ 70 \n",
    "        println(\"Your grade is B\")\n",
    "elseif score ≥ 60 \n",
    "            println(\"Your grade is C\")\n",
    "else\n",
    "            println(\"Your score is F\")\n",
    " end "
   ]
  },
  {
   "cell_type": "code",
   "execution_count": 1,
   "metadata": {},
   "outputs": [],
   "source": [
    "# if score ≥ 85 && score < 100\n",
    "\n",
    "# if 85 ≤ score < 100 \n",
    "\n",
    "# There is a short cut for conditional operators"
   ]
  },
  {
   "cell_type": "code",
   "execution_count": 3,
   "metadata": {},
   "outputs": [
    {
     "data": {
      "text/plain": [
       "\"passed\""
      ]
     },
     "metadata": {},
     "output_type": "display_data"
    }
   ],
   "source": [
    "score = 70 \n",
    "score > 50 ? \"passed\" : \"Failed\"\n",
    "\n",
    "# (Condition) ? (if true) : (if false)"
   ]
  },
  {
   "cell_type": "code",
   "execution_count": 5,
   "metadata": {},
   "outputs": [
    {
     "data": {
      "text/plain": [
       "\"Grade C\""
      ]
     },
     "metadata": {},
     "output_type": "display_data"
    }
   ],
   "source": [
    "score = 55;\n",
    "score > 85 ? \"Grade A\" : score > 60 ? \"Grade: B\" : \"Grade C\""
   ]
  },
  {
   "cell_type": "code",
   "execution_count": null,
   "metadata": {},
   "outputs": [],
   "source": []
  }
 ],
 "metadata": {
  "kernelspec": {
   "display_name": "Julia 1.10.2",
   "language": "julia",
   "name": "julia-1.10"
  },
  "language_info": {
   "file_extension": ".jl",
   "mimetype": "application/julia",
   "name": "julia",
   "version": "1.10.2"
  }
 },
 "nbformat": 4,
 "nbformat_minor": 2
}
