{
 "cells": [
  {
   "cell_type": "code",
   "execution_count": 5,
   "metadata": {},
   "outputs": [
    {
     "name": "stdout",
     "output_type": "stream",
     "text": [
      "[25, 64, 144, 289, 576, 1225]\n"
     ]
    }
   ],
   "source": [
    "arr = [5, 8, 12, 17, 24, 35]\n",
    "sqarr = Int64[]\n",
    "\n",
    "for el in arr \n",
    "    append!(sqarr, el^2)\n",
    "end\n",
    "println(sqarr)"
   ]
  },
  {
   "cell_type": "code",
   "execution_count": 6,
   "metadata": {},
   "outputs": [
    {
     "name": "stdout",
     "output_type": "stream",
     "text": [
      "[25, 64, 144, 289, 576, 1225]\n"
     ]
    }
   ],
   "source": [
    "sqarr = map(x -> x^2, arr);\n",
    "println(sqarr)"
   ]
  },
  {
   "cell_type": "code",
   "execution_count": 7,
   "metadata": {},
   "outputs": [
    {
     "data": {
      "text/plain": [
       "6-element Vector{Int64}:\n",
       "   25\n",
       "   64\n",
       "  144\n",
       "  289\n",
       "  576\n",
       " 1225"
      ]
     },
     "metadata": {},
     "output_type": "display_data"
    }
   ],
   "source": [
    "broadcast(x -> x^2, arr)"
   ]
  },
  {
   "cell_type": "code",
   "execution_count": 8,
   "metadata": {},
   "outputs": [
    {
     "data": {
      "text/plain": [
       "5-element Vector{Int64}:\n",
       " 10\n",
       " 20\n",
       " 30\n",
       " 40\n",
       " 50"
      ]
     },
     "metadata": {},
     "output_type": "display_data"
    }
   ],
   "source": [
    "rowvec = [1 2 3 4 5]\n",
    "colvec = [10, 20, 30, 40, 50]"
   ]
  },
  {
   "cell_type": "code",
   "execution_count": 9,
   "metadata": {},
   "outputs": [
    {
     "data": {
      "text/plain": [
       "5-element Vector{Int64}:\n",
       " 11\n",
       " 22\n",
       " 33\n",
       " 44\n",
       " 55"
      ]
     },
     "metadata": {},
     "output_type": "display_data"
    }
   ],
   "source": [
    "map(+, rowvec, colvec)"
   ]
  },
  {
   "cell_type": "code",
   "execution_count": 10,
   "metadata": {},
   "outputs": [
    {
     "data": {
      "text/plain": [
       "5×5 Matrix{Int64}:\n",
       " 11  12  13  14  15\n",
       " 21  22  23  24  25\n",
       " 31  32  33  34  35\n",
       " 41  42  43  44  45\n",
       " 51  52  53  54  55"
      ]
     },
     "metadata": {},
     "output_type": "display_data"
    }
   ],
   "source": [
    "rowvec .+ colvec "
   ]
  },
  {
   "cell_type": "code",
   "execution_count": 11,
   "metadata": {},
   "outputs": [
    {
     "data": {
      "text/plain": [
       "101"
      ]
     },
     "metadata": {},
     "output_type": "display_data"
    }
   ],
   "source": [
    "reduce(+, arr)"
   ]
  },
  {
   "cell_type": "code",
   "execution_count": 12,
   "metadata": {},
   "outputs": [
    {
     "data": {
      "text/plain": [
       "2323"
      ]
     },
     "metadata": {},
     "output_type": "display_data"
    }
   ],
   "source": [
    "sqarr = map(x -> x^2, arr)\n",
    "sumsqr = reduce(+, sqarr)"
   ]
  },
  {
   "cell_type": "code",
   "execution_count": 13,
   "metadata": {},
   "outputs": [
    {
     "data": {
      "text/plain": [
       "2323"
      ]
     },
     "metadata": {},
     "output_type": "display_data"
    }
   ],
   "source": [
    "mapreduce(x -> x^2, +, arr)"
   ]
  },
  {
   "cell_type": "code",
   "execution_count": 14,
   "metadata": {},
   "outputs": [
    {
     "data": {
      "text/plain": [
       "3-element Vector{Int64}:\n",
       "  8\n",
       " 12\n",
       " 24"
      ]
     },
     "metadata": {},
     "output_type": "display_data"
    }
   ],
   "source": [
    "filter(x -> x % 4 == 0, arr)"
   ]
  },
  {
   "cell_type": "code",
   "execution_count": 15,
   "metadata": {},
   "outputs": [],
   "source": [
    "struct Course\n",
    "    subject::Symbol\n",
    "    field::Symbol\n",
    "    ncourses::Int\n",
    "    nstudents::Int # Average number of students in a course\n",
    "end"
   ]
  },
  {
   "cell_type": "code",
   "execution_count": 16,
   "metadata": {},
   "outputs": [
    {
     "data": {
      "text/plain": [
       "5-element Vector{Course}:\n",
       " Course(:Julia, :Programming, 10, 250)\n",
       " Course(:Python, :Programming, 50, 750)\n",
       " Course(:Mathematics, :Science, 30, 100)\n",
       " Course(:physics, :Science, 45, 3000)\n",
       " Course(:R, :Programming, 35, 300)"
      ]
     },
     "metadata": {},
     "output_type": "display_data"
    }
   ],
   "source": [
    "coursedata = [Course(:Julia, :Programming, 10, 250), Course(:Python, :Programming, 50, 750),\n",
    "                Course(:Mathematics, :Science, 30, 100), Course(:physics, :Science, 45, 3000),\n",
    "                Course(:R, :Programming, 35, 300)]"
   ]
  },
  {
   "cell_type": "code",
   "execution_count": 17,
   "metadata": {},
   "outputs": [
    {
     "data": {
      "text/plain": [
       "3-element Vector{Course}:\n",
       " Course(:Julia, :Programming, 10, 250)\n",
       " Course(:Python, :Programming, 50, 750)\n",
       " Course(:R, :Programming, 35, 300)"
      ]
     },
     "metadata": {},
     "output_type": "display_data"
    }
   ],
   "source": [
    "nprogramming = filter(x -> x.field === :Programming, coursedata)"
   ]
  },
  {
   "cell_type": "code",
   "execution_count": 18,
   "metadata": {},
   "outputs": [
    {
     "data": {
      "text/plain": [
       "3-element Vector{Int64}:\n",
       "  2500\n",
       " 37500\n",
       " 10500"
      ]
     },
     "metadata": {},
     "output_type": "display_data"
    }
   ],
   "source": [
    "nstudents = map(x -> x.ncourses * x.nstudents, nprogramming)"
   ]
  },
  {
   "cell_type": "code",
   "execution_count": 19,
   "metadata": {},
   "outputs": [
    {
     "data": {
      "text/plain": [
       "50500"
      ]
     },
     "metadata": {},
     "output_type": "display_data"
    }
   ],
   "source": [
    "totalstudents = reduce(+, nstudents)"
   ]
  },
  {
   "cell_type": "code",
   "execution_count": 20,
   "metadata": {},
   "outputs": [
    {
     "data": {
      "text/plain": [
       "nfield (generic function with 1 method)"
      ]
     },
     "metadata": {},
     "output_type": "display_data"
    }
   ],
   "source": [
    "function nfield(data, field)\n",
    "    f = filter(x -> x.field === Symbol(field), data)\n",
    "    s = mapreduce(x -> x.ncourses * x.nstudents, +, f)\n",
    "    return s\n",
    "end"
   ]
  },
  {
   "cell_type": "code",
   "execution_count": 21,
   "metadata": {},
   "outputs": [
    {
     "data": {
      "text/plain": [
       "50500"
      ]
     },
     "metadata": {},
     "output_type": "display_data"
    }
   ],
   "source": [
    "nfield(coursedata, \"Programming\")"
   ]
  },
  {
   "cell_type": "code",
   "execution_count": 22,
   "metadata": {},
   "outputs": [
    {
     "data": {
      "text/plain": [
       "138000"
      ]
     },
     "metadata": {},
     "output_type": "display_data"
    }
   ],
   "source": [
    "nfield(coursedata, \"Science\")"
   ]
  },
  {
   "cell_type": "code",
   "execution_count": 23,
   "metadata": {},
   "outputs": [
    {
     "data": {
      "text/plain": [
       "f (generic function with 1 method)"
      ]
     },
     "metadata": {},
     "output_type": "display_data"
    }
   ],
   "source": [
    "function f(x)\n",
    "    if (x % 2 == 0) && (x % 3 != 0)\n",
    "        return \"Div2\"\n",
    "    elseif (x % 3 == 0) && (x % 2 != 0)\n",
    "        return \"Div3\"\n",
    "    elseif (x % 6 == 0)\n",
    "        return \"Div6\"\n",
    "    else \n",
    "        return \"DivNone\"\n",
    "    end  \n",
    "end"
   ]
  },
  {
   "cell_type": "code",
   "execution_count": 24,
   "metadata": {},
   "outputs": [
    {
     "data": {
      "text/plain": [
       "6-element Vector{String}:\n",
       " \"DivNone\"\n",
       " \"Div2\"\n",
       " \"Div6\"\n",
       " \"DivNone\"\n",
       " \"Div6\"\n",
       " \"DivNone\""
      ]
     },
     "metadata": {},
     "output_type": "display_data"
    }
   ],
   "source": [
    "map(f, arr)"
   ]
  },
  {
   "cell_type": "markdown",
   "metadata": {},
   "source": [
    "Perfroming the same task using anonymous function "
   ]
  },
  {
   "cell_type": "code",
   "execution_count": 27,
   "metadata": {},
   "outputs": [
    {
     "data": {
      "text/plain": [
       "6-element Vector{String}:\n",
       " \"DivNone\"\n",
       " \"Div2\"\n",
       " \"Div6\"\n",
       " \"DivNone\"\n",
       " \"Div6\"\n",
       " \"DivNone\""
      ]
     },
     "metadata": {},
     "output_type": "display_data"
    }
   ],
   "source": [
    "map(x -> begin\n",
    "            if (x % 2 == 0) && (x % 3 != 0)\n",
    "                return \"Div2\"\n",
    "            elseif (x % 3 == 0) && (x % 2 != 0)\n",
    "                return \"Div3\"\n",
    "            elseif (x % 6 == 0)\n",
    "                return \"Div6\"\n",
    "            else\n",
    "                return \"DivNone\"\n",
    "            end\n",
    "        end,\n",
    "    arr)"
   ]
  },
  {
   "cell_type": "code",
   "execution_count": 28,
   "metadata": {},
   "outputs": [
    {
     "data": {
      "text/plain": [
       "6-element Vector{String}:\n",
       " \"DivNone\"\n",
       " \"Div2\"\n",
       " \"Div6\"\n",
       " \"DivNone\"\n",
       " \"Div6\"\n",
       " \"DivNone\""
      ]
     },
     "metadata": {},
     "output_type": "display_data"
    }
   ],
   "source": [
    "map(arr) do x\n",
    "    if (x % 2 == 0) && (x % 3 != 0)\n",
    "        return \"Div2\"\n",
    "    elseif (x % 3 == 0) && (x % 2 != 0)\n",
    "        return \"Div3\"\n",
    "    elseif (x % 6 == 0)\n",
    "        return \"Div6\"\n",
    "    else\n",
    "        return \"DivNone\"\n",
    "    end\n",
    "end "
   ]
  },
  {
   "cell_type": "code",
   "execution_count": 30,
   "metadata": {},
   "outputs": [
    {
     "data": {
      "text/plain": [
       "77"
      ]
     },
     "metadata": {},
     "output_type": "display_data"
    }
   ],
   "source": [
    "data = \"Programming with Julia. \\nhigher order functions. \\nmap, reduce the filter\";\n",
    "\n",
    "open(\"input.txt\", \"w\") do io\n",
    "    write(io, data)\n",
    "end "
   ]
  },
  {
   "cell_type": "code",
   "execution_count": null,
   "metadata": {},
   "outputs": [],
   "source": []
  }
 ],
 "metadata": {
  "kernelspec": {
   "display_name": "Julia 1.10.2",
   "language": "julia",
   "name": "julia-1.10"
  },
  "language_info": {
   "file_extension": ".jl",
   "mimetype": "application/julia",
   "name": "julia",
   "version": "1.10.2"
  }
 },
 "nbformat": 4,
 "nbformat_minor": 2
}
