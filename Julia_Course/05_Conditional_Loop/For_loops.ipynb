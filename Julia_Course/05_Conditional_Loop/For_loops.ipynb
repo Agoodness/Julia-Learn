{
 "cells": [
  {
   "cell_type": "code",
   "execution_count": 1,
   "metadata": {},
   "outputs": [
    {
     "name": "stdout",
     "output_type": "stream",
     "text": [
      "1\n",
      "4\n",
      "9\n",
      "16\n"
     ]
    }
   ],
   "source": [
    "for i in 1:4\n",
    "    println(i^2)\n",
    "end\n"
   ]
  },
  {
   "cell_type": "code",
   "execution_count": 3,
   "metadata": {},
   "outputs": [
    {
     "name": "stdout",
     "output_type": "stream",
     "text": [
      "Another iteration in the loop\n",
      "Another iteration in the loop\n",
      "Another iteration in the loop\n",
      "Another iteration in the loop\n"
     ]
    }
   ],
   "source": [
    "for i in 1:4\n",
    "    println(\"Another iteration in the loop\")\n",
    "end "
   ]
  },
  {
   "cell_type": "code",
   "execution_count": 4,
   "metadata": {},
   "outputs": [
    {
     "name": "stdout",
     "output_type": "stream",
     "text": [
      "1\n",
      "8\n",
      "27\n",
      "64\n"
     ]
    }
   ],
   "source": [
    "for j = 1:4 \n",
    "    println(j^3)\n",
    "end"
   ]
  },
  {
   "cell_type": "code",
   "execution_count": 6,
   "metadata": {},
   "outputs": [
    {
     "name": "stdout",
     "output_type": "stream",
     "text": [
      "1\n",
      "4\n",
      "9\n",
      "16\n"
     ]
    }
   ],
   "source": [
    "for k ∈ 1:4 \n",
    "    println(k^2)\n",
    "end "
   ]
  },
  {
   "cell_type": "markdown",
   "metadata": {},
   "source": []
  },
  {
   "cell_type": "code",
   "execution_count": 7,
   "metadata": {},
   "outputs": [
    {
     "name": "stdout",
     "output_type": "stream",
     "text": [
      "Julia\n",
      "R\n",
      "Python\n",
      "C\n"
     ]
    }
   ],
   "source": [
    "for name ∈ [\"Julia\", \"R\", \"Python\", \"C\"]\n",
    "    println(name)\n",
    "end"
   ]
  },
  {
   "cell_type": "code",
   "execution_count": 8,
   "metadata": {},
   "outputs": [
    {
     "data": {
      "text/plain": [
       "5-element Vector{Int64}:\n",
       " 16\n",
       " 25\n",
       " 15\n",
       "  7\n",
       " 18"
      ]
     },
     "metadata": {},
     "output_type": "display_data"
    }
   ],
   "source": [
    "arr = rand(5:25, 5)"
   ]
  },
  {
   "cell_type": "code",
   "execution_count": 9,
   "metadata": {},
   "outputs": [
    {
     "name": "stdout",
     "output_type": "stream",
     "text": [
      "1. element is 16.\n",
      "2. element is 25.\n",
      "3. element is 15.\n",
      "4. element is 7.\n",
      "5. element is 18.\n"
     ]
    }
   ],
   "source": [
    "for i in 1:length(arr)\n",
    "    println(\"$i. element is $(arr[i]).\")\n",
    "end"
   ]
  },
  {
   "cell_type": "code",
   "execution_count": 12,
   "metadata": {},
   "outputs": [
    {
     "name": "stdout",
     "output_type": "stream",
     "text": [
      "The No. 1. element is 16.\n",
      "The No. 2. element is 25.\n",
      "The No. 3. element is 15.\n",
      "The No. 4. element is 7.\n",
      "The No. 5. element is 18.\n"
     ]
    }
   ],
   "source": [
    "for (index, value) ∈ enumerate(arr)\n",
    "    println(\"The No. $(index). element is $(value).\")\n",
    "end"
   ]
  },
  {
   "cell_type": "code",
   "execution_count": 13,
   "metadata": {},
   "outputs": [
    {
     "data": {
      "text/plain": [
       "3×2 Matrix{Int64}:\n",
       " 38  27\n",
       " 24  24\n",
       " 24  26"
      ]
     },
     "metadata": {},
     "output_type": "display_data"
    }
   ],
   "source": [
    "mat = rand(15:44, (3,2))"
   ]
  },
  {
   "cell_type": "code",
   "execution_count": 15,
   "metadata": {},
   "outputs": [
    {
     "name": "stdout",
     "output_type": "stream",
     "text": [
      "Row: 1, column: 1, Value: 38\n",
      "Row: 1, column: 2, Value: 27\n",
      "Row: 2, column: 1, Value: 24\n",
      "Row: 2, column: 2, Value: 24\n",
      "Row: 3, column: 1, Value: 24\n",
      "Row: 3, column: 2, Value: 26\n"
     ]
    }
   ],
   "source": [
    "for row in 1:size(mat,1)\n",
    "    for col in 1:size(mat,2)\n",
    "        println(\"Row: $row, column: $col, Value: $(mat[row, col])\")\n",
    "    end\n",
    "end"
   ]
  },
  {
   "cell_type": "code",
   "execution_count": 17,
   "metadata": {},
   "outputs": [
    {
     "data": {
      "text/plain": [
       "4×4 Matrix{Int64}:\n",
       " 10  19  31  20\n",
       " 11  13  42  20\n",
       " 50  43  28  23\n",
       " 19  16  34  21"
      ]
     },
     "metadata": {},
     "output_type": "display_data"
    }
   ],
   "source": [
    "mat5 = rand(5:50, (4, 4))"
   ]
  },
  {
   "cell_type": "code",
   "execution_count": 21,
   "metadata": {},
   "outputs": [
    {
     "name": "stdout",
     "output_type": "stream",
     "text": [
      "Row: 1, column: 1, Value: 10\n",
      "Row: 1, column: 2, Value: 19\n",
      "Row: 1, column: 3, Value: 31\n",
      "Row: 1, column: 4, Value: 20\n",
      "Row: 2, column: 1, Value: 11\n",
      "Row: 2, column: 2, Value: 13\n",
      "Row: 2, column: 3, Value: 42\n",
      "Row: 2, column: 4, Value: 20\n",
      "Row: 3, column: 1, Value: 50\n",
      "Row: 3, column: 2, Value: 43\n",
      "Row: 3, column: 3, Value: 28\n",
      "Row: 3, column: 4, Value: 23\n",
      "Row: 4, column: 1, Value: 19\n",
      "Row: 4, column: 2, Value: 16\n",
      "Row: 4, column: 3, Value: 34\n",
      "Row: 4, column: 4, Value: 21\n"
     ]
    }
   ],
   "source": [
    "for row in 1:size(mat5,1)\n",
    "    for col in 1:size(mat5,2)\n",
    "        println(\"Row: $row, column: $col, Value: $(mat5[row, col])\")\n",
    "    end\n",
    "end"
   ]
  },
  {
   "cell_type": "code",
   "execution_count": 23,
   "metadata": {},
   "outputs": [
    {
     "name": "stdout",
     "output_type": "stream",
     "text": [
      "Row: 1, Column: 1, value: 10\n",
      "Row: 1, Column: 2, value: 19\n",
      "Row: 1, Column: 3, value: 31\n",
      "Row: 1, Column: 4, value: 20\n",
      "Row: 2, Column: 1, value: 11\n",
      "Row: 2, Column: 2, value: 13\n",
      "Row: 2, Column: 3, value: 42\n",
      "Row: 2, Column: 4, value: 20\n",
      "Row: 3, Column: 1, value: 50\n",
      "Row: 3, Column: 2, value: 43\n",
      "Row: 3, Column: 3, value: 28\n",
      "Row: 3, Column: 4, value: 23\n",
      "Row: 4, Column: 1, value: 19\n",
      "Row: 4, Column: 2, value: 16\n",
      "Row: 4, Column: 3, value: 34\n",
      "Row: 4, Column: 4, value: 21\n"
     ]
    }
   ],
   "source": [
    "for row in  1:size(mat5,1), col in 1:size(mat5,2)\n",
    "    println(\"Row: $row, Column: $col, value: $(mat5[row, col])\")\n",
    "end "
   ]
  },
  {
   "cell_type": "code",
   "execution_count": 24,
   "metadata": {},
   "outputs": [
    {
     "name": "stdout",
     "output_type": "stream",
     "text": [
      "(1, 1)(1, 2)(1, 3)(1, 4)\n",
      "(2, 1)(2, 2)(2, 3)(2, 4)\n",
      "(3, 1)(3, 2)(3, 3)(3, 4)\n",
      "(4, 1)(4, 2)(4, 3)(4, 4)\n",
      "(5, 1)(5, 2)(5, 3)(5, 4)\n",
      "(6, 1)(6, 2)(6, 3)(6, 4)\n"
     ]
    }
   ],
   "source": [
    "for row in 1:6\n",
    "    for col in 1:4 \n",
    "        print((row, col))\n",
    "    end \n",
    "    println()\n",
    "end"
   ]
  },
  {
   "cell_type": "code",
   "execution_count": 27,
   "metadata": {},
   "outputs": [],
   "source": [
    "names = [\"Albert\", \"Marie\", \"Isaac\", \"Roselind\", \"Richard\"]\n",
    "surnames = [\"eistein\", \"Curie\", \"Newton\", \"Franklin\", \"Feynman\"]\n",
    "birthyears = [1879, 1867, 1643, 1918];"
   ]
  },
  {
   "cell_type": "code",
   "execution_count": 29,
   "metadata": {},
   "outputs": [
    {
     "name": "stdout",
     "output_type": "stream",
     "text": [
      "(\"Albert\", \"eistein\", 1879)\n",
      "(\"Marie\", \"Curie\", 1867)\n",
      "(\"Isaac\", \"Newton\", 1643)\n",
      "(\"Roselind\", \"Franklin\", 1918)\n"
     ]
    }
   ],
   "source": [
    "for (name, surname, byear) ∈ zip(names, surnames, birthyears)\n",
    "    println((name, surname, byear))\n",
    "end"
   ]
  },
  {
   "cell_type": "code",
   "execution_count": 31,
   "metadata": {},
   "outputs": [
    {
     "data": {
      "text/plain": [
       "Dict{String, Int64} with 4 entries:\n",
       "  \"c\" => 30\n",
       "  \"b\" => 20\n",
       "  \"a\" => 10\n",
       "  \"d\" => 40"
      ]
     },
     "metadata": {},
     "output_type": "display_data"
    }
   ],
   "source": [
    "d = Dict(\"a\" => 10, \"b\" => 20, \"c\" => 30, \"d\" => 40)"
   ]
  },
  {
   "cell_type": "code",
   "execution_count": 32,
   "metadata": {},
   "outputs": [
    {
     "name": "stdout",
     "output_type": "stream",
     "text": [
      "Key is: c, Value is: 30\n",
      "Key is: b, Value is: 20\n",
      "Key is: a, Value is: 10\n",
      "Key is: d, Value is: 40\n"
     ]
    }
   ],
   "source": [
    "for (key, val) in d \n",
    "    println(\"Key is: $key, Value is: $val\")\n",
    "end"
   ]
  },
  {
   "cell_type": "code",
   "execution_count": 33,
   "metadata": {},
   "outputs": [
    {
     "name": "stdout",
     "output_type": "stream",
     "text": [
      "Key is: c, Value is: 30\n",
      "Key is: b, Value is: 20\n",
      "Key is: a, Value is: 10\n",
      "Key is: d, Value is: 40\n"
     ]
    }
   ],
   "source": [
    "# Another of doing this \n",
    "for item in d\n",
    "    println(\"Key is: $(item.first), Value is: $(item.second)\")\n",
    "end"
   ]
  },
  {
   "cell_type": "code",
   "execution_count": 35,
   "metadata": {},
   "outputs": [
    {
     "name": "stdout",
     "output_type": "stream",
     "text": [
      "J|u|l|i|a| |L|a|n|g|u|a|g|e|"
     ]
    }
   ],
   "source": [
    "# Iterate strings using for loops\n",
    "str = \"Julia Language\"\n",
    "for c in str \n",
    "    print(\"$c|\")\n",
    "end "
   ]
  },
  {
   "cell_type": "code",
   "execution_count": 36,
   "metadata": {},
   "outputs": [
    {
     "name": "stdout",
     "output_type": "stream",
     "text": [
      "For loop is the most common type of loops.\n",
      "The other type of loop is the while loop \n",
      "Loops are very powerful and fast in Julia.\n"
     ]
    }
   ],
   "source": [
    "file = \"InputFile.txt\"\n",
    "\n",
    "for line in eachline(file)\n",
    "    println(line)\n",
    "end"
   ]
  },
  {
   "cell_type": "code",
   "execution_count": 39,
   "metadata": {},
   "outputs": [],
   "source": [
    "arr2 = rand(-1_000_000:1_000_000, 100);"
   ]
  },
  {
   "cell_type": "markdown",
   "metadata": {},
   "source": [
    "This code check for the maximum number inb the array"
   ]
  },
  {
   "cell_type": "code",
   "execution_count": 40,
   "metadata": {},
   "outputs": [
    {
     "name": "stdout",
     "output_type": "stream",
     "text": [
      "991678\n"
     ]
    }
   ],
   "source": [
    "maxnum = typemin(Int64)\n",
    "\n",
    "for num ∈ arr2 \n",
    "    if num > maxnum \n",
    "        maxnum = num \n",
    "    end \n",
    "end\n",
    "\n",
    "println(maxnum)"
   ]
  },
  {
   "cell_type": "markdown",
   "metadata": {},
   "source": [
    "This code will calculate the average number in the array"
   ]
  },
  {
   "cell_type": "code",
   "execution_count": 41,
   "metadata": {},
   "outputs": [
    {
     "name": "stdout",
     "output_type": "stream",
     "text": [
      "84413.9\n"
     ]
    }
   ],
   "source": [
    "sum = 0\n",
    "n = 0\n",
    "\n",
    "for num in arr2\n",
    "    sum += num\n",
    "    n += 1\n",
    "end \n",
    "average = sum / n\n",
    "println(average)"
   ]
  },
  {
   "cell_type": "code",
   "execution_count": null,
   "metadata": {},
   "outputs": [],
   "source": []
  }
 ],
 "metadata": {
  "kernelspec": {
   "display_name": "Julia 1.10.2",
   "language": "julia",
   "name": "julia-1.10"
  },
  "language_info": {
   "file_extension": ".jl",
   "mimetype": "application/julia",
   "name": "julia",
   "version": "1.10.2"
  }
 },
 "nbformat": 4,
 "nbformat_minor": 2
}
