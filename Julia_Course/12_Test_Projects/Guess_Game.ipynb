{
 "cells": [
  {
   "cell_type": "code",
   "execution_count": 3,
   "metadata": {},
   "outputs": [],
   "source": [
    "using IJulia"
   ]
  },
  {
   "cell_type": "code",
   "execution_count": 4,
   "metadata": {},
   "outputs": [
    {
     "name": "stdout",
     "output_type": "stream",
     "text": [
      "Please Enter the Subject here\n"
     ]
    },
    {
     "name": "stdout",
     "output_type": "stream",
     "text": [
      "stdin>  David \n"
     ]
    },
    {
     "name": "stdout",
     "output_type": "stream",
     "text": [
      "Please Enter the Verb here\n"
     ]
    },
    {
     "name": "stdout",
     "output_type": "stream",
     "text": [
      "stdin>  Takes \n"
     ]
    },
    {
     "name": "stdout",
     "output_type": "stream",
     "text": [
      "Please Enter the Object here\n"
     ]
    },
    {
     "name": "stdout",
     "output_type": "stream",
     "text": [
      "stdin>  Air \n"
     ]
    },
    {
     "name": "stdout",
     "output_type": "stream",
     "text": [
      "Please Enter the Complementary message here\n"
     ]
    },
    {
     "name": "stdout",
     "output_type": "stream",
     "text": [
      "stdin>  At all times\n"
     ]
    },
    {
     "name": "stdout",
     "output_type": "stream",
     "text": [
      "David  Takes  Air  At all times\n"
     ]
    }
   ],
   "source": [
    "println(\"Please Enter the Subject here\")\n",
    "Subject::String = readline()\n",
    "\n",
    "println(\"Please Enter the Verb here\")\n",
    "Verb::String = readline()\n",
    "\n",
    "println(\"Please Enter the Object here\")\n",
    "Object::String = readline()\n",
    "\n",
    "println(\"Please Enter the Complementary message here\")\n",
    "Complement::String = readline()\n",
    "\n",
    "println(\"$Subject $Verb $Object $Complement\")"
   ]
  },
  {
   "cell_type": "code",
   "execution_count": null,
   "metadata": {},
   "outputs": [],
   "source": [
    "This is another game, the program is meant to generate a number random numbers and compare with the inpu fron user"
   ]
  },
  {
   "cell_type": "code",
   "execution_count": 8,
   "metadata": {},
   "outputs": [
    {
     "name": "stdout",
     "output_type": "stream",
     "text": [
      "Enter your guess number\n"
     ]
    },
    {
     "name": "stdout",
     "output_type": "stream",
     "text": [
      "stdin>  4\n"
     ]
    },
    {
     "name": "stdout",
     "output_type": "stream",
     "text": [
      "Too low! Try again.\n",
      "Enter your guess number\n"
     ]
    },
    {
     "name": "stdout",
     "output_type": "stream",
     "text": [
      "stdin>  5\n"
     ]
    },
    {
     "name": "stdout",
     "output_type": "stream",
     "text": [
      "Too low! Try again.\n",
      "Enter your guess number\n"
     ]
    },
    {
     "name": "stdout",
     "output_type": "stream",
     "text": [
      "stdin>  7\n"
     ]
    },
    {
     "name": "stdout",
     "output_type": "stream",
     "text": [
      "Too low! Try again.\n",
      "Enter your guess number\n"
     ]
    },
    {
     "name": "stdout",
     "output_type": "stream",
     "text": [
      "stdin>  8\n"
     ]
    },
    {
     "name": "stdout",
     "output_type": "stream",
     "text": [
      "Too low! Try again.\n",
      "Enter your guess number\n"
     ]
    },
    {
     "name": "stdout",
     "output_type": "stream",
     "text": [
      "stdin>  10\n"
     ]
    },
    {
     "name": "stdout",
     "output_type": "stream",
     "text": [
      "Too high! Try again.\n",
      "Enter your guess number\n"
     ]
    },
    {
     "name": "stdout",
     "output_type": "stream",
     "text": [
      "stdin>  9\n"
     ]
    },
    {
     "name": "stdout",
     "output_type": "stream",
     "text": [
      "Congratulations! You guessed the correct number: 9\n"
     ]
    }
   ],
   "source": [
    "Random_Num = rand(1:10)  # Step 1: Generate a random number between 1 and 10\n",
    "\n",
    "User_Ing::Int64 = 0  # Step 2: Initialize User_Ing as Int64\n",
    "\n",
    "while Random_Num != User_Ing\n",
    "    println(\"Enter your guess number\")\n",
    "    User_String = readline()  # Step 3: Read user input as a string\n",
    "    User_Ing = parse(Int, User_String)  # Step 4: Convert user input to an integer\n",
    "    \n",
    "    # Step 5: Compare user input with the random number\n",
    "    if User_Ing < Random_Num\n",
    "        println(\"Too low! Try again.\")\n",
    "    elseif User_Ing > Random_Num\n",
    "        println(\"Too high! Try again.\")\n",
    "    else\n",
    "        println(\"Congratulations! You guessed the correct number: $Random_Num\")\n",
    "    end\n",
    "end\n"
   ]
  },
  {
   "cell_type": "code",
   "execution_count": null,
   "metadata": {},
   "outputs": [],
   "source": []
  }
 ],
 "metadata": {
  "kernelspec": {
   "display_name": "Julia 1.10.2",
   "language": "julia",
   "name": "julia-1.10"
  },
  "language_info": {
   "file_extension": ".jl",
   "mimetype": "application/julia",
   "name": "julia",
   "version": "1.10.2"
  }
 },
 "nbformat": 4,
 "nbformat_minor": 4
}
