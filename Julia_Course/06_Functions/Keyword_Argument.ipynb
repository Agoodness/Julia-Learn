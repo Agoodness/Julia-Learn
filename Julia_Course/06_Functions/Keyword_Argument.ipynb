{
 "cells": [
  {
   "cell_type": "markdown",
   "metadata": {},
   "source": [
    "The first examnple is about position arguments "
   ]
  },
  {
   "cell_type": "code",
   "execution_count": 2,
   "metadata": {},
   "outputs": [
    {
     "data": {
      "text/plain": [
       "positionargs (generic function with 4 methods)"
      ]
     },
     "metadata": {},
     "output_type": "display_data"
    }
   ],
   "source": [
    "function positionargs(x, y = 10, z = 20, t = 30)\n",
    "    println(\"x = $x\")\n",
    "    println(\"y = $y\")\n",
    "    println(\"z = $z\")\n",
    "    println(\"t = $t\")\n",
    "end\n"
   ]
  },
  {
   "cell_type": "code",
   "execution_count": 3,
   "metadata": {},
   "outputs": [
    {
     "name": "stdout",
     "output_type": "stream",
     "text": [
      "x = 5\n",
      "y = 10\n",
      "z = 20\n",
      "t = 30\n"
     ]
    }
   ],
   "source": [
    "positionargs(5)"
   ]
  },
  {
   "cell_type": "code",
   "execution_count": 4,
   "metadata": {},
   "outputs": [
    {
     "name": "stdout",
     "output_type": "stream",
     "text": [
      "x = 1\n",
      "y = 3\n",
      "z = 5\n",
      "t = 30\n"
     ]
    }
   ],
   "source": [
    "positionargs(1,3,5)"
   ]
  },
  {
   "cell_type": "markdown",
   "metadata": {},
   "source": [
    "The next example is shows keyword arguments, making it posible to pass arguments in no particular order. The \";\" differentiate between the former and this"
   ]
  },
  {
   "cell_type": "code",
   "execution_count": 5,
   "metadata": {},
   "outputs": [
    {
     "data": {
      "text/plain": [
       "Keywordargs (generic function with 1 method)"
      ]
     },
     "metadata": {},
     "output_type": "display_data"
    }
   ],
   "source": [
    "function Keywordargs(x; y=10, z=20, t=30)\n",
    "    println(\"x = $x\")\n",
    "    println(\"y = $y\")\n",
    "    println(\"z = $z\")\n",
    "    println(\"t = $t\")\n",
    "end"
   ]
  },
  {
   "cell_type": "code",
   "execution_count": 6,
   "metadata": {},
   "outputs": [
    {
     "name": "stdout",
     "output_type": "stream",
     "text": [
      "x = 1\n",
      "y = 10\n",
      "z = 20\n",
      "t = 30\n"
     ]
    }
   ],
   "source": [
    "Keywordargs(1)"
   ]
  },
  {
   "cell_type": "code",
   "execution_count": 7,
   "metadata": {},
   "outputs": [
    {
     "name": "stdout",
     "output_type": "stream",
     "text": [
      "x = 1\n",
      "y = 10\n",
      "z = 20\n",
      "t = 60\n"
     ]
    }
   ],
   "source": [
    "Keywordargs(1, t = 60)"
   ]
  },
  {
   "cell_type": "code",
   "execution_count": 10,
   "metadata": {},
   "outputs": [
    {
     "name": "stdout",
     "output_type": "stream",
     "text": [
      "x = 1\n",
      "y = 10\n",
      "z = 34\n",
      "t = 50\n"
     ]
    }
   ],
   "source": [
    "Keywordargs(1, t=50, z=34)"
   ]
  },
  {
   "cell_type": "code",
   "execution_count": 11,
   "metadata": {},
   "outputs": [
    {
     "name": "stdout",
     "output_type": "stream",
     "text": [
      "x = 2\n",
      "y = 354\n",
      "z = 555\n",
      "t = 675\n"
     ]
    }
   ],
   "source": [
    "Keywordargs(2; z = 555, t = 675, y = 354)"
   ]
  },
  {
   "cell_type": "code",
   "execution_count": null,
   "metadata": {},
   "outputs": [],
   "source": []
  }
 ],
 "metadata": {
  "kernelspec": {
   "display_name": "Julia 1.10.2",
   "language": "julia",
   "name": "julia-1.10"
  },
  "language_info": {
   "file_extension": ".jl",
   "mimetype": "application/julia",
   "name": "julia",
   "version": "1.10.2"
  }
 },
 "nbformat": 4,
 "nbformat_minor": 2
}
