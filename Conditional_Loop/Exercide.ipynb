{
 "cells": [
  {
   "cell_type": "markdown",
   "metadata": {},
   "source": [
    "## Exercise 1 \n",
    "\n",
    "1. What about adding an if else statement to a comprehension? Assume I want to get the square of the number if it is even and if it is not, I want the cube of the number. What could be the way of using an if else statement in a comprehension? I have the following array.\n",
    "\n",
    "arr = [5, 8, 12, 17, 24, 42];\n",
    "I want another array with squares of numbers in   arr if the number is even and cube of the number otherwise. The result should be as follows:\n",
    "\n",
    "6-element Vector{Int64}:\n",
    "  125\n",
    "   64\n",
    "  144\n",
    " 4913\n",
    "  576\n",
    " 1764"
   ]
  },
  {
   "cell_type": "code",
   "execution_count": 13,
   "metadata": {},
   "outputs": [],
   "source": [
    "# This is my first solution\n",
    "#= arr = [5, 8, 12, 17, 24, 42]; \n",
    "\n",
    "arr = [5, 8, 12, 17, 24, 42];\n",
    "powarr = [];\n",
    "powarr = [arr[i]^2, for i in arr if iseven(arr[i]) else arr[1]^3]\n",
    "\n",
    "=#\n"
   ]
  },
  {
   "cell_type": "code",
   "execution_count": 12,
   "metadata": {},
   "outputs": [
    {
     "name": "stdout",
     "output_type": "stream",
     "text": [
      "[125, 64, 144, 4913, 576, 1764]\n"
     ]
    }
   ],
   "source": [
    "# This is the tutur's solution \n",
    "\n",
    "\n",
    "array = [5, 8, 12, 17, 24, 42];\n",
    "arr = [iseven(x) ? x^2 : x^3 for x in array]\n",
    "println(arr)"
   ]
  },
  {
   "cell_type": "code",
   "execution_count": 13,
   "metadata": {},
   "outputs": [
    {
     "name": "stdout",
     "output_type": "stream",
     "text": [
      "[125, 64, 144, 4913, 576, 1764]\n"
     ]
    }
   ],
   "source": [
    "arr = [5, 8, 12, 17, 24, 42];\n",
    "powarr = Int64[];\n",
    "\n",
    "for i ∈ 1:length(arr)\n",
    "    if iseven(arr[i])\n",
    "        append!(powarr, arr[i]^2)\n",
    "    else\n",
    "        append!(powarr, arr[i]^3)\n",
    "    end \n",
    "end\n",
    "\n",
    "println(powarr)\n",
    "        \n"
   ]
  },
  {
   "cell_type": "markdown",
   "metadata": {},
   "source": [
    "## Exercise 2\n",
    "\n",
    "Write a code using if condition and for loops which gets two arrays as inputs and returns an array which contains the common elements of the two arrays.\n",
    "\n",
    "Sample input:\n",
    "\n",
    "arr1 = [1, 3, 5, 7, 9]\n",
    "arr2 = [2, 4, 6, 8, 3, 5, 10]\n",
    "\n",
    "\n",
    "Sample output:\n",
    "\n",
    "[3, 5]"
   ]
  },
  {
   "cell_type": "code",
   "execution_count": 20,
   "metadata": {},
   "outputs": [
    {
     "data": {
      "text/plain": [
       "2-element Vector{Int64}:\n",
       " 3\n",
       " 5"
      ]
     },
     "metadata": {},
     "output_type": "display_data"
    }
   ],
   "source": [
    "arr1 = [1, 3, 5, 7, 9];\n",
    "arr2 = [2, 4, 6, 8, 3, 5, 10];\n",
    "\n",
    "intersect(arr1, arr2)"
   ]
  },
  {
   "cell_type": "code",
   "execution_count": 26,
   "metadata": {},
   "outputs": [
    {
     "name": "stdout",
     "output_type": "stream",
     "text": [
      "[3, 5]\n"
     ]
    }
   ],
   "source": [
    "arr1 = [1, 3, 5, 7, 9];\n",
    "arr2 = [2, 4, 6, 8, 3, 5, 10];\n",
    "arr3 = Int64[];\n",
    "\n",
    "for i ∈ 1:length(arr1)\n",
    "    for j ∈ 1:length(arr2)\n",
    "        if arr1[i] == arr2[j]\n",
    "            append!(arr3, arr1[i])\n",
    "        end\n",
    "    end\n",
    "end\n",
    "println(arr3) \n",
    "    "
   ]
  },
  {
   "cell_type": "code",
   "execution_count": 17,
   "metadata": {},
   "outputs": [
    {
     "name": "stdout",
     "output_type": "stream",
     "text": [
      "[3, 5]"
     ]
    }
   ],
   "source": [
    "# This is the tutor's solution\n",
    "\n",
    "arr1 = [1, 3, 5, 7, 9]\n",
    "arr2 = [2, 4, 6, 8, 3, 5, 10]\n",
    " \n",
    "common = Int[]\n",
    "for num in arr1\n",
    "    if num in arr2\n",
    "        push!(common, num)\n",
    "    end\n",
    "end\n",
    "print(common)"
   ]
  },
  {
   "cell_type": "markdown",
   "metadata": {},
   "source": [
    "## Exercise 3 in .jl file \n",
    "Write a code which takes in a string and returns the number of vowels in the string.\n",
    "\n",
    "Sample input:\n",
    "\n",
    "str = \"Hello World\";\n",
    "\n",
    "\n",
    "Sample output:\n",
    "\n",
    "3\n"
   ]
  },
  {
   "cell_type": "code",
   "execution_count": 5,
   "metadata": {},
   "outputs": [
    {
     "name": "stdout",
     "output_type": "stream",
     "text": [
      "The number of vowel characters are 8 and they are [\"a\", \"a\", \"e\", \"e\", \"i\", \"o\", \"o\", \"A\"]\n"
     ]
    }
   ],
   "source": [
    "vowel = [\"a\", \"e\", \"i\", \"o\", \"u\", \"A\", \"E\", \"I\", \"O\", \"U\"]\n",
    "input = \"Any vowel characters will show\"\n",
    "arr = String[]\n",
    "\n",
    "# println(\"Enter the string to test: \")\n",
    "#input = readline()\n",
    "#println(input)\n",
    "\n",
    "for c in vowel\n",
    "    for a in input\n",
    "        a = string(a)\n",
    "        if c == a\n",
    "            push!(arr, a)\n",
    "        end\n",
    "    end\n",
    "end\n",
    "println(\"The number of vowel characters are $(length(arr)) and they are $arr\")"
   ]
  },
  {
   "cell_type": "code",
   "execution_count": 19,
   "metadata": {},
   "outputs": [
    {
     "name": "stdout",
     "output_type": "stream",
     "text": [
      "3"
     ]
    }
   ],
   "source": [
    "# This is the tutor's solution \n",
    "\n",
    "str = \"Hello World\";\n",
    " \n",
    "vowels = 0\n",
    "for char in str\n",
    "    if char in ['a','e','i','o','u']\n",
    "        vowels += 1\n",
    "    end\n",
    "end\n",
    "\n",
    "print(vowels)"
   ]
  },
  {
   "cell_type": "markdown",
   "metadata": {},
   "source": [
    "\n",
    "## Exercise 4 \n",
    "\n",
    "Write a code that generates the first n Fibonacci numbers using a loop.\n",
    "\n",
    "Sample input:\n",
    "\n",
    "n = 10;\n",
    "\n",
    "\n",
    "Sample output:\n",
    "\n",
    "[1, 1, 2, 3, 5, 8, 13, 21, 34, 55]"
   ]
  },
  {
   "cell_type": "code",
   "execution_count": 8,
   "metadata": {},
   "outputs": [
    {
     "name": "stdout",
     "output_type": "stream",
     "text": [
      "[1.0, 1.0, 1.0, 1.0, 1.0]\n"
     ]
    }
   ],
   "source": [
    "# arr = fill(0, 5)\n",
    "num = 5\n",
    "arr = Array(ones(num))\n",
    "println(arr)"
   ]
  },
  {
   "cell_type": "code",
   "execution_count": 93,
   "metadata": {},
   "outputs": [
    {
     "name": "stdout",
     "output_type": "stream",
     "text": [
      "[1, 1, 2, 3, 5, 8, 13, 21, 34, 55, 89, 144, 233, 377, 610, 987, 1597, 2584, 4181, 6765]\n"
     ]
    }
   ],
   "source": [
    "sum = 1\n",
    "n = 20\n",
    "arr4 = Int64[]\n",
    "\n",
    "append!(arr4, sum)\n",
    "for a ∈ 2:n\n",
    "    append!(arr4, sum)\n",
    "    sum = (arr4[a-1] + sum)\n",
    "end\n",
    "println(arr4)"
   ]
  },
  {
   "cell_type": "code",
   "execution_count": 23,
   "metadata": {},
   "outputs": [
    {
     "name": "stdout",
     "output_type": "stream",
     "text": [
      "[1, 1, 2, 3, 5, 8, 13, 21, 34, 55]"
     ]
    }
   ],
   "source": [
    "# This is the tutor's solution \n",
    "\n",
    "n = 10;\n",
    " \n",
    "fib = Int[]\n",
    "a = 1\n",
    "b = 1\n",
    "for i in 1:n\n",
    "    push!(fib, a)\n",
    "    c = a + b\n",
    "    a = b\n",
    "    b = c\n",
    "end\n",
    "\n",
    "print(fib)\n"
   ]
  },
  {
   "cell_type": "code",
   "execution_count": null,
   "metadata": {},
   "outputs": [],
   "source": []
  }
 ],
 "metadata": {
  "kernelspec": {
   "display_name": "Julia 1.10.2",
   "language": "julia",
   "name": "julia-1.10"
  },
  "language_info": {
   "file_extension": ".jl",
   "mimetype": "application/julia",
   "name": "julia",
   "version": "1.10.2"
  }
 },
 "nbformat": 4,
 "nbformat_minor": 2
}
