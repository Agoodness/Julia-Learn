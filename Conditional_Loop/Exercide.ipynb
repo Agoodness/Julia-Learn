{
 "cells": [
  {
   "cell_type": "markdown",
   "metadata": {},
   "source": [
    "## Exercise 1 \n",
    "\n",
    "1. What about adding an if else statement to a comprehension? Assume I want to get the square of the number if it is even and if it is not, I want the cube of the number. What could be the way of using an if else statement in a comprehension? I have the following array.\n",
    "\n",
    "arr = [5, 8, 12, 17, 24, 42];\n",
    "I want another array with squares of numbers in   arr if the number is even and cube of the number otherwise. The result should be as follows:\n",
    "\n",
    "6-element Vector{Int64}:\n",
    "  125\n",
    "   64\n",
    "  144\n",
    " 4913\n",
    "  576\n",
    " 1764"
   ]
  },
  {
   "cell_type": "code",
   "execution_count": 9,
   "metadata": {},
   "outputs": [
    {
     "ename": "Base.Meta.ParseError",
     "evalue": "ParseError:\n# Error @ /home/goodness/Desktop/OS-SIM/Julia Learn/Learning Materials/Julia/Julia_learn/Julia Learn/Conditional_Loop/Exercide.ipynb:4:65\n\npowarr = [arr[i]^2, for i in arr if iseven(arr[i]) else arr[1]^3] end\n#                                                               └ ── Expected `end`",
     "output_type": "error",
     "traceback": [
      "ParseError:\n",
      "# Error @ /home/goodness/Desktop/OS-SIM/Julia Learn/Learning Materials/Julia/Julia_learn/Julia Learn/Conditional_Loop/Exercide.ipynb:4:65\n",
      "\n",
      "powarr = [arr[i]^2, for i in arr if iseven(arr[i]) else arr[1]^3] end\n",
      "#                                                               └ ── Expected `end`\n",
      "\n",
      "Stacktrace:\n",
      " [1] top-level scope\n",
      "   @ ~/Desktop/OS-SIM/Julia Learn/Learning Materials/Julia/Julia_learn/Julia Learn/Conditional_Loop/Exercide.ipynb:4"
     ]
    }
   ],
   "source": [
    "arr = [5, 8, 12, 17, 24, 42];\n",
    "powarr = [];\n",
    "\n",
    "powarr = [arr[i]^2, for i in arr if iseven(arr[i]) else arr[1]^3]"
   ]
  },
  {
   "cell_type": "code",
   "execution_count": 13,
   "metadata": {},
   "outputs": [
    {
     "name": "stdout",
     "output_type": "stream",
     "text": [
      "[125, 64, 144, 4913, 576, 1764]\n"
     ]
    }
   ],
   "source": [
    "arr = [5, 8, 12, 17, 24, 42];\n",
    "powarr = Int64[];\n",
    "\n",
    "for i ∈ 1:length(arr)\n",
    "    if iseven(arr[i])\n",
    "        append!(powarr, arr[i]^2)\n",
    "    else\n",
    "        append!(powarr, arr[i]^3)\n",
    "    end \n",
    "end\n",
    "\n",
    "println(powarr)\n",
    "        \n"
   ]
  },
  {
   "cell_type": "markdown",
   "metadata": {},
   "source": [
    "## Exercise 2\n",
    "\n",
    "Write a code using if condition and for loops which gets two arrays as inputs and returns an array which contains the common elements of the two arrays.\n",
    "\n",
    "Sample input:\n",
    "\n",
    "arr1 = [1, 3, 5, 7, 9]\n",
    "arr2 = [2, 4, 6, 8, 3, 5, 10]\n",
    "\n",
    "\n",
    "Sample output:\n",
    "\n",
    "[3, 5]"
   ]
  },
  {
   "cell_type": "code",
   "execution_count": 20,
   "metadata": {},
   "outputs": [
    {
     "data": {
      "text/plain": [
       "2-element Vector{Int64}:\n",
       " 3\n",
       " 5"
      ]
     },
     "metadata": {},
     "output_type": "display_data"
    }
   ],
   "source": [
    "arr1 = [1, 3, 5, 7, 9];\n",
    "arr2 = [2, 4, 6, 8, 3, 5, 10];\n",
    "\n",
    "intersect(arr1, arr2)"
   ]
  },
  {
   "cell_type": "code",
   "execution_count": 26,
   "metadata": {},
   "outputs": [
    {
     "name": "stdout",
     "output_type": "stream",
     "text": [
      "[3, 5]\n"
     ]
    }
   ],
   "source": [
    "arr1 = [1, 3, 5, 7, 9];\n",
    "arr2 = [2, 4, 6, 8, 3, 5, 10];\n",
    "arr3 = Int64[];\n",
    "\n",
    "for i ∈ 1:length(arr1)\n",
    "    for j ∈ 1:length(arr2)\n",
    "        if arr1[i] == arr2[j]\n",
    "            append!(arr3, arr1[i])\n",
    "        end\n",
    "    end\n",
    "end\n",
    "println(arr3) \n",
    "    "
   ]
  },
  {
   "cell_type": "code",
   "execution_count": null,
   "metadata": {},
   "outputs": [],
   "source": []
  }
 ],
 "metadata": {
  "kernelspec": {
   "display_name": "Julia 1.10.2",
   "language": "julia",
   "name": "julia-1.10"
  },
  "language_info": {
   "file_extension": ".jl",
   "mimetype": "application/julia",
   "name": "julia",
   "version": "1.10.2"
  }
 },
 "nbformat": 4,
 "nbformat_minor": 2
}
