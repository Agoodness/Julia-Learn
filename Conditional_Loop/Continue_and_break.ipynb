{
 "cells": [
  {
   "cell_type": "code",
   "execution_count": 1,
   "metadata": {},
   "outputs": [
    {
     "name": "stdout",
     "output_type": "stream",
     "text": [
      "3\n",
      "5\n",
      "7\n",
      "7\n",
      "42\n",
      "Break condition is met!\n"
     ]
    }
   ],
   "source": [
    "arr = [3, 5, \n",
    "7, 7, 42, 999, 56, 23, 12, 13, 999, 43]\n",
    "\n",
    "for el ∈ arr\n",
    "    if el == 999\n",
    "        println(\"Break condition is met!\")\n",
    "        break\n",
    "    end\n",
    "    println(el)\n",
    "end "
   ]
  },
  {
   "cell_type": "code",
   "execution_count": 3,
   "metadata": {},
   "outputs": [
    {
     "name": "stdout",
     "output_type": "stream",
     "text": [
      "3\n",
      "5\n",
      "7\n",
      "7\n",
      "42\n",
      "Break condition is met!\n"
     ]
    }
   ],
   "source": [
    "i = 1\n",
    "\n",
    "while i ≤ length(arr)\n",
    "    if arr[i] == 999\n",
    "        println(\"Break condition is met!\")\n",
    "        break\n",
    "    end\n",
    "    println(arr[i])\n",
    "    global i += 1\n",
    "end"
   ]
  },
  {
   "cell_type": "markdown",
   "metadata": {},
   "source": [
    "Using the continue keyword to continue a program, even when a condition is met"
   ]
  },
  {
   "cell_type": "code",
   "execution_count": 4,
   "metadata": {},
   "outputs": [
    {
     "name": "stdout",
     "output_type": "stream",
     "text": [
      "3\n",
      "5\n",
      "7\n",
      "7\n",
      "42\n",
      "Continue condition met!\n",
      "56\n",
      "23\n",
      "12\n",
      "13\n",
      "Continue condition met!\n",
      "43\n"
     ]
    }
   ],
   "source": [
    "for el ∈ arr \n",
    "    if el == 999\n",
    "        println(\"Continue condition met!\")\n",
    "        continue\n",
    "    end\n",
    "    println(el)\n",
    "end\n"
   ]
  },
  {
   "cell_type": "code",
   "execution_count": 8,
   "metadata": {},
   "outputs": [
    {
     "name": "stdout",
     "output_type": "stream",
     "text": [
      "3\n",
      "5\n",
      "7\n",
      "7\n",
      "42\n",
      "56\n",
      "23\n",
      "12\n",
      "13\n",
      "43\n"
     ]
    }
   ],
   "source": [
    "i = 0\n",
    "\n",
    "while i < length(arr)\n",
    "    global i +=1 \n",
    "    if arr[i] == 999\n",
    "        continue\n",
    "    end\n",
    "    println(arr[i])\n",
    "end"
   ]
  },
  {
   "cell_type": "code",
   "execution_count": 13,
   "metadata": {},
   "outputs": [
    {
     "name": "stdout",
     "output_type": "stream",
     "text": [
      "42\n",
      "56\n",
      "12\n"
     ]
    }
   ],
   "source": [
    "for el in arr\n",
    "    if el % 2 == 1 continue end\n",
    "    println(el)\n",
    "end"
   ]
  },
  {
   "cell_type": "code",
   "execution_count": 19,
   "metadata": {},
   "outputs": [
    {
     "name": "stdout",
     "output_type": "stream",
     "text": [
      "It took 19 to get (6,6).\n"
     ]
    }
   ],
   "source": [
    "numtries = 0 \n",
    "\n",
    "while true \n",
    "    global  numtries += 1\n",
    "    m, n = rand((1:6)), rand((1:6))\n",
    "    if (m, n) == (6,6) break end \n",
    "end\n",
    "\n",
    "println(\"It took $numtries to get (6,6).\")"
   ]
  },
  {
   "cell_type": "markdown",
   "metadata": {},
   "source": [
    "This code will be simplified in the Comprehension code in next lesson"
   ]
  },
  {
   "cell_type": "code",
   "execution_count": 26,
   "metadata": {},
   "outputs": [
    {
     "name": "stdout",
     "output_type": "stream",
     "text": [
      "[25, 64, 144, 289, 400, 1849]"
     ]
    }
   ],
   "source": [
    "arr = [5, 8, 12, 17, 20, 43];\n",
    "sqart = Int64[];\n",
    "\n",
    "for el ∈ arr\n",
    "    append!(sqart, el^2)\n",
    "end \n",
    "print(sqart)"
   ]
  },
  {
   "cell_type": "code",
   "execution_count": null,
   "metadata": {},
   "outputs": [],
   "source": []
  }
 ],
 "metadata": {
  "kernelspec": {
   "display_name": "Julia 1.10.2",
   "language": "julia",
   "name": "julia-1.10"
  },
  "language_info": {
   "file_extension": ".jl",
   "mimetype": "application/julia",
   "name": "julia",
   "version": "1.10.2"
  }
 },
 "nbformat": 4,
 "nbformat_minor": 2
}
