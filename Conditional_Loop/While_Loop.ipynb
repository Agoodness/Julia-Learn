{
 "cells": [
  {
   "cell_type": "code",
   "execution_count": 3,
   "metadata": {},
   "outputs": [
    {
     "name": "stdout",
     "output_type": "stream",
     "text": [
      "1\n",
      "4\n",
      "9\n",
      "16\n"
     ]
    }
   ],
   "source": [
    "j = 1;\n",
    "\n",
    "while j < 5\n",
    "    println(j^2)\n",
    "    global j += 1\n",
    "end"
   ]
  },
  {
   "cell_type": "code",
   "execution_count": 4,
   "metadata": {},
   "outputs": [
    {
     "name": "stdout",
     "output_type": "stream",
     "text": [
      "15 11 9 7 5 4 3 "
     ]
    }
   ],
   "source": [
    "arr = [3, 4, 5, 7, 9, 11, 15]\n",
    "\n",
    "while !isempty(arr)\n",
    "    print(pop!(arr), \" \")\n",
    "    \n",
    "end"
   ]
  },
  {
   "cell_type": "markdown",
   "metadata": {},
   "source": [
    "Read text file with while loop "
   ]
  },
  {
   "cell_type": "code",
   "execution_count": 6,
   "metadata": {},
   "outputs": [
    {
     "name": "stdout",
     "output_type": "stream",
     "text": [
      "For loop is the most common type of loops.\n",
      "The other type of loop is the while loop \n",
      "Loops are very powerful and fast in Julia.\n"
     ]
    }
   ],
   "source": [
    "file = open(\"InputFile.txt\", \"r\")\n",
    "line = readline(file)\n",
    "\n",
    "while line !=\"\"\n",
    "    println(line)\n",
    "    line = readline(file)\n",
    "end\n",
    "close(file)"
   ]
  },
  {
   "cell_type": "code",
   "execution_count": null,
   "metadata": {},
   "outputs": [],
   "source": []
  }
 ],
 "metadata": {
  "kernelspec": {
   "display_name": "Julia 1.10.2",
   "language": "julia",
   "name": "julia-1.10"
  },
  "language_info": {
   "file_extension": ".jl",
   "mimetype": "application/julia",
   "name": "julia",
   "version": "1.10.2"
  }
 },
 "nbformat": 4,
 "nbformat_minor": 2
}
