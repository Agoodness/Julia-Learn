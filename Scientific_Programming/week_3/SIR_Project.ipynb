{
 "cells": [
  {
   "cell_type": "code",
   "execution_count": 4,
   "metadata": {},
   "outputs": [
    {
     "data": {
      "text/plain": [
       "24"
      ]
     },
     "metadata": {},
     "output_type": "display_data"
    }
   ],
   "source": [
    "# Creating a function\n",
    "\n",
    "b = 4\n",
    "f(x) = b*x\n",
    "\n",
    "f(6)\n"
   ]
  },
  {
   "cell_type": "markdown",
   "metadata": {},
   "source": [
    "This is the mathematical model of the SIR project \n",
    "\n",
    "Susceptibles \n",
    "+   S(ti+1) = S(ti) - AS(ti)I(ti)dt   \n",
    "\n",
    "Infected \n",
    "+   I(ti+1) = I(ti) + AS(ti)I(ti)dt - YI(ti)dt\n",
    "\n",
    "Removed\n",
    "+   R(ti+1) = R(ti) + YI(ti)dt"
   ]
  },
  {
   "cell_type": "code",
   "execution_count": 7,
   "metadata": {},
   "outputs": [
    {
     "data": {
      "text/plain": [
       "UpdateSIR (generic function with 1 method)"
      ]
     },
     "metadata": {},
     "output_type": "display_data"
    }
   ],
   "source": [
    "function UpdateSIR(popnvector)\n",
    "    susceptible = popnvector[1];\n",
    "    infected    = popnvector[2];\n",
    "    removed     = popnvector[3];\n",
    "    newS = susceptible - lambda * susceptible * infected * dt\n",
    "    newI = infected + lambda * susceptible * infected * dt - gam * infected *dt\n",
    "    newR = removed + gam * infected *dt\n",
    "    return [newS newI newR]\n",
    "end \n"
   ]
  },
  {
   "cell_type": "code",
   "execution_count": null,
   "metadata": {},
   "outputs": [],
   "source": []
  }
 ],
 "metadata": {
  "kernelspec": {
   "display_name": "Julia 1.10.2",
   "language": "julia",
   "name": "julia-1.10"
  },
  "language_info": {
   "file_extension": ".jl",
   "mimetype": "application/julia",
   "name": "julia",
   "version": "1.10.2"
  }
 },
 "nbformat": 4,
 "nbformat_minor": 2
}
