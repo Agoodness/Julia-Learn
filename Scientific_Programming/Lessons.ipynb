{
 "cells": [
  {
   "cell_type": "markdown",
   "metadata": {},
   "source": [
    "This Notebook contains the lessons learnt in Julia for scientific computation that were not captured in udemy course"
   ]
  },
  {
   "cell_type": "markdown",
   "metadata": {},
   "source": [
    "The lesson in here are captured from the Julia types and arrays"
   ]
  },
  {
   "cell_type": "code",
   "execution_count": 1,
   "metadata": {},
   "outputs": [
    {
     "data": {
      "text/plain": [
       "3-element Vector{Int64}:\n",
       "               8\n",
       "               2\n",
       " 129364837694800"
      ]
     },
     "metadata": {},
     "output_type": "display_data"
    }
   ],
   "source": [
    "# when we define array like this \n",
    "# It will create 3 element in the array i.e the 3 represent element\n",
    "Array{Int64}(undef, 3)"
   ]
  },
  {
   "cell_type": "markdown",
   "metadata": {},
   "source": [
    "Added  something now"
   ]
  },
  {
   "cell_type": "code",
   "execution_count": 2,
   "metadata": {},
   "outputs": [
    {
     "data": {
      "text/plain": [
       "Vector{Int64}\u001b[90m (alias for \u001b[39m\u001b[90mArray{Int64, 1}\u001b[39m\u001b[90m)\u001b[39m"
      ]
     },
     "metadata": {},
     "output_type": "display_data"
    }
   ],
   "source": [
    "# The 1 there specify the dimention of the array\n",
    "Array{Int64, 1}"
   ]
  },
  {
   "cell_type": "code",
   "execution_count": 3,
   "metadata": {},
   "outputs": [
    {
     "data": {
      "text/plain": [
       "2×3 Matrix{Integer}:\n",
       " #undef  #undef  #undef\n",
       " #undef  #undef  #undef"
      ]
     },
     "metadata": {},
     "output_type": "display_data"
    }
   ],
   "source": [
    "abstractvariable = Array{Integer}(undef, 2,3)"
   ]
  },
  {
   "cell_type": "code",
   "execution_count": 4,
   "metadata": {},
   "outputs": [
    {
     "data": {
      "text/plain": [
       "Matrix{Integer}\u001b[90m (alias for \u001b[39m\u001b[90mArray{Integer, 2}\u001b[39m\u001b[90m)\u001b[39m"
      ]
     },
     "metadata": {},
     "output_type": "display_data"
    }
   ],
   "source": [
    "typeof(abstractvariable)"
   ]
  },
  {
   "cell_type": "code",
   "execution_count": 5,
   "metadata": {},
   "outputs": [
    {
     "data": {
      "text/plain": [
       "5.0"
      ]
     },
     "metadata": {},
     "output_type": "display_data"
    }
   ],
   "source": [
    "abstractvariable[1,2] = 5.0"
   ]
  },
  {
   "cell_type": "code",
   "execution_count": 6,
   "metadata": {},
   "outputs": [
    {
     "data": {
      "text/plain": [
       "2×3 Matrix{Integer}:\n",
       " #undef    5     #undef\n",
       " #undef  #undef  #undef"
      ]
     },
     "metadata": {},
     "output_type": "display_data"
    }
   ],
   "source": [
    "abstractvariable"
   ]
  },
  {
   "cell_type": "code",
   "execution_count": 11,
   "metadata": {},
   "outputs": [
    {
     "data": {
      "text/html": [
       "# 20 methods for generic function <b>muladd</b> from \u001b[90mBase\u001b[39m:<ul><li> muladd(x::<b>BigFloat</b>, y::<b>BigFloat</b>, z::<b>BigFloat</b>) in Base.MPFR at <a href=\"https://github.com/JuliaLang/julia/tree/bd47eca2c8aacd145b6c5c02e47e2b9ec27ab456/base/mpfr.jl#L541\" target=\"_blank\">mpfr.jl:541</a></li> <li> muladd(A::<b>Union{LinearAlgebra.Adjoint{<:Any, <:StridedMatrix{var\"#s994\"}}, LinearAlgebra.Transpose{<:Any, <:StridedMatrix{var\"#s994\"}}, StridedMatrix{var\"#s994\"}} where var\"#s994\"<:Number</b>, B::<b>Union{LinearAlgebra.Adjoint{<:Any, <:StridedMatrix{var\"#s128\"}}, LinearAlgebra.Transpose{<:Any, <:StridedMatrix{var\"#s128\"}}, StridedMatrix{var\"#s128\"}} where var\"#s128\"<:Number</b>, z::<b>Union{Number, AbstractVecOrMat}</b>) in LinearAlgebra at <a href=\"file:///cache/build/builder-amdci5-1/julialang/julia-release-1-dot-10/usr/share/julia/stdlib/v1.10/LinearAlgebra/src/matmul.jl\" target=\"_blank\">/usr/local/bin/julia-1.10.2/share/julia/stdlib/v1.10/LinearAlgebra/src/matmul.jl:207</a></li> <li> muladd(x::<b>LinearAlgebra.Adjoint{T, <:AbstractVector} where T</b>, A::<b>AbstractMatrix</b>, z::<b>Union{Number, AbstractVecOrMat}</b>) in LinearAlgebra at <a href=\"file:///cache/build/builder-amdci5-1/julialang/julia-release-1-dot-10/usr/share/julia/stdlib/v1.10/LinearAlgebra/src/matmul.jl\" target=\"_blank\">/usr/local/bin/julia-1.10.2/share/julia/stdlib/v1.10/LinearAlgebra/src/matmul.jl:195</a></li> <li> muladd(A::<b>LinearAlgebra.Diagonal</b>, B::<b>LinearAlgebra.Diagonal</b>, z::<b>LinearAlgebra.Diagonal</b>) in LinearAlgebra at <a href=\"file:///cache/build/builder-amdci5-1/julialang/julia-release-1-dot-10/usr/share/julia/stdlib/v1.10/LinearAlgebra/src/diagonal.jl\" target=\"_blank\">/usr/local/bin/julia-1.10.2/share/julia/stdlib/v1.10/LinearAlgebra/src/diagonal.jl:909</a></li> <li> muladd(z::<b>Complex</b>, w::<b>Complex</b>, x::<b>Real</b>) in Base at <a href=\"https://github.com/JuliaLang/julia/tree/bd47eca2c8aacd145b6c5c02e47e2b9ec27ab456/base/complex.jl#L347\" target=\"_blank\">complex.jl:347</a></li> <li> muladd(z::<b>Complex</b>, w::<b>Complex</b>, x::<b>Complex</b>) in Base at <a href=\"https://github.com/JuliaLang/julia/tree/bd47eca2c8aacd145b6c5c02e47e2b9ec27ab456/base/complex.jl#L299\" target=\"_blank\">complex.jl:299</a></li> <li> muladd(z::<b>Complex</b>, x::<b>Real</b>, y::<b>Real</b>) in Base at <a href=\"https://github.com/JuliaLang/julia/tree/bd47eca2c8aacd145b6c5c02e47e2b9ec27ab456/base/complex.jl#L343\" target=\"_blank\">complex.jl:343</a></li> <li> muladd(z::<b>Complex</b>, x::<b>Real</b>, w::<b>Complex</b>) in Base at <a href=\"https://github.com/JuliaLang/julia/tree/bd47eca2c8aacd145b6c5c02e47e2b9ec27ab456/base/complex.jl#L344\" target=\"_blank\">complex.jl:344</a></li> <li> muladd(x::<b>Real</b>, y::<b>Real</b>, z::<b>Complex</b>) in Base at <a href=\"https://github.com/JuliaLang/julia/tree/bd47eca2c8aacd145b6c5c02e47e2b9ec27ab456/base/complex.jl#L346\" target=\"_blank\">complex.jl:346</a></li> <li> muladd(x::<b>Real</b>, z::<b>Complex</b>, y::<b>Number</b>) in Base at <a href=\"https://github.com/JuliaLang/julia/tree/bd47eca2c8aacd145b6c5c02e47e2b9ec27ab456/base/complex.jl#L342\" target=\"_blank\">complex.jl:342</a></li> <li> muladd(x::<b>T</b>, y::<b>T</b>, z::<b>T</b>)<i> where T<:Union{Float16, Float32, Float64}</i> in Base at <a href=\"https://github.com/JuliaLang/julia/tree/bd47eca2c8aacd145b6c5c02e47e2b9ec27ab456/base/float.jl#L414\" target=\"_blank\">float.jl:414</a></li> <li> muladd(x::<b>T</b>, y::<b>T</b>, z::<b>T</b>)<i> where T<:Number</i> in Base at <a href=\"https://github.com/JuliaLang/julia/tree/bd47eca2c8aacd145b6c5c02e47e2b9ec27ab456/base/promotion.jl#L515\" target=\"_blank\">promotion.jl:515</a></li> <li> muladd(x::<b>Number</b>, y::<b>Number</b>, z::<b>Number</b>) in Base at <a href=\"https://github.com/JuliaLang/julia/tree/bd47eca2c8aacd145b6c5c02e47e2b9ec27ab456/base/promotion.jl#L459\" target=\"_blank\">promotion.jl:459</a></li> <li> muladd(u::<b>AbstractVector</b>, v::<b>Union{LinearAlgebra.Adjoint{T, var\"#s994\"}, LinearAlgebra.Transpose{T, var\"#s994\"}} where {T, var\"#s994\"<:(AbstractVector)}</b>, z::<b>Union{Number, AbstractArray}</b>) in LinearAlgebra at <a href=\"file:///cache/build/builder-amdci5-1/julialang/julia-release-1-dot-10/usr/share/julia/stdlib/v1.10/LinearAlgebra/src/matmul.jl\" target=\"_blank\">/usr/local/bin/julia-1.10.2/share/julia/stdlib/v1.10/LinearAlgebra/src/matmul.jl:182</a></li> <li> muladd(x::<b>LinearAlgebra.Transpose{T, <:AbstractVector} where T</b>, A::<b>AbstractMatrix</b>, z::<b>Union{Number, AbstractVecOrMat}</b>) in LinearAlgebra at <a href=\"file:///cache/build/builder-amdci5-1/julialang/julia-release-1-dot-10/usr/share/julia/stdlib/v1.10/LinearAlgebra/src/matmul.jl\" target=\"_blank\">/usr/local/bin/julia-1.10.2/share/julia/stdlib/v1.10/LinearAlgebra/src/matmul.jl:197</a></li> <li> muladd(A::<b>LinearAlgebra.UniformScaling</b>, B::<b>LinearAlgebra.UniformScaling</b>, z::<b>LinearAlgebra.UniformScaling</b>) in LinearAlgebra at <a href=\"file:///cache/build/builder-amdci5-1/julialang/julia-release-1-dot-10/usr/share/julia/stdlib/v1.10/LinearAlgebra/src/uniformscaling.jl\" target=\"_blank\">/usr/local/bin/julia-1.10.2/share/julia/stdlib/v1.10/LinearAlgebra/src/uniformscaling.jl:430</a></li> <li> muladd(A::<b>Union{LinearAlgebra.Diagonal, LinearAlgebra.UniformScaling}</b>, B::<b>Union{LinearAlgebra.Diagonal, LinearAlgebra.UniformScaling}</b>, z::<b>Union{LinearAlgebra.Diagonal, LinearAlgebra.UniformScaling}</b>) in LinearAlgebra at <a href=\"file:///cache/build/builder-amdci5-1/julialang/julia-release-1-dot-10/usr/share/julia/stdlib/v1.10/LinearAlgebra/src/special.jl\" target=\"_blank\">/usr/local/bin/julia-1.10.2/share/julia/stdlib/v1.10/LinearAlgebra/src/special.jl:273</a></li> <li> muladd(A::<b>Union{LinearAlgebra.Adjoint{<:Any, <:StridedMatrix{var\"#s994\"}}, LinearAlgebra.Transpose{<:Any, <:StridedMatrix{var\"#s994\"}}, StridedMatrix{var\"#s994\"}} where var\"#s994\"<:Number</b>, y::<b>AbstractVector{<:Number}</b>, z::<b>Union{Number, AbstractVector}</b>) in LinearAlgebra at <a href=\"file:///cache/build/builder-amdci5-1/julialang/julia-release-1-dot-10/usr/share/julia/stdlib/v1.10/LinearAlgebra/src/matmul.jl\" target=\"_blank\">/usr/local/bin/julia-1.10.2/share/julia/stdlib/v1.10/LinearAlgebra/src/matmul.jl:200</a></li> <li> muladd(A::<b>AbstractMatrix</b>, y::<b>AbstractVecOrMat</b>, z::<b>Union{Number, AbstractArray}</b>) in LinearAlgebra at <a href=\"file:///cache/build/builder-amdci5-1/julialang/julia-release-1-dot-10/usr/share/julia/stdlib/v1.10/LinearAlgebra/src/matmul.jl\" target=\"_blank\">/usr/local/bin/julia-1.10.2/share/julia/stdlib/v1.10/LinearAlgebra/src/matmul.jl:168</a></li> <li> muladd(x, y, z) in Base.Math at <a href=\"https://github.com/JuliaLang/julia/tree/bd47eca2c8aacd145b6c5c02e47e2b9ec27ab456/base/math.jl#L1517\" target=\"_blank\">math.jl:1517</a></li> </ul>"
      ],
      "text/plain": [
       "# 20 methods for generic function \"muladd\" from \u001b[90mBase\u001b[39m:\n",
       "  [1] muladd(\u001b[90mx\u001b[39m::\u001b[1mBigFloat\u001b[22m, \u001b[90my\u001b[39m::\u001b[1mBigFloat\u001b[22m, \u001b[90mz\u001b[39m::\u001b[1mBigFloat\u001b[22m)\n",
       "\u001b[90m     @\u001b[39m \u001b[90mBase.MPFR\u001b[39m \u001b[90m\u001b[4mmpfr.jl:541\u001b[24m\u001b[39m\n",
       "  [2] muladd(\u001b[90mA\u001b[39m::\u001b[1mUnion\u001b[22m\u001b[0m{LinearAlgebra.Adjoint{<:Any, <:StridedMatrix{var\"#s994\"}}, LinearAlgebra.Transpose{<:Any, <:StridedMatrix{var\"#s994\"}}, StridedMatrix{var\"#s994\"}} where var\"#s994\"<:Number, \u001b[90mB\u001b[39m::\u001b[1mUnion\u001b[22m\u001b[0m{LinearAlgebra.Adjoint{<:Any, <:StridedMatrix{var\"#s128\"}}, LinearAlgebra.Transpose{<:Any, <:StridedMatrix{var\"#s128\"}}, StridedMatrix{var\"#s128\"}} where var\"#s128\"<:Number, \u001b[90mz\u001b[39m::\u001b[1mUnion\u001b[22m\u001b[0m{Number, AbstractVecOrMat})\n",
       "\u001b[90m     @\u001b[39m \u001b[35mLinearAlgebra\u001b[39m \u001b[90m/usr/local/bin/julia-1.10.2/share/julia/stdlib/v1.10/LinearAlgebra/src/\u001b[39m\u001b[90m\u001b[4mmatmul.jl:207\u001b[24m\u001b[39m\n",
       "  [3] muladd(\u001b[90mx\u001b[39m::\u001b[1mLinearAlgebra.Adjoint\u001b[22m\u001b[0m{T, <:AbstractVector} where T, \u001b[90mA\u001b[39m::\u001b[1mAbstractMatrix\u001b[22m, \u001b[90mz\u001b[39m::\u001b[1mUnion\u001b[22m\u001b[0m{Number, AbstractVecOrMat})\n",
       "\u001b[90m     @\u001b[39m \u001b[35mLinearAlgebra\u001b[39m \u001b[90m/usr/local/bin/julia-1.10.2/share/julia/stdlib/v1.10/LinearAlgebra/src/\u001b[39m\u001b[90m\u001b[4mmatmul.jl:195\u001b[24m\u001b[39m\n",
       "  [4] muladd(\u001b[90mA\u001b[39m::\u001b[1mLinearAlgebra.Diagonal\u001b[22m, \u001b[90mB\u001b[39m::\u001b[1mLinearAlgebra.Diagonal\u001b[22m, \u001b[90mz\u001b[39m::\u001b[1mLinearAlgebra.Diagonal\u001b[22m)\n",
       "\u001b[90m     @\u001b[39m \u001b[35mLinearAlgebra\u001b[39m \u001b[90m/usr/local/bin/julia-1.10.2/share/julia/stdlib/v1.10/LinearAlgebra/src/\u001b[39m\u001b[90m\u001b[4mdiagonal.jl:909\u001b[24m\u001b[39m\n",
       "  [5] muladd(\u001b[90mz\u001b[39m::\u001b[1mComplex\u001b[22m, \u001b[90mw\u001b[39m::\u001b[1mComplex\u001b[22m, \u001b[90mx\u001b[39m::\u001b[1mReal\u001b[22m)\n",
       "\u001b[90m     @\u001b[39m \u001b[90m\u001b[4mcomplex.jl:347\u001b[24m\u001b[39m\n",
       "  [6] muladd(\u001b[90mz\u001b[39m::\u001b[1mComplex\u001b[22m, \u001b[90mw\u001b[39m::\u001b[1mComplex\u001b[22m, \u001b[90mx\u001b[39m::\u001b[1mComplex\u001b[22m)\n",
       "\u001b[90m     @\u001b[39m \u001b[90m\u001b[4mcomplex.jl:299\u001b[24m\u001b[39m\n",
       "  [7] muladd(\u001b[90mz\u001b[39m::\u001b[1mComplex\u001b[22m, \u001b[90mx\u001b[39m::\u001b[1mReal\u001b[22m, \u001b[90my\u001b[39m::\u001b[1mReal\u001b[22m)\n",
       "\u001b[90m     @\u001b[39m \u001b[90m\u001b[4mcomplex.jl:343\u001b[24m\u001b[39m\n",
       "  [8] muladd(\u001b[90mz\u001b[39m::\u001b[1mComplex\u001b[22m, \u001b[90mx\u001b[39m::\u001b[1mReal\u001b[22m, \u001b[90mw\u001b[39m::\u001b[1mComplex\u001b[22m)\n",
       "\u001b[90m     @\u001b[39m \u001b[90m\u001b[4mcomplex.jl:344\u001b[24m\u001b[39m\n",
       "  [9] muladd(\u001b[90mx\u001b[39m::\u001b[1mReal\u001b[22m, \u001b[90my\u001b[39m::\u001b[1mReal\u001b[22m, \u001b[90mz\u001b[39m::\u001b[1mComplex\u001b[22m)\n",
       "\u001b[90m     @\u001b[39m \u001b[90m\u001b[4mcomplex.jl:346\u001b[24m\u001b[39m\n",
       " [10] muladd(\u001b[90mx\u001b[39m::\u001b[1mReal\u001b[22m, \u001b[90mz\u001b[39m::\u001b[1mComplex\u001b[22m, \u001b[90my\u001b[39m::\u001b[1mNumber\u001b[22m)\n",
       "\u001b[90m     @\u001b[39m \u001b[90m\u001b[4mcomplex.jl:342\u001b[24m\u001b[39m\n",
       " [11] muladd(\u001b[90mx\u001b[39m::\u001b[1mT\u001b[22m, \u001b[90my\u001b[39m::\u001b[1mT\u001b[22m, \u001b[90mz\u001b[39m::\u001b[1mT\u001b[22m) where T<:Union{Float16, Float32, Float64}\n",
       "\u001b[90m     @\u001b[39m \u001b[90m\u001b[4mfloat.jl:414\u001b[24m\u001b[39m\n",
       " [12] muladd(\u001b[90mx\u001b[39m::\u001b[1mT\u001b[22m, \u001b[90my\u001b[39m::\u001b[1mT\u001b[22m, \u001b[90mz\u001b[39m::\u001b[1mT\u001b[22m) where T<:Number\n",
       "\u001b[90m     @\u001b[39m \u001b[90m\u001b[4mpromotion.jl:515\u001b[24m\u001b[39m\n",
       " [13] muladd(\u001b[90mx\u001b[39m::\u001b[1mNumber\u001b[22m, \u001b[90my\u001b[39m::\u001b[1mNumber\u001b[22m, \u001b[90mz\u001b[39m::\u001b[1mNumber\u001b[22m)\n",
       "\u001b[90m     @\u001b[39m \u001b[90m\u001b[4mpromotion.jl:459\u001b[24m\u001b[39m\n",
       " [14] muladd(\u001b[90mu\u001b[39m::\u001b[1mAbstractVector\u001b[22m, \u001b[90mv\u001b[39m::\u001b[1mUnion\u001b[22m\u001b[0m{LinearAlgebra.Adjoint{T, var\"#s994\"}, LinearAlgebra.Transpose{T, var\"#s994\"}} where {T, var\"#s994\"<:(AbstractVector)}, \u001b[90mz\u001b[39m::\u001b[1mUnion\u001b[22m\u001b[0m{Number, AbstractArray})\n",
       "\u001b[90m     @\u001b[39m \u001b[35mLinearAlgebra\u001b[39m \u001b[90m/usr/local/bin/julia-1.10.2/share/julia/stdlib/v1.10/LinearAlgebra/src/\u001b[39m\u001b[90m\u001b[4mmatmul.jl:182\u001b[24m\u001b[39m\n",
       " [15] muladd(\u001b[90mx\u001b[39m::\u001b[1mLinearAlgebra.Transpose\u001b[22m\u001b[0m{T, <:AbstractVector} where T, \u001b[90mA\u001b[39m::\u001b[1mAbstractMatrix\u001b[22m, \u001b[90mz\u001b[39m::\u001b[1mUnion\u001b[22m\u001b[0m{Number, AbstractVecOrMat})\n",
       "\u001b[90m     @\u001b[39m \u001b[35mLinearAlgebra\u001b[39m \u001b[90m/usr/local/bin/julia-1.10.2/share/julia/stdlib/v1.10/LinearAlgebra/src/\u001b[39m\u001b[90m\u001b[4mmatmul.jl:197\u001b[24m\u001b[39m\n",
       " [16] muladd(\u001b[90mA\u001b[39m::\u001b[1mLinearAlgebra.UniformScaling\u001b[22m, \u001b[90mB\u001b[39m::\u001b[1mLinearAlgebra.UniformScaling\u001b[22m, \u001b[90mz\u001b[39m::\u001b[1mLinearAlgebra.UniformScaling\u001b[22m)\n",
       "\u001b[90m     @\u001b[39m \u001b[35mLinearAlgebra\u001b[39m \u001b[90m/usr/local/bin/julia-1.10.2/share/julia/stdlib/v1.10/LinearAlgebra/src/\u001b[39m\u001b[90m\u001b[4muniformscaling.jl:430\u001b[24m\u001b[39m\n",
       " [17] muladd(\u001b[90mA\u001b[39m::\u001b[1mUnion\u001b[22m\u001b[0m{LinearAlgebra.Diagonal, LinearAlgebra.UniformScaling}, \u001b[90mB\u001b[39m::\u001b[1mUnion\u001b[22m\u001b[0m{LinearAlgebra.Diagonal, LinearAlgebra.UniformScaling}, \u001b[90mz\u001b[39m::\u001b[1mUnion\u001b[22m\u001b[0m{LinearAlgebra.Diagonal, LinearAlgebra.UniformScaling})\n",
       "\u001b[90m     @\u001b[39m \u001b[35mLinearAlgebra\u001b[39m \u001b[90m/usr/local/bin/julia-1.10.2/share/julia/stdlib/v1.10/LinearAlgebra/src/\u001b[39m\u001b[90m\u001b[4mspecial.jl:273\u001b[24m\u001b[39m\n",
       " [18] muladd(\u001b[90mA\u001b[39m::\u001b[1mUnion\u001b[22m\u001b[0m{LinearAlgebra.Adjoint{<:Any, <:StridedMatrix{var\"#s994\"}}, LinearAlgebra.Transpose{<:Any, <:StridedMatrix{var\"#s994\"}}, StridedMatrix{var\"#s994\"}} where var\"#s994\"<:Number, \u001b[90my\u001b[39m::\u001b[1mAbstractVector\u001b[22m\u001b[0m{<:Number}, \u001b[90mz\u001b[39m::\u001b[1mUnion\u001b[22m\u001b[0m{Number, AbstractVector})\n",
       "\u001b[90m     @\u001b[39m \u001b[35mLinearAlgebra\u001b[39m \u001b[90m/usr/local/bin/julia-1.10.2/share/julia/stdlib/v1.10/LinearAlgebra/src/\u001b[39m\u001b[90m\u001b[4mmatmul.jl:200\u001b[24m\u001b[39m\n",
       " [19] muladd(\u001b[90mA\u001b[39m::\u001b[1mAbstractMatrix\u001b[22m, \u001b[90my\u001b[39m::\u001b[1mAbstractVecOrMat\u001b[22m, \u001b[90mz\u001b[39m::\u001b[1mUnion\u001b[22m\u001b[0m{Number, AbstractArray})\n",
       "\u001b[90m     @\u001b[39m \u001b[35mLinearAlgebra\u001b[39m \u001b[90m/usr/local/bin/julia-1.10.2/share/julia/stdlib/v1.10/LinearAlgebra/src/\u001b[39m\u001b[90m\u001b[4mmatmul.jl:168\u001b[24m\u001b[39m\n",
       " [20] muladd(\u001b[90mx\u001b[39m, \u001b[90my\u001b[39m, \u001b[90mz\u001b[39m)\n",
       "\u001b[90m     @\u001b[39m \u001b[90mBase.Math\u001b[39m \u001b[90m\u001b[4mmath.jl:1517\u001b[24m\u001b[39m"
      ]
     },
     "metadata": {},
     "output_type": "display_data"
    }
   ],
   "source": [
    "methods(muladd)"
   ]
  },
  {
   "cell_type": "code",
   "execution_count": 41,
   "metadata": {},
   "outputs": [
    {
     "data": {
      "text/plain": [
       "3×4 Matrix{Float64}:\n",
       " 6.90114e-310  6.90114e-310  6.90114e-310  6.90114e-310\n",
       " 6.90114e-310  6.90114e-310  6.90114e-310  6.90114e-310\n",
       " 6.90114e-310  6.90114e-310  6.90114e-310  6.90114e-310"
      ]
     },
     "metadata": {},
     "output_type": "display_data"
    }
   ],
   "source": [
    "mat = Array{Float64, 2}(undef, 3, 4)"
   ]
  },
  {
   "cell_type": "code",
   "execution_count": 42,
   "metadata": {},
   "outputs": [
    {
     "data": {
      "text/plain": [
       "3-element Vector{Float64}:\n",
       " 6.90114117715244e-310\n",
       " 6.901141177154e-310\n",
       " 6.9011411771556e-310"
      ]
     },
     "metadata": {},
     "output_type": "display_data"
    }
   ],
   "source": [
    "mat[:,2]"
   ]
  },
  {
   "cell_type": "code",
   "execution_count": 44,
   "metadata": {},
   "outputs": [
    {
     "data": {
      "text/plain": [
       "10"
      ]
     },
     "metadata": {},
     "output_type": "display_data"
    }
   ],
   "source": [
    "function f(x)\n",
    "    return 2x\n",
    "    3x\n",
    "  end\n",
    "\n",
    "f(5)"
   ]
  },
  {
   "cell_type": "code",
   "execution_count": null,
   "metadata": {},
   "outputs": [],
   "source": []
  }
 ],
 "metadata": {
  "kernelspec": {
   "display_name": "Julia 1.10.2",
   "language": "julia",
   "name": "julia-1.10"
  },
  "language_info": {
   "file_extension": ".jl",
   "mimetype": "application/julia",
   "name": "julia",
   "version": "1.10.2"
  }
 },
 "nbformat": 4,
 "nbformat_minor": 2
}
