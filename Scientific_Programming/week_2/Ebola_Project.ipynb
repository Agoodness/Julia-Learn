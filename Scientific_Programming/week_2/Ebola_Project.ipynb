{
 "cells": [
  {
   "cell_type": "code",
   "execution_count": 36,
   "metadata": {},
   "outputs": [
    {
     "data": {
      "text/plain": [
       "54×9 Matrix{Any}:\n",
       " \"25 Nov 2015\"  28637  11314  3804  2536  …  4808     14122     3955\n",
       " \"18 Nov 2015\"  28634  11314  3804  2536     4808     14122     3955\n",
       " \"11 Nov 2015\"  28635  11314  3805  2536     4808     14122     3955\n",
       " \"4 Nov 2015\"   28607  11314  3810  2536     4808     14089     3955\n",
       " \"25 Oct 2015\"  28539  11298  3806  2535     4808     14061     3955\n",
       " \"18 Oct 2015\"  28476  11298  3803  2535  …  4808     14001     3955\n",
       " \"11 Oct 2015\"  28454  11297  3800  2534     4808     13982     3955\n",
       " \"27 Sep 2015\"  28388  11296  3805  2533     4808     13911     3955\n",
       " \"20 Sep 2015\"  28295  11295  3800  2532     4808     13823     3955\n",
       " \"13 Sep 2015\"  28220  11291  3792  2530     4808     13756     3953\n",
       " ⋮                                        ⋱                     \n",
       " \"14 Jul 2014\"    982    613   411   310  …   106       397      197\n",
       " \"2 Jul 2014\"     779    481   412   305       75       252      101\n",
       " \"17 Jun 2014\"    528    337   398   264       24        97       49\n",
       " \"27 May 2014\"    309    202   281   186       11        16        5\n",
       " \"12 May 2014\"    260    182   248   171       11          \"–\"      \"–\"\n",
       " \"1 May 2014\"     239    160   226   149  …    11          \"–\"      \"–\"\n",
       " \"14 Apr 2014\"    176    110   168   108        2          \"–\"      \"–\"\n",
       " \"31 Mar 2014\"    130     82   122    80        2          \"–\"      \"–\"\n",
       " \"22 Mar 2014\"     49     29    49    29         \"–\"       \"–\"      \"–\""
      ]
     },
     "metadata": {},
     "output_type": "display_data"
    }
   ],
   "source": [
    "using DelimitedFiles\n",
    "Ebola_Data = DelimitedFiles.readdlm(\"Ebola_Data.csv\", ',')"
   ]
  },
  {
   "cell_type": "code",
   "execution_count": 37,
   "metadata": {},
   "outputs": [
    {
     "data": {
      "text/plain": [
       "2015-11-25T00:00:00"
      ]
     },
     "metadata": {},
     "output_type": "display_data"
    }
   ],
   "source": [
    "using Dates\n",
    "Dates.DateTime(Ebola_Data[1,1], \"d u y\")"
   ]
  },
  {
   "cell_type": "code",
   "execution_count": 38,
   "metadata": {},
   "outputs": [
    {
     "data": {
      "text/plain": [
       "54×9 Matrix{Any}:\n",
       " \"25 Nov 2015\"  28637  11314  3804  2536  …  4808     14122     3955\n",
       " \"18 Nov 2015\"  28634  11314  3804  2536     4808     14122     3955\n",
       " \"11 Nov 2015\"  28635  11314  3805  2536     4808     14122     3955\n",
       " \"4 Nov 2015\"   28607  11314  3810  2536     4808     14089     3955\n",
       " \"25 Oct 2015\"  28539  11298  3806  2535     4808     14061     3955\n",
       " \"18 Oct 2015\"  28476  11298  3803  2535  …  4808     14001     3955\n",
       " \"11 Oct 2015\"  28454  11297  3800  2534     4808     13982     3955\n",
       " \"27 Sep 2015\"  28388  11296  3805  2533     4808     13911     3955\n",
       " \"20 Sep 2015\"  28295  11295  3800  2532     4808     13823     3955\n",
       " \"13 Sep 2015\"  28220  11291  3792  2530     4808     13756     3953\n",
       " ⋮                                        ⋱                     \n",
       " \"14 Jul 2014\"    982    613   411   310  …   106       397      197\n",
       " \"2 Jul 2014\"     779    481   412   305       75       252      101\n",
       " \"17 Jun 2014\"    528    337   398   264       24        97       49\n",
       " \"27 May 2014\"    309    202   281   186       11        16        5\n",
       " \"12 May 2014\"    260    182   248   171       11          \"–\"      \"–\"\n",
       " \"1 May 2014\"     239    160   226   149  …    11          \"–\"      \"–\"\n",
       " \"14 Apr 2014\"    176    110   168   108        2          \"–\"      \"–\"\n",
       " \"31 Mar 2014\"    130     82   122    80        2          \"–\"      \"–\"\n",
       " \"22 Mar 2014\"     49     29    49    29         \"–\"       \"–\"      \"–\""
      ]
     },
     "metadata": {},
     "output_type": "display_data"
    }
   ],
   "source": [
    "Ebola_Data"
   ]
  },
  {
   "cell_type": "markdown",
   "metadata": {},
   "source": [
    "### For Loops"
   ]
  },
  {
   "cell_type": "code",
   "execution_count": 39,
   "metadata": {},
   "outputs": [
    {
     "name": "stdout",
     "output_type": "stream",
     "text": [
      "num is now 3\n",
      "num is now 4\n",
      "num is now 5\n",
      "num is now 6\n",
      "num is now 7\n"
     ]
    }
   ],
   "source": [
    "for num = 3:7\n",
    "    println(\"num is now $num\")\n",
    "end "
   ]
  },
  {
   "cell_type": "code",
   "execution_count": 40,
   "metadata": {},
   "outputs": [
    {
     "name": "stdout",
     "output_type": "stream",
     "text": [
      "The value of x is now 23\n",
      "The value of x is now My name is not a name\n",
      "The value of x is now N\n"
     ]
    }
   ],
   "source": [
    "testvalues = [23, \"My name is not a name\", 'N']\n",
    "for x in testvalues\n",
    "    println(\"The value of x is now $x\")\n",
    "end "
   ]
  },
  {
   "cell_type": "code",
   "execution_count": 41,
   "metadata": {},
   "outputs": [
    {
     "data": {
      "text/plain": [
       "54-element Vector{Any}:\n",
       " \"25 Nov 2015\"\n",
       " \"18 Nov 2015\"\n",
       " \"11 Nov 2015\"\n",
       " \"4 Nov 2015\"\n",
       " \"25 Oct 2015\"\n",
       " \"18 Oct 2015\"\n",
       " \"11 Oct 2015\"\n",
       " \"27 Sep 2015\"\n",
       " \"20 Sep 2015\"\n",
       " \"13 Sep 2015\"\n",
       " ⋮\n",
       " \"14 Jul 2014\"\n",
       " \"2 Jul 2014\"\n",
       " \"17 Jun 2014\"\n",
       " \"27 May 2014\"\n",
       " \"12 May 2014\"\n",
       " \"1 May 2014\"\n",
       " \"14 Apr 2014\"\n",
       " \"31 Mar 2014\"\n",
       " \"22 Mar 2014\""
      ]
     },
     "metadata": {},
     "output_type": "display_data"
    }
   ],
   "source": [
    "col1 = Ebola_Data[:,1]"
   ]
  },
  {
   "cell_type": "code",
   "execution_count": 42,
   "metadata": {},
   "outputs": [],
   "source": [
    "using Dates \n",
    "\n",
    "for i = 1:length(col1)\n",
    "    col1[i] = Dates.DateTime(col1[i], \"d u y\")\n",
    "end"
   ]
  },
  {
   "cell_type": "code",
   "execution_count": 43,
   "metadata": {},
   "outputs": [
    {
     "data": {
      "text/plain": [
       "54-element Vector{Any}:\n",
       " 2015-11-25T00:00:00\n",
       " 2015-11-18T00:00:00\n",
       " 2015-11-11T00:00:00\n",
       " 2015-11-04T00:00:00\n",
       " 2015-10-25T00:00:00\n",
       " 2015-10-18T00:00:00\n",
       " 2015-10-11T00:00:00\n",
       " 2015-09-27T00:00:00\n",
       " 2015-09-20T00:00:00\n",
       " 2015-09-13T00:00:00\n",
       " ⋮\n",
       " 2014-07-14T00:00:00\n",
       " 2014-07-02T00:00:00\n",
       " 2014-06-17T00:00:00\n",
       " 2014-05-27T00:00:00\n",
       " 2014-05-12T00:00:00\n",
       " 2014-05-01T00:00:00\n",
       " 2014-04-14T00:00:00\n",
       " 2014-03-31T00:00:00\n",
       " 2014-03-22T00:00:00"
      ]
     },
     "metadata": {},
     "output_type": "display_data"
    }
   ],
   "source": [
    "col1"
   ]
  },
  {
   "cell_type": "code",
   "execution_count": 44,
   "metadata": {},
   "outputs": [
    {
     "data": {
      "text/plain": [
       "735927"
      ]
     },
     "metadata": {},
     "output_type": "display_data"
    }
   ],
   "source": [
    "Dates.datetime2rata(col1[1])"
   ]
  },
  {
   "cell_type": "code",
   "execution_count": 45,
   "metadata": {},
   "outputs": [],
   "source": [
    "dayssincemar22(i) = Dates.datetime2rata(i) - Dates.datetime2rata(col1[54])\n",
    "epidays = Array{Int64}(undef, 54)\n",
    "\n",
    "for i = 1:length(col1)\n",
    "    epidays[i] = dayssincemar22(col1[i])\n",
    "end"
   ]
  },
  {
   "cell_type": "code",
   "execution_count": 46,
   "metadata": {},
   "outputs": [],
   "source": [
    "Ebola_Data[:, 1] = epidays\n",
    "DelimitedFiles.writedlm(\"New_Ebola_Data.csv\", Ebola_Data, ',')"
   ]
  },
  {
   "cell_type": "code",
   "execution_count": 47,
   "metadata": {},
   "outputs": [
    {
     "data": {
      "image/png": "[encoded data removed]",
      "image/svg+xml": [
       "<?xml version=\"1.0\" encoding=\"utf-8\"?>\n",
       "<svg xmlns=\"http://www.w3.org/2000/svg\" xmlns:xlink=\"http://www.w3.org/1999/xlink\" width=\"600\" height=\"400\" viewBox=\"0 0 2400 1600\">\n",
       "<defs>\n",
       "  <clipPath id=\"clip540\">\n",
       "    <rect x=\"0\" y=\"0\" width=\"2400\" height=\"1600\"/>\n",
       "  </clipPath>\n",
       "</defs>\n",
       "<path clip-path=\"url(#clip540)\" d=\"M0 1600 L2400 1600 L2400 0 L0 0  Z\" fill=\"#ffffff\" fill-rule=\"evenodd\" fill-opacity=\"1\"/>\n",
       "<defs>\n",
       "  <clipPath id=\"clip541\">\n",
       "    <rect x=\"480\" y=\"0\" width=\"1681\" height=\"1600\"/>\n",
       "  </clipPath>\n",
       "</defs>\n",
       "<path clip-path=\"url(#clip540)\" d=\"M156.598 1486.45 L2352.76 1486.45 L2352.76 47.2441 L156.598 47.2441  Z\" fill=\"#ffffff\" fill-rule=\"evenodd\" fill-opacity=\"1\"/>\n",
       "<defs>\n",
       "  <clipPath id=\"clip542\">\n",
       "    <rect x=\"156\" y=\"47\" width=\"2197\" height=\"1440\"/>\n",
       "  </clipPath>\n",
       "</defs>\n",
       "<polyline clip-path=\"url(#clip542)\" style=\"stroke:#000000; stroke-linecap:round; stroke-linejoin:round; stroke-width:2; stroke-opacity:0.1; fill:none\" points=\"448.959,1486.45 448.959,47.2441 \"/>\n",
       "<polyline clip-path=\"url(#clip542)\" style=\"stroke:#000000; stroke-linecap:round; stroke-linejoin:round; stroke-width:2; stroke-opacity:0.1; fill:none\" points=\"909.369,1486.45 909.369,47.2441 \"/>\n",
       "<polyline clip-path=\"url(#clip542)\" style=\"stroke:#000000; stroke-linecap:round; stroke-linejoin:round; stroke-width:2; stroke-opacity:0.1; fill:none\" points=\"1369.78,1486.45 1369.78,47.2441 \"/>\n",
       "<polyline clip-path=\"url(#clip542)\" style=\"stroke:#000000; stroke-linecap:round; stroke-linejoin:round; stroke-width:2; stroke-opacity:0.1; fill:none\" points=\"1830.19,1486.45 1830.19,47.2441 \"/>\n",
       "<polyline clip-path=\"url(#clip542)\" style=\"stroke:#000000; stroke-linecap:round; stroke-linejoin:round; stroke-width:2; stroke-opacity:0.1; fill:none\" points=\"2290.6,1486.45 2290.6,47.2441 \"/>\n",
       "<polyline clip-path=\"url(#clip540)\" style=\"stroke:#000000; stroke-linecap:round; stroke-linejoin:round; stroke-width:4; stroke-opacity:1; fill:none\" points=\"156.598,1486.45 2352.76,1486.45 \"/>\n",
       "<polyline clip-path=\"url(#clip540)\" style=\"stroke:#000000; stroke-linecap:round; stroke-linejoin:round; stroke-width:4; stroke-opacity:1; fill:none\" points=\"448.959,1486.45 448.959,1467.55 \"/>\n",
       "<polyline clip-path=\"url(#clip540)\" style=\"stroke:#000000; stroke-linecap:round; stroke-linejoin:round; stroke-width:4; stroke-opacity:1; fill:none\" points=\"909.369,1486.45 909.369,1467.55 \"/>\n",
       "<polyline clip-path=\"url(#clip540)\" style=\"stroke:#000000; stroke-linecap:round; stroke-linejoin:round; stroke-width:4; stroke-opacity:1; fill:none\" points=\"1369.78,1486.45 1369.78,1467.55 \"/>\n",
       "<polyline clip-path=\"url(#clip540)\" style=\"stroke:#000000; stroke-linecap:round; stroke-linejoin:round; stroke-width:4; stroke-opacity:1; fill:none\" points=\"1830.19,1486.45 1830.19,1467.55 \"/>\n",
       "<polyline clip-path=\"url(#clip540)\" style=\"stroke:#000000; stroke-linecap:round; stroke-linejoin:round; stroke-width:4; stroke-opacity:1; fill:none\" points=\"2290.6,1486.45 2290.6,1467.55 \"/>\n",
       "<path clip-path=\"url(#clip540)\" d=\"M443.612 1544.91 L459.931 1544.91 L459.931 1548.85 L437.987 1548.85 L437.987 1544.91 Q440.649 1542.16 445.232 1537.53 Q449.838 1532.88 451.019 1531.53 Q453.264 1529.01 454.144 1527.27 Q455.047 1525.51 455.047 1523.82 Q455.047 1521.07 453.102 1519.33 Q451.181 1517.6 448.079 1517.6 Q445.88 1517.6 443.426 1518.36 Q440.996 1519.13 438.218 1520.68 L438.218 1515.95 Q441.042 1514.82 443.496 1514.24 Q445.95 1513.66 447.987 1513.66 Q453.357 1513.66 456.551 1516.35 Q459.746 1519.03 459.746 1523.52 Q459.746 1525.65 458.936 1527.57 Q458.149 1529.47 456.042 1532.07 Q455.463 1532.74 452.362 1535.95 Q449.26 1539.15 443.612 1544.91 Z\" fill=\"#000000\" fill-rule=\"nonzero\" fill-opacity=\"1\" /><path clip-path=\"url(#clip540)\" d=\"M912.379 1518.36 L900.573 1536.81 L912.379 1536.81 L912.379 1518.36 M911.152 1514.29 L917.031 1514.29 L917.031 1536.81 L921.962 1536.81 L921.962 1540.7 L917.031 1540.7 L917.031 1548.85 L912.379 1548.85 L912.379 1540.7 L896.777 1540.7 L896.777 1536.19 L911.152 1514.29 Z\" fill=\"#000000\" fill-rule=\"nonzero\" fill-opacity=\"1\" /><path clip-path=\"url(#clip540)\" d=\"M1370.18 1529.7 Q1367.04 1529.7 1365.18 1531.86 Q1363.36 1534.01 1363.36 1537.76 Q1363.36 1541.49 1365.18 1543.66 Q1367.04 1545.82 1370.18 1545.82 Q1373.33 1545.82 1375.16 1543.66 Q1377.01 1541.49 1377.01 1537.76 Q1377.01 1534.01 1375.16 1531.86 Q1373.33 1529.7 1370.18 1529.7 M1379.47 1515.05 L1379.47 1519.31 Q1377.71 1518.48 1375.9 1518.04 Q1374.12 1517.6 1372.36 1517.6 Q1367.73 1517.6 1365.28 1520.72 Q1362.85 1523.85 1362.5 1530.17 Q1363.87 1528.15 1365.93 1527.09 Q1367.99 1526 1370.46 1526 Q1375.67 1526 1378.68 1529.17 Q1381.71 1532.32 1381.71 1537.76 Q1381.71 1543.08 1378.56 1546.3 Q1375.42 1549.52 1370.18 1549.52 Q1364.19 1549.52 1361.02 1544.94 Q1357.85 1540.33 1357.85 1531.6 Q1357.85 1523.41 1361.74 1518.55 Q1365.62 1513.66 1372.18 1513.66 Q1373.93 1513.66 1375.72 1514.01 Q1377.52 1514.36 1379.47 1515.05 Z\" fill=\"#000000\" fill-rule=\"nonzero\" fill-opacity=\"1\" /><path clip-path=\"url(#clip540)\" d=\"M1830.19 1532.44 Q1826.86 1532.44 1824.94 1534.22 Q1823.04 1536 1823.04 1539.13 Q1823.04 1542.25 1824.94 1544.03 Q1826.86 1545.82 1830.19 1545.82 Q1833.52 1545.82 1835.44 1544.03 Q1837.37 1542.23 1837.37 1539.13 Q1837.37 1536 1835.44 1534.22 Q1833.55 1532.44 1830.19 1532.44 M1825.51 1530.45 Q1822.5 1529.7 1820.82 1527.64 Q1819.15 1525.58 1819.15 1522.62 Q1819.15 1518.48 1822.09 1516.07 Q1825.05 1513.66 1830.19 1513.66 Q1835.35 1513.66 1838.29 1516.07 Q1841.23 1518.48 1841.23 1522.62 Q1841.23 1525.58 1839.54 1527.64 Q1837.88 1529.7 1834.89 1530.45 Q1838.27 1531.23 1840.14 1533.52 Q1842.04 1535.82 1842.04 1539.13 Q1842.04 1544.15 1838.96 1546.83 Q1835.91 1549.52 1830.19 1549.52 Q1824.47 1549.52 1821.39 1546.83 Q1818.34 1544.15 1818.34 1539.13 Q1818.34 1535.82 1820.24 1533.52 Q1822.13 1531.23 1825.51 1530.45 M1823.8 1523.06 Q1823.8 1525.75 1825.47 1527.25 Q1827.16 1528.76 1830.19 1528.76 Q1833.2 1528.76 1834.89 1527.25 Q1836.6 1525.75 1836.6 1523.06 Q1836.6 1520.38 1834.89 1518.87 Q1833.2 1517.37 1830.19 1517.37 Q1827.16 1517.37 1825.47 1518.87 Q1823.8 1520.38 1823.8 1523.06 Z\" fill=\"#000000\" fill-rule=\"nonzero\" fill-opacity=\"1\" /><path clip-path=\"url(#clip540)\" d=\"M2265.29 1544.91 L2272.93 1544.91 L2272.93 1518.55 L2264.62 1520.21 L2264.62 1515.95 L2272.88 1514.29 L2277.56 1514.29 L2277.56 1544.91 L2285.2 1544.91 L2285.2 1548.85 L2265.29 1548.85 L2265.29 1544.91 Z\" fill=\"#000000\" fill-rule=\"nonzero\" fill-opacity=\"1\" /><path clip-path=\"url(#clip540)\" d=\"M2304.64 1517.37 Q2301.03 1517.37 2299.2 1520.93 Q2297.39 1524.47 2297.39 1531.6 Q2297.39 1538.71 2299.2 1542.27 Q2301.03 1545.82 2304.64 1545.82 Q2308.27 1545.82 2310.08 1542.27 Q2311.91 1538.71 2311.91 1531.6 Q2311.91 1524.47 2310.08 1520.93 Q2308.27 1517.37 2304.64 1517.37 M2304.64 1513.66 Q2310.45 1513.66 2313.51 1518.27 Q2316.58 1522.85 2316.58 1531.6 Q2316.58 1540.33 2313.51 1544.94 Q2310.45 1549.52 2304.64 1549.52 Q2298.83 1549.52 2295.75 1544.94 Q2292.7 1540.33 2292.7 1531.6 Q2292.7 1522.85 2295.75 1518.27 Q2298.83 1513.66 2304.64 1513.66 Z\" fill=\"#000000\" fill-rule=\"nonzero\" fill-opacity=\"1\" /><polyline clip-path=\"url(#clip542)\" style=\"stroke:#000000; stroke-linecap:round; stroke-linejoin:round; stroke-width:2; stroke-opacity:0.1; fill:none\" points=\"156.598,1313.16 2352.76,1313.16 \"/>\n",
       "<polyline clip-path=\"url(#clip542)\" style=\"stroke:#000000; stroke-linecap:round; stroke-linejoin:round; stroke-width:2; stroke-opacity:0.1; fill:none\" points=\"156.598,1118.53 2352.76,1118.53 \"/>\n",
       "<polyline clip-path=\"url(#clip542)\" style=\"stroke:#000000; stroke-linecap:round; stroke-linejoin:round; stroke-width:2; stroke-opacity:0.1; fill:none\" points=\"156.598,923.891 2352.76,923.891 \"/>\n",
       "<polyline clip-path=\"url(#clip542)\" style=\"stroke:#000000; stroke-linecap:round; stroke-linejoin:round; stroke-width:2; stroke-opacity:0.1; fill:none\" points=\"156.598,729.255 2352.76,729.255 \"/>\n",
       "<polyline clip-path=\"url(#clip542)\" style=\"stroke:#000000; stroke-linecap:round; stroke-linejoin:round; stroke-width:2; stroke-opacity:0.1; fill:none\" points=\"156.598,534.618 2352.76,534.618 \"/>\n",
       "<polyline clip-path=\"url(#clip542)\" style=\"stroke:#000000; stroke-linecap:round; stroke-linejoin:round; stroke-width:2; stroke-opacity:0.1; fill:none\" points=\"156.598,339.982 2352.76,339.982 \"/>\n",
       "<polyline clip-path=\"url(#clip542)\" style=\"stroke:#000000; stroke-linecap:round; stroke-linejoin:round; stroke-width:2; stroke-opacity:0.1; fill:none\" points=\"156.598,145.346 2352.76,145.346 \"/>\n",
       "<polyline clip-path=\"url(#clip540)\" style=\"stroke:#000000; stroke-linecap:round; stroke-linejoin:round; stroke-width:4; stroke-opacity:1; fill:none\" points=\"156.598,1486.45 156.598,47.2441 \"/>\n",
       "<polyline clip-path=\"url(#clip540)\" style=\"stroke:#000000; stroke-linecap:round; stroke-linejoin:round; stroke-width:4; stroke-opacity:1; fill:none\" points=\"156.598,1313.16 175.496,1313.16 \"/>\n",
       "<polyline clip-path=\"url(#clip540)\" style=\"stroke:#000000; stroke-linecap:round; stroke-linejoin:round; stroke-width:4; stroke-opacity:1; fill:none\" points=\"156.598,1118.53 175.496,1118.53 \"/>\n",
       "<polyline clip-path=\"url(#clip540)\" style=\"stroke:#000000; stroke-linecap:round; stroke-linejoin:round; stroke-width:4; stroke-opacity:1; fill:none\" points=\"156.598,923.891 175.496,923.891 \"/>\n",
       "<polyline clip-path=\"url(#clip540)\" style=\"stroke:#000000; stroke-linecap:round; stroke-linejoin:round; stroke-width:4; stroke-opacity:1; fill:none\" points=\"156.598,729.255 175.496,729.255 \"/>\n",
       "<polyline clip-path=\"url(#clip540)\" style=\"stroke:#000000; stroke-linecap:round; stroke-linejoin:round; stroke-width:4; stroke-opacity:1; fill:none\" points=\"156.598,534.618 175.496,534.618 \"/>\n",
       "<polyline clip-path=\"url(#clip540)\" style=\"stroke:#000000; stroke-linecap:round; stroke-linejoin:round; stroke-width:4; stroke-opacity:1; fill:none\" points=\"156.598,339.982 175.496,339.982 \"/>\n",
       "<polyline clip-path=\"url(#clip540)\" style=\"stroke:#000000; stroke-linecap:round; stroke-linejoin:round; stroke-width:4; stroke-opacity:1; fill:none\" points=\"156.598,145.346 175.496,145.346 \"/>\n",
       "<path clip-path=\"url(#clip540)\" d=\"M64.0708 1298.96 Q60.4597 1298.96 58.631 1302.53 Q56.8254 1306.07 56.8254 1313.2 Q56.8254 1320.3 58.631 1323.87 Q60.4597 1327.41 64.0708 1327.41 Q67.705 1327.41 69.5105 1323.87 Q71.3392 1320.3 71.3392 1313.2 Q71.3392 1306.07 69.5105 1302.53 Q67.705 1298.96 64.0708 1298.96 M64.0708 1295.26 Q69.8809 1295.26 72.9365 1299.87 Q76.0151 1304.45 76.0151 1313.2 Q76.0151 1321.93 72.9365 1326.53 Q69.8809 1331.12 64.0708 1331.12 Q58.2606 1331.12 55.1819 1326.53 Q52.1264 1321.93 52.1264 1313.2 Q52.1264 1304.45 55.1819 1299.87 Q58.2606 1295.26 64.0708 1295.26 Z\" fill=\"#000000\" fill-rule=\"nonzero\" fill-opacity=\"1\" /><path clip-path=\"url(#clip540)\" d=\"M84.2327 1324.56 L89.1169 1324.56 L89.1169 1330.44 L84.2327 1330.44 L84.2327 1324.56 Z\" fill=\"#000000\" fill-rule=\"nonzero\" fill-opacity=\"1\" /><path clip-path=\"url(#clip540)\" d=\"M113.469 1311.81 Q116.825 1312.53 118.7 1314.8 Q120.598 1317.06 120.598 1320.4 Q120.598 1325.51 117.08 1328.31 Q113.561 1331.12 107.08 1331.12 Q104.904 1331.12 102.589 1330.68 Q100.297 1330.26 97.8437 1329.4 L97.8437 1324.89 Q99.7882 1326.02 102.103 1326.6 Q104.418 1327.18 106.941 1327.18 Q111.339 1327.18 113.631 1325.44 Q115.945 1323.71 115.945 1320.4 Q115.945 1317.34 113.793 1315.63 Q111.663 1313.89 107.844 1313.89 L103.816 1313.89 L103.816 1310.05 L108.029 1310.05 Q111.478 1310.05 113.307 1308.68 Q115.135 1307.3 115.135 1304.7 Q115.135 1302.04 113.237 1300.63 Q111.362 1299.19 107.844 1299.19 Q105.922 1299.19 103.723 1299.61 Q101.524 1300.03 98.8854 1300.91 L98.8854 1296.74 Q101.547 1296 103.862 1295.63 Q106.2 1295.26 108.26 1295.26 Q113.584 1295.26 116.686 1297.69 Q119.788 1300.1 119.788 1304.22 Q119.788 1307.09 118.145 1309.08 Q116.501 1311.05 113.469 1311.81 Z\" fill=\"#000000\" fill-rule=\"nonzero\" fill-opacity=\"1\" /><path clip-path=\"url(#clip540)\" d=\"M62.9365 1104.33 Q59.3254 1104.33 57.4967 1107.89 Q55.6912 1111.43 55.6912 1118.56 Q55.6912 1125.67 57.4967 1129.23 Q59.3254 1132.78 62.9365 1132.78 Q66.5707 1132.78 68.3763 1129.23 Q70.205 1125.67 70.205 1118.56 Q70.205 1111.43 68.3763 1107.89 Q66.5707 1104.33 62.9365 1104.33 M62.9365 1100.62 Q68.7467 1100.62 71.8022 1105.23 Q74.8809 1109.81 74.8809 1118.56 Q74.8809 1127.29 71.8022 1131.9 Q68.7467 1136.48 62.9365 1136.48 Q57.1264 1136.48 54.0477 1131.9 Q50.9921 1127.29 50.9921 1118.56 Q50.9921 1109.81 54.0477 1105.23 Q57.1264 1100.62 62.9365 1100.62 Z\" fill=\"#000000\" fill-rule=\"nonzero\" fill-opacity=\"1\" /><path clip-path=\"url(#clip540)\" d=\"M83.0984 1129.93 L87.9827 1129.93 L87.9827 1135.81 L83.0984 1135.81 L83.0984 1129.93 Z\" fill=\"#000000\" fill-rule=\"nonzero\" fill-opacity=\"1\" /><path clip-path=\"url(#clip540)\" d=\"M111.015 1105.32 L99.2095 1123.77 L111.015 1123.77 L111.015 1105.32 M109.788 1101.25 L115.668 1101.25 L115.668 1123.77 L120.598 1123.77 L120.598 1127.66 L115.668 1127.66 L115.668 1135.81 L111.015 1135.81 L111.015 1127.66 L95.4132 1127.66 L95.4132 1123.15 L109.788 1101.25 Z\" fill=\"#000000\" fill-rule=\"nonzero\" fill-opacity=\"1\" /><path clip-path=\"url(#clip540)\" d=\"M64.418 909.69 Q60.8069 909.69 58.9782 913.255 Q57.1726 916.796 57.1726 923.926 Q57.1726 931.032 58.9782 934.597 Q60.8069 938.139 64.418 938.139 Q68.0522 938.139 69.8578 934.597 Q71.6865 931.032 71.6865 923.926 Q71.6865 916.796 69.8578 913.255 Q68.0522 909.69 64.418 909.69 M64.418 905.986 Q70.2281 905.986 73.2837 910.592 Q76.3624 915.176 76.3624 923.926 Q76.3624 932.653 73.2837 937.259 Q70.2281 941.842 64.418 941.842 Q58.6078 941.842 55.5291 937.259 Q52.4736 932.653 52.4736 923.926 Q52.4736 915.176 55.5291 910.592 Q58.6078 905.986 64.418 905.986 Z\" fill=\"#000000\" fill-rule=\"nonzero\" fill-opacity=\"1\" /><path clip-path=\"url(#clip540)\" d=\"M84.5799 935.291 L89.4641 935.291 L89.4641 941.171 L84.5799 941.171 L84.5799 935.291 Z\" fill=\"#000000\" fill-rule=\"nonzero\" fill-opacity=\"1\" /><path clip-path=\"url(#clip540)\" d=\"M99.6956 906.611 L118.052 906.611 L118.052 910.546 L103.978 910.546 L103.978 919.018 Q104.996 918.671 106.015 918.509 Q107.033 918.324 108.052 918.324 Q113.839 918.324 117.219 921.495 Q120.598 924.666 120.598 930.083 Q120.598 935.662 117.126 938.764 Q113.654 941.842 107.334 941.842 Q105.159 941.842 102.89 941.472 Q100.645 941.102 98.2372 940.361 L98.2372 935.662 Q100.321 936.796 102.543 937.352 Q104.765 937.907 107.242 937.907 Q111.246 937.907 113.584 935.801 Q115.922 933.694 115.922 930.083 Q115.922 926.472 113.584 924.366 Q111.246 922.259 107.242 922.259 Q105.367 922.259 103.492 922.676 Q101.64 923.092 99.6956 923.972 L99.6956 906.611 Z\" fill=\"#000000\" fill-rule=\"nonzero\" fill-opacity=\"1\" /><path clip-path=\"url(#clip540)\" d=\"M63.2606 715.053 Q59.6495 715.053 57.8208 718.618 Q56.0152 722.16 56.0152 729.289 Q56.0152 736.396 57.8208 739.961 Q59.6495 743.502 63.2606 743.502 Q66.8948 743.502 68.7004 739.961 Q70.5291 736.396 70.5291 729.289 Q70.5291 722.16 68.7004 718.618 Q66.8948 715.053 63.2606 715.053 M63.2606 711.35 Q69.0707 711.35 72.1263 715.956 Q75.205 720.539 75.205 729.289 Q75.205 738.016 72.1263 742.623 Q69.0707 747.206 63.2606 747.206 Q57.4504 747.206 54.3717 742.623 Q51.3162 738.016 51.3162 729.289 Q51.3162 720.539 54.3717 715.956 Q57.4504 711.35 63.2606 711.35 Z\" fill=\"#000000\" fill-rule=\"nonzero\" fill-opacity=\"1\" /><path clip-path=\"url(#clip540)\" d=\"M83.4225 740.655 L88.3067 740.655 L88.3067 746.535 L83.4225 746.535 L83.4225 740.655 Z\" fill=\"#000000\" fill-rule=\"nonzero\" fill-opacity=\"1\" /><path clip-path=\"url(#clip540)\" d=\"M109.071 727.391 Q105.922 727.391 104.071 729.544 Q102.242 731.697 102.242 735.447 Q102.242 739.174 104.071 741.349 Q105.922 743.502 109.071 743.502 Q112.219 743.502 114.047 741.349 Q115.899 739.174 115.899 735.447 Q115.899 731.697 114.047 729.544 Q112.219 727.391 109.071 727.391 M118.353 712.739 L118.353 716.998 Q116.594 716.164 114.788 715.725 Q113.006 715.285 111.246 715.285 Q106.617 715.285 104.163 718.41 Q101.733 721.535 101.385 727.854 Q102.751 725.84 104.811 724.776 Q106.871 723.688 109.348 723.688 Q114.557 723.688 117.566 726.859 Q120.598 730.007 120.598 735.447 Q120.598 740.771 117.45 743.988 Q114.302 747.206 109.071 747.206 Q103.075 747.206 99.9039 742.623 Q96.7326 738.016 96.7326 729.289 Q96.7326 721.095 100.621 716.234 Q104.51 711.35 111.061 711.35 Q112.82 711.35 114.603 711.697 Q116.408 712.044 118.353 712.739 Z\" fill=\"#000000\" fill-rule=\"nonzero\" fill-opacity=\"1\" /><path clip-path=\"url(#clip540)\" d=\"M64.3254 520.417 Q60.7143 520.417 58.8856 523.982 Q57.0801 527.523 57.0801 534.653 Q57.0801 541.759 58.8856 545.324 Q60.7143 548.866 64.3254 548.866 Q67.9596 548.866 69.7652 545.324 Q71.5939 541.759 71.5939 534.653 Q71.5939 527.523 69.7652 523.982 Q67.9596 520.417 64.3254 520.417 M64.3254 516.713 Q70.1355 516.713 73.1911 521.32 Q76.2698 525.903 76.2698 534.653 Q76.2698 543.38 73.1911 547.986 Q70.1355 552.57 64.3254 552.57 Q58.5152 552.57 55.4365 547.986 Q52.381 543.38 52.381 534.653 Q52.381 525.903 55.4365 521.32 Q58.5152 516.713 64.3254 516.713 Z\" fill=\"#000000\" fill-rule=\"nonzero\" fill-opacity=\"1\" /><path clip-path=\"url(#clip540)\" d=\"M84.4873 546.019 L89.3715 546.019 L89.3715 551.898 L84.4873 551.898 L84.4873 546.019 Z\" fill=\"#000000\" fill-rule=\"nonzero\" fill-opacity=\"1\" /><path clip-path=\"url(#clip540)\" d=\"M98.3761 517.338 L120.598 517.338 L120.598 519.329 L108.052 551.898 L103.168 551.898 L114.973 521.273 L98.3761 521.273 L98.3761 517.338 Z\" fill=\"#000000\" fill-rule=\"nonzero\" fill-opacity=\"1\" /><path clip-path=\"url(#clip540)\" d=\"M63.5152 325.781 Q59.9041 325.781 58.0754 329.345 Q56.2699 332.887 56.2699 340.017 Q56.2699 347.123 58.0754 350.688 Q59.9041 354.229 63.5152 354.229 Q67.1494 354.229 68.955 350.688 Q70.7837 347.123 70.7837 340.017 Q70.7837 332.887 68.955 329.345 Q67.1494 325.781 63.5152 325.781 M63.5152 322.077 Q69.3254 322.077 72.3809 326.683 Q75.4596 331.267 75.4596 340.017 Q75.4596 348.743 72.3809 353.35 Q69.3254 357.933 63.5152 357.933 Q57.7051 357.933 54.6264 353.35 Q51.5708 348.743 51.5708 340.017 Q51.5708 331.267 54.6264 326.683 Q57.7051 322.077 63.5152 322.077 Z\" fill=\"#000000\" fill-rule=\"nonzero\" fill-opacity=\"1\" /><path clip-path=\"url(#clip540)\" d=\"M83.6771 351.382 L88.5614 351.382 L88.5614 357.262 L83.6771 357.262 L83.6771 351.382 Z\" fill=\"#000000\" fill-rule=\"nonzero\" fill-opacity=\"1\" /><path clip-path=\"url(#clip540)\" d=\"M108.746 340.85 Q105.413 340.85 103.492 342.632 Q101.594 344.415 101.594 347.54 Q101.594 350.665 103.492 352.447 Q105.413 354.229 108.746 354.229 Q112.08 354.229 114.001 352.447 Q115.922 350.642 115.922 347.54 Q115.922 344.415 114.001 342.632 Q112.103 340.85 108.746 340.85 M104.071 338.859 Q101.061 338.118 99.3715 336.058 Q97.7048 333.998 97.7048 331.035 Q97.7048 326.892 100.645 324.484 Q103.608 322.077 108.746 322.077 Q113.908 322.077 116.848 324.484 Q119.788 326.892 119.788 331.035 Q119.788 333.998 118.098 336.058 Q116.432 338.118 113.445 338.859 Q116.825 339.646 118.7 341.938 Q120.598 344.23 120.598 347.54 Q120.598 352.563 117.52 355.248 Q114.464 357.933 108.746 357.933 Q103.029 357.933 99.9502 355.248 Q96.8947 352.563 96.8947 347.54 Q96.8947 344.23 98.7928 341.938 Q100.691 339.646 104.071 338.859 M102.358 331.475 Q102.358 334.16 104.024 335.665 Q105.714 337.169 108.746 337.169 Q111.756 337.169 113.445 335.665 Q115.158 334.16 115.158 331.475 Q115.158 328.79 113.445 327.285 Q111.756 325.781 108.746 325.781 Q105.714 325.781 104.024 327.285 Q102.358 328.79 102.358 331.475 Z\" fill=\"#000000\" fill-rule=\"nonzero\" fill-opacity=\"1\" /><path clip-path=\"url(#clip540)\" d=\"M63.6078 131.144 Q59.9967 131.144 58.168 134.709 Q56.3625 138.251 56.3625 145.38 Q56.3625 152.487 58.168 156.051 Q59.9967 159.593 63.6078 159.593 Q67.242 159.593 69.0476 156.051 Q70.8763 152.487 70.8763 145.38 Q70.8763 138.251 69.0476 134.709 Q67.242 131.144 63.6078 131.144 M63.6078 127.441 Q69.418 127.441 72.4735 132.047 Q75.5522 136.63 75.5522 145.38 Q75.5522 154.107 72.4735 158.713 Q69.418 163.297 63.6078 163.297 Q57.7976 163.297 54.719 158.713 Q51.6634 154.107 51.6634 145.38 Q51.6634 136.63 54.719 132.047 Q57.7976 127.441 63.6078 127.441 Z\" fill=\"#000000\" fill-rule=\"nonzero\" fill-opacity=\"1\" /><path clip-path=\"url(#clip540)\" d=\"M83.7697 156.746 L88.654 156.746 L88.654 162.626 L83.7697 162.626 L83.7697 156.746 Z\" fill=\"#000000\" fill-rule=\"nonzero\" fill-opacity=\"1\" /><path clip-path=\"url(#clip540)\" d=\"M98.978 161.908 L98.978 157.649 Q100.737 158.482 102.543 158.922 Q104.348 159.362 106.084 159.362 Q110.714 159.362 113.145 156.26 Q115.598 153.135 115.945 146.792 Q114.603 148.783 112.543 149.848 Q110.483 150.913 107.983 150.913 Q102.797 150.913 99.765 147.788 Q96.7558 144.639 96.7558 139.2 Q96.7558 133.876 99.9039 130.658 Q103.052 127.441 108.283 127.441 Q114.279 127.441 117.427 132.047 Q120.598 136.63 120.598 145.38 Q120.598 153.551 116.709 158.436 Q112.844 163.297 106.293 163.297 Q104.534 163.297 102.728 162.95 Q100.922 162.602 98.978 161.908 M108.283 147.255 Q111.432 147.255 113.26 145.102 Q115.112 142.95 115.112 139.2 Q115.112 135.473 113.26 133.32 Q111.432 131.144 108.283 131.144 Q105.135 131.144 103.284 133.32 Q101.455 135.473 101.455 139.2 Q101.455 142.95 103.284 145.102 Q105.135 147.255 108.283 147.255 Z\" fill=\"#000000\" fill-rule=\"nonzero\" fill-opacity=\"1\" /><polyline clip-path=\"url(#clip542)\" style=\"stroke:#009af9; stroke-linecap:round; stroke-linejoin:round; stroke-width:4; stroke-opacity:1; fill:none\" points=\"218.754,682.362 448.959,142.278 679.164,87.9763 909.369,1360.04 1139.57,188.63 1369.78,973.519 1599.98,662.159 1830.19,1397.44 2060.4,1445.72 2290.6,375.232 \"/>\n",
       "<path clip-path=\"url(#clip540)\" d=\"M229.803 1438.47 L501.85 1438.47 L501.85 1334.79 L229.803 1334.79  Z\" fill=\"#ffffff\" fill-rule=\"evenodd\" fill-opacity=\"1\"/>\n",
       "<polyline clip-path=\"url(#clip540)\" style=\"stroke:#000000; stroke-linecap:round; stroke-linejoin:round; stroke-width:4; stroke-opacity:1; fill:none\" points=\"229.803,1438.47 501.85,1438.47 501.85,1334.79 229.803,1334.79 229.803,1438.47 \"/>\n",
       "<polyline clip-path=\"url(#clip540)\" style=\"stroke:#009af9; stroke-linecap:round; stroke-linejoin:round; stroke-width:4; stroke-opacity:1; fill:none\" points=\"254.205,1386.63 400.616,1386.63 \"/>\n",
       "<path clip-path=\"url(#clip540)\" d=\"M438.86 1406.32 Q437.054 1410.95 435.342 1412.36 Q433.629 1413.78 430.758 1413.78 L427.355 1413.78 L427.355 1410.21 L429.855 1410.21 Q431.615 1410.21 432.587 1409.38 Q433.559 1408.54 434.74 1405.44 L435.504 1403.5 L425.018 1377.99 L429.531 1377.99 L437.633 1398.27 L445.735 1377.99 L450.249 1377.99 L438.86 1406.32 Z\" fill=\"#000000\" fill-rule=\"nonzero\" fill-opacity=\"1\" /><path clip-path=\"url(#clip540)\" d=\"M457.54 1399.98 L465.179 1399.98 L465.179 1373.61 L456.869 1375.28 L456.869 1371.02 L465.133 1369.35 L469.809 1369.35 L469.809 1399.98 L477.448 1399.98 L477.448 1403.91 L457.54 1403.91 L457.54 1399.98 Z\" fill=\"#000000\" fill-rule=\"nonzero\" fill-opacity=\"1\" /></svg>\n"
      ],
      "text/html": [
       "<?xml version=\"1.0\" encoding=\"utf-8\"?>\n",
       "<svg xmlns=\"http://www.w3.org/2000/svg\" xmlns:xlink=\"http://www.w3.org/1999/xlink\" width=\"600\" height=\"400\" viewBox=\"0 0 2400 1600\">\n",
       "<defs>\n",
       "  <clipPath id=\"clip590\">\n",
       "    <rect x=\"0\" y=\"0\" width=\"2400\" height=\"1600\"/>\n",
       "  </clipPath>\n",
       "</defs>\n",
       "<path clip-path=\"url(#clip590)\" d=\"M0 1600 L2400 1600 L2400 0 L0 0  Z\" fill=\"#ffffff\" fill-rule=\"evenodd\" fill-opacity=\"1\"/>\n",
       "<defs>\n",
       "  <clipPath id=\"clip591\">\n",
       "    <rect x=\"480\" y=\"0\" width=\"1681\" height=\"1600\"/>\n",
       "  </clipPath>\n",
       "</defs>\n",
       "<path clip-path=\"url(#clip590)\" d=\"M156.598 1486.45 L2352.76 1486.45 L2352.76 47.2441 L156.598 47.2441  Z\" fill=\"#ffffff\" fill-rule=\"evenodd\" fill-opacity=\"1\"/>\n",
       "<defs>\n",
       "  <clipPath id=\"clip592\">\n",
       "    <rect x=\"156\" y=\"47\" width=\"2197\" height=\"1440\"/>\n",
       "  </clipPath>\n",
       "</defs>\n",
       "<polyline clip-path=\"url(#clip592)\" style=\"stroke:#000000; stroke-linecap:round; stroke-linejoin:round; stroke-width:2; stroke-opacity:0.1; fill:none\" points=\"448.959,1486.45 448.959,47.2441 \"/>\n",
       "<polyline clip-path=\"url(#clip592)\" style=\"stroke:#000000; stroke-linecap:round; stroke-linejoin:round; stroke-width:2; stroke-opacity:0.1; fill:none\" points=\"909.369,1486.45 909.369,47.2441 \"/>\n",
       "<polyline clip-path=\"url(#clip592)\" style=\"stroke:#000000; stroke-linecap:round; stroke-linejoin:round; stroke-width:2; stroke-opacity:0.1; fill:none\" points=\"1369.78,1486.45 1369.78,47.2441 \"/>\n",
       "<polyline clip-path=\"url(#clip592)\" style=\"stroke:#000000; stroke-linecap:round; stroke-linejoin:round; stroke-width:2; stroke-opacity:0.1; fill:none\" points=\"1830.19,1486.45 1830.19,47.2441 \"/>\n",
       "<polyline clip-path=\"url(#clip592)\" style=\"stroke:#000000; stroke-linecap:round; stroke-linejoin:round; stroke-width:2; stroke-opacity:0.1; fill:none\" points=\"2290.6,1486.45 2290.6,47.2441 \"/>\n",
       "<polyline clip-path=\"url(#clip590)\" style=\"stroke:#000000; stroke-linecap:round; stroke-linejoin:round; stroke-width:4; stroke-opacity:1; fill:none\" points=\"156.598,1486.45 2352.76,1486.45 \"/>\n",
       "<polyline clip-path=\"url(#clip590)\" style=\"stroke:#000000; stroke-linecap:round; stroke-linejoin:round; stroke-width:4; stroke-opacity:1; fill:none\" points=\"448.959,1486.45 448.959,1467.55 \"/>\n",
       "<polyline clip-path=\"url(#clip590)\" style=\"stroke:#000000; stroke-linecap:round; stroke-linejoin:round; stroke-width:4; stroke-opacity:1; fill:none\" points=\"909.369,1486.45 909.369,1467.55 \"/>\n",
       "<polyline clip-path=\"url(#clip590)\" style=\"stroke:#000000; stroke-linecap:round; stroke-linejoin:round; stroke-width:4; stroke-opacity:1; fill:none\" points=\"1369.78,1486.45 1369.78,1467.55 \"/>\n",
       "<polyline clip-path=\"url(#clip590)\" style=\"stroke:#000000; stroke-linecap:round; stroke-linejoin:round; stroke-width:4; stroke-opacity:1; fill:none\" points=\"1830.19,1486.45 1830.19,1467.55 \"/>\n",
       "<polyline clip-path=\"url(#clip590)\" style=\"stroke:#000000; stroke-linecap:round; stroke-linejoin:round; stroke-width:4; stroke-opacity:1; fill:none\" points=\"2290.6,1486.45 2290.6,1467.55 \"/>\n",
       "<path clip-path=\"url(#clip590)\" d=\"M443.612 1544.91 L459.931 1544.91 L459.931 1548.85 L437.987 1548.85 L437.987 1544.91 Q440.649 1542.16 445.232 1537.53 Q449.838 1532.88 451.019 1531.53 Q453.264 1529.01 454.144 1527.27 Q455.047 1525.51 455.047 1523.82 Q455.047 1521.07 453.102 1519.33 Q451.181 1517.6 448.079 1517.6 Q445.88 1517.6 443.426 1518.36 Q440.996 1519.13 438.218 1520.68 L438.218 1515.95 Q441.042 1514.82 443.496 1514.24 Q445.95 1513.66 447.987 1513.66 Q453.357 1513.66 456.551 1516.35 Q459.746 1519.03 459.746 1523.52 Q459.746 1525.65 458.936 1527.57 Q458.149 1529.47 456.042 1532.07 Q455.463 1532.74 452.362 1535.95 Q449.26 1539.15 443.612 1544.91 Z\" fill=\"#000000\" fill-rule=\"nonzero\" fill-opacity=\"1\" /><path clip-path=\"url(#clip590)\" d=\"M912.379 1518.36 L900.573 1536.81 L912.379 1536.81 L912.379 1518.36 M911.152 1514.29 L917.031 1514.29 L917.031 1536.81 L921.962 1536.81 L921.962 1540.7 L917.031 1540.7 L917.031 1548.85 L912.379 1548.85 L912.379 1540.7 L896.777 1540.7 L896.777 1536.19 L911.152 1514.29 Z\" fill=\"#000000\" fill-rule=\"nonzero\" fill-opacity=\"1\" /><path clip-path=\"url(#clip590)\" d=\"M1370.18 1529.7 Q1367.04 1529.7 1365.18 1531.86 Q1363.36 1534.01 1363.36 1537.76 Q1363.36 1541.49 1365.18 1543.66 Q1367.04 1545.82 1370.18 1545.82 Q1373.33 1545.82 1375.16 1543.66 Q1377.01 1541.49 1377.01 1537.76 Q1377.01 1534.01 1375.16 1531.86 Q1373.33 1529.7 1370.18 1529.7 M1379.47 1515.05 L1379.47 1519.31 Q1377.71 1518.48 1375.9 1518.04 Q1374.12 1517.6 1372.36 1517.6 Q1367.73 1517.6 1365.28 1520.72 Q1362.85 1523.85 1362.5 1530.17 Q1363.87 1528.15 1365.93 1527.09 Q1367.99 1526 1370.46 1526 Q1375.67 1526 1378.68 1529.17 Q1381.71 1532.32 1381.71 1537.76 Q1381.71 1543.08 1378.56 1546.3 Q1375.42 1549.52 1370.18 1549.52 Q1364.19 1549.52 1361.02 1544.94 Q1357.85 1540.33 1357.85 1531.6 Q1357.85 1523.41 1361.74 1518.55 Q1365.62 1513.66 1372.18 1513.66 Q1373.93 1513.66 1375.72 1514.01 Q1377.52 1514.36 1379.47 1515.05 Z\" fill=\"#000000\" fill-rule=\"nonzero\" fill-opacity=\"1\" /><path clip-path=\"url(#clip590)\" d=\"M1830.19 1532.44 Q1826.86 1532.44 1824.94 1534.22 Q1823.04 1536 1823.04 1539.13 Q1823.04 1542.25 1824.94 1544.03 Q1826.86 1545.82 1830.19 1545.82 Q1833.52 1545.82 1835.44 1544.03 Q1837.37 1542.23 1837.37 1539.13 Q1837.37 1536 1835.44 1534.22 Q1833.55 1532.44 1830.19 1532.44 M1825.51 1530.45 Q1822.5 1529.7 1820.82 1527.64 Q1819.15 1525.58 1819.15 1522.62 Q1819.15 1518.48 1822.09 1516.07 Q1825.05 1513.66 1830.19 1513.66 Q1835.35 1513.66 1838.29 1516.07 Q1841.23 1518.48 1841.23 1522.62 Q1841.23 1525.58 1839.54 1527.64 Q1837.88 1529.7 1834.89 1530.45 Q1838.27 1531.23 1840.14 1533.52 Q1842.04 1535.82 1842.04 1539.13 Q1842.04 1544.15 1838.96 1546.83 Q1835.91 1549.52 1830.19 1549.52 Q1824.47 1549.52 1821.39 1546.83 Q1818.34 1544.15 1818.34 1539.13 Q1818.34 1535.82 1820.24 1533.52 Q1822.13 1531.23 1825.51 1530.45 M1823.8 1523.06 Q1823.8 1525.75 1825.47 1527.25 Q1827.16 1528.76 1830.19 1528.76 Q1833.2 1528.76 1834.89 1527.25 Q1836.6 1525.75 1836.6 1523.06 Q1836.6 1520.38 1834.89 1518.87 Q1833.2 1517.37 1830.19 1517.37 Q1827.16 1517.37 1825.47 1518.87 Q1823.8 1520.38 1823.8 1523.06 Z\" fill=\"#000000\" fill-rule=\"nonzero\" fill-opacity=\"1\" /><path clip-path=\"url(#clip590)\" d=\"M2265.29 1544.91 L2272.93 1544.91 L2272.93 1518.55 L2264.62 1520.21 L2264.62 1515.95 L2272.88 1514.29 L2277.56 1514.29 L2277.56 1544.91 L2285.2 1544.91 L2285.2 1548.85 L2265.29 1548.85 L2265.29 1544.91 Z\" fill=\"#000000\" fill-rule=\"nonzero\" fill-opacity=\"1\" /><path clip-path=\"url(#clip590)\" d=\"M2304.64 1517.37 Q2301.03 1517.37 2299.2 1520.93 Q2297.39 1524.47 2297.39 1531.6 Q2297.39 1538.71 2299.2 1542.27 Q2301.03 1545.82 2304.64 1545.82 Q2308.27 1545.82 2310.08 1542.27 Q2311.91 1538.71 2311.91 1531.6 Q2311.91 1524.47 2310.08 1520.93 Q2308.27 1517.37 2304.64 1517.37 M2304.64 1513.66 Q2310.45 1513.66 2313.51 1518.27 Q2316.58 1522.85 2316.58 1531.6 Q2316.58 1540.33 2313.51 1544.94 Q2310.45 1549.52 2304.64 1549.52 Q2298.83 1549.52 2295.75 1544.94 Q2292.7 1540.33 2292.7 1531.6 Q2292.7 1522.85 2295.75 1518.27 Q2298.83 1513.66 2304.64 1513.66 Z\" fill=\"#000000\" fill-rule=\"nonzero\" fill-opacity=\"1\" /><polyline clip-path=\"url(#clip592)\" style=\"stroke:#000000; stroke-linecap:round; stroke-linejoin:round; stroke-width:2; stroke-opacity:0.1; fill:none\" points=\"156.598,1313.16 2352.76,1313.16 \"/>\n",
       "<polyline clip-path=\"url(#clip592)\" style=\"stroke:#000000; stroke-linecap:round; stroke-linejoin:round; stroke-width:2; stroke-opacity:0.1; fill:none\" points=\"156.598,1118.53 2352.76,1118.53 \"/>\n",
       "<polyline clip-path=\"url(#clip592)\" style=\"stroke:#000000; stroke-linecap:round; stroke-linejoin:round; stroke-width:2; stroke-opacity:0.1; fill:none\" points=\"156.598,923.891 2352.76,923.891 \"/>\n",
       "<polyline clip-path=\"url(#clip592)\" style=\"stroke:#000000; stroke-linecap:round; stroke-linejoin:round; stroke-width:2; stroke-opacity:0.1; fill:none\" points=\"156.598,729.255 2352.76,729.255 \"/>\n",
       "<polyline clip-path=\"url(#clip592)\" style=\"stroke:#000000; stroke-linecap:round; stroke-linejoin:round; stroke-width:2; stroke-opacity:0.1; fill:none\" points=\"156.598,534.618 2352.76,534.618 \"/>\n",
       "<polyline clip-path=\"url(#clip592)\" style=\"stroke:#000000; stroke-linecap:round; stroke-linejoin:round; stroke-width:2; stroke-opacity:0.1; fill:none\" points=\"156.598,339.982 2352.76,339.982 \"/>\n",
       "<polyline clip-path=\"url(#clip592)\" style=\"stroke:#000000; stroke-linecap:round; stroke-linejoin:round; stroke-width:2; stroke-opacity:0.1; fill:none\" points=\"156.598,145.346 2352.76,145.346 \"/>\n",
       "<polyline clip-path=\"url(#clip590)\" style=\"stroke:#000000; stroke-linecap:round; stroke-linejoin:round; stroke-width:4; stroke-opacity:1; fill:none\" points=\"156.598,1486.45 156.598,47.2441 \"/>\n",
       "<polyline clip-path=\"url(#clip590)\" style=\"stroke:#000000; stroke-linecap:round; stroke-linejoin:round; stroke-width:4; stroke-opacity:1; fill:none\" points=\"156.598,1313.16 175.496,1313.16 \"/>\n",
       "<polyline clip-path=\"url(#clip590)\" style=\"stroke:#000000; stroke-linecap:round; stroke-linejoin:round; stroke-width:4; stroke-opacity:1; fill:none\" points=\"156.598,1118.53 175.496,1118.53 \"/>\n",
       "<polyline clip-path=\"url(#clip590)\" style=\"stroke:#000000; stroke-linecap:round; stroke-linejoin:round; stroke-width:4; stroke-opacity:1; fill:none\" points=\"156.598,923.891 175.496,923.891 \"/>\n",
       "<polyline clip-path=\"url(#clip590)\" style=\"stroke:#000000; stroke-linecap:round; stroke-linejoin:round; stroke-width:4; stroke-opacity:1; fill:none\" points=\"156.598,729.255 175.496,729.255 \"/>\n",
       "<polyline clip-path=\"url(#clip590)\" style=\"stroke:#000000; stroke-linecap:round; stroke-linejoin:round; stroke-width:4; stroke-opacity:1; fill:none\" points=\"156.598,534.618 175.496,534.618 \"/>\n",
       "<polyline clip-path=\"url(#clip590)\" style=\"stroke:#000000; stroke-linecap:round; stroke-linejoin:round; stroke-width:4; stroke-opacity:1; fill:none\" points=\"156.598,339.982 175.496,339.982 \"/>\n",
       "<polyline clip-path=\"url(#clip590)\" style=\"stroke:#000000; stroke-linecap:round; stroke-linejoin:round; stroke-width:4; stroke-opacity:1; fill:none\" points=\"156.598,145.346 175.496,145.346 \"/>\n",
       "<path clip-path=\"url(#clip590)\" d=\"M64.0708 1298.96 Q60.4597 1298.96 58.631 1302.53 Q56.8254 1306.07 56.8254 1313.2 Q56.8254 1320.3 58.631 1323.87 Q60.4597 1327.41 64.0708 1327.41 Q67.705 1327.41 69.5105 1323.87 Q71.3392 1320.3 71.3392 1313.2 Q71.3392 1306.07 69.5105 1302.53 Q67.705 1298.96 64.0708 1298.96 M64.0708 1295.26 Q69.8809 1295.26 72.9365 1299.87 Q76.0151 1304.45 76.0151 1313.2 Q76.0151 1321.93 72.9365 1326.53 Q69.8809 1331.12 64.0708 1331.12 Q58.2606 1331.12 55.1819 1326.53 Q52.1264 1321.93 52.1264 1313.2 Q52.1264 1304.45 55.1819 1299.87 Q58.2606 1295.26 64.0708 1295.26 Z\" fill=\"#000000\" fill-rule=\"nonzero\" fill-opacity=\"1\" /><path clip-path=\"url(#clip590)\" d=\"M84.2327 1324.56 L89.1169 1324.56 L89.1169 1330.44 L84.2327 1330.44 L84.2327 1324.56 Z\" fill=\"#000000\" fill-rule=\"nonzero\" fill-opacity=\"1\" /><path clip-path=\"url(#clip590)\" d=\"M113.469 1311.81 Q116.825 1312.53 118.7 1314.8 Q120.598 1317.06 120.598 1320.4 Q120.598 1325.51 117.08 1328.31 Q113.561 1331.12 107.08 1331.12 Q104.904 1331.12 102.589 1330.68 Q100.297 1330.26 97.8437 1329.4 L97.8437 1324.89 Q99.7882 1326.02 102.103 1326.6 Q104.418 1327.18 106.941 1327.18 Q111.339 1327.18 113.631 1325.44 Q115.945 1323.71 115.945 1320.4 Q115.945 1317.34 113.793 1315.63 Q111.663 1313.89 107.844 1313.89 L103.816 1313.89 L103.816 1310.05 L108.029 1310.05 Q111.478 1310.05 113.307 1308.68 Q115.135 1307.3 115.135 1304.7 Q115.135 1302.04 113.237 1300.63 Q111.362 1299.19 107.844 1299.19 Q105.922 1299.19 103.723 1299.61 Q101.524 1300.03 98.8854 1300.91 L98.8854 1296.74 Q101.547 1296 103.862 1295.63 Q106.2 1295.26 108.26 1295.26 Q113.584 1295.26 116.686 1297.69 Q119.788 1300.1 119.788 1304.22 Q119.788 1307.09 118.145 1309.08 Q116.501 1311.05 113.469 1311.81 Z\" fill=\"#000000\" fill-rule=\"nonzero\" fill-opacity=\"1\" /><path clip-path=\"url(#clip590)\" d=\"M62.9365 1104.33 Q59.3254 1104.33 57.4967 1107.89 Q55.6912 1111.43 55.6912 1118.56 Q55.6912 1125.67 57.4967 1129.23 Q59.3254 1132.78 62.9365 1132.78 Q66.5707 1132.78 68.3763 1129.23 Q70.205 1125.67 70.205 1118.56 Q70.205 1111.43 68.3763 1107.89 Q66.5707 1104.33 62.9365 1104.33 M62.9365 1100.62 Q68.7467 1100.62 71.8022 1105.23 Q74.8809 1109.81 74.8809 1118.56 Q74.8809 1127.29 71.8022 1131.9 Q68.7467 1136.48 62.9365 1136.48 Q57.1264 1136.48 54.0477 1131.9 Q50.9921 1127.29 50.9921 1118.56 Q50.9921 1109.81 54.0477 1105.23 Q57.1264 1100.62 62.9365 1100.62 Z\" fill=\"#000000\" fill-rule=\"nonzero\" fill-opacity=\"1\" /><path clip-path=\"url(#clip590)\" d=\"M83.0984 1129.93 L87.9827 1129.93 L87.9827 1135.81 L83.0984 1135.81 L83.0984 1129.93 Z\" fill=\"#000000\" fill-rule=\"nonzero\" fill-opacity=\"1\" /><path clip-path=\"url(#clip590)\" d=\"M111.015 1105.32 L99.2095 1123.77 L111.015 1123.77 L111.015 1105.32 M109.788 1101.25 L115.668 1101.25 L115.668 1123.77 L120.598 1123.77 L120.598 1127.66 L115.668 1127.66 L115.668 1135.81 L111.015 1135.81 L111.015 1127.66 L95.4132 1127.66 L95.4132 1123.15 L109.788 1101.25 Z\" fill=\"#000000\" fill-rule=\"nonzero\" fill-opacity=\"1\" /><path clip-path=\"url(#clip590)\" d=\"M64.418 909.69 Q60.8069 909.69 58.9782 913.255 Q57.1726 916.796 57.1726 923.926 Q57.1726 931.032 58.9782 934.597 Q60.8069 938.139 64.418 938.139 Q68.0522 938.139 69.8578 934.597 Q71.6865 931.032 71.6865 923.926 Q71.6865 916.796 69.8578 913.255 Q68.0522 909.69 64.418 909.69 M64.418 905.986 Q70.2281 905.986 73.2837 910.592 Q76.3624 915.176 76.3624 923.926 Q76.3624 932.653 73.2837 937.259 Q70.2281 941.842 64.418 941.842 Q58.6078 941.842 55.5291 937.259 Q52.4736 932.653 52.4736 923.926 Q52.4736 915.176 55.5291 910.592 Q58.6078 905.986 64.418 905.986 Z\" fill=\"#000000\" fill-rule=\"nonzero\" fill-opacity=\"1\" /><path clip-path=\"url(#clip590)\" d=\"M84.5799 935.291 L89.4641 935.291 L89.4641 941.171 L84.5799 941.171 L84.5799 935.291 Z\" fill=\"#000000\" fill-rule=\"nonzero\" fill-opacity=\"1\" /><path clip-path=\"url(#clip590)\" d=\"M99.6956 906.611 L118.052 906.611 L118.052 910.546 L103.978 910.546 L103.978 919.018 Q104.996 918.671 106.015 918.509 Q107.033 918.324 108.052 918.324 Q113.839 918.324 117.219 921.495 Q120.598 924.666 120.598 930.083 Q120.598 935.662 117.126 938.764 Q113.654 941.842 107.334 941.842 Q105.159 941.842 102.89 941.472 Q100.645 941.102 98.2372 940.361 L98.2372 935.662 Q100.321 936.796 102.543 937.352 Q104.765 937.907 107.242 937.907 Q111.246 937.907 113.584 935.801 Q115.922 933.694 115.922 930.083 Q115.922 926.472 113.584 924.366 Q111.246 922.259 107.242 922.259 Q105.367 922.259 103.492 922.676 Q101.64 923.092 99.6956 923.972 L99.6956 906.611 Z\" fill=\"#000000\" fill-rule=\"nonzero\" fill-opacity=\"1\" /><path clip-path=\"url(#clip590)\" d=\"M63.2606 715.053 Q59.6495 715.053 57.8208 718.618 Q56.0152 722.16 56.0152 729.289 Q56.0152 736.396 57.8208 739.961 Q59.6495 743.502 63.2606 743.502 Q66.8948 743.502 68.7004 739.961 Q70.5291 736.396 70.5291 729.289 Q70.5291 722.16 68.7004 718.618 Q66.8948 715.053 63.2606 715.053 M63.2606 711.35 Q69.0707 711.35 72.1263 715.956 Q75.205 720.539 75.205 729.289 Q75.205 738.016 72.1263 742.623 Q69.0707 747.206 63.2606 747.206 Q57.4504 747.206 54.3717 742.623 Q51.3162 738.016 51.3162 729.289 Q51.3162 720.539 54.3717 715.956 Q57.4504 711.35 63.2606 711.35 Z\" fill=\"#000000\" fill-rule=\"nonzero\" fill-opacity=\"1\" /><path clip-path=\"url(#clip590)\" d=\"M83.4225 740.655 L88.3067 740.655 L88.3067 746.535 L83.4225 746.535 L83.4225 740.655 Z\" fill=\"#000000\" fill-rule=\"nonzero\" fill-opacity=\"1\" /><path clip-path=\"url(#clip590)\" d=\"M109.071 727.391 Q105.922 727.391 104.071 729.544 Q102.242 731.697 102.242 735.447 Q102.242 739.174 104.071 741.349 Q105.922 743.502 109.071 743.502 Q112.219 743.502 114.047 741.349 Q115.899 739.174 115.899 735.447 Q115.899 731.697 114.047 729.544 Q112.219 727.391 109.071 727.391 M118.353 712.739 L118.353 716.998 Q116.594 716.164 114.788 715.725 Q113.006 715.285 111.246 715.285 Q106.617 715.285 104.163 718.41 Q101.733 721.535 101.385 727.854 Q102.751 725.84 104.811 724.776 Q106.871 723.688 109.348 723.688 Q114.557 723.688 117.566 726.859 Q120.598 730.007 120.598 735.447 Q120.598 740.771 117.45 743.988 Q114.302 747.206 109.071 747.206 Q103.075 747.206 99.9039 742.623 Q96.7326 738.016 96.7326 729.289 Q96.7326 721.095 100.621 716.234 Q104.51 711.35 111.061 711.35 Q112.82 711.35 114.603 711.697 Q116.408 712.044 118.353 712.739 Z\" fill=\"#000000\" fill-rule=\"nonzero\" fill-opacity=\"1\" /><path clip-path=\"url(#clip590)\" d=\"M64.3254 520.417 Q60.7143 520.417 58.8856 523.982 Q57.0801 527.523 57.0801 534.653 Q57.0801 541.759 58.8856 545.324 Q60.7143 548.866 64.3254 548.866 Q67.9596 548.866 69.7652 545.324 Q71.5939 541.759 71.5939 534.653 Q71.5939 527.523 69.7652 523.982 Q67.9596 520.417 64.3254 520.417 M64.3254 516.713 Q70.1355 516.713 73.1911 521.32 Q76.2698 525.903 76.2698 534.653 Q76.2698 543.38 73.1911 547.986 Q70.1355 552.57 64.3254 552.57 Q58.5152 552.57 55.4365 547.986 Q52.381 543.38 52.381 534.653 Q52.381 525.903 55.4365 521.32 Q58.5152 516.713 64.3254 516.713 Z\" fill=\"#000000\" fill-rule=\"nonzero\" fill-opacity=\"1\" /><path clip-path=\"url(#clip590)\" d=\"M84.4873 546.019 L89.3715 546.019 L89.3715 551.898 L84.4873 551.898 L84.4873 546.019 Z\" fill=\"#000000\" fill-rule=\"nonzero\" fill-opacity=\"1\" /><path clip-path=\"url(#clip590)\" d=\"M98.3761 517.338 L120.598 517.338 L120.598 519.329 L108.052 551.898 L103.168 551.898 L114.973 521.273 L98.3761 521.273 L98.3761 517.338 Z\" fill=\"#000000\" fill-rule=\"nonzero\" fill-opacity=\"1\" /><path clip-path=\"url(#clip590)\" d=\"M63.5152 325.781 Q59.9041 325.781 58.0754 329.345 Q56.2699 332.887 56.2699 340.017 Q56.2699 347.123 58.0754 350.688 Q59.9041 354.229 63.5152 354.229 Q67.1494 354.229 68.955 350.688 Q70.7837 347.123 70.7837 340.017 Q70.7837 332.887 68.955 329.345 Q67.1494 325.781 63.5152 325.781 M63.5152 322.077 Q69.3254 322.077 72.3809 326.683 Q75.4596 331.267 75.4596 340.017 Q75.4596 348.743 72.3809 353.35 Q69.3254 357.933 63.5152 357.933 Q57.7051 357.933 54.6264 353.35 Q51.5708 348.743 51.5708 340.017 Q51.5708 331.267 54.6264 326.683 Q57.7051 322.077 63.5152 322.077 Z\" fill=\"#000000\" fill-rule=\"nonzero\" fill-opacity=\"1\" /><path clip-path=\"url(#clip590)\" d=\"M83.6771 351.382 L88.5614 351.382 L88.5614 357.262 L83.6771 357.262 L83.6771 351.382 Z\" fill=\"#000000\" fill-rule=\"nonzero\" fill-opacity=\"1\" /><path clip-path=\"url(#clip590)\" d=\"M108.746 340.85 Q105.413 340.85 103.492 342.632 Q101.594 344.415 101.594 347.54 Q101.594 350.665 103.492 352.447 Q105.413 354.229 108.746 354.229 Q112.08 354.229 114.001 352.447 Q115.922 350.642 115.922 347.54 Q115.922 344.415 114.001 342.632 Q112.103 340.85 108.746 340.85 M104.071 338.859 Q101.061 338.118 99.3715 336.058 Q97.7048 333.998 97.7048 331.035 Q97.7048 326.892 100.645 324.484 Q103.608 322.077 108.746 322.077 Q113.908 322.077 116.848 324.484 Q119.788 326.892 119.788 331.035 Q119.788 333.998 118.098 336.058 Q116.432 338.118 113.445 338.859 Q116.825 339.646 118.7 341.938 Q120.598 344.23 120.598 347.54 Q120.598 352.563 117.52 355.248 Q114.464 357.933 108.746 357.933 Q103.029 357.933 99.9502 355.248 Q96.8947 352.563 96.8947 347.54 Q96.8947 344.23 98.7928 341.938 Q100.691 339.646 104.071 338.859 M102.358 331.475 Q102.358 334.16 104.024 335.665 Q105.714 337.169 108.746 337.169 Q111.756 337.169 113.445 335.665 Q115.158 334.16 115.158 331.475 Q115.158 328.79 113.445 327.285 Q111.756 325.781 108.746 325.781 Q105.714 325.781 104.024 327.285 Q102.358 328.79 102.358 331.475 Z\" fill=\"#000000\" fill-rule=\"nonzero\" fill-opacity=\"1\" /><path clip-path=\"url(#clip590)\" d=\"M63.6078 131.144 Q59.9967 131.144 58.168 134.709 Q56.3625 138.251 56.3625 145.38 Q56.3625 152.487 58.168 156.051 Q59.9967 159.593 63.6078 159.593 Q67.242 159.593 69.0476 156.051 Q70.8763 152.487 70.8763 145.38 Q70.8763 138.251 69.0476 134.709 Q67.242 131.144 63.6078 131.144 M63.6078 127.441 Q69.418 127.441 72.4735 132.047 Q75.5522 136.63 75.5522 145.38 Q75.5522 154.107 72.4735 158.713 Q69.418 163.297 63.6078 163.297 Q57.7976 163.297 54.719 158.713 Q51.6634 154.107 51.6634 145.38 Q51.6634 136.63 54.719 132.047 Q57.7976 127.441 63.6078 127.441 Z\" fill=\"#000000\" fill-rule=\"nonzero\" fill-opacity=\"1\" /><path clip-path=\"url(#clip590)\" d=\"M83.7697 156.746 L88.654 156.746 L88.654 162.626 L83.7697 162.626 L83.7697 156.746 Z\" fill=\"#000000\" fill-rule=\"nonzero\" fill-opacity=\"1\" /><path clip-path=\"url(#clip590)\" d=\"M98.978 161.908 L98.978 157.649 Q100.737 158.482 102.543 158.922 Q104.348 159.362 106.084 159.362 Q110.714 159.362 113.145 156.26 Q115.598 153.135 115.945 146.792 Q114.603 148.783 112.543 149.848 Q110.483 150.913 107.983 150.913 Q102.797 150.913 99.765 147.788 Q96.7558 144.639 96.7558 139.2 Q96.7558 133.876 99.9039 130.658 Q103.052 127.441 108.283 127.441 Q114.279 127.441 117.427 132.047 Q120.598 136.63 120.598 145.38 Q120.598 153.551 116.709 158.436 Q112.844 163.297 106.293 163.297 Q104.534 163.297 102.728 162.95 Q100.922 162.602 98.978 161.908 M108.283 147.255 Q111.432 147.255 113.26 145.102 Q115.112 142.95 115.112 139.2 Q115.112 135.473 113.26 133.32 Q111.432 131.144 108.283 131.144 Q105.135 131.144 103.284 133.32 Q101.455 135.473 101.455 139.2 Q101.455 142.95 103.284 145.102 Q105.135 147.255 108.283 147.255 Z\" fill=\"#000000\" fill-rule=\"nonzero\" fill-opacity=\"1\" /><polyline clip-path=\"url(#clip592)\" style=\"stroke:#009af9; stroke-linecap:round; stroke-linejoin:round; stroke-width:4; stroke-opacity:1; fill:none\" points=\"218.754,682.362 448.959,142.278 679.164,87.9763 909.369,1360.04 1139.57,188.63 1369.78,973.519 1599.98,662.159 1830.19,1397.44 2060.4,1445.72 2290.6,375.232 \"/>\n",
       "<path clip-path=\"url(#clip590)\" d=\"M229.803 1438.47 L501.85 1438.47 L501.85 1334.79 L229.803 1334.79  Z\" fill=\"#ffffff\" fill-rule=\"evenodd\" fill-opacity=\"1\"/>\n",
       "<polyline clip-path=\"url(#clip590)\" style=\"stroke:#000000; stroke-linecap:round; stroke-linejoin:round; stroke-width:4; stroke-opacity:1; fill:none\" points=\"229.803,1438.47 501.85,1438.47 501.85,1334.79 229.803,1334.79 229.803,1438.47 \"/>\n",
       "<polyline clip-path=\"url(#clip590)\" style=\"stroke:#009af9; stroke-linecap:round; stroke-linejoin:round; stroke-width:4; stroke-opacity:1; fill:none\" points=\"254.205,1386.63 400.616,1386.63 \"/>\n",
       "<path clip-path=\"url(#clip590)\" d=\"M438.86 1406.32 Q437.054 1410.95 435.342 1412.36 Q433.629 1413.78 430.758 1413.78 L427.355 1413.78 L427.355 1410.21 L429.855 1410.21 Q431.615 1410.21 432.587 1409.38 Q433.559 1408.54 434.74 1405.44 L435.504 1403.5 L425.018 1377.99 L429.531 1377.99 L437.633 1398.27 L445.735 1377.99 L450.249 1377.99 L438.86 1406.32 Z\" fill=\"#000000\" fill-rule=\"nonzero\" fill-opacity=\"1\" /><path clip-path=\"url(#clip590)\" d=\"M457.54 1399.98 L465.179 1399.98 L465.179 1373.61 L456.869 1375.28 L456.869 1371.02 L465.133 1369.35 L469.809 1369.35 L469.809 1399.98 L477.448 1399.98 L477.448 1403.91 L457.54 1403.91 L457.54 1399.98 Z\" fill=\"#000000\" fill-rule=\"nonzero\" fill-opacity=\"1\" /></svg>\n"
      ]
     },
     "metadata": {},
     "output_type": "display_data"
    }
   ],
   "source": [
    "# Test plot \n",
    "\n",
    "using Plots\n",
    "\n",
    "# Create a simple plot\n",
    "x = 1:10\n",
    "y = rand(10)\n",
    "plot(x, y)\n"
   ]
  },
  {
   "cell_type": "code",
   "execution_count": 48,
   "metadata": {},
   "outputs": [],
   "source": []
  }
 ],
 "metadata": {
  "kernelspec": {
   "display_name": "Julia 1.10.2",
   "language": "julia",
   "name": "julia-1.10"
  },
  "language_info": {
   "file_extension": ".jl",
   "mimetype": "application/julia",
   "name": "julia",
   "version": "1.10.2"
  }
 },
 "nbformat": 4,
 "nbformat_minor": 2
}
