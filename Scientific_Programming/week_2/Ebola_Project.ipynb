{
 "cells": [
  {
   "cell_type": "code",
   "execution_count": 2,
   "metadata": {},
   "outputs": [
    {
     "data": {
      "text/plain": [
       "54×9 Matrix{Any}:\n",
       " \"25 Nov 2015\"  28637  11314  3804  2536  …  4808     14122     3955\n",
       " \"18 Nov 2015\"  28634  11314  3804  2536     4808     14122     3955\n",
       " \"11 Nov 2015\"  28635  11314  3805  2536     4808     14122     3955\n",
       " \"4 Nov 2015\"   28607  11314  3810  2536     4808     14089     3955\n",
       " \"25 Oct 2015\"  28539  11298  3806  2535     4808     14061     3955\n",
       " \"18 Oct 2015\"  28476  11298  3803  2535  …  4808     14001     3955\n",
       " \"11 Oct 2015\"  28454  11297  3800  2534     4808     13982     3955\n",
       " \"27 Sep 2015\"  28388  11296  3805  2533     4808     13911     3955\n",
       " \"20 Sep 2015\"  28295  11295  3800  2532     4808     13823     3955\n",
       " \"13 Sep 2015\"  28220  11291  3792  2530     4808     13756     3953\n",
       " ⋮                                        ⋱                     \n",
       " \"14 Jul 2014\"    982    613   411   310  …   106       397      197\n",
       " \"2 Jul 2014\"     779    481   412   305       75       252      101\n",
       " \"17 Jun 2014\"    528    337   398   264       24        97       49\n",
       " \"27 May 2014\"    309    202   281   186       11        16        5\n",
       " \"12 May 2014\"    260    182   248   171       11          \"–\"      \"–\"\n",
       " \"1 May 2014\"     239    160   226   149  …    11          \"–\"      \"–\"\n",
       " \"14 Apr 2014\"    176    110   168   108        2          \"–\"      \"–\"\n",
       " \"31 Mar 2014\"    130     82   122    80        2          \"–\"      \"–\"\n",
       " \"22 Mar 2014\"     49     29    49    29         \"–\"       \"–\"      \"–\""
      ]
     },
     "metadata": {},
     "output_type": "display_data"
    }
   ],
   "source": [
    "using DelimitedFiles\n",
    "Ebola_Data = DelimitedFiles.readdlm(\"Ebola_Data.csv\", ',')"
   ]
  },
  {
   "cell_type": "code",
   "execution_count": 3,
   "metadata": {},
   "outputs": [
    {
     "data": {
      "text/plain": [
       "2015-11-25T00:00:00"
      ]
     },
     "metadata": {},
     "output_type": "display_data"
    }
   ],
   "source": [
    "using  Dates\n",
    "Dates.DateTime(Ebola_Data[1,1], \"d u y\")"
   ]
  },
  {
   "cell_type": "code",
   "execution_count": 4,
   "metadata": {},
   "outputs": [
    {
     "data": {
      "text/plain": [
       "54×9 Matrix{Any}:\n",
       " \"25 Nov 2015\"  28637  11314  3804  2536  …  4808     14122     3955\n",
       " \"18 Nov 2015\"  28634  11314  3804  2536     4808     14122     3955\n",
       " \"11 Nov 2015\"  28635  11314  3805  2536     4808     14122     3955\n",
       " \"4 Nov 2015\"   28607  11314  3810  2536     4808     14089     3955\n",
       " \"25 Oct 2015\"  28539  11298  3806  2535     4808     14061     3955\n",
       " \"18 Oct 2015\"  28476  11298  3803  2535  …  4808     14001     3955\n",
       " \"11 Oct 2015\"  28454  11297  3800  2534     4808     13982     3955\n",
       " \"27 Sep 2015\"  28388  11296  3805  2533     4808     13911     3955\n",
       " \"20 Sep 2015\"  28295  11295  3800  2532     4808     13823     3955\n",
       " \"13 Sep 2015\"  28220  11291  3792  2530     4808     13756     3953\n",
       " ⋮                                        ⋱                     \n",
       " \"14 Jul 2014\"    982    613   411   310  …   106       397      197\n",
       " \"2 Jul 2014\"     779    481   412   305       75       252      101\n",
       " \"17 Jun 2014\"    528    337   398   264       24        97       49\n",
       " \"27 May 2014\"    309    202   281   186       11        16        5\n",
       " \"12 May 2014\"    260    182   248   171       11          \"–\"      \"–\"\n",
       " \"1 May 2014\"     239    160   226   149  …    11          \"–\"      \"–\"\n",
       " \"14 Apr 2014\"    176    110   168   108        2          \"–\"      \"–\"\n",
       " \"31 Mar 2014\"    130     82   122    80        2          \"–\"      \"–\"\n",
       " \"22 Mar 2014\"     49     29    49    29         \"–\"       \"–\"      \"–\""
      ]
     },
     "metadata": {},
     "output_type": "display_data"
    }
   ],
   "source": [
    "Ebola_Data"
   ]
  },
  {
   "cell_type": "markdown",
   "metadata": {},
   "source": [
    "### For Loops"
   ]
  },
  {
   "cell_type": "code",
   "execution_count": 5,
   "metadata": {},
   "outputs": [
    {
     "name": "stdout",
     "output_type": "stream",
     "text": [
      "num is now 3\n",
      "num is now 4\n",
      "num is now 5\n",
      "num is now 6\n",
      "num is now 7\n"
     ]
    }
   ],
   "source": [
    "for num = 3:7\n",
    "    println(\"num is now $num\")\n",
    "end "
   ]
  },
  {
   "cell_type": "code",
   "execution_count": 6,
   "metadata": {},
   "outputs": [
    {
     "name": "stdout",
     "output_type": "stream",
     "text": [
      "The value of x is now 23\n",
      "The value of x is now My name is not a name\n",
      "The value of x is now N\n"
     ]
    }
   ],
   "source": [
    "testvalues = [23, \"My name is not a name\", 'N']\n",
    "for x in testvalues\n",
    "    println(\"The value of x is now $x\")\n",
    "end "
   ]
  },
  {
   "cell_type": "code",
   "execution_count": 11,
   "metadata": {},
   "outputs": [
    {
     "data": {
      "text/plain": [
       "54-element Vector{Any}:\n",
       " \"25 Nov 2015\"\n",
       " \"18 Nov 2015\"\n",
       " \"11 Nov 2015\"\n",
       " \"4 Nov 2015\"\n",
       " \"25 Oct 2015\"\n",
       " \"18 Oct 2015\"\n",
       " \"11 Oct 2015\"\n",
       " \"27 Sep 2015\"\n",
       " \"20 Sep 2015\"\n",
       " \"13 Sep 2015\"\n",
       " ⋮\n",
       " \"14 Jul 2014\"\n",
       " \"2 Jul 2014\"\n",
       " \"17 Jun 2014\"\n",
       " \"27 May 2014\"\n",
       " \"12 May 2014\"\n",
       " \"1 May 2014\"\n",
       " \"14 Apr 2014\"\n",
       " \"31 Mar 2014\"\n",
       " \"22 Mar 2014\""
      ]
     },
     "metadata": {},
     "output_type": "display_data"
    }
   ],
   "source": [
    "col1 = Ebola_Data[:,1]"
   ]
  },
  {
   "cell_type": "code",
   "execution_count": 12,
   "metadata": {},
   "outputs": [],
   "source": [
    "using Dates \n",
    "\n",
    "for i = 1:length(col1)\n",
    "    col1[i] = Dates.DateTime(col1[i], \"d u y\")\n",
    "end"
   ]
  },
  {
   "cell_type": "code",
   "execution_count": 13,
   "metadata": {},
   "outputs": [
    {
     "data": {
      "text/plain": [
       "54-element Vector{Any}:\n",
       " 2015-11-25T00:00:00\n",
       " 2015-11-18T00:00:00\n",
       " 2015-11-11T00:00:00\n",
       " 2015-11-04T00:00:00\n",
       " 2015-10-25T00:00:00\n",
       " 2015-10-18T00:00:00\n",
       " 2015-10-11T00:00:00\n",
       " 2015-09-27T00:00:00\n",
       " 2015-09-20T00:00:00\n",
       " 2015-09-13T00:00:00\n",
       " ⋮\n",
       " 2014-07-14T00:00:00\n",
       " 2014-07-02T00:00:00\n",
       " 2014-06-17T00:00:00\n",
       " 2014-05-27T00:00:00\n",
       " 2014-05-12T00:00:00\n",
       " 2014-05-01T00:00:00\n",
       " 2014-04-14T00:00:00\n",
       " 2014-03-31T00:00:00\n",
       " 2014-03-22T00:00:00"
      ]
     },
     "metadata": {},
     "output_type": "display_data"
    }
   ],
   "source": [
    "col1"
   ]
  },
  {
   "cell_type": "code",
   "execution_count": 16,
   "metadata": {},
   "outputs": [
    {
     "data": {
      "text/plain": [
       "735927"
      ]
     },
     "metadata": {},
     "output_type": "display_data"
    }
   ],
   "source": [
    "Dates.datetime2rata(col1[1])"
   ]
  },
  {
   "cell_type": "code",
   "execution_count": 19,
   "metadata": {},
   "outputs": [],
   "source": [
    "dayssincemar22(x) = Dates.datetime2rata(x) - Dates.datetime2rata(col1[54])\n",
    "epidays = Array{Int64}(undef, 54)\n",
    "\n",
    "for i = 1:length(col1)\n",
    "    epidays[i] = dayssincemar22(col1[i])\n",
    "end"
   ]
  },
  {
   "cell_type": "code",
   "execution_count": 21,
   "metadata": {},
   "outputs": [],
   "source": [
    "Ebola_Data[:, 1] = epidays\n",
    "DelimitedFiles.writedlm(\"New_Ebola_Data.csv\", Ebola_Data, ',')"
   ]
  },
  {
   "cell_type": "code",
   "execution_count": null,
   "metadata": {},
   "outputs": [],
   "source": []
  }
 ],
 "metadata": {
  "kernelspec": {
   "display_name": "Julia 1.10.2",
   "language": "julia",
   "name": "julia-1.10"
  },
  "language_info": {
   "file_extension": ".jl",
   "mimetype": "application/julia",
   "name": "julia",
   "version": "1.10.2"
  }
 },
 "nbformat": 4,
 "nbformat_minor": 2
}
