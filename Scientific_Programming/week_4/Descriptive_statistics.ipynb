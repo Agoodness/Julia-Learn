{
 "cells": [
  {
   "cell_type": "code",
   "execution_count": 2,
   "metadata": {},
   "outputs": [
    {
     "data": {
      "text/plain": [
       "Plots.PyPlotBackend()"
      ]
     },
     "metadata": {},
     "output_type": "display_data"
    }
   ],
   "source": [
    "using Distributions\n",
    "using StatsBase\n",
    "using CSV\n",
    "using DataFrames\n",
    "using HypothesisTests\n",
    "using StatsPlots\n",
    "using GLM\n",
    "pyplot()"
   ]
  },
  {
   "cell_type": "code",
   "execution_count": 3,
   "metadata": {},
   "outputs": [
    {
     "data": {
      "text/plain": [
       "Plots.PyPlotBackend()"
      ]
     },
     "metadata": {},
     "output_type": "display_data"
    }
   ],
   "source": [
    "Plots.PyPlotBackend()"
   ]
  },
  {
   "cell_type": "code",
   "execution_count": 4,
   "metadata": {},
   "outputs": [],
   "source": [
    "age = rand(18:80, 100);\n",
    "wcc = round.(rand(Distributions.Normal(12,2), 100), digits = 1)\n",
    "crp = round.(Int, rand(Distributions.Chisq(4), 100)) .* 10\n",
    "treatment = rand([\"A\", \"B\"], 100);\n",
    "result = rand([\"Improved\", \"Static\", \"Worse\"], 100);"
   ]
  },
  {
   "cell_type": "code",
   "execution_count": 5,
   "metadata": {},
   "outputs": [
    {
     "data": {
      "text/plain": [
       "46.29"
      ]
     },
     "metadata": {},
     "output_type": "display_data"
    }
   ],
   "source": [
    "mean(age)"
   ]
  },
  {
   "cell_type": "code",
   "execution_count": 6,
   "metadata": {},
   "outputs": [
    {
     "data": {
      "text/plain": [
       "45.0"
      ]
     },
     "metadata": {},
     "output_type": "display_data"
    }
   ],
   "source": [
    "median(age)"
   ]
  },
  {
   "cell_type": "code",
   "execution_count": 7,
   "metadata": {},
   "outputs": [
    {
     "data": {
      "text/plain": [
       "18.31116841954355"
      ]
     },
     "metadata": {},
     "output_type": "display_data"
    }
   ],
   "source": [
    "std(age)"
   ]
  },
  {
   "cell_type": "code",
   "execution_count": 8,
   "metadata": {},
   "outputs": [
    {
     "data": {
      "text/plain": [
       "335.29888888888894"
      ]
     },
     "metadata": {},
     "output_type": "display_data"
    }
   ],
   "source": [
    "var(age)"
   ]
  },
  {
   "cell_type": "code",
   "execution_count": 9,
   "metadata": {},
   "outputs": [
    {
     "data": {
      "text/plain": [
       "11.766999999999998"
      ]
     },
     "metadata": {},
     "output_type": "display_data"
    }
   ],
   "source": [
    "mean(wcc)"
   ]
  },
  {
   "cell_type": "code",
   "execution_count": 10,
   "metadata": {},
   "outputs": [
    {
     "data": {
      "text/plain": [
       "2.0174518882025714"
      ]
     },
     "metadata": {},
     "output_type": "display_data"
    }
   ],
   "source": [
    "std(wcc)"
   ]
  },
  {
   "cell_type": "code",
   "execution_count": 11,
   "metadata": {},
   "outputs": [
    {
     "name": "stdout",
     "output_type": "stream",
     "text": [
      "Summary Stats:\n",
      "Length:         100\n",
      "Missing Count:  0\n",
      "Mean:           46.290000\n",
      "Std. Deviation: 18.311168\n",
      "Minimum:        18.000000\n",
      "1st Quartile:   32.500000\n",
      "Median:         45.000000\n",
      "3rd Quartile:   61.000000\n",
      "Maximum:        80.000000\n",
      "Type:           Int64\n"
     ]
    }
   ],
   "source": [
    "StatsBase.describe(age)"
   ]
  },
  {
   "cell_type": "code",
   "execution_count": 12,
   "metadata": {},
   "outputs": [
    {
     "data": {
      "text/plain": [
       "Summary Stats:\n",
       "Length:         100\n",
       "Missing Count:  0\n",
       "Mean:           11.767000\n",
       "Std. Deviation: 2.017452\n",
       "Minimum:        7.300000\n",
       "1st Quartile:   10.400000\n",
       "Median:         11.700000\n",
       "3rd Quartile:   13.300000\n",
       "Maximum:        17.500000\n"
      ]
     },
     "metadata": {},
     "output_type": "display_data"
    }
   ],
   "source": [
    "StatsBase.summarystats(wcc)"
   ]
  },
  {
   "cell_type": "code",
   "execution_count": 13,
   "metadata": {},
   "outputs": [
    {
     "data": {
      "text/html": [
       "<div><div style = \"float: left;\"><span>100×5 DataFrame</span></div><div style = \"float: right;\"><span style = \"font-style: italic;\">75 rows omitted</span></div><div style = \"clear: both;\"></div></div><div class = \"data-frame\" style = \"overflow-x: scroll;\"><table class = \"data-frame\" style = \"margin-bottom: 6px;\"><thead><tr class = \"header\"><th class = \"rowNumber\" style = \"font-weight: bold; text-align: right;\">Row</th><th style = \"text-align: left;\">Age</th><th style = \"text-align: left;\">WCC</th><th style = \"text-align: left;\">CRP</th><th style = \"text-align: left;\">Treatment</th><th style = \"text-align: left;\">Result</th></tr><tr class = \"subheader headerLastRow\"><th class = \"rowNumber\" style = \"font-weight: bold; text-align: right;\"></th><th title = \"Int64\" style = \"text-align: left;\">Int64</th><th title = \"Float64\" style = \"text-align: left;\">Float64</th><th title = \"Int64\" style = \"text-align: left;\">Int64</th><th title = \"String\" style = \"text-align: left;\">String</th><th title = \"String\" style = \"text-align: left;\">String</th></tr></thead><tbody><tr><td class = \"rowNumber\" style = \"font-weight: bold; text-align: right;\">1</td><td style = \"text-align: right;\">52</td><td style = \"text-align: right;\">11.8</td><td style = \"text-align: right;\">70</td><td style = \"text-align: left;\">B</td><td style = \"text-align: left;\">Improved</td></tr><tr><td class = \"rowNumber\" style = \"font-weight: bold; text-align: right;\">2</td><td style = \"text-align: right;\">35</td><td style = \"text-align: right;\">14.3</td><td style = \"text-align: right;\">40</td><td style = \"text-align: left;\">A</td><td style = \"text-align: left;\">Static</td></tr><tr><td class = \"rowNumber\" style = \"font-weight: bold; text-align: right;\">3</td><td style = \"text-align: right;\">46</td><td style = \"text-align: right;\">11.5</td><td style = \"text-align: right;\">30</td><td style = \"text-align: left;\">A</td><td style = \"text-align: left;\">Improved</td></tr><tr><td class = \"rowNumber\" style = \"font-weight: bold; text-align: right;\">4</td><td style = \"text-align: right;\">35</td><td style = \"text-align: right;\">12.5</td><td style = \"text-align: right;\">70</td><td style = \"text-align: left;\">A</td><td style = \"text-align: left;\">Static</td></tr><tr><td class = \"rowNumber\" style = \"font-weight: bold; text-align: right;\">5</td><td style = \"text-align: right;\">54</td><td style = \"text-align: right;\">13.3</td><td style = \"text-align: right;\">30</td><td style = \"text-align: left;\">A</td><td style = \"text-align: left;\">Improved</td></tr><tr><td class = \"rowNumber\" style = \"font-weight: bold; text-align: right;\">6</td><td style = \"text-align: right;\">38</td><td style = \"text-align: right;\">11.6</td><td style = \"text-align: right;\">90</td><td style = \"text-align: left;\">A</td><td style = \"text-align: left;\">Improved</td></tr><tr><td class = \"rowNumber\" style = \"font-weight: bold; text-align: right;\">7</td><td style = \"text-align: right;\">75</td><td style = \"text-align: right;\">12.6</td><td style = \"text-align: right;\">10</td><td style = \"text-align: left;\">B</td><td style = \"text-align: left;\">Worse</td></tr><tr><td class = \"rowNumber\" style = \"font-weight: bold; text-align: right;\">8</td><td style = \"text-align: right;\">61</td><td style = \"text-align: right;\">13.5</td><td style = \"text-align: right;\">30</td><td style = \"text-align: left;\">A</td><td style = \"text-align: left;\">Improved</td></tr><tr><td class = \"rowNumber\" style = \"font-weight: bold; text-align: right;\">9</td><td style = \"text-align: right;\">19</td><td style = \"text-align: right;\">10.9</td><td style = \"text-align: right;\">20</td><td style = \"text-align: left;\">B</td><td style = \"text-align: left;\">Worse</td></tr><tr><td class = \"rowNumber\" style = \"font-weight: bold; text-align: right;\">10</td><td style = \"text-align: right;\">35</td><td style = \"text-align: right;\">9.5</td><td style = \"text-align: right;\">20</td><td style = \"text-align: left;\">A</td><td style = \"text-align: left;\">Improved</td></tr><tr><td class = \"rowNumber\" style = \"font-weight: bold; text-align: right;\">11</td><td style = \"text-align: right;\">35</td><td style = \"text-align: right;\">11.7</td><td style = \"text-align: right;\">70</td><td style = \"text-align: left;\">A</td><td style = \"text-align: left;\">Worse</td></tr><tr><td class = \"rowNumber\" style = \"font-weight: bold; text-align: right;\">12</td><td style = \"text-align: right;\">55</td><td style = \"text-align: right;\">12.4</td><td style = \"text-align: right;\">40</td><td style = \"text-align: left;\">B</td><td style = \"text-align: left;\">Static</td></tr><tr><td class = \"rowNumber\" style = \"font-weight: bold; text-align: right;\">13</td><td style = \"text-align: right;\">21</td><td style = \"text-align: right;\">11.4</td><td style = \"text-align: right;\">50</td><td style = \"text-align: left;\">A</td><td style = \"text-align: left;\">Static</td></tr><tr><td style = \"text-align: right;\">&vellip;</td><td style = \"text-align: right;\">&vellip;</td><td style = \"text-align: right;\">&vellip;</td><td style = \"text-align: right;\">&vellip;</td><td style = \"text-align: right;\">&vellip;</td><td style = \"text-align: right;\">&vellip;</td></tr><tr><td class = \"rowNumber\" style = \"font-weight: bold; text-align: right;\">89</td><td style = \"text-align: right;\">27</td><td style = \"text-align: right;\">12.1</td><td style = \"text-align: right;\">120</td><td style = \"text-align: left;\">A</td><td style = \"text-align: left;\">Static</td></tr><tr><td class = \"rowNumber\" style = \"font-weight: bold; text-align: right;\">90</td><td style = \"text-align: right;\">64</td><td style = \"text-align: right;\">11.9</td><td style = \"text-align: right;\">70</td><td style = \"text-align: left;\">B</td><td style = \"text-align: left;\">Improved</td></tr><tr><td class = \"rowNumber\" style = \"font-weight: bold; text-align: right;\">91</td><td style = \"text-align: right;\">43</td><td style = \"text-align: right;\">8.4</td><td style = \"text-align: right;\">30</td><td style = \"text-align: left;\">A</td><td style = \"text-align: left;\">Worse</td></tr><tr><td class = \"rowNumber\" style = \"font-weight: bold; text-align: right;\">92</td><td style = \"text-align: right;\">49</td><td style = \"text-align: right;\">8.9</td><td style = \"text-align: right;\">40</td><td style = \"text-align: left;\">B</td><td style = \"text-align: left;\">Worse</td></tr><tr><td class = \"rowNumber\" style = \"font-weight: bold; text-align: right;\">93</td><td style = \"text-align: right;\">19</td><td style = \"text-align: right;\">14.2</td><td style = \"text-align: right;\">20</td><td style = \"text-align: left;\">A</td><td style = \"text-align: left;\">Improved</td></tr><tr><td class = \"rowNumber\" style = \"font-weight: bold; text-align: right;\">94</td><td style = \"text-align: right;\">24</td><td style = \"text-align: right;\">13.7</td><td style = \"text-align: right;\">60</td><td style = \"text-align: left;\">A</td><td style = \"text-align: left;\">Worse</td></tr><tr><td class = \"rowNumber\" style = \"font-weight: bold; text-align: right;\">95</td><td style = \"text-align: right;\">68</td><td style = \"text-align: right;\">13.9</td><td style = \"text-align: right;\">70</td><td style = \"text-align: left;\">B</td><td style = \"text-align: left;\">Static</td></tr><tr><td class = \"rowNumber\" style = \"font-weight: bold; text-align: right;\">96</td><td style = \"text-align: right;\">34</td><td style = \"text-align: right;\">12.0</td><td style = \"text-align: right;\">30</td><td style = \"text-align: left;\">B</td><td style = \"text-align: left;\">Improved</td></tr><tr><td class = \"rowNumber\" style = \"font-weight: bold; text-align: right;\">97</td><td style = \"text-align: right;\">58</td><td style = \"text-align: right;\">11.5</td><td style = \"text-align: right;\">10</td><td style = \"text-align: left;\">A</td><td style = \"text-align: left;\">Worse</td></tr><tr><td class = \"rowNumber\" style = \"font-weight: bold; text-align: right;\">98</td><td style = \"text-align: right;\">53</td><td style = \"text-align: right;\">12.8</td><td style = \"text-align: right;\">30</td><td style = \"text-align: left;\">B</td><td style = \"text-align: left;\">Static</td></tr><tr><td class = \"rowNumber\" style = \"font-weight: bold; text-align: right;\">99</td><td style = \"text-align: right;\">43</td><td style = \"text-align: right;\">9.8</td><td style = \"text-align: right;\">50</td><td style = \"text-align: left;\">A</td><td style = \"text-align: left;\">Improved</td></tr><tr><td class = \"rowNumber\" style = \"font-weight: bold; text-align: right;\">100</td><td style = \"text-align: right;\">61</td><td style = \"text-align: right;\">11.2</td><td style = \"text-align: right;\">10</td><td style = \"text-align: left;\">B</td><td style = \"text-align: left;\">Static</td></tr></tbody></table></div>"
      ],
      "text/latex": [
       "\\begin{tabular}{r|ccccc}\n",
       "\t& Age & WCC & CRP & Treatment & Result\\\\\n",
       "\t\\hline\n",
       "\t& Int64 & Float64 & Int64 & String & String\\\\\n",
       "\t\\hline\n",
       "\t1 & 52 & 11.8 & 70 & B & Improved \\\\\n",
       "\t2 & 35 & 14.3 & 40 & A & Static \\\\\n",
       "\t3 & 46 & 11.5 & 30 & A & Improved \\\\\n",
       "\t4 & 35 & 12.5 & 70 & A & Static \\\\\n",
       "\t5 & 54 & 13.3 & 30 & A & Improved \\\\\n",
       "\t6 & 38 & 11.6 & 90 & A & Improved \\\\\n",
       "\t7 & 75 & 12.6 & 10 & B & Worse \\\\\n",
       "\t8 & 61 & 13.5 & 30 & A & Improved \\\\\n",
       "\t9 & 19 & 10.9 & 20 & B & Worse \\\\\n",
       "\t10 & 35 & 9.5 & 20 & A & Improved \\\\\n",
       "\t11 & 35 & 11.7 & 70 & A & Worse \\\\\n",
       "\t12 & 55 & 12.4 & 40 & B & Static \\\\\n",
       "\t13 & 21 & 11.4 & 50 & A & Static \\\\\n",
       "\t14 & 46 & 12.7 & 70 & A & Improved \\\\\n",
       "\t15 & 49 & 16.1 & 30 & B & Worse \\\\\n",
       "\t16 & 78 & 11.1 & 10 & A & Improved \\\\\n",
       "\t17 & 34 & 12.0 & 20 & B & Improved \\\\\n",
       "\t18 & 66 & 12.6 & 20 & B & Worse \\\\\n",
       "\t19 & 45 & 10.1 & 50 & B & Worse \\\\\n",
       "\t20 & 48 & 11.0 & 30 & A & Static \\\\\n",
       "\t21 & 34 & 10.0 & 40 & A & Static \\\\\n",
       "\t22 & 76 & 13.9 & 30 & B & Worse \\\\\n",
       "\t23 & 21 & 11.2 & 60 & B & Improved \\\\\n",
       "\t24 & 69 & 13.3 & 40 & B & Worse \\\\\n",
       "\t$\\dots$ & $\\dots$ & $\\dots$ & $\\dots$ & $\\dots$ & $\\dots$ \\\\\n",
       "\\end{tabular}\n"
      ],
      "text/plain": [
       "\u001b[1m100×5 DataFrame\u001b[0m\n",
       "\u001b[1m Row \u001b[0m│\u001b[1m Age   \u001b[0m\u001b[1m WCC     \u001b[0m\u001b[1m CRP   \u001b[0m\u001b[1m Treatment \u001b[0m\u001b[1m Result   \u001b[0m\n",
       "     │\u001b[90m Int64 \u001b[0m\u001b[90m Float64 \u001b[0m\u001b[90m Int64 \u001b[0m\u001b[90m String    \u001b[0m\u001b[90m String   \u001b[0m\n",
       "─────┼────────────────────────────────────────────\n",
       "   1 │    52     11.8     70  B          Improved\n",
       "   2 │    35     14.3     40  A          Static\n",
       "   3 │    46     11.5     30  A          Improved\n",
       "   4 │    35     12.5     70  A          Static\n",
       "   5 │    54     13.3     30  A          Improved\n",
       "   6 │    38     11.6     90  A          Improved\n",
       "   7 │    75     12.6     10  B          Worse\n",
       "   8 │    61     13.5     30  A          Improved\n",
       "  ⋮  │   ⋮       ⋮       ⋮        ⋮         ⋮\n",
       "  94 │    24     13.7     60  A          Worse\n",
       "  95 │    68     13.9     70  B          Static\n",
       "  96 │    34     12.0     30  B          Improved\n",
       "  97 │    58     11.5     10  A          Worse\n",
       "  98 │    53     12.8     30  B          Static\n",
       "  99 │    43      9.8     50  A          Improved\n",
       " 100 │    61     11.2     10  B          Static\n",
       "\u001b[36m                                   85 rows omitted\u001b[0m"
      ]
     },
     "metadata": {},
     "output_type": "display_data"
    }
   ],
   "source": [
    "data = DataFrame(Age = age, WCC = wcc, CRP = crp, Treatment = treatment, Result = result)"
   ]
  },
  {
   "cell_type": "code",
   "execution_count": 14,
   "metadata": {},
   "outputs": [
    {
     "data": {
      "text/plain": [
       "(100, 5)"
      ]
     },
     "metadata": {},
     "output_type": "display_data"
    }
   ],
   "source": [
    "size(data)"
   ]
  },
  {
   "cell_type": "code",
   "execution_count": 15,
   "metadata": {},
   "outputs": [
    {
     "data": {
      "text/html": [
       "<div><div style = \"float: left;\"><span>6×5 DataFrame</span></div><div style = \"clear: both;\"></div></div><div class = \"data-frame\" style = \"overflow-x: scroll;\"><table class = \"data-frame\" style = \"margin-bottom: 6px;\"><thead><tr class = \"header\"><th class = \"rowNumber\" style = \"font-weight: bold; text-align: right;\">Row</th><th style = \"text-align: left;\">Age</th><th style = \"text-align: left;\">WCC</th><th style = \"text-align: left;\">CRP</th><th style = \"text-align: left;\">Treatment</th><th style = \"text-align: left;\">Result</th></tr><tr class = \"subheader headerLastRow\"><th class = \"rowNumber\" style = \"font-weight: bold; text-align: right;\"></th><th title = \"Int64\" style = \"text-align: left;\">Int64</th><th title = \"Float64\" style = \"text-align: left;\">Float64</th><th title = \"Int64\" style = \"text-align: left;\">Int64</th><th title = \"String\" style = \"text-align: left;\">String</th><th title = \"String\" style = \"text-align: left;\">String</th></tr></thead><tbody><tr><td class = \"rowNumber\" style = \"font-weight: bold; text-align: right;\">1</td><td style = \"text-align: right;\">52</td><td style = \"text-align: right;\">11.8</td><td style = \"text-align: right;\">70</td><td style = \"text-align: left;\">B</td><td style = \"text-align: left;\">Improved</td></tr><tr><td class = \"rowNumber\" style = \"font-weight: bold; text-align: right;\">2</td><td style = \"text-align: right;\">35</td><td style = \"text-align: right;\">14.3</td><td style = \"text-align: right;\">40</td><td style = \"text-align: left;\">A</td><td style = \"text-align: left;\">Static</td></tr><tr><td class = \"rowNumber\" style = \"font-weight: bold; text-align: right;\">3</td><td style = \"text-align: right;\">46</td><td style = \"text-align: right;\">11.5</td><td style = \"text-align: right;\">30</td><td style = \"text-align: left;\">A</td><td style = \"text-align: left;\">Improved</td></tr><tr><td class = \"rowNumber\" style = \"font-weight: bold; text-align: right;\">4</td><td style = \"text-align: right;\">35</td><td style = \"text-align: right;\">12.5</td><td style = \"text-align: right;\">70</td><td style = \"text-align: left;\">A</td><td style = \"text-align: left;\">Static</td></tr><tr><td class = \"rowNumber\" style = \"font-weight: bold; text-align: right;\">5</td><td style = \"text-align: right;\">54</td><td style = \"text-align: right;\">13.3</td><td style = \"text-align: right;\">30</td><td style = \"text-align: left;\">A</td><td style = \"text-align: left;\">Improved</td></tr><tr><td class = \"rowNumber\" style = \"font-weight: bold; text-align: right;\">6</td><td style = \"text-align: right;\">38</td><td style = \"text-align: right;\">11.6</td><td style = \"text-align: right;\">90</td><td style = \"text-align: left;\">A</td><td style = \"text-align: left;\">Improved</td></tr></tbody></table></div>"
      ],
      "text/latex": [
       "\\begin{tabular}{r|ccccc}\n",
       "\t& Age & WCC & CRP & Treatment & Result\\\\\n",
       "\t\\hline\n",
       "\t& Int64 & Float64 & Int64 & String & String\\\\\n",
       "\t\\hline\n",
       "\t1 & 52 & 11.8 & 70 & B & Improved \\\\\n",
       "\t2 & 35 & 14.3 & 40 & A & Static \\\\\n",
       "\t3 & 46 & 11.5 & 30 & A & Improved \\\\\n",
       "\t4 & 35 & 12.5 & 70 & A & Static \\\\\n",
       "\t5 & 54 & 13.3 & 30 & A & Improved \\\\\n",
       "\t6 & 38 & 11.6 & 90 & A & Improved \\\\\n",
       "\\end{tabular}\n"
      ],
      "text/plain": [
       "\u001b[1m6×5 DataFrame\u001b[0m\n",
       "\u001b[1m Row \u001b[0m│\u001b[1m Age   \u001b[0m\u001b[1m WCC     \u001b[0m\u001b[1m CRP   \u001b[0m\u001b[1m Treatment \u001b[0m\u001b[1m Result   \u001b[0m\n",
       "     │\u001b[90m Int64 \u001b[0m\u001b[90m Float64 \u001b[0m\u001b[90m Int64 \u001b[0m\u001b[90m String    \u001b[0m\u001b[90m String   \u001b[0m\n",
       "─────┼────────────────────────────────────────────\n",
       "   1 │    52     11.8     70  B          Improved\n",
       "   2 │    35     14.3     40  A          Static\n",
       "   3 │    46     11.5     30  A          Improved\n",
       "   4 │    35     12.5     70  A          Static\n",
       "   5 │    54     13.3     30  A          Improved\n",
       "   6 │    38     11.6     90  A          Improved"
      ]
     },
     "metadata": {},
     "output_type": "display_data"
    }
   ],
   "source": [
    "first(data, 6)"
   ]
  },
  {
   "cell_type": "code",
   "execution_count": 21,
   "metadata": {},
   "outputs": [
    {
     "data": {
      "text/html": [
       "<div><div style = \"float: left;\"><span>46×5 DataFrame</span></div><div style = \"float: right;\"><span style = \"font-style: italic;\">21 rows omitted</span></div><div style = \"clear: both;\"></div></div><div class = \"data-frame\" style = \"overflow-x: scroll;\"><table class = \"data-frame\" style = \"margin-bottom: 6px;\"><thead><tr class = \"header\"><th class = \"rowNumber\" style = \"font-weight: bold; text-align: right;\">Row</th><th style = \"text-align: left;\">Age</th><th style = \"text-align: left;\">WCC</th><th style = \"text-align: left;\">CRP</th><th style = \"text-align: left;\">Treatment</th><th style = \"text-align: left;\">Result</th></tr><tr class = \"subheader headerLastRow\"><th class = \"rowNumber\" style = \"font-weight: bold; text-align: right;\"></th><th title = \"Int64\" style = \"text-align: left;\">Int64</th><th title = \"Float64\" style = \"text-align: left;\">Float64</th><th title = \"Int64\" style = \"text-align: left;\">Int64</th><th title = \"String\" style = \"text-align: left;\">String</th><th title = \"String\" style = \"text-align: left;\">String</th></tr></thead><tbody><tr><td class = \"rowNumber\" style = \"font-weight: bold; text-align: right;\">1</td><td style = \"text-align: right;\">52</td><td style = \"text-align: right;\">11.8</td><td style = \"text-align: right;\">70</td><td style = \"text-align: left;\">B</td><td style = \"text-align: left;\">Improved</td></tr><tr><td class = \"rowNumber\" style = \"font-weight: bold; text-align: right;\">2</td><td style = \"text-align: right;\">75</td><td style = \"text-align: right;\">12.6</td><td style = \"text-align: right;\">10</td><td style = \"text-align: left;\">B</td><td style = \"text-align: left;\">Worse</td></tr><tr><td class = \"rowNumber\" style = \"font-weight: bold; text-align: right;\">3</td><td style = \"text-align: right;\">19</td><td style = \"text-align: right;\">10.9</td><td style = \"text-align: right;\">20</td><td style = \"text-align: left;\">B</td><td style = \"text-align: left;\">Worse</td></tr><tr><td class = \"rowNumber\" style = \"font-weight: bold; text-align: right;\">4</td><td style = \"text-align: right;\">55</td><td style = \"text-align: right;\">12.4</td><td style = \"text-align: right;\">40</td><td style = \"text-align: left;\">B</td><td style = \"text-align: left;\">Static</td></tr><tr><td class = \"rowNumber\" style = \"font-weight: bold; text-align: right;\">5</td><td style = \"text-align: right;\">49</td><td style = \"text-align: right;\">16.1</td><td style = \"text-align: right;\">30</td><td style = \"text-align: left;\">B</td><td style = \"text-align: left;\">Worse</td></tr><tr><td class = \"rowNumber\" style = \"font-weight: bold; text-align: right;\">6</td><td style = \"text-align: right;\">34</td><td style = \"text-align: right;\">12.0</td><td style = \"text-align: right;\">20</td><td style = \"text-align: left;\">B</td><td style = \"text-align: left;\">Improved</td></tr><tr><td class = \"rowNumber\" style = \"font-weight: bold; text-align: right;\">7</td><td style = \"text-align: right;\">66</td><td style = \"text-align: right;\">12.6</td><td style = \"text-align: right;\">20</td><td style = \"text-align: left;\">B</td><td style = \"text-align: left;\">Worse</td></tr><tr><td class = \"rowNumber\" style = \"font-weight: bold; text-align: right;\">8</td><td style = \"text-align: right;\">45</td><td style = \"text-align: right;\">10.1</td><td style = \"text-align: right;\">50</td><td style = \"text-align: left;\">B</td><td style = \"text-align: left;\">Worse</td></tr><tr><td class = \"rowNumber\" style = \"font-weight: bold; text-align: right;\">9</td><td style = \"text-align: right;\">76</td><td style = \"text-align: right;\">13.9</td><td style = \"text-align: right;\">30</td><td style = \"text-align: left;\">B</td><td style = \"text-align: left;\">Worse</td></tr><tr><td class = \"rowNumber\" style = \"font-weight: bold; text-align: right;\">10</td><td style = \"text-align: right;\">21</td><td style = \"text-align: right;\">11.2</td><td style = \"text-align: right;\">60</td><td style = \"text-align: left;\">B</td><td style = \"text-align: left;\">Improved</td></tr><tr><td class = \"rowNumber\" style = \"font-weight: bold; text-align: right;\">11</td><td style = \"text-align: right;\">69</td><td style = \"text-align: right;\">13.3</td><td style = \"text-align: right;\">40</td><td style = \"text-align: left;\">B</td><td style = \"text-align: left;\">Worse</td></tr><tr><td class = \"rowNumber\" style = \"font-weight: bold; text-align: right;\">12</td><td style = \"text-align: right;\">33</td><td style = \"text-align: right;\">12.1</td><td style = \"text-align: right;\">10</td><td style = \"text-align: left;\">B</td><td style = \"text-align: left;\">Worse</td></tr><tr><td class = \"rowNumber\" style = \"font-weight: bold; text-align: right;\">13</td><td style = \"text-align: right;\">52</td><td style = \"text-align: right;\">8.4</td><td style = \"text-align: right;\">30</td><td style = \"text-align: left;\">B</td><td style = \"text-align: left;\">Improved</td></tr><tr><td style = \"text-align: right;\">&vellip;</td><td style = \"text-align: right;\">&vellip;</td><td style = \"text-align: right;\">&vellip;</td><td style = \"text-align: right;\">&vellip;</td><td style = \"text-align: right;\">&vellip;</td><td style = \"text-align: right;\">&vellip;</td></tr><tr><td class = \"rowNumber\" style = \"font-weight: bold; text-align: right;\">35</td><td style = \"text-align: right;\">51</td><td style = \"text-align: right;\">10.2</td><td style = \"text-align: right;\">80</td><td style = \"text-align: left;\">B</td><td style = \"text-align: left;\">Worse</td></tr><tr><td class = \"rowNumber\" style = \"font-weight: bold; text-align: right;\">36</td><td style = \"text-align: right;\">70</td><td style = \"text-align: right;\">10.1</td><td style = \"text-align: right;\">90</td><td style = \"text-align: left;\">B</td><td style = \"text-align: left;\">Static</td></tr><tr><td class = \"rowNumber\" style = \"font-weight: bold; text-align: right;\">37</td><td style = \"text-align: right;\">58</td><td style = \"text-align: right;\">14.0</td><td style = \"text-align: right;\">100</td><td style = \"text-align: left;\">B</td><td style = \"text-align: left;\">Static</td></tr><tr><td class = \"rowNumber\" style = \"font-weight: bold; text-align: right;\">38</td><td style = \"text-align: right;\">56</td><td style = \"text-align: right;\">7.9</td><td style = \"text-align: right;\">110</td><td style = \"text-align: left;\">B</td><td style = \"text-align: left;\">Improved</td></tr><tr><td class = \"rowNumber\" style = \"font-weight: bold; text-align: right;\">39</td><td style = \"text-align: right;\">77</td><td style = \"text-align: right;\">13.3</td><td style = \"text-align: right;\">60</td><td style = \"text-align: left;\">B</td><td style = \"text-align: left;\">Worse</td></tr><tr><td class = \"rowNumber\" style = \"font-weight: bold; text-align: right;\">40</td><td style = \"text-align: right;\">71</td><td style = \"text-align: right;\">10.7</td><td style = \"text-align: right;\">10</td><td style = \"text-align: left;\">B</td><td style = \"text-align: left;\">Static</td></tr><tr><td class = \"rowNumber\" style = \"font-weight: bold; text-align: right;\">41</td><td style = \"text-align: right;\">64</td><td style = \"text-align: right;\">11.9</td><td style = \"text-align: right;\">70</td><td style = \"text-align: left;\">B</td><td style = \"text-align: left;\">Improved</td></tr><tr><td class = \"rowNumber\" style = \"font-weight: bold; text-align: right;\">42</td><td style = \"text-align: right;\">49</td><td style = \"text-align: right;\">8.9</td><td style = \"text-align: right;\">40</td><td style = \"text-align: left;\">B</td><td style = \"text-align: left;\">Worse</td></tr><tr><td class = \"rowNumber\" style = \"font-weight: bold; text-align: right;\">43</td><td style = \"text-align: right;\">68</td><td style = \"text-align: right;\">13.9</td><td style = \"text-align: right;\">70</td><td style = \"text-align: left;\">B</td><td style = \"text-align: left;\">Static</td></tr><tr><td class = \"rowNumber\" style = \"font-weight: bold; text-align: right;\">44</td><td style = \"text-align: right;\">34</td><td style = \"text-align: right;\">12.0</td><td style = \"text-align: right;\">30</td><td style = \"text-align: left;\">B</td><td style = \"text-align: left;\">Improved</td></tr><tr><td class = \"rowNumber\" style = \"font-weight: bold; text-align: right;\">45</td><td style = \"text-align: right;\">53</td><td style = \"text-align: right;\">12.8</td><td style = \"text-align: right;\">30</td><td style = \"text-align: left;\">B</td><td style = \"text-align: left;\">Static</td></tr><tr><td class = \"rowNumber\" style = \"font-weight: bold; text-align: right;\">46</td><td style = \"text-align: right;\">61</td><td style = \"text-align: right;\">11.2</td><td style = \"text-align: right;\">10</td><td style = \"text-align: left;\">B</td><td style = \"text-align: left;\">Static</td></tr></tbody></table></div>"
      ],
      "text/latex": [
       "\\begin{tabular}{r|ccccc}\n",
       "\t& Age & WCC & CRP & Treatment & Result\\\\\n",
       "\t\\hline\n",
       "\t& Int64 & Float64 & Int64 & String & String\\\\\n",
       "\t\\hline\n",
       "\t1 & 52 & 11.8 & 70 & B & Improved \\\\\n",
       "\t2 & 75 & 12.6 & 10 & B & Worse \\\\\n",
       "\t3 & 19 & 10.9 & 20 & B & Worse \\\\\n",
       "\t4 & 55 & 12.4 & 40 & B & Static \\\\\n",
       "\t5 & 49 & 16.1 & 30 & B & Worse \\\\\n",
       "\t6 & 34 & 12.0 & 20 & B & Improved \\\\\n",
       "\t7 & 66 & 12.6 & 20 & B & Worse \\\\\n",
       "\t8 & 45 & 10.1 & 50 & B & Worse \\\\\n",
       "\t9 & 76 & 13.9 & 30 & B & Worse \\\\\n",
       "\t10 & 21 & 11.2 & 60 & B & Improved \\\\\n",
       "\t11 & 69 & 13.3 & 40 & B & Worse \\\\\n",
       "\t12 & 33 & 12.1 & 10 & B & Worse \\\\\n",
       "\t13 & 52 & 8.4 & 30 & B & Improved \\\\\n",
       "\t14 & 30 & 14.1 & 90 & B & Worse \\\\\n",
       "\t15 & 28 & 16.3 & 50 & B & Worse \\\\\n",
       "\t16 & 19 & 9.9 & 20 & B & Worse \\\\\n",
       "\t17 & 38 & 13.7 & 50 & B & Worse \\\\\n",
       "\t18 & 35 & 13.3 & 10 & B & Static \\\\\n",
       "\t19 & 42 & 11.7 & 40 & B & Improved \\\\\n",
       "\t20 & 40 & 13.1 & 40 & B & Improved \\\\\n",
       "\t21 & 48 & 15.5 & 10 & B & Worse \\\\\n",
       "\t22 & 61 & 7.6 & 80 & B & Worse \\\\\n",
       "\t23 & 37 & 10.6 & 30 & B & Improved \\\\\n",
       "\t24 & 18 & 15.2 & 50 & B & Improved \\\\\n",
       "\t$\\dots$ & $\\dots$ & $\\dots$ & $\\dots$ & $\\dots$ & $\\dots$ \\\\\n",
       "\\end{tabular}\n"
      ],
      "text/plain": [
       "\u001b[1m46×5 DataFrame\u001b[0m\n",
       "\u001b[1m Row \u001b[0m│\u001b[1m Age   \u001b[0m\u001b[1m WCC     \u001b[0m\u001b[1m CRP   \u001b[0m\u001b[1m Treatment \u001b[0m\u001b[1m Result   \u001b[0m\n",
       "     │\u001b[90m Int64 \u001b[0m\u001b[90m Float64 \u001b[0m\u001b[90m Int64 \u001b[0m\u001b[90m String    \u001b[0m\u001b[90m String   \u001b[0m\n",
       "─────┼────────────────────────────────────────────\n",
       "   1 │    52     11.8     70  B          Improved\n",
       "   2 │    75     12.6     10  B          Worse\n",
       "   3 │    19     10.9     20  B          Worse\n",
       "   4 │    55     12.4     40  B          Static\n",
       "   5 │    49     16.1     30  B          Worse\n",
       "   6 │    34     12.0     20  B          Improved\n",
       "   7 │    66     12.6     20  B          Worse\n",
       "   8 │    45     10.1     50  B          Worse\n",
       "  ⋮  │   ⋮       ⋮       ⋮        ⋮         ⋮\n",
       "  40 │    71     10.7     10  B          Static\n",
       "  41 │    64     11.9     70  B          Improved\n",
       "  42 │    49      8.9     40  B          Worse\n",
       "  43 │    68     13.9     70  B          Static\n",
       "  44 │    34     12.0     30  B          Improved\n",
       "  45 │    53     12.8     30  B          Static\n",
       "  46 │    61     11.2     10  B          Static\n",
       "\u001b[36m                                   31 rows omitted\u001b[0m"
      ]
     },
     "metadata": {},
     "output_type": "display_data"
    }
   ],
   "source": [
    "dataA = data[data[!,:Treatment] .== \"A\", :]\n",
    "dataB = data[data[!, :Treatment] .== \"B\", :]"
   ]
  },
  {
   "cell_type": "code",
   "execution_count": 22,
   "metadata": {},
   "outputs": [
    {
     "data": {
      "text/html": [
       "<div><div style = \"float: left;\"><span>6×5 DataFrame</span></div><div style = \"clear: both;\"></div></div><div class = \"data-frame\" style = \"overflow-x: scroll;\"><table class = \"data-frame\" style = \"margin-bottom: 6px;\"><thead><tr class = \"header\"><th class = \"rowNumber\" style = \"font-weight: bold; text-align: right;\">Row</th><th style = \"text-align: left;\">Age</th><th style = \"text-align: left;\">WCC</th><th style = \"text-align: left;\">CRP</th><th style = \"text-align: left;\">Treatment</th><th style = \"text-align: left;\">Result</th></tr><tr class = \"subheader headerLastRow\"><th class = \"rowNumber\" style = \"font-weight: bold; text-align: right;\"></th><th title = \"Int64\" style = \"text-align: left;\">Int64</th><th title = \"Float64\" style = \"text-align: left;\">Float64</th><th title = \"Int64\" style = \"text-align: left;\">Int64</th><th title = \"String\" style = \"text-align: left;\">String</th><th title = \"String\" style = \"text-align: left;\">String</th></tr></thead><tbody><tr><td class = \"rowNumber\" style = \"font-weight: bold; text-align: right;\">1</td><td style = \"text-align: right;\">64</td><td style = \"text-align: right;\">11.9</td><td style = \"text-align: right;\">70</td><td style = \"text-align: left;\">B</td><td style = \"text-align: left;\">Improved</td></tr><tr><td class = \"rowNumber\" style = \"font-weight: bold; text-align: right;\">2</td><td style = \"text-align: right;\">49</td><td style = \"text-align: right;\">8.9</td><td style = \"text-align: right;\">40</td><td style = \"text-align: left;\">B</td><td style = \"text-align: left;\">Worse</td></tr><tr><td class = \"rowNumber\" style = \"font-weight: bold; text-align: right;\">3</td><td style = \"text-align: right;\">68</td><td style = \"text-align: right;\">13.9</td><td style = \"text-align: right;\">70</td><td style = \"text-align: left;\">B</td><td style = \"text-align: left;\">Static</td></tr><tr><td class = \"rowNumber\" style = \"font-weight: bold; text-align: right;\">4</td><td style = \"text-align: right;\">34</td><td style = \"text-align: right;\">12.0</td><td style = \"text-align: right;\">30</td><td style = \"text-align: left;\">B</td><td style = \"text-align: left;\">Improved</td></tr><tr><td class = \"rowNumber\" style = \"font-weight: bold; text-align: right;\">5</td><td style = \"text-align: right;\">53</td><td style = \"text-align: right;\">12.8</td><td style = \"text-align: right;\">30</td><td style = \"text-align: left;\">B</td><td style = \"text-align: left;\">Static</td></tr><tr><td class = \"rowNumber\" style = \"font-weight: bold; text-align: right;\">6</td><td style = \"text-align: right;\">61</td><td style = \"text-align: right;\">11.2</td><td style = \"text-align: right;\">10</td><td style = \"text-align: left;\">B</td><td style = \"text-align: left;\">Static</td></tr></tbody></table></div>"
      ],
      "text/latex": [
       "\\begin{tabular}{r|ccccc}\n",
       "\t& Age & WCC & CRP & Treatment & Result\\\\\n",
       "\t\\hline\n",
       "\t& Int64 & Float64 & Int64 & String & String\\\\\n",
       "\t\\hline\n",
       "\t1 & 64 & 11.9 & 70 & B & Improved \\\\\n",
       "\t2 & 49 & 8.9 & 40 & B & Worse \\\\\n",
       "\t3 & 68 & 13.9 & 70 & B & Static \\\\\n",
       "\t4 & 34 & 12.0 & 30 & B & Improved \\\\\n",
       "\t5 & 53 & 12.8 & 30 & B & Static \\\\\n",
       "\t6 & 61 & 11.2 & 10 & B & Static \\\\\n",
       "\\end{tabular}\n"
      ],
      "text/plain": [
       "\u001b[1m6×5 DataFrame\u001b[0m\n",
       "\u001b[1m Row \u001b[0m│\u001b[1m Age   \u001b[0m\u001b[1m WCC     \u001b[0m\u001b[1m CRP   \u001b[0m\u001b[1m Treatment \u001b[0m\u001b[1m Result   \u001b[0m\n",
       "     │\u001b[90m Int64 \u001b[0m\u001b[90m Float64 \u001b[0m\u001b[90m Int64 \u001b[0m\u001b[90m String    \u001b[0m\u001b[90m String   \u001b[0m\n",
       "─────┼────────────────────────────────────────────\n",
       "   1 │    64     11.9     70  B          Improved\n",
       "   2 │    49      8.9     40  B          Worse\n",
       "   3 │    68     13.9     70  B          Static\n",
       "   4 │    34     12.0     30  B          Improved\n",
       "   5 │    53     12.8     30  B          Static\n",
       "   6 │    61     11.2     10  B          Static"
      ]
     },
     "metadata": {},
     "output_type": "display_data"
    }
   ],
   "source": [
    "last(dataB, 6)"
   ]
  },
  {
   "cell_type": "code",
   "execution_count": 24,
   "metadata": {},
   "outputs": [
    {
     "data": {
      "text/html": [
       "<div><div style = \"float: left;\"><span>5×7 DataFrame</span></div><div style = \"clear: both;\"></div></div><div class = \"data-frame\" style = \"overflow-x: scroll;\"><table class = \"data-frame\" style = \"margin-bottom: 6px;\"><thead><tr class = \"header\"><th class = \"rowNumber\" style = \"font-weight: bold; text-align: right;\">Row</th><th style = \"text-align: left;\">variable</th><th style = \"text-align: left;\">mean</th><th style = \"text-align: left;\">min</th><th style = \"text-align: left;\">median</th><th style = \"text-align: left;\">max</th><th style = \"text-align: left;\">nmissing</th><th style = \"text-align: left;\">eltype</th></tr><tr class = \"subheader headerLastRow\"><th class = \"rowNumber\" style = \"font-weight: bold; text-align: right;\"></th><th title = \"Symbol\" style = \"text-align: left;\">Symbol</th><th title = \"Union{Nothing, Float64}\" style = \"text-align: left;\">Union…</th><th title = \"Any\" style = \"text-align: left;\">Any</th><th title = \"Union{Nothing, Float64}\" style = \"text-align: left;\">Union…</th><th title = \"Any\" style = \"text-align: left;\">Any</th><th title = \"Int64\" style = \"text-align: left;\">Int64</th><th title = \"DataType\" style = \"text-align: left;\">DataType</th></tr></thead><tbody><tr><td class = \"rowNumber\" style = \"font-weight: bold; text-align: right;\">1</td><td style = \"text-align: left;\">Age</td><td style = \"text-align: left;\">46.29</td><td style = \"text-align: left;\">18</td><td style = \"text-align: left;\">45.0</td><td style = \"text-align: left;\">80</td><td style = \"text-align: right;\">0</td><td style = \"text-align: left;\">Int64</td></tr><tr><td class = \"rowNumber\" style = \"font-weight: bold; text-align: right;\">2</td><td style = \"text-align: left;\">WCC</td><td style = \"text-align: left;\">11.767</td><td style = \"text-align: left;\">7.3</td><td style = \"text-align: left;\">11.7</td><td style = \"text-align: left;\">17.5</td><td style = \"text-align: right;\">0</td><td style = \"text-align: left;\">Float64</td></tr><tr><td class = \"rowNumber\" style = \"font-weight: bold; text-align: right;\">3</td><td style = \"text-align: left;\">CRP</td><td style = \"text-align: left;\">41.5</td><td style = \"text-align: left;\">0</td><td style = \"text-align: left;\">35.0</td><td style = \"text-align: left;\">140</td><td style = \"text-align: right;\">0</td><td style = \"text-align: left;\">Int64</td></tr><tr><td class = \"rowNumber\" style = \"font-weight: bold; text-align: right;\">4</td><td style = \"text-align: left;\">Treatment</td><td style = \"font-style: italic; text-align: left;\"></td><td style = \"text-align: left;\">A</td><td style = \"font-style: italic; text-align: left;\"></td><td style = \"text-align: left;\">B</td><td style = \"text-align: right;\">0</td><td style = \"text-align: left;\">String</td></tr><tr><td class = \"rowNumber\" style = \"font-weight: bold; text-align: right;\">5</td><td style = \"text-align: left;\">Result</td><td style = \"font-style: italic; text-align: left;\"></td><td style = \"text-align: left;\">Improved</td><td style = \"font-style: italic; text-align: left;\"></td><td style = \"text-align: left;\">Worse</td><td style = \"text-align: right;\">0</td><td style = \"text-align: left;\">String</td></tr></tbody></table></div>"
      ],
      "text/latex": [
       "\\begin{tabular}{r|ccccccc}\n",
       "\t& variable & mean & min & median & max & nmissing & eltype\\\\\n",
       "\t\\hline\n",
       "\t& Symbol & Union… & Any & Union… & Any & Int64 & DataType\\\\\n",
       "\t\\hline\n",
       "\t1 & Age & 46.29 & 18 & 45.0 & 80 & 0 & Int64 \\\\\n",
       "\t2 & WCC & 11.767 & 7.3 & 11.7 & 17.5 & 0 & Float64 \\\\\n",
       "\t3 & CRP & 41.5 & 0 & 35.0 & 140 & 0 & Int64 \\\\\n",
       "\t4 & Treatment &  & A &  & B & 0 & String \\\\\n",
       "\t5 & Result &  & Improved &  & Worse & 0 & String \\\\\n",
       "\\end{tabular}\n"
      ],
      "text/plain": [
       "\u001b[1m5×7 DataFrame\u001b[0m\n",
       "\u001b[1m Row \u001b[0m│\u001b[1m variable  \u001b[0m\u001b[1m mean   \u001b[0m\u001b[1m min      \u001b[0m\u001b[1m median \u001b[0m\u001b[1m max   \u001b[0m\u001b[1m nmissing \u001b[0m\u001b[1m eltype   \u001b[0m\n",
       "     │\u001b[90m Symbol    \u001b[0m\u001b[90m Union… \u001b[0m\u001b[90m Any      \u001b[0m\u001b[90m Union… \u001b[0m\u001b[90m Any   \u001b[0m\u001b[90m Int64    \u001b[0m\u001b[90m DataType \u001b[0m\n",
       "─────┼────────────────────────────────────────────────────────────────\n",
       "   1 │ Age        46.29   18        45.0    80            0  Int64\n",
       "   2 │ WCC        11.767  7.3       11.7    17.5          0  Float64\n",
       "   3 │ CRP        41.5    0         35.0    140           0  Int64\n",
       "   4 │ Treatment \u001b[90m        \u001b[0m A        \u001b[90m        \u001b[0m B             0  String\n",
       "   5 │ Result    \u001b[90m        \u001b[0m Improved \u001b[90m        \u001b[0m Worse         0  String"
      ]
     },
     "metadata": {},
     "output_type": "display_data"
    }
   ],
   "source": [
    "describe(data)"
   ]
  },
  {
   "cell_type": "code",
   "execution_count": null,
   "metadata": {},
   "outputs": [],
   "source": []
  }
 ],
 "metadata": {
  "kernelspec": {
   "display_name": "Julia 1.10.2",
   "language": "julia",
   "name": "julia-1.10"
  },
  "language_info": {
   "file_extension": ".jl",
   "mimetype": "application/julia",
   "name": "julia",
   "version": "1.10.2"
  }
 },
 "nbformat": 4,
 "nbformat_minor": 2
}
