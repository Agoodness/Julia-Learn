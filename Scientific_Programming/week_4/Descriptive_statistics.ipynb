{
 "cells": [
  {
   "cell_type": "code",
   "execution_count": 69,
   "metadata": {},
   "outputs": [
    {
     "data": {
      "text/plain": [
       "Plots.PyPlotBackend()"
      ]
     },
     "metadata": {},
     "output_type": "display_data"
    }
   ],
   "source": [
    "using Distributions\n",
    "using StatsBase\n",
    "using CSV\n",
    "using DataFrames\n",
    "using HypothesisTests\n",
    "using StatsPlots\n",
    "using GLM\n",
    "pyplot()"
   ]
  },
  {
   "cell_type": "code",
   "execution_count": 70,
   "metadata": {},
   "outputs": [
    {
     "data": {
      "text/plain": [
       "Plots.PyPlotBackend()"
      ]
     },
     "metadata": {},
     "output_type": "display_data"
    }
   ],
   "source": [
    "Plots.PyPlotBackend()"
   ]
  },
  {
   "cell_type": "code",
   "execution_count": 71,
   "metadata": {},
   "outputs": [],
   "source": [
    "age = rand(18:80, 100);\n",
    "wcc = round.(rand(Distributions.Normal(12,2), 100), digits = 1)\n",
    "crp = round.(Int, rand(Distributions.Chisq(4), 100)) .* 10\n",
    "treatment = rand([\"A\", \"B\"], 100);\n",
    "result = rand([\"Improved\", \"Static\", \"Worse\"], 100);"
   ]
  },
  {
   "cell_type": "code",
   "execution_count": 72,
   "metadata": {},
   "outputs": [
    {
     "data": {
      "text/plain": [
       "50.33"
      ]
     },
     "metadata": {},
     "output_type": "display_data"
    }
   ],
   "source": [
    "mean(age)"
   ]
  },
  {
   "cell_type": "code",
   "execution_count": 73,
   "metadata": {},
   "outputs": [
    {
     "data": {
      "text/plain": [
       "48.0"
      ]
     },
     "metadata": {},
     "output_type": "display_data"
    }
   ],
   "source": [
    "median(age)"
   ]
  },
  {
   "cell_type": "code",
   "execution_count": 74,
   "metadata": {},
   "outputs": [
    {
     "data": {
      "text/plain": [
       "17.288435441068692"
      ]
     },
     "metadata": {},
     "output_type": "display_data"
    }
   ],
   "source": [
    "std(age)"
   ]
  },
  {
   "cell_type": "code",
   "execution_count": 75,
   "metadata": {},
   "outputs": [
    {
     "data": {
      "text/plain": [
       "298.89"
      ]
     },
     "metadata": {},
     "output_type": "display_data"
    }
   ],
   "source": [
    "var(age)"
   ]
  },
  {
   "cell_type": "code",
   "execution_count": 76,
   "metadata": {},
   "outputs": [
    {
     "data": {
      "text/plain": [
       "12.021999999999998"
      ]
     },
     "metadata": {},
     "output_type": "display_data"
    }
   ],
   "source": [
    "mean(wcc)"
   ]
  },
  {
   "cell_type": "code",
   "execution_count": 77,
   "metadata": {},
   "outputs": [
    {
     "data": {
      "text/plain": [
       "2.2382614104286707"
      ]
     },
     "metadata": {},
     "output_type": "display_data"
    }
   ],
   "source": [
    "std(wcc)"
   ]
  },
  {
   "cell_type": "code",
   "execution_count": 78,
   "metadata": {},
   "outputs": [
    {
     "name": "stdout",
     "output_type": "stream",
     "text": [
      "Summary Stats:\n",
      "Length:         100\n",
      "Missing Count:  0\n",
      "Mean:           50.330000\n",
      "Std. Deviation: 17.288435\n",
      "Minimum:        19.000000\n",
      "1st Quartile:   35.750000\n",
      "Median:         48.000000\n",
      "3rd Quartile:   67.250000\n",
      "Maximum:        80.000000\n",
      "Type:           Int64\n"
     ]
    }
   ],
   "source": [
    "StatsBase.describe(age)"
   ]
  },
  {
   "cell_type": "code",
   "execution_count": 79,
   "metadata": {},
   "outputs": [
    {
     "data": {
      "text/plain": [
       "Summary Stats:\n",
       "Length:         100\n",
       "Missing Count:  0\n",
       "Mean:           12.022000\n",
       "Std. Deviation: 2.238261\n",
       "Minimum:        7.500000\n",
       "1st Quartile:   10.675000\n",
       "Median:         11.850000\n",
       "3rd Quartile:   13.300000\n",
       "Maximum:        19.300000\n"
      ]
     },
     "metadata": {},
     "output_type": "display_data"
    }
   ],
   "source": [
    "StatsBase.summarystats(wcc)"
   ]
  },
  {
   "cell_type": "code",
   "execution_count": 80,
   "metadata": {},
   "outputs": [
    {
     "data": {
      "text/html": [
       "<div><div style = \"float: left;\"><span>100×5 DataFrame</span></div><div style = \"float: right;\"><span style = \"font-style: italic;\">75 rows omitted</span></div><div style = \"clear: both;\"></div></div><div class = \"data-frame\" style = \"overflow-x: scroll;\"><table class = \"data-frame\" style = \"margin-bottom: 6px;\"><thead><tr class = \"header\"><th class = \"rowNumber\" style = \"font-weight: bold; text-align: right;\">Row</th><th style = \"text-align: left;\">Age</th><th style = \"text-align: left;\">WCC</th><th style = \"text-align: left;\">CRP</th><th style = \"text-align: left;\">Treatment</th><th style = \"text-align: left;\">Result</th></tr><tr class = \"subheader headerLastRow\"><th class = \"rowNumber\" style = \"font-weight: bold; text-align: right;\"></th><th title = \"Int64\" style = \"text-align: left;\">Int64</th><th title = \"Float64\" style = \"text-align: left;\">Float64</th><th title = \"Int64\" style = \"text-align: left;\">Int64</th><th title = \"String\" style = \"text-align: left;\">String</th><th title = \"String\" style = \"text-align: left;\">String</th></tr></thead><tbody><tr><td class = \"rowNumber\" style = \"font-weight: bold; text-align: right;\">1</td><td style = \"text-align: right;\">36</td><td style = \"text-align: right;\">13.3</td><td style = \"text-align: right;\">90</td><td style = \"text-align: left;\">A</td><td style = \"text-align: left;\">Worse</td></tr><tr><td class = \"rowNumber\" style = \"font-weight: bold; text-align: right;\">2</td><td style = \"text-align: right;\">28</td><td style = \"text-align: right;\">14.3</td><td style = \"text-align: right;\">60</td><td style = \"text-align: left;\">B</td><td style = \"text-align: left;\">Worse</td></tr><tr><td class = \"rowNumber\" style = \"font-weight: bold; text-align: right;\">3</td><td style = \"text-align: right;\">78</td><td style = \"text-align: right;\">11.6</td><td style = \"text-align: right;\">30</td><td style = \"text-align: left;\">A</td><td style = \"text-align: left;\">Worse</td></tr><tr><td class = \"rowNumber\" style = \"font-weight: bold; text-align: right;\">4</td><td style = \"text-align: right;\">34</td><td style = \"text-align: right;\">11.6</td><td style = \"text-align: right;\">10</td><td style = \"text-align: left;\">B</td><td style = \"text-align: left;\">Static</td></tr><tr><td class = \"rowNumber\" style = \"font-weight: bold; text-align: right;\">5</td><td style = \"text-align: right;\">19</td><td style = \"text-align: right;\">18.1</td><td style = \"text-align: right;\">40</td><td style = \"text-align: left;\">A</td><td style = \"text-align: left;\">Improved</td></tr><tr><td class = \"rowNumber\" style = \"font-weight: bold; text-align: right;\">6</td><td style = \"text-align: right;\">23</td><td style = \"text-align: right;\">11.5</td><td style = \"text-align: right;\">50</td><td style = \"text-align: left;\">B</td><td style = \"text-align: left;\">Static</td></tr><tr><td class = \"rowNumber\" style = \"font-weight: bold; text-align: right;\">7</td><td style = \"text-align: right;\">66</td><td style = \"text-align: right;\">12.1</td><td style = \"text-align: right;\">30</td><td style = \"text-align: left;\">B</td><td style = \"text-align: left;\">Worse</td></tr><tr><td class = \"rowNumber\" style = \"font-weight: bold; text-align: right;\">8</td><td style = \"text-align: right;\">76</td><td style = \"text-align: right;\">14.8</td><td style = \"text-align: right;\">10</td><td style = \"text-align: left;\">A</td><td style = \"text-align: left;\">Static</td></tr><tr><td class = \"rowNumber\" style = \"font-weight: bold; text-align: right;\">9</td><td style = \"text-align: right;\">48</td><td style = \"text-align: right;\">12.8</td><td style = \"text-align: right;\">60</td><td style = \"text-align: left;\">B</td><td style = \"text-align: left;\">Static</td></tr><tr><td class = \"rowNumber\" style = \"font-weight: bold; text-align: right;\">10</td><td style = \"text-align: right;\">70</td><td style = \"text-align: right;\">14.1</td><td style = \"text-align: right;\">70</td><td style = \"text-align: left;\">B</td><td style = \"text-align: left;\">Improved</td></tr><tr><td class = \"rowNumber\" style = \"font-weight: bold; text-align: right;\">11</td><td style = \"text-align: right;\">42</td><td style = \"text-align: right;\">15.0</td><td style = \"text-align: right;\">60</td><td style = \"text-align: left;\">B</td><td style = \"text-align: left;\">Static</td></tr><tr><td class = \"rowNumber\" style = \"font-weight: bold; text-align: right;\">12</td><td style = \"text-align: right;\">73</td><td style = \"text-align: right;\">9.0</td><td style = \"text-align: right;\">50</td><td style = \"text-align: left;\">B</td><td style = \"text-align: left;\">Static</td></tr><tr><td class = \"rowNumber\" style = \"font-weight: bold; text-align: right;\">13</td><td style = \"text-align: right;\">40</td><td style = \"text-align: right;\">13.3</td><td style = \"text-align: right;\">10</td><td style = \"text-align: left;\">A</td><td style = \"text-align: left;\">Worse</td></tr><tr><td style = \"text-align: right;\">&vellip;</td><td style = \"text-align: right;\">&vellip;</td><td style = \"text-align: right;\">&vellip;</td><td style = \"text-align: right;\">&vellip;</td><td style = \"text-align: right;\">&vellip;</td><td style = \"text-align: right;\">&vellip;</td></tr><tr><td class = \"rowNumber\" style = \"font-weight: bold; text-align: right;\">89</td><td style = \"text-align: right;\">49</td><td style = \"text-align: right;\">13.7</td><td style = \"text-align: right;\">90</td><td style = \"text-align: left;\">B</td><td style = \"text-align: left;\">Worse</td></tr><tr><td class = \"rowNumber\" style = \"font-weight: bold; text-align: right;\">90</td><td style = \"text-align: right;\">60</td><td style = \"text-align: right;\">8.4</td><td style = \"text-align: right;\">20</td><td style = \"text-align: left;\">B</td><td style = \"text-align: left;\">Worse</td></tr><tr><td class = \"rowNumber\" style = \"font-weight: bold; text-align: right;\">91</td><td style = \"text-align: right;\">68</td><td style = \"text-align: right;\">10.2</td><td style = \"text-align: right;\">20</td><td style = \"text-align: left;\">A</td><td style = \"text-align: left;\">Improved</td></tr><tr><td class = \"rowNumber\" style = \"font-weight: bold; text-align: right;\">92</td><td style = \"text-align: right;\">54</td><td style = \"text-align: right;\">12.6</td><td style = \"text-align: right;\">20</td><td style = \"text-align: left;\">A</td><td style = \"text-align: left;\">Improved</td></tr><tr><td class = \"rowNumber\" style = \"font-weight: bold; text-align: right;\">93</td><td style = \"text-align: right;\">49</td><td style = \"text-align: right;\">10.9</td><td style = \"text-align: right;\">50</td><td style = \"text-align: left;\">B</td><td style = \"text-align: left;\">Static</td></tr><tr><td class = \"rowNumber\" style = \"font-weight: bold; text-align: right;\">94</td><td style = \"text-align: right;\">22</td><td style = \"text-align: right;\">10.6</td><td style = \"text-align: right;\">120</td><td style = \"text-align: left;\">A</td><td style = \"text-align: left;\">Static</td></tr><tr><td class = \"rowNumber\" style = \"font-weight: bold; text-align: right;\">95</td><td style = \"text-align: right;\">72</td><td style = \"text-align: right;\">11.0</td><td style = \"text-align: right;\">30</td><td style = \"text-align: left;\">A</td><td style = \"text-align: left;\">Static</td></tr><tr><td class = \"rowNumber\" style = \"font-weight: bold; text-align: right;\">96</td><td style = \"text-align: right;\">58</td><td style = \"text-align: right;\">7.5</td><td style = \"text-align: right;\">10</td><td style = \"text-align: left;\">A</td><td style = \"text-align: left;\">Static</td></tr><tr><td class = \"rowNumber\" style = \"font-weight: bold; text-align: right;\">97</td><td style = \"text-align: right;\">66</td><td style = \"text-align: right;\">9.9</td><td style = \"text-align: right;\">10</td><td style = \"text-align: left;\">A</td><td style = \"text-align: left;\">Worse</td></tr><tr><td class = \"rowNumber\" style = \"font-weight: bold; text-align: right;\">98</td><td style = \"text-align: right;\">24</td><td style = \"text-align: right;\">12.2</td><td style = \"text-align: right;\">10</td><td style = \"text-align: left;\">B</td><td style = \"text-align: left;\">Improved</td></tr><tr><td class = \"rowNumber\" style = \"font-weight: bold; text-align: right;\">99</td><td style = \"text-align: right;\">40</td><td style = \"text-align: right;\">10.8</td><td style = \"text-align: right;\">40</td><td style = \"text-align: left;\">A</td><td style = \"text-align: left;\">Improved</td></tr><tr><td class = \"rowNumber\" style = \"font-weight: bold; text-align: right;\">100</td><td style = \"text-align: right;\">35</td><td style = \"text-align: right;\">8.3</td><td style = \"text-align: right;\">40</td><td style = \"text-align: left;\">A</td><td style = \"text-align: left;\">Worse</td></tr></tbody></table></div>"
      ],
      "text/latex": [
       "\\begin{tabular}{r|ccccc}\n",
       "\t& Age & WCC & CRP & Treatment & Result\\\\\n",
       "\t\\hline\n",
       "\t& Int64 & Float64 & Int64 & String & String\\\\\n",
       "\t\\hline\n",
       "\t1 & 36 & 13.3 & 90 & A & Worse \\\\\n",
       "\t2 & 28 & 14.3 & 60 & B & Worse \\\\\n",
       "\t3 & 78 & 11.6 & 30 & A & Worse \\\\\n",
       "\t4 & 34 & 11.6 & 10 & B & Static \\\\\n",
       "\t5 & 19 & 18.1 & 40 & A & Improved \\\\\n",
       "\t6 & 23 & 11.5 & 50 & B & Static \\\\\n",
       "\t7 & 66 & 12.1 & 30 & B & Worse \\\\\n",
       "\t8 & 76 & 14.8 & 10 & A & Static \\\\\n",
       "\t9 & 48 & 12.8 & 60 & B & Static \\\\\n",
       "\t10 & 70 & 14.1 & 70 & B & Improved \\\\\n",
       "\t11 & 42 & 15.0 & 60 & B & Static \\\\\n",
       "\t12 & 73 & 9.0 & 50 & B & Static \\\\\n",
       "\t13 & 40 & 13.3 & 10 & A & Worse \\\\\n",
       "\t14 & 34 & 10.4 & 30 & A & Improved \\\\\n",
       "\t15 & 33 & 14.1 & 0 & B & Worse \\\\\n",
       "\t16 & 60 & 8.9 & 20 & B & Static \\\\\n",
       "\t17 & 62 & 9.1 & 40 & A & Static \\\\\n",
       "\t18 & 71 & 14.1 & 20 & A & Improved \\\\\n",
       "\t19 & 29 & 12.0 & 40 & B & Static \\\\\n",
       "\t20 & 32 & 13.9 & 30 & A & Improved \\\\\n",
       "\t21 & 40 & 11.8 & 30 & B & Worse \\\\\n",
       "\t22 & 48 & 12.1 & 40 & A & Worse \\\\\n",
       "\t23 & 52 & 12.0 & 20 & A & Improved \\\\\n",
       "\t24 & 77 & 12.0 & 30 & B & Improved \\\\\n",
       "\t$\\dots$ & $\\dots$ & $\\dots$ & $\\dots$ & $\\dots$ & $\\dots$ \\\\\n",
       "\\end{tabular}\n"
      ],
      "text/plain": [
       "\u001b[1m100×5 DataFrame\u001b[0m\n",
       "\u001b[1m Row \u001b[0m│\u001b[1m Age   \u001b[0m\u001b[1m WCC     \u001b[0m\u001b[1m CRP   \u001b[0m\u001b[1m Treatment \u001b[0m\u001b[1m Result   \u001b[0m\n",
       "     │\u001b[90m Int64 \u001b[0m\u001b[90m Float64 \u001b[0m\u001b[90m Int64 \u001b[0m\u001b[90m String    \u001b[0m\u001b[90m String   \u001b[0m\n",
       "─────┼────────────────────────────────────────────\n",
       "   1 │    36     13.3     90  A          Worse\n",
       "   2 │    28     14.3     60  B          Worse\n",
       "   3 │    78     11.6     30  A          Worse\n",
       "   4 │    34     11.6     10  B          Static\n",
       "   5 │    19     18.1     40  A          Improved\n",
       "   6 │    23     11.5     50  B          Static\n",
       "   7 │    66     12.1     30  B          Worse\n",
       "   8 │    76     14.8     10  A          Static\n",
       "  ⋮  │   ⋮       ⋮       ⋮        ⋮         ⋮\n",
       "  94 │    22     10.6    120  A          Static\n",
       "  95 │    72     11.0     30  A          Static\n",
       "  96 │    58      7.5     10  A          Static\n",
       "  97 │    66      9.9     10  A          Worse\n",
       "  98 │    24     12.2     10  B          Improved\n",
       "  99 │    40     10.8     40  A          Improved\n",
       " 100 │    35      8.3     40  A          Worse\n",
       "\u001b[36m                                   85 rows omitted\u001b[0m"
      ]
     },
     "metadata": {},
     "output_type": "display_data"
    }
   ],
   "source": [
    "data = DataFrame(Age = age, WCC = wcc, CRP = crp, Treatment = treatment, Result = result)"
   ]
  },
  {
   "cell_type": "code",
   "execution_count": 81,
   "metadata": {},
   "outputs": [
    {
     "data": {
      "text/plain": [
       "(100, 5)"
      ]
     },
     "metadata": {},
     "output_type": "display_data"
    }
   ],
   "source": [
    "size(data)"
   ]
  },
  {
   "cell_type": "code",
   "execution_count": 82,
   "metadata": {},
   "outputs": [
    {
     "data": {
      "text/html": [
       "<div><div style = \"float: left;\"><span>6×5 DataFrame</span></div><div style = \"clear: both;\"></div></div><div class = \"data-frame\" style = \"overflow-x: scroll;\"><table class = \"data-frame\" style = \"margin-bottom: 6px;\"><thead><tr class = \"header\"><th class = \"rowNumber\" style = \"font-weight: bold; text-align: right;\">Row</th><th style = \"text-align: left;\">Age</th><th style = \"text-align: left;\">WCC</th><th style = \"text-align: left;\">CRP</th><th style = \"text-align: left;\">Treatment</th><th style = \"text-align: left;\">Result</th></tr><tr class = \"subheader headerLastRow\"><th class = \"rowNumber\" style = \"font-weight: bold; text-align: right;\"></th><th title = \"Int64\" style = \"text-align: left;\">Int64</th><th title = \"Float64\" style = \"text-align: left;\">Float64</th><th title = \"Int64\" style = \"text-align: left;\">Int64</th><th title = \"String\" style = \"text-align: left;\">String</th><th title = \"String\" style = \"text-align: left;\">String</th></tr></thead><tbody><tr><td class = \"rowNumber\" style = \"font-weight: bold; text-align: right;\">1</td><td style = \"text-align: right;\">36</td><td style = \"text-align: right;\">13.3</td><td style = \"text-align: right;\">90</td><td style = \"text-align: left;\">A</td><td style = \"text-align: left;\">Worse</td></tr><tr><td class = \"rowNumber\" style = \"font-weight: bold; text-align: right;\">2</td><td style = \"text-align: right;\">28</td><td style = \"text-align: right;\">14.3</td><td style = \"text-align: right;\">60</td><td style = \"text-align: left;\">B</td><td style = \"text-align: left;\">Worse</td></tr><tr><td class = \"rowNumber\" style = \"font-weight: bold; text-align: right;\">3</td><td style = \"text-align: right;\">78</td><td style = \"text-align: right;\">11.6</td><td style = \"text-align: right;\">30</td><td style = \"text-align: left;\">A</td><td style = \"text-align: left;\">Worse</td></tr><tr><td class = \"rowNumber\" style = \"font-weight: bold; text-align: right;\">4</td><td style = \"text-align: right;\">34</td><td style = \"text-align: right;\">11.6</td><td style = \"text-align: right;\">10</td><td style = \"text-align: left;\">B</td><td style = \"text-align: left;\">Static</td></tr><tr><td class = \"rowNumber\" style = \"font-weight: bold; text-align: right;\">5</td><td style = \"text-align: right;\">19</td><td style = \"text-align: right;\">18.1</td><td style = \"text-align: right;\">40</td><td style = \"text-align: left;\">A</td><td style = \"text-align: left;\">Improved</td></tr><tr><td class = \"rowNumber\" style = \"font-weight: bold; text-align: right;\">6</td><td style = \"text-align: right;\">23</td><td style = \"text-align: right;\">11.5</td><td style = \"text-align: right;\">50</td><td style = \"text-align: left;\">B</td><td style = \"text-align: left;\">Static</td></tr></tbody></table></div>"
      ],
      "text/latex": [
       "\\begin{tabular}{r|ccccc}\n",
       "\t& Age & WCC & CRP & Treatment & Result\\\\\n",
       "\t\\hline\n",
       "\t& Int64 & Float64 & Int64 & String & String\\\\\n",
       "\t\\hline\n",
       "\t1 & 36 & 13.3 & 90 & A & Worse \\\\\n",
       "\t2 & 28 & 14.3 & 60 & B & Worse \\\\\n",
       "\t3 & 78 & 11.6 & 30 & A & Worse \\\\\n",
       "\t4 & 34 & 11.6 & 10 & B & Static \\\\\n",
       "\t5 & 19 & 18.1 & 40 & A & Improved \\\\\n",
       "\t6 & 23 & 11.5 & 50 & B & Static \\\\\n",
       "\\end{tabular}\n"
      ],
      "text/plain": [
       "\u001b[1m6×5 DataFrame\u001b[0m\n",
       "\u001b[1m Row \u001b[0m│\u001b[1m Age   \u001b[0m\u001b[1m WCC     \u001b[0m\u001b[1m CRP   \u001b[0m\u001b[1m Treatment \u001b[0m\u001b[1m Result   \u001b[0m\n",
       "     │\u001b[90m Int64 \u001b[0m\u001b[90m Float64 \u001b[0m\u001b[90m Int64 \u001b[0m\u001b[90m String    \u001b[0m\u001b[90m String   \u001b[0m\n",
       "─────┼────────────────────────────────────────────\n",
       "   1 │    36     13.3     90  A          Worse\n",
       "   2 │    28     14.3     60  B          Worse\n",
       "   3 │    78     11.6     30  A          Worse\n",
       "   4 │    34     11.6     10  B          Static\n",
       "   5 │    19     18.1     40  A          Improved\n",
       "   6 │    23     11.5     50  B          Static"
      ]
     },
     "metadata": {},
     "output_type": "display_data"
    }
   ],
   "source": [
    "first(data, 6)"
   ]
  },
  {
   "cell_type": "code",
   "execution_count": 83,
   "metadata": {},
   "outputs": [
    {
     "data": {
      "text/html": [
       "<div><div style = \"float: left;\"><span>50×5 DataFrame</span></div><div style = \"float: right;\"><span style = \"font-style: italic;\">25 rows omitted</span></div><div style = \"clear: both;\"></div></div><div class = \"data-frame\" style = \"overflow-x: scroll;\"><table class = \"data-frame\" style = \"margin-bottom: 6px;\"><thead><tr class = \"header\"><th class = \"rowNumber\" style = \"font-weight: bold; text-align: right;\">Row</th><th style = \"text-align: left;\">Age</th><th style = \"text-align: left;\">WCC</th><th style = \"text-align: left;\">CRP</th><th style = \"text-align: left;\">Treatment</th><th style = \"text-align: left;\">Result</th></tr><tr class = \"subheader headerLastRow\"><th class = \"rowNumber\" style = \"font-weight: bold; text-align: right;\"></th><th title = \"Int64\" style = \"text-align: left;\">Int64</th><th title = \"Float64\" style = \"text-align: left;\">Float64</th><th title = \"Int64\" style = \"text-align: left;\">Int64</th><th title = \"String\" style = \"text-align: left;\">String</th><th title = \"String\" style = \"text-align: left;\">String</th></tr></thead><tbody><tr><td class = \"rowNumber\" style = \"font-weight: bold; text-align: right;\">1</td><td style = \"text-align: right;\">28</td><td style = \"text-align: right;\">14.3</td><td style = \"text-align: right;\">60</td><td style = \"text-align: left;\">B</td><td style = \"text-align: left;\">Worse</td></tr><tr><td class = \"rowNumber\" style = \"font-weight: bold; text-align: right;\">2</td><td style = \"text-align: right;\">34</td><td style = \"text-align: right;\">11.6</td><td style = \"text-align: right;\">10</td><td style = \"text-align: left;\">B</td><td style = \"text-align: left;\">Static</td></tr><tr><td class = \"rowNumber\" style = \"font-weight: bold; text-align: right;\">3</td><td style = \"text-align: right;\">23</td><td style = \"text-align: right;\">11.5</td><td style = \"text-align: right;\">50</td><td style = \"text-align: left;\">B</td><td style = \"text-align: left;\">Static</td></tr><tr><td class = \"rowNumber\" style = \"font-weight: bold; text-align: right;\">4</td><td style = \"text-align: right;\">66</td><td style = \"text-align: right;\">12.1</td><td style = \"text-align: right;\">30</td><td style = \"text-align: left;\">B</td><td style = \"text-align: left;\">Worse</td></tr><tr><td class = \"rowNumber\" style = \"font-weight: bold; text-align: right;\">5</td><td style = \"text-align: right;\">48</td><td style = \"text-align: right;\">12.8</td><td style = \"text-align: right;\">60</td><td style = \"text-align: left;\">B</td><td style = \"text-align: left;\">Static</td></tr><tr><td class = \"rowNumber\" style = \"font-weight: bold; text-align: right;\">6</td><td style = \"text-align: right;\">70</td><td style = \"text-align: right;\">14.1</td><td style = \"text-align: right;\">70</td><td style = \"text-align: left;\">B</td><td style = \"text-align: left;\">Improved</td></tr><tr><td class = \"rowNumber\" style = \"font-weight: bold; text-align: right;\">7</td><td style = \"text-align: right;\">42</td><td style = \"text-align: right;\">15.0</td><td style = \"text-align: right;\">60</td><td style = \"text-align: left;\">B</td><td style = \"text-align: left;\">Static</td></tr><tr><td class = \"rowNumber\" style = \"font-weight: bold; text-align: right;\">8</td><td style = \"text-align: right;\">73</td><td style = \"text-align: right;\">9.0</td><td style = \"text-align: right;\">50</td><td style = \"text-align: left;\">B</td><td style = \"text-align: left;\">Static</td></tr><tr><td class = \"rowNumber\" style = \"font-weight: bold; text-align: right;\">9</td><td style = \"text-align: right;\">33</td><td style = \"text-align: right;\">14.1</td><td style = \"text-align: right;\">0</td><td style = \"text-align: left;\">B</td><td style = \"text-align: left;\">Worse</td></tr><tr><td class = \"rowNumber\" style = \"font-weight: bold; text-align: right;\">10</td><td style = \"text-align: right;\">60</td><td style = \"text-align: right;\">8.9</td><td style = \"text-align: right;\">20</td><td style = \"text-align: left;\">B</td><td style = \"text-align: left;\">Static</td></tr><tr><td class = \"rowNumber\" style = \"font-weight: bold; text-align: right;\">11</td><td style = \"text-align: right;\">29</td><td style = \"text-align: right;\">12.0</td><td style = \"text-align: right;\">40</td><td style = \"text-align: left;\">B</td><td style = \"text-align: left;\">Static</td></tr><tr><td class = \"rowNumber\" style = \"font-weight: bold; text-align: right;\">12</td><td style = \"text-align: right;\">40</td><td style = \"text-align: right;\">11.8</td><td style = \"text-align: right;\">30</td><td style = \"text-align: left;\">B</td><td style = \"text-align: left;\">Worse</td></tr><tr><td class = \"rowNumber\" style = \"font-weight: bold; text-align: right;\">13</td><td style = \"text-align: right;\">77</td><td style = \"text-align: right;\">12.0</td><td style = \"text-align: right;\">30</td><td style = \"text-align: left;\">B</td><td style = \"text-align: left;\">Improved</td></tr><tr><td style = \"text-align: right;\">&vellip;</td><td style = \"text-align: right;\">&vellip;</td><td style = \"text-align: right;\">&vellip;</td><td style = \"text-align: right;\">&vellip;</td><td style = \"text-align: right;\">&vellip;</td><td style = \"text-align: right;\">&vellip;</td></tr><tr><td class = \"rowNumber\" style = \"font-weight: bold; text-align: right;\">39</td><td style = \"text-align: right;\">62</td><td style = \"text-align: right;\">7.5</td><td style = \"text-align: right;\">10</td><td style = \"text-align: left;\">B</td><td style = \"text-align: left;\">Static</td></tr><tr><td class = \"rowNumber\" style = \"font-weight: bold; text-align: right;\">40</td><td style = \"text-align: right;\">60</td><td style = \"text-align: right;\">10.7</td><td style = \"text-align: right;\">20</td><td style = \"text-align: left;\">B</td><td style = \"text-align: left;\">Static</td></tr><tr><td class = \"rowNumber\" style = \"font-weight: bold; text-align: right;\">41</td><td style = \"text-align: right;\">32</td><td style = \"text-align: right;\">13.3</td><td style = \"text-align: right;\">60</td><td style = \"text-align: left;\">B</td><td style = \"text-align: left;\">Worse</td></tr><tr><td class = \"rowNumber\" style = \"font-weight: bold; text-align: right;\">42</td><td style = \"text-align: right;\">34</td><td style = \"text-align: right;\">12.9</td><td style = \"text-align: right;\">50</td><td style = \"text-align: left;\">B</td><td style = \"text-align: left;\">Worse</td></tr><tr><td class = \"rowNumber\" style = \"font-weight: bold; text-align: right;\">43</td><td style = \"text-align: right;\">51</td><td style = \"text-align: right;\">10.3</td><td style = \"text-align: right;\">30</td><td style = \"text-align: left;\">B</td><td style = \"text-align: left;\">Worse</td></tr><tr><td class = \"rowNumber\" style = \"font-weight: bold; text-align: right;\">44</td><td style = \"text-align: right;\">26</td><td style = \"text-align: right;\">11.6</td><td style = \"text-align: right;\">60</td><td style = \"text-align: left;\">B</td><td style = \"text-align: left;\">Worse</td></tr><tr><td class = \"rowNumber\" style = \"font-weight: bold; text-align: right;\">45</td><td style = \"text-align: right;\">31</td><td style = \"text-align: right;\">10.2</td><td style = \"text-align: right;\">40</td><td style = \"text-align: left;\">B</td><td style = \"text-align: left;\">Improved</td></tr><tr><td class = \"rowNumber\" style = \"font-weight: bold; text-align: right;\">46</td><td style = \"text-align: right;\">58</td><td style = \"text-align: right;\">14.0</td><td style = \"text-align: right;\">40</td><td style = \"text-align: left;\">B</td><td style = \"text-align: left;\">Static</td></tr><tr><td class = \"rowNumber\" style = \"font-weight: bold; text-align: right;\">47</td><td style = \"text-align: right;\">49</td><td style = \"text-align: right;\">13.7</td><td style = \"text-align: right;\">90</td><td style = \"text-align: left;\">B</td><td style = \"text-align: left;\">Worse</td></tr><tr><td class = \"rowNumber\" style = \"font-weight: bold; text-align: right;\">48</td><td style = \"text-align: right;\">60</td><td style = \"text-align: right;\">8.4</td><td style = \"text-align: right;\">20</td><td style = \"text-align: left;\">B</td><td style = \"text-align: left;\">Worse</td></tr><tr><td class = \"rowNumber\" style = \"font-weight: bold; text-align: right;\">49</td><td style = \"text-align: right;\">49</td><td style = \"text-align: right;\">10.9</td><td style = \"text-align: right;\">50</td><td style = \"text-align: left;\">B</td><td style = \"text-align: left;\">Static</td></tr><tr><td class = \"rowNumber\" style = \"font-weight: bold; text-align: right;\">50</td><td style = \"text-align: right;\">24</td><td style = \"text-align: right;\">12.2</td><td style = \"text-align: right;\">10</td><td style = \"text-align: left;\">B</td><td style = \"text-align: left;\">Improved</td></tr></tbody></table></div>"
      ],
      "text/latex": [
       "\\begin{tabular}{r|ccccc}\n",
       "\t& Age & WCC & CRP & Treatment & Result\\\\\n",
       "\t\\hline\n",
       "\t& Int64 & Float64 & Int64 & String & String\\\\\n",
       "\t\\hline\n",
       "\t1 & 28 & 14.3 & 60 & B & Worse \\\\\n",
       "\t2 & 34 & 11.6 & 10 & B & Static \\\\\n",
       "\t3 & 23 & 11.5 & 50 & B & Static \\\\\n",
       "\t4 & 66 & 12.1 & 30 & B & Worse \\\\\n",
       "\t5 & 48 & 12.8 & 60 & B & Static \\\\\n",
       "\t6 & 70 & 14.1 & 70 & B & Improved \\\\\n",
       "\t7 & 42 & 15.0 & 60 & B & Static \\\\\n",
       "\t8 & 73 & 9.0 & 50 & B & Static \\\\\n",
       "\t9 & 33 & 14.1 & 0 & B & Worse \\\\\n",
       "\t10 & 60 & 8.9 & 20 & B & Static \\\\\n",
       "\t11 & 29 & 12.0 & 40 & B & Static \\\\\n",
       "\t12 & 40 & 11.8 & 30 & B & Worse \\\\\n",
       "\t13 & 77 & 12.0 & 30 & B & Improved \\\\\n",
       "\t14 & 35 & 12.1 & 10 & B & Improved \\\\\n",
       "\t15 & 68 & 13.2 & 150 & B & Worse \\\\\n",
       "\t16 & 32 & 13.1 & 20 & B & Static \\\\\n",
       "\t17 & 80 & 12.2 & 50 & B & Improved \\\\\n",
       "\t18 & 50 & 9.8 & 10 & B & Improved \\\\\n",
       "\t19 & 54 & 11.9 & 30 & B & Static \\\\\n",
       "\t20 & 43 & 19.3 & 20 & B & Worse \\\\\n",
       "\t21 & 23 & 11.8 & 20 & B & Improved \\\\\n",
       "\t22 & 40 & 13.3 & 50 & B & Static \\\\\n",
       "\t23 & 47 & 12.1 & 40 & B & Worse \\\\\n",
       "\t24 & 39 & 10.7 & 30 & B & Static \\\\\n",
       "\t$\\dots$ & $\\dots$ & $\\dots$ & $\\dots$ & $\\dots$ & $\\dots$ \\\\\n",
       "\\end{tabular}\n"
      ],
      "text/plain": [
       "\u001b[1m50×5 DataFrame\u001b[0m\n",
       "\u001b[1m Row \u001b[0m│\u001b[1m Age   \u001b[0m\u001b[1m WCC     \u001b[0m\u001b[1m CRP   \u001b[0m\u001b[1m Treatment \u001b[0m\u001b[1m Result   \u001b[0m\n",
       "     │\u001b[90m Int64 \u001b[0m\u001b[90m Float64 \u001b[0m\u001b[90m Int64 \u001b[0m\u001b[90m String    \u001b[0m\u001b[90m String   \u001b[0m\n",
       "─────┼────────────────────────────────────────────\n",
       "   1 │    28     14.3     60  B          Worse\n",
       "   2 │    34     11.6     10  B          Static\n",
       "   3 │    23     11.5     50  B          Static\n",
       "   4 │    66     12.1     30  B          Worse\n",
       "   5 │    48     12.8     60  B          Static\n",
       "   6 │    70     14.1     70  B          Improved\n",
       "   7 │    42     15.0     60  B          Static\n",
       "   8 │    73      9.0     50  B          Static\n",
       "  ⋮  │   ⋮       ⋮       ⋮        ⋮         ⋮\n",
       "  44 │    26     11.6     60  B          Worse\n",
       "  45 │    31     10.2     40  B          Improved\n",
       "  46 │    58     14.0     40  B          Static\n",
       "  47 │    49     13.7     90  B          Worse\n",
       "  48 │    60      8.4     20  B          Worse\n",
       "  49 │    49     10.9     50  B          Static\n",
       "  50 │    24     12.2     10  B          Improved\n",
       "\u001b[36m                                   35 rows omitted\u001b[0m"
      ]
     },
     "metadata": {},
     "output_type": "display_data"
    }
   ],
   "source": [
    "dataA = data[data[!,:Treatment] .== \"A\", :]\n",
    "dataB = data[data[!, :Treatment] .== \"B\", :]"
   ]
  },
  {
   "cell_type": "code",
   "execution_count": 84,
   "metadata": {},
   "outputs": [
    {
     "data": {
      "text/html": [
       "<div><div style = \"float: left;\"><span>6×5 DataFrame</span></div><div style = \"clear: both;\"></div></div><div class = \"data-frame\" style = \"overflow-x: scroll;\"><table class = \"data-frame\" style = \"margin-bottom: 6px;\"><thead><tr class = \"header\"><th class = \"rowNumber\" style = \"font-weight: bold; text-align: right;\">Row</th><th style = \"text-align: left;\">Age</th><th style = \"text-align: left;\">WCC</th><th style = \"text-align: left;\">CRP</th><th style = \"text-align: left;\">Treatment</th><th style = \"text-align: left;\">Result</th></tr><tr class = \"subheader headerLastRow\"><th class = \"rowNumber\" style = \"font-weight: bold; text-align: right;\"></th><th title = \"Int64\" style = \"text-align: left;\">Int64</th><th title = \"Float64\" style = \"text-align: left;\">Float64</th><th title = \"Int64\" style = \"text-align: left;\">Int64</th><th title = \"String\" style = \"text-align: left;\">String</th><th title = \"String\" style = \"text-align: left;\">String</th></tr></thead><tbody><tr><td class = \"rowNumber\" style = \"font-weight: bold; text-align: right;\">1</td><td style = \"text-align: right;\">31</td><td style = \"text-align: right;\">10.2</td><td style = \"text-align: right;\">40</td><td style = \"text-align: left;\">B</td><td style = \"text-align: left;\">Improved</td></tr><tr><td class = \"rowNumber\" style = \"font-weight: bold; text-align: right;\">2</td><td style = \"text-align: right;\">58</td><td style = \"text-align: right;\">14.0</td><td style = \"text-align: right;\">40</td><td style = \"text-align: left;\">B</td><td style = \"text-align: left;\">Static</td></tr><tr><td class = \"rowNumber\" style = \"font-weight: bold; text-align: right;\">3</td><td style = \"text-align: right;\">49</td><td style = \"text-align: right;\">13.7</td><td style = \"text-align: right;\">90</td><td style = \"text-align: left;\">B</td><td style = \"text-align: left;\">Worse</td></tr><tr><td class = \"rowNumber\" style = \"font-weight: bold; text-align: right;\">4</td><td style = \"text-align: right;\">60</td><td style = \"text-align: right;\">8.4</td><td style = \"text-align: right;\">20</td><td style = \"text-align: left;\">B</td><td style = \"text-align: left;\">Worse</td></tr><tr><td class = \"rowNumber\" style = \"font-weight: bold; text-align: right;\">5</td><td style = \"text-align: right;\">49</td><td style = \"text-align: right;\">10.9</td><td style = \"text-align: right;\">50</td><td style = \"text-align: left;\">B</td><td style = \"text-align: left;\">Static</td></tr><tr><td class = \"rowNumber\" style = \"font-weight: bold; text-align: right;\">6</td><td style = \"text-align: right;\">24</td><td style = \"text-align: right;\">12.2</td><td style = \"text-align: right;\">10</td><td style = \"text-align: left;\">B</td><td style = \"text-align: left;\">Improved</td></tr></tbody></table></div>"
      ],
      "text/latex": [
       "\\begin{tabular}{r|ccccc}\n",
       "\t& Age & WCC & CRP & Treatment & Result\\\\\n",
       "\t\\hline\n",
       "\t& Int64 & Float64 & Int64 & String & String\\\\\n",
       "\t\\hline\n",
       "\t1 & 31 & 10.2 & 40 & B & Improved \\\\\n",
       "\t2 & 58 & 14.0 & 40 & B & Static \\\\\n",
       "\t3 & 49 & 13.7 & 90 & B & Worse \\\\\n",
       "\t4 & 60 & 8.4 & 20 & B & Worse \\\\\n",
       "\t5 & 49 & 10.9 & 50 & B & Static \\\\\n",
       "\t6 & 24 & 12.2 & 10 & B & Improved \\\\\n",
       "\\end{tabular}\n"
      ],
      "text/plain": [
       "\u001b[1m6×5 DataFrame\u001b[0m\n",
       "\u001b[1m Row \u001b[0m│\u001b[1m Age   \u001b[0m\u001b[1m WCC     \u001b[0m\u001b[1m CRP   \u001b[0m\u001b[1m Treatment \u001b[0m\u001b[1m Result   \u001b[0m\n",
       "     │\u001b[90m Int64 \u001b[0m\u001b[90m Float64 \u001b[0m\u001b[90m Int64 \u001b[0m\u001b[90m String    \u001b[0m\u001b[90m String   \u001b[0m\n",
       "─────┼────────────────────────────────────────────\n",
       "   1 │    31     10.2     40  B          Improved\n",
       "   2 │    58     14.0     40  B          Static\n",
       "   3 │    49     13.7     90  B          Worse\n",
       "   4 │    60      8.4     20  B          Worse\n",
       "   5 │    49     10.9     50  B          Static\n",
       "   6 │    24     12.2     10  B          Improved"
      ]
     },
     "metadata": {},
     "output_type": "display_data"
    }
   ],
   "source": [
    "last(dataB, 6)"
   ]
  },
  {
   "cell_type": "code",
   "execution_count": 85,
   "metadata": {},
   "outputs": [
    {
     "data": {
      "text/html": [
       "<div><div style = \"float: left;\"><span>5×7 DataFrame</span></div><div style = \"clear: both;\"></div></div><div class = \"data-frame\" style = \"overflow-x: scroll;\"><table class = \"data-frame\" style = \"margin-bottom: 6px;\"><thead><tr class = \"header\"><th class = \"rowNumber\" style = \"font-weight: bold; text-align: right;\">Row</th><th style = \"text-align: left;\">variable</th><th style = \"text-align: left;\">mean</th><th style = \"text-align: left;\">min</th><th style = \"text-align: left;\">median</th><th style = \"text-align: left;\">max</th><th style = \"text-align: left;\">nmissing</th><th style = \"text-align: left;\">eltype</th></tr><tr class = \"subheader headerLastRow\"><th class = \"rowNumber\" style = \"font-weight: bold; text-align: right;\"></th><th title = \"Symbol\" style = \"text-align: left;\">Symbol</th><th title = \"Union{Nothing, Float64}\" style = \"text-align: left;\">Union…</th><th title = \"Any\" style = \"text-align: left;\">Any</th><th title = \"Union{Nothing, Float64}\" style = \"text-align: left;\">Union…</th><th title = \"Any\" style = \"text-align: left;\">Any</th><th title = \"Int64\" style = \"text-align: left;\">Int64</th><th title = \"DataType\" style = \"text-align: left;\">DataType</th></tr></thead><tbody><tr><td class = \"rowNumber\" style = \"font-weight: bold; text-align: right;\">1</td><td style = \"text-align: left;\">Age</td><td style = \"text-align: left;\">50.33</td><td style = \"text-align: left;\">19</td><td style = \"text-align: left;\">48.0</td><td style = \"text-align: left;\">80</td><td style = \"text-align: right;\">0</td><td style = \"text-align: left;\">Int64</td></tr><tr><td class = \"rowNumber\" style = \"font-weight: bold; text-align: right;\">2</td><td style = \"text-align: left;\">WCC</td><td style = \"text-align: left;\">12.022</td><td style = \"text-align: left;\">7.5</td><td style = \"text-align: left;\">11.85</td><td style = \"text-align: left;\">19.3</td><td style = \"text-align: right;\">0</td><td style = \"text-align: left;\">Float64</td></tr><tr><td class = \"rowNumber\" style = \"font-weight: bold; text-align: right;\">3</td><td style = \"text-align: left;\">CRP</td><td style = \"text-align: left;\">38.5</td><td style = \"text-align: left;\">0</td><td style = \"text-align: left;\">30.0</td><td style = \"text-align: left;\">150</td><td style = \"text-align: right;\">0</td><td style = \"text-align: left;\">Int64</td></tr><tr><td class = \"rowNumber\" style = \"font-weight: bold; text-align: right;\">4</td><td style = \"text-align: left;\">Treatment</td><td style = \"font-style: italic; text-align: left;\"></td><td style = \"text-align: left;\">A</td><td style = \"font-style: italic; text-align: left;\"></td><td style = \"text-align: left;\">B</td><td style = \"text-align: right;\">0</td><td style = \"text-align: left;\">String</td></tr><tr><td class = \"rowNumber\" style = \"font-weight: bold; text-align: right;\">5</td><td style = \"text-align: left;\">Result</td><td style = \"font-style: italic; text-align: left;\"></td><td style = \"text-align: left;\">Improved</td><td style = \"font-style: italic; text-align: left;\"></td><td style = \"text-align: left;\">Worse</td><td style = \"text-align: right;\">0</td><td style = \"text-align: left;\">String</td></tr></tbody></table></div>"
      ],
      "text/latex": [
       "\\begin{tabular}{r|ccccccc}\n",
       "\t& variable & mean & min & median & max & nmissing & eltype\\\\\n",
       "\t\\hline\n",
       "\t& Symbol & Union… & Any & Union… & Any & Int64 & DataType\\\\\n",
       "\t\\hline\n",
       "\t1 & Age & 50.33 & 19 & 48.0 & 80 & 0 & Int64 \\\\\n",
       "\t2 & WCC & 12.022 & 7.5 & 11.85 & 19.3 & 0 & Float64 \\\\\n",
       "\t3 & CRP & 38.5 & 0 & 30.0 & 150 & 0 & Int64 \\\\\n",
       "\t4 & Treatment &  & A &  & B & 0 & String \\\\\n",
       "\t5 & Result &  & Improved &  & Worse & 0 & String \\\\\n",
       "\\end{tabular}\n"
      ],
      "text/plain": [
       "\u001b[1m5×7 DataFrame\u001b[0m\n",
       "\u001b[1m Row \u001b[0m│\u001b[1m variable  \u001b[0m\u001b[1m mean   \u001b[0m\u001b[1m min      \u001b[0m\u001b[1m median \u001b[0m\u001b[1m max   \u001b[0m\u001b[1m nmissing \u001b[0m\u001b[1m eltype   \u001b[0m\n",
       "     │\u001b[90m Symbol    \u001b[0m\u001b[90m Union… \u001b[0m\u001b[90m Any      \u001b[0m\u001b[90m Union… \u001b[0m\u001b[90m Any   \u001b[0m\u001b[90m Int64    \u001b[0m\u001b[90m DataType \u001b[0m\n",
       "─────┼────────────────────────────────────────────────────────────────\n",
       "   1 │ Age        50.33   19        48.0    80            0  Int64\n",
       "   2 │ WCC        12.022  7.5       11.85   19.3          0  Float64\n",
       "   3 │ CRP        38.5    0         30.0    150           0  Int64\n",
       "   4 │ Treatment \u001b[90m        \u001b[0m A        \u001b[90m        \u001b[0m B             0  String\n",
       "   5 │ Result    \u001b[90m        \u001b[0m Improved \u001b[90m        \u001b[0m Worse         0  String"
      ]
     },
     "metadata": {},
     "output_type": "display_data"
    }
   ],
   "source": [
    "describe(data)"
   ]
  },
  {
   "cell_type": "code",
   "execution_count": 86,
   "metadata": {},
   "outputs": [],
   "source": [
    "# by(data, :Treatment, df -> DataFrame(N = size(df, 1)))"
   ]
  },
  {
   "cell_type": "code",
   "execution_count": 87,
   "metadata": {},
   "outputs": [],
   "source": [
    "# combine(groupby(df, :Treatment), :N => mean)\n"
   ]
  },
  {
   "cell_type": "code",
   "execution_count": 88,
   "metadata": {},
   "outputs": [
    {
     "ename": "MethodError",
     "evalue": "MethodError: no method matching _extract_group_attributes(::Symbol, ::Symbol)\n\nClosest candidates are:\n  _extract_group_attributes(!Matched::Dict{T, V}, ::Any...) where {T, V<:AbstractVector{Int64}}\n   @ RecipesPipeline ~/.julia/packages/RecipesPipeline/BGM3l/src/group.jl:43\n  _extract_group_attributes(!Matched::NamedTuple, ::Any...)\n   @ RecipesPipeline ~/.julia/packages/RecipesPipeline/BGM3l/src/group.jl:36\n  _extract_group_attributes(!Matched::Tuple, ::Any...)\n   @ RecipesPipeline ~/.julia/packages/RecipesPipeline/BGM3l/src/group.jl:27\n  ...\n",
     "output_type": "error",
     "traceback": [
      "MethodError: no method matching _extract_group_attributes(::Symbol, ::Symbol)\n",
      "\n",
      "Closest candidates are:\n",
      "  _extract_group_attributes(!Matched::Dict{T, V}, ::Any...) where {T, V<:AbstractVector{Int64}}\n",
      "   @ RecipesPipeline ~/.julia/packages/RecipesPipeline/BGM3l/src/group.jl:43\n",
      "  _extract_group_attributes(!Matched::NamedTuple, ::Any...)\n",
      "   @ RecipesPipeline ~/.julia/packages/RecipesPipeline/BGM3l/src/group.jl:36\n",
      "  _extract_group_attributes(!Matched::Tuple, ::Any...)\n",
      "   @ RecipesPipeline ~/.julia/packages/RecipesPipeline/BGM3l/src/group.jl:27\n",
      "  ...\n",
      "\n",
      "\n",
      "Stacktrace:\n",
      " [1] _recipedata_vector(plt::Any, plotattributes::Any, args::Any)\n",
      "   @ RecipesPipeline ~/.julia/packages/RecipesPipeline/BGM3l/src/user_recipe.jl:59\n",
      " [2] _process_userrecipes!(plt::Any, plotattributes::Any, args::Any)\n",
      "   @ RecipesPipeline ~/.julia/packages/RecipesPipeline/BGM3l/src/user_recipe.jl:13\n",
      " [3] recipe_pipeline!(plt::Any, plotattributes::Any, args::Any)\n",
      "   @ RecipesPipeline ~/.julia/packages/RecipesPipeline/BGM3l/src/RecipesPipeline.jl:72\n",
      " [4] _plot!(plt::Plots.Plot, plotattributes::Any, args::Any)\n",
      "   @ Plots ~/.julia/packages/Plots/du2dt/src/plot.jl:223\n",
      " [5] plot(args::Any; kw...)\n",
      "   @ Plots ~/.julia/packages/Plots/du2dt/src/plot.jl:102\n",
      " [6] density(args::Any; kw...)\n",
      "   @ Plots ~/.julia/packages/RecipesBase/BRe07/src/RecipesBase.jl:427\n",
      " [7] add_label(argnames::Vector{String}, f::Function, args::Symbol; kwargs::@Kwargs{group::Symbol, title::String, xlab::String, ylab::String, legend::Symbol})\n",
      "   @ StatsPlots ~/.julia/packages/StatsPlots/cStOe/src/df.jl:171\n",
      " [8] (::var\"#25#26\")(252::DataFrame)\n",
      "   @ Main ./none:0\n",
      " [9] top-level scope\n",
      "   @ ~/Desktop/Julia-Learn/Scientific_Programming/week_4/Descriptive_statistics.ipynb:1"
     ]
    }
   ],
   "source": [
    "@df data density(:age, group = :treatment, title = \"Distribution og the ages by treatment group\", xlab = \"age\", ylab = \"Distribution\", legend = :topright)"
   ]
  },
  {
   "cell_type": "code",
   "execution_count": 89,
   "metadata": {},
   "outputs": [
    {
     "ename": "MethodError",
     "evalue": "MethodError: no method matching _extract_group_attributes(::Symbol, ::Symbol)\n\nClosest candidates are:\n  _extract_group_attributes(!Matched::Dict{T, V}, ::Any...) where {T, V<:AbstractVector{Int64}}\n   @ RecipesPipeline ~/.julia/packages/RecipesPipeline/BGM3l/src/group.jl:43\n  _extract_group_attributes(!Matched::NamedTuple, ::Any...)\n   @ RecipesPipeline ~/.julia/packages/RecipesPipeline/BGM3l/src/group.jl:36\n  _extract_group_attributes(!Matched::Tuple, ::Any...)\n   @ RecipesPipeline ~/.julia/packages/RecipesPipeline/BGM3l/src/group.jl:27\n  ...\n",
     "output_type": "error",
     "traceback": [
      "MethodError: no method matching _extract_group_attributes(::Symbol, ::Symbol)\n",
      "\n",
      "Closest candidates are:\n",
      "  _extract_group_attributes(!Matched::Dict{T, V}, ::Any...) where {T, V<:AbstractVector{Int64}}\n",
      "   @ RecipesPipeline ~/.julia/packages/RecipesPipeline/BGM3l/src/group.jl:43\n",
      "  _extract_group_attributes(!Matched::NamedTuple, ::Any...)\n",
      "   @ RecipesPipeline ~/.julia/packages/RecipesPipeline/BGM3l/src/group.jl:36\n",
      "  _extract_group_attributes(!Matched::Tuple, ::Any...)\n",
      "   @ RecipesPipeline ~/.julia/packages/RecipesPipeline/BGM3l/src/group.jl:27\n",
      "  ...\n",
      "\n",
      "\n",
      "Stacktrace:\n",
      " [1] _recipedata_vector(plt::Any, plotattributes::Any, args::Any)\n",
      "   @ RecipesPipeline ~/.julia/packages/RecipesPipeline/BGM3l/src/user_recipe.jl:59\n",
      " [2] _process_userrecipes!(plt::Any, plotattributes::Any, args::Any)\n",
      "   @ RecipesPipeline ~/.julia/packages/RecipesPipeline/BGM3l/src/user_recipe.jl:13\n",
      " [3] recipe_pipeline!(plt::Any, plotattributes::Any, args::Any)\n",
      "   @ RecipesPipeline ~/.julia/packages/RecipesPipeline/BGM3l/src/RecipesPipeline.jl:72\n",
      " [4] _plot!(plt::Plots.Plot, plotattributes::Any, args::Any)\n",
      "   @ Plots ~/.julia/packages/Plots/du2dt/src/plot.jl:223\n",
      " [5] plot(args::Any; kw...)\n",
      "   @ Plots ~/.julia/packages/Plots/du2dt/src/plot.jl:102\n",
      " [6] density(args::Any; kw...)\n",
      "   @ Plots ~/.julia/packages/RecipesBase/BRe07/src/RecipesBase.jl:427\n",
      " [7] add_label(argnames::Vector{String}, f::Function, args::Symbol; kwargs::@Kwargs{group::Symbol, title::String, xlab::String, ylab::String, legend::Symbol})\n",
      "   @ StatsPlots ~/.julia/packages/StatsPlots/cStOe/src/df.jl:171\n",
      " [8] (::var\"#27#28\")(257::DataFrame)\n",
      "   @ Main ./none:0\n",
      " [9] top-level scope\n",
      "   @ ~/Desktop/Julia-Learn/Scientific_Programming/week_4/Descriptive_statistics.ipynb:1"
     ]
    }
   ],
   "source": [
    "@df data density(:age, group=:treatment, title=\"Distribution of the ages by treatment group\", xlab=\"age\", ylab=\"Distribution\", legend=:topright)"
   ]
  },
  {
   "cell_type": "code",
   "execution_count": 90,
   "metadata": {},
   "outputs": [],
   "source": []
  }
 ],
 "metadata": {
  "kernelspec": {
   "display_name": "Julia 1.10.2",
   "language": "julia",
   "name": "julia-1.10"
  },
  "language_info": {
   "file_extension": ".jl",
   "mimetype": "application/julia",
   "name": "julia",
   "version": "1.10.2"
  }
 },
 "nbformat": 4,
 "nbformat_minor": 2
}
