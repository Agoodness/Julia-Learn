{
 "cells": [
  {
   "cell_type": "code",
   "execution_count": 3,
   "metadata": {},
   "outputs": [
    {
     "name": "stderr",
     "output_type": "stream",
     "text": [
      "┌ Info: Installing matplotlib via the Conda matplotlib package...\n",
      "└ @ PyCall /home/goodness/.julia/packages/PyCall/1gn3u/src/PyCall.jl:719\n",
      "┌ Info: Running `conda install -y matplotlib` in root environment\n",
      "└ @ Conda /home/goodness/.julia/packages/Conda/zReqD/src/Conda.jl:181\n"
     ]
    },
    {
     "name": "stdout",
     "output_type": "stream",
     "text": [
      "Retrieving notices: ...working... done\n",
      "Channels:\n",
      " - conda-forge\n",
      "Platform: linux-64\n",
      "Collecting package metadata (repodata.json): ...working... done\n",
      "Solving environment: ...working... done\n"
     ]
    },
    {
     "name": "stderr",
     "output_type": "stream",
     "text": [
      "\n",
      "\n",
      "==> WARNING: A newer version of conda exists. <==\n",
      "    current version: 24.3.0\n",
      "    latest version: 24.5.0\n",
      "\n",
      "Please update conda by running\n",
      "\n",
      "    $ conda update -n base -c conda-forge conda\n",
      "\n",
      "\n"
     ]
    },
    {
     "name": "stdout",
     "output_type": "stream",
     "text": [
      "\n",
      "## Package Plan ##\n",
      "\n",
      "  environment location: /home/goodness/.julia/conda/3/x86_64\n",
      "\n",
      "  added / updated specs:\n",
      "    - matplotlib\n",
      "\n",
      "\n",
      "The following packages will be downloaded:\n",
      "\n",
      "    package                    |            build\n",
      "    ---------------------------|-----------------\n",
      "    alsa-lib-1.2.12            |       h4ab18f5_0         543 KB  conda-forge\n",
      "    attr-2.5.1                 |       h166bdaf_1          69 KB  conda-forge\n",
      "    brotli-1.1.0               |       hd590300_1          19 KB  conda-forge\n",
      "    brotli-bin-1.1.0           |       hd590300_1          19 KB  conda-forge\n",
      "    ca-certificates-2024.7.4   |       hbcca054_0         151 KB  conda-forge\n",
      "    cairo-1.18.0               |       h3faef2a_0         959 KB  conda-forge\n",
      "    certifi-2024.7.4           |     pyhd8ed1ab_0         156 KB  conda-forge\n",
      "    contourpy-1.2.1            |  py310hd41b1e2_0         236 KB  conda-forge\n",
      "    cycler-0.12.1              |     pyhd8ed1ab_0          13 KB  conda-forge\n",
      "    dbus-1.13.6                |       h5008d03_3         604 KB  conda-forge\n",
      "    expat-2.6.2                |       h59595ed_0         134 KB  conda-forge\n",
      "    font-ttf-dejavu-sans-mono-2.37|       hab24e00_0         388 KB  conda-forge\n",
      "    font-ttf-inconsolata-3.000 |       h77eed37_0          94 KB  conda-forge\n",
      "    font-ttf-source-code-pro-2.038|       h77eed37_0         684 KB  conda-forge\n",
      "    font-ttf-ubuntu-0.83       |       h77eed37_2         1.5 MB  conda-forge\n",
      "    fontconfig-2.14.2          |       h14ed4e7_0         266 KB  conda-forge\n",
      "    fonts-conda-ecosystem-1    |                0           4 KB  conda-forge\n",
      "    fonts-conda-forge-1        |                0           4 KB  conda-forge\n",
      "    fonttools-4.53.1           |  py310h5b4e0ec_0         2.3 MB  conda-forge\n",
      "    freetype-2.12.1            |       h267a509_2         620 KB  conda-forge\n",
      "    gettext-0.22.5             |       h59595ed_2         464 KB  conda-forge\n",
      "    gettext-tools-0.22.5       |       h59595ed_2         2.6 MB  conda-forge\n",
      "    glib-2.80.2                |       hf974151_0         586 KB  conda-forge\n",
      "    glib-tools-2.80.2          |       hb6ce0ca_0         112 KB  conda-forge\n",
      "    graphite2-1.3.13           |    h59595ed_1003          95 KB  conda-forge\n",
      "    gst-plugins-base-1.24.4    |       h9ad1361_0         2.7 MB  conda-forge\n",
      "    gstreamer-1.24.4           |       haf2f30d_0         1.9 MB  conda-forge\n",
      "    harfbuzz-8.5.0             |       hfac3d4d_0         1.5 MB  conda-forge\n",
      "    kiwisolver-1.4.5           |  py310hd41b1e2_1          71 KB  conda-forge\n",
      "    lame-3.100                 |    h166bdaf_1003         496 KB  conda-forge\n",
      "    lcms2-2.16                 |       hb7c19ff_0         239 KB  conda-forge\n",
      "    lerc-4.0.0                 |       h27087fc_0         275 KB  conda-forge\n",
      "    libasprintf-0.22.5         |       h661eb56_2          42 KB  conda-forge\n",
      "    libasprintf-devel-0.22.5   |       h661eb56_2          33 KB  conda-forge\n",
      "    libbrotlicommon-1.1.0      |       hd590300_1          68 KB  conda-forge\n",
      "    libbrotlidec-1.1.0         |       hd590300_1          32 KB  conda-forge\n",
      "    libbrotlienc-1.1.0         |       hd590300_1         276 KB  conda-forge\n",
      "    libcap-2.69                |       h0f662aa_0          98 KB  conda-forge\n",
      "    libclang-cpp15-15.0.7      |default_h127d8a8_5        16.4 MB  conda-forge\n",
      "    libclang13-18.1.4          |default_h5d6823c_0        10.5 MB  conda-forge\n",
      "    libcups-2.3.3              |       h4637d8d_4         4.3 MB  conda-forge\n",
      "    libdeflate-1.20            |       hd590300_0          70 KB  conda-forge\n",
      "    libevent-2.1.12            |       hf998b51_1         417 KB  conda-forge\n",
      "    libexpat-2.6.2             |       h59595ed_0          72 KB  conda-forge\n",
      "    libflac-1.4.3              |       h59595ed_0         385 KB  conda-forge\n",
      "    libgcrypt-1.11.0           |       h4ab18f5_0         669 KB  conda-forge\n",
      "    libgettextpo-0.22.5        |       h59595ed_2         167 KB  conda-forge\n",
      "    libgettextpo-devel-0.22.5  |       h59595ed_2          36 KB  conda-forge\n",
      "    libglib-2.80.2             |       hf974151_0         3.7 MB  conda-forge\n",
      "    libgpg-error-1.50          |       h4f305b6_0         267 KB  conda-forge\n",
      "    libjpeg-turbo-3.0.0        |       hd590300_1         604 KB  conda-forge\n",
      "    libllvm15-15.0.7           |       hb3ce162_4        31.8 MB  conda-forge\n",
      "    libllvm18-18.1.4           |       h2448989_0        36.6 MB  conda-forge\n",
      "    libogg-1.3.5               |       h4ab18f5_0         201 KB  conda-forge\n",
      "    libopus-1.3.1              |       h7f98852_1         255 KB  conda-forge\n",
      "    libpng-1.6.43              |       h2797004_0         281 KB  conda-forge\n",
      "    libpq-16.3                 |       ha72fbe1_0         2.4 MB  conda-forge\n",
      "    libsndfile-1.2.2           |       hc60ed4a_1         346 KB  conda-forge\n",
      "    libsystemd0-255            |       h3516f8a_1         393 KB  conda-forge\n",
      "    libtiff-4.6.0              |       h1dd3fc0_3         276 KB  conda-forge\n",
      "    libvorbis-1.3.7            |       h9c3ff4c_0         280 KB  conda-forge\n",
      "    libwebp-base-1.4.0         |       hd590300_0         429 KB  conda-forge\n",
      "    libxcb-1.15                |       h0b41bf4_0         375 KB  conda-forge\n",
      "    libxkbcommon-1.7.0         |       h662e7e4_0         580 KB  conda-forge\n",
      "    matplotlib-3.9.1           |  py310hff52083_0           8 KB  conda-forge\n",
      "    matplotlib-base-3.9.1      |  py310h0b1de36_0         6.7 MB  conda-forge\n",
      "    mpg123-1.32.6              |       h59595ed_0         480 KB  conda-forge\n",
      "    munkres-1.1.4              |     pyh9f0ad1d_0          12 KB  conda-forge\n",
      "    mysql-common-8.3.0         |       hf1915f5_4         766 KB  conda-forge\n",
      "    mysql-libs-8.3.0           |       hca2cd23_4         1.5 MB  conda-forge\n",
      "    nspr-4.35                  |       h27087fc_0         222 KB  conda-forge\n",
      "    nss-3.98                   |       h1d7d5a4_0         1.9 MB  conda-forge\n",
      "    openjpeg-2.5.2             |       h488ebb8_0         334 KB  conda-forge\n",
      "    openssl-3.3.1              |       h4bc722e_2         2.8 MB  conda-forge\n",
      "    pcre2-10.43                |       hcad00b1_0         929 KB  conda-forge\n",
      "    pillow-10.3.0              |  py310hf73ecf8_0        39.8 MB  conda-forge\n",
      "    pixman-0.43.2              |       h59595ed_0         378 KB  conda-forge\n",
      "    ply-3.11                   |     pyhd8ed1ab_2          48 KB  conda-forge\n",
      "    pthread-stubs-0.4          |    h36c2ea0_1001           5 KB  conda-forge\n",
      "    pulseaudio-client-17.0     |       hb77b528_0         740 KB  conda-forge\n",
      "    pyparsing-3.1.2            |     pyhd8ed1ab_0          87 KB  conda-forge\n",
      "    pyqt-5.15.9                |  py310h04931ad_5         5.0 MB  conda-forge\n",
      "    pyqt5-sip-12.12.2          |  py310hc6cd4ac_5          83 KB  conda-forge\n",
      "    python-dateutil-2.9.0      |     pyhd8ed1ab_0         218 KB  conda-forge\n",
      "    qhull-2020.2               |       h434a139_5         540 KB  conda-forge\n",
      "    qt-main-5.15.8             |      hc9dc06e_21        58.5 MB  conda-forge\n",
      "    sip-6.7.12                 |  py310hc6cd4ac_0         483 KB  conda-forge\n",
      "    six-1.16.0                 |     pyh6c4a22f_0          14 KB  conda-forge\n",
      "    toml-0.10.2                |     pyhd8ed1ab_0          18 KB  conda-forge\n",
      "    tomli-2.0.1                |     pyhd8ed1ab_0          16 KB  conda-forge\n",
      "    tornado-6.4.1              |  py310hc51659f_0         637 KB  conda-forge\n",
      "    unicodedata2-15.1.0        |  py310h2372a71_0         365 KB  conda-forge\n",
      "    xcb-util-0.4.0             |       hd590300_1          19 KB  conda-forge\n",
      "    xcb-util-image-0.4.0       |       h8ee46fc_1          24 KB  conda-forge\n",
      "    xcb-util-keysyms-0.4.0     |       h8ee46fc_1          14 KB  conda-forge\n",
      "    xcb-util-renderutil-0.3.9  |       hd590300_1          17 KB  conda-forge\n",
      "    xcb-util-wm-0.4.1          |       h8ee46fc_1          51 KB  conda-forge\n",
      "    xkeyboard-config-2.42      |       h4ab18f5_0         380 KB  conda-forge\n",
      "    xorg-kbproto-1.0.7         |    h7f98852_1002          27 KB  conda-forge\n",
      "    xorg-libice-1.1.1          |       hd590300_0          57 KB  conda-forge\n",
      "    xorg-libsm-1.2.4           |       h7391055_0          27 KB  conda-forge\n",
      "    xorg-libx11-1.8.9          |       h8ee46fc_0         809 KB  conda-forge\n",
      "    xorg-libxau-1.0.11         |       hd590300_0          14 KB  conda-forge\n",
      "    xorg-libxdmcp-1.1.3        |       h7f98852_0          19 KB  conda-forge\n",
      "    xorg-libxext-1.3.4         |       h0b41bf4_2          49 KB  conda-forge\n",
      "    xorg-libxrender-0.9.11     |       hd590300_0          37 KB  conda-forge\n",
      "    xorg-renderproto-0.11.1    |    h7f98852_1002           9 KB  conda-forge\n",
      "    xorg-xextproto-7.3.0       |    h0b41bf4_1003          30 KB  conda-forge\n",
      "    xorg-xf86vidmodeproto-2.3.1|    h7f98852_1002          23 KB  conda-forge\n",
      "    xorg-xproto-7.0.31         |    h7f98852_1007          73 KB  conda-forge\n",
      "    zlib-1.2.13                |       hd590300_5          91 KB  conda-forge\n",
      "    ------------------------------------------------------------\n",
      "                                           Total:       256.0 MB\n",
      "\n",
      "The following NEW packages will be INSTALLED:\n",
      "\n",
      "  alsa-lib           conda-forge/linux-64::alsa-lib-1.2.12-h4ab18f5_0 \n",
      "  attr               conda-forge/linux-64::attr-2.5.1-h166bdaf_1 \n",
      "  brotli             conda-forge/linux-64::brotli-1.1.0-hd590300_1 \n",
      "  brotli-bin         conda-forge/linux-64::brotli-bin-1.1.0-hd590300_1 \n",
      "  cairo              conda-forge/linux-64::cairo-1.18.0-h3faef2a_0 \n",
      "  contourpy          conda-forge/linux-64::contourpy-1.2.1-py310hd41b1e2_0 \n",
      "  cycler             conda-forge/noarch::cycler-0.12.1-pyhd8ed1ab_0 \n",
      "  dbus               conda-forge/linux-64::dbus-1.13.6-h5008d03_3 \n",
      "  expat              conda-forge/linux-64::expat-2.6.2-h59595ed_0 \n",
      "  font-ttf-dejavu-s~ conda-forge/noarch::font-ttf-dejavu-sans-mono-2.37-hab24e00_0 \n",
      "  font-ttf-inconsol~ conda-forge/noarch::font-ttf-inconsolata-3.000-h77eed37_0 \n",
      "  font-ttf-source-c~ conda-forge/noarch::font-ttf-source-code-pro-2.038-h77eed37_0 \n",
      "  font-ttf-ubuntu    conda-forge/noarch::font-ttf-ubuntu-0.83-h77eed37_2 \n",
      "  fontconfig         conda-forge/linux-64::fontconfig-2.14.2-h14ed4e7_0 \n",
      "  fonts-conda-ecosy~ conda-forge/noarch::fonts-conda-ecosystem-1-0 \n",
      "  fonts-conda-forge  conda-forge/noarch::fonts-conda-forge-1-0 \n",
      "  fonttools          conda-forge/linux-64::fonttools-4.53.1-py310h5b4e0ec_0 \n",
      "  freetype           conda-forge/linux-64::freetype-2.12.1-h267a509_2 \n",
      "  gettext            conda-forge/linux-64::gettext-0.22.5-h59595ed_2 \n",
      "  gettext-tools      conda-forge/linux-64::gettext-tools-0.22.5-h59595ed_2 \n",
      "  glib               conda-forge/linux-64::glib-2.80.2-hf974151_0 \n",
      "  glib-tools         conda-forge/linux-64::glib-tools-2.80.2-hb6ce0ca_0 \n",
      "  graphite2          conda-forge/linux-64::graphite2-1.3.13-h59595ed_1003 \n",
      "  gst-plugins-base   conda-forge/linux-64::gst-plugins-base-1.24.4-h9ad1361_0 \n",
      "  gstreamer          conda-forge/linux-64::gstreamer-1.24.4-haf2f30d_0 \n",
      "  harfbuzz           conda-forge/linux-64::harfbuzz-8.5.0-hfac3d4d_0 \n",
      "  kiwisolver         conda-forge/linux-64::kiwisolver-1.4.5-py310hd41b1e2_1 \n",
      "  lame               conda-forge/linux-64::lame-3.100-h166bdaf_1003 \n",
      "  lcms2              conda-forge/linux-64::lcms2-2.16-hb7c19ff_0 \n",
      "  lerc               conda-forge/linux-64::lerc-4.0.0-h27087fc_0 \n",
      "  libasprintf        conda-forge/linux-64::libasprintf-0.22.5-h661eb56_2 \n",
      "  libasprintf-devel  conda-forge/linux-64::libasprintf-devel-0.22.5-h661eb56_2 \n",
      "  libbrotlicommon    conda-forge/linux-64::libbrotlicommon-1.1.0-hd590300_1 \n",
      "  libbrotlidec       conda-forge/linux-64::libbrotlidec-1.1.0-hd590300_1 \n",
      "  libbrotlienc       conda-forge/linux-64::libbrotlienc-1.1.0-hd590300_1 \n",
      "  libcap             conda-forge/linux-64::libcap-2.69-h0f662aa_0 \n",
      "  libclang-cpp15     conda-forge/linux-64::libclang-cpp15-15.0.7-default_h127d8a8_5 \n",
      "  libclang13         conda-forge/linux-64::libclang13-18.1.4-default_h5d6823c_0 \n",
      "  libcups            conda-forge/linux-64::libcups-2.3.3-h4637d8d_4 \n",
      "  libdeflate         conda-forge/linux-64::libdeflate-1.20-hd590300_0 \n",
      "  libevent           conda-forge/linux-64::libevent-2.1.12-hf998b51_1 \n",
      "  libexpat           conda-forge/linux-64::libexpat-2.6.2-h59595ed_0 \n",
      "  libflac            conda-forge/linux-64::libflac-1.4.3-h59595ed_0 \n",
      "  libgcrypt          conda-forge/linux-64::libgcrypt-1.11.0-h4ab18f5_0 \n",
      "  libgettextpo       conda-forge/linux-64::libgettextpo-0.22.5-h59595ed_2 \n",
      "  libgettextpo-devel conda-forge/linux-64::libgettextpo-devel-0.22.5-h59595ed_2 \n",
      "  libglib            conda-forge/linux-64::libglib-2.80.2-hf974151_0 \n",
      "  libgpg-error       conda-forge/linux-64::libgpg-error-1.50-h4f305b6_0 \n",
      "  libjpeg-turbo      conda-forge/linux-64::libjpeg-turbo-3.0.0-hd590300_1 \n",
      "  libllvm15          conda-forge/linux-64::libllvm15-15.0.7-hb3ce162_4 \n",
      "  libllvm18          conda-forge/linux-64::libllvm18-18.1.4-h2448989_0 \n",
      "  libogg             conda-forge/linux-64::libogg-1.3.5-h4ab18f5_0 \n",
      "  libopus            conda-forge/linux-64::libopus-1.3.1-h7f98852_1 \n",
      "  libpng             conda-forge/linux-64::libpng-1.6.43-h2797004_0 \n",
      "  libpq              conda-forge/linux-64::libpq-16.3-ha72fbe1_0 \n",
      "  libsndfile         conda-forge/linux-64::libsndfile-1.2.2-hc60ed4a_1 \n",
      "  libsystemd0        conda-forge/linux-64::libsystemd0-255-h3516f8a_1 \n",
      "  libtiff            conda-forge/linux-64::libtiff-4.6.0-h1dd3fc0_3 \n",
      "  libvorbis          conda-forge/linux-64::libvorbis-1.3.7-h9c3ff4c_0 \n",
      "  libwebp-base       conda-forge/linux-64::libwebp-base-1.4.0-hd590300_0 \n",
      "  libxcb             conda-forge/linux-64::libxcb-1.15-h0b41bf4_0 \n",
      "  libxkbcommon       conda-forge/linux-64::libxkbcommon-1.7.0-h662e7e4_0 \n",
      "  matplotlib         conda-forge/linux-64::matplotlib-3.9.1-py310hff52083_0 \n",
      "  matplotlib-base    conda-forge/linux-64::matplotlib-base-3.9.1-py310h0b1de36_0 \n",
      "  mpg123             conda-forge/linux-64::mpg123-1.32.6-h59595ed_0 \n",
      "  munkres            conda-forge/noarch::munkres-1.1.4-pyh9f0ad1d_0 \n",
      "  mysql-common       conda-forge/linux-64::mysql-common-8.3.0-hf1915f5_4 \n",
      "  mysql-libs         conda-forge/linux-64::mysql-libs-8.3.0-hca2cd23_4 \n",
      "  nspr               conda-forge/linux-64::nspr-4.35-h27087fc_0 \n",
      "  nss                conda-forge/linux-64::nss-3.98-h1d7d5a4_0 \n",
      "  openjpeg           conda-forge/linux-64::openjpeg-2.5.2-h488ebb8_0 \n",
      "  pcre2              conda-forge/linux-64::pcre2-10.43-hcad00b1_0 \n",
      "  pillow             conda-forge/linux-64::pillow-10.3.0-py310hf73ecf8_0 \n",
      "  pixman             conda-forge/linux-64::pixman-0.43.2-h59595ed_0 \n",
      "  ply                conda-forge/noarch::ply-3.11-pyhd8ed1ab_2 \n",
      "  pthread-stubs      conda-forge/linux-64::pthread-stubs-0.4-h36c2ea0_1001 \n",
      "  pulseaudio-client  conda-forge/linux-64::pulseaudio-client-17.0-hb77b528_0 \n",
      "  pyparsing          conda-forge/noarch::pyparsing-3.1.2-pyhd8ed1ab_0 \n",
      "  pyqt               conda-forge/linux-64::pyqt-5.15.9-py310h04931ad_5 \n",
      "  pyqt5-sip          conda-forge/linux-64::pyqt5-sip-12.12.2-py310hc6cd4ac_5 \n",
      "  python-dateutil    conda-forge/noarch::python-dateutil-2.9.0-pyhd8ed1ab_0 \n",
      "  qhull              conda-forge/linux-64::qhull-2020.2-h434a139_5 \n",
      "  qt-main            conda-forge/linux-64::qt-main-5.15.8-hc9dc06e_21 \n",
      "  sip                conda-forge/linux-64::sip-6.7.12-py310hc6cd4ac_0 \n",
      "  six                conda-forge/noarch::six-1.16.0-pyh6c4a22f_0 \n",
      "  toml               conda-forge/noarch::toml-0.10.2-pyhd8ed1ab_0 \n",
      "  tomli              conda-forge/noarch::tomli-2.0.1-pyhd8ed1ab_0 \n",
      "  tornado            conda-forge/linux-64::tornado-6.4.1-py310hc51659f_0 \n",
      "  unicodedata2       conda-forge/linux-64::unicodedata2-15.1.0-py310h2372a71_0 \n",
      "  xcb-util           conda-forge/linux-64::xcb-util-0.4.0-hd590300_1 \n",
      "  xcb-util-image     conda-forge/linux-64::xcb-util-image-0.4.0-h8ee46fc_1 \n",
      "  xcb-util-keysyms   conda-forge/linux-64::xcb-util-keysyms-0.4.0-h8ee46fc_1 \n",
      "  xcb-util-renderut~ conda-forge/linux-64::xcb-util-renderutil-0.3.9-hd590300_1 \n",
      "  xcb-util-wm        conda-forge/linux-64::xcb-util-wm-0.4.1-h8ee46fc_1 \n",
      "  xkeyboard-config   conda-forge/linux-64::xkeyboard-config-2.42-h4ab18f5_0 \n",
      "  xorg-kbproto       conda-forge/linux-64::xorg-kbproto-1.0.7-h7f98852_1002 \n",
      "  xorg-libice        conda-forge/linux-64::xorg-libice-1.1.1-hd590300_0 \n",
      "  xorg-libsm         conda-forge/linux-64::xorg-libsm-1.2.4-h7391055_0 \n",
      "  xorg-libx11        conda-forge/linux-64::xorg-libx11-1.8.9-h8ee46fc_0 \n",
      "  xorg-libxau        conda-forge/linux-64::xorg-libxau-1.0.11-hd590300_0 \n",
      "  xorg-libxdmcp      conda-forge/linux-64::xorg-libxdmcp-1.1.3-h7f98852_0 \n",
      "  xorg-libxext       conda-forge/linux-64::xorg-libxext-1.3.4-h0b41bf4_2 \n",
      "  xorg-libxrender    conda-forge/linux-64::xorg-libxrender-0.9.11-hd590300_0 \n",
      "  xorg-renderproto   conda-forge/linux-64::xorg-renderproto-0.11.1-h7f98852_1002 \n",
      "  xorg-xextproto     conda-forge/linux-64::xorg-xextproto-7.3.0-h0b41bf4_1003 \n",
      "  xorg-xf86vidmodep~ conda-forge/linux-64::xorg-xf86vidmodeproto-2.3.1-h7f98852_1002 \n",
      "  xorg-xproto        conda-forge/linux-64::xorg-xproto-7.0.31-h7f98852_1007 \n",
      "  zlib               conda-forge/linux-64::zlib-1.2.13-hd590300_5 \n",
      "\n",
      "The following packages will be UPDATED:\n",
      "\n",
      "  ca-certificates                       2024.6.2-hbcca054_0 --> 2024.7.4-hbcca054_0 \n",
      "  certifi                             2024.6.2-pyhd8ed1ab_0 --> 2024.7.4-pyhd8ed1ab_0 \n",
      "  openssl                                  3.3.1-h4ab18f5_1 --> 3.3.1-h4bc722e_2 \n",
      "\n",
      "\n",
      "\n",
      "Downloading and Extracting Packages: ...working... done\n",
      "Preparing transaction: ...working... done\n",
      "Verifying transaction: ...working... done\n",
      "Executing transaction: ...working... done\n"
     ]
    },
    {
     "data": {
      "text/plain": [
       "Plots.PyPlotBackend()"
      ]
     },
     "metadata": {},
     "output_type": "display_data"
    }
   ],
   "source": [
    "using Distributions\n",
    "using StatsBase\n",
    "using CSV\n",
    "using DataFrames\n",
    "using HypothesisTests\n",
    "using StatsPlots\n",
    "using GLM\n",
    "pyplot()"
   ]
  },
  {
   "cell_type": "code",
   "execution_count": 5,
   "metadata": {},
   "outputs": [
    {
     "data": {
      "text/plain": [
       "Plots.PyPlotBackend()"
      ]
     },
     "metadata": {},
     "output_type": "display_data"
    }
   ],
   "source": [
    "Plots.PyPlotBackend()"
   ]
  },
  {
   "cell_type": "code",
   "execution_count": 16,
   "metadata": {},
   "outputs": [],
   "source": [
    "age = rand(18:80, 100);\n",
    "wcc = round.(rand(Distributions.Normal(12,2), 100), digits = 1)\n",
    "crp = round.(Int, rand(Distributions.Chisq(4), 100)) .* 10\n",
    "treatment = rand([\"A\", \"B\"], 100);\n",
    "result = rand([\"Improved\", \"Static\", \"Worse\"], 100);"
   ]
  },
  {
   "cell_type": "code",
   "execution_count": 17,
   "metadata": {},
   "outputs": [
    {
     "data": {
      "text/plain": [
       "50.38"
      ]
     },
     "metadata": {},
     "output_type": "display_data"
    }
   ],
   "source": [
    "mean(age)"
   ]
  },
  {
   "cell_type": "code",
   "execution_count": 18,
   "metadata": {},
   "outputs": [
    {
     "data": {
      "text/plain": [
       "49.0"
      ]
     },
     "metadata": {},
     "output_type": "display_data"
    }
   ],
   "source": [
    "median(age)"
   ]
  },
  {
   "cell_type": "code",
   "execution_count": 19,
   "metadata": {},
   "outputs": [
    {
     "data": {
      "text/plain": [
       "18.346705866765735"
      ]
     },
     "metadata": {},
     "output_type": "display_data"
    }
   ],
   "source": [
    "std(age)"
   ]
  },
  {
   "cell_type": "code",
   "execution_count": 20,
   "metadata": {},
   "outputs": [
    {
     "data": {
      "text/plain": [
       "336.6016161616162"
      ]
     },
     "metadata": {},
     "output_type": "display_data"
    }
   ],
   "source": [
    "var(age)"
   ]
  },
  {
   "cell_type": "code",
   "execution_count": 21,
   "metadata": {},
   "outputs": [
    {
     "data": {
      "text/plain": [
       "12.089999999999998"
      ]
     },
     "metadata": {},
     "output_type": "display_data"
    }
   ],
   "source": [
    "mean(wcc)"
   ]
  },
  {
   "cell_type": "code",
   "execution_count": 22,
   "metadata": {},
   "outputs": [
    {
     "data": {
      "text/plain": [
       "2.141862684108334"
      ]
     },
     "metadata": {},
     "output_type": "display_data"
    }
   ],
   "source": [
    "std(wcc)"
   ]
  },
  {
   "cell_type": "code",
   "execution_count": 24,
   "metadata": {},
   "outputs": [
    {
     "name": "stdout",
     "output_type": "stream",
     "text": [
      "Summary Stats:\n",
      "Length:         100\n",
      "Missing Count:  0\n",
      "Mean:           50.380000\n",
      "Std. Deviation: 18.346706\n",
      "Minimum:        18.000000\n",
      "1st Quartile:   32.750000\n",
      "Median:         49.000000\n",
      "3rd Quartile:   66.250000\n",
      "Maximum:        80.000000\n",
      "Type:           Int64\n"
     ]
    }
   ],
   "source": [
    "StatsBase.describe(age)"
   ]
  },
  {
   "cell_type": "code",
   "execution_count": 26,
   "metadata": {},
   "outputs": [
    {
     "data": {
      "text/plain": [
       "Summary Stats:\n",
       "Length:         100\n",
       "Missing Count:  0\n",
       "Mean:           12.090000\n",
       "Std. Deviation: 2.141863\n",
       "Minimum:        6.100000\n",
       "1st Quartile:   10.875000\n",
       "Median:         11.900000\n",
       "3rd Quartile:   13.525000\n",
       "Maximum:        16.900000\n"
      ]
     },
     "metadata": {},
     "output_type": "display_data"
    }
   ],
   "source": [
    "StatsBase.summarystats(wcc)"
   ]
  },
  {
   "cell_type": "code",
   "execution_count": 27,
   "metadata": {},
   "outputs": [
    {
     "data": {
      "text/html": [
       "<div><div style = \"float: left;\"><span>100×5 DataFrame</span></div><div style = \"float: right;\"><span style = \"font-style: italic;\">75 rows omitted</span></div><div style = \"clear: both;\"></div></div><div class = \"data-frame\" style = \"overflow-x: scroll;\"><table class = \"data-frame\" style = \"margin-bottom: 6px;\"><thead><tr class = \"header\"><th class = \"rowNumber\" style = \"font-weight: bold; text-align: right;\">Row</th><th style = \"text-align: left;\">Age</th><th style = \"text-align: left;\">WCC</th><th style = \"text-align: left;\">CRP</th><th style = \"text-align: left;\">Treatment</th><th style = \"text-align: left;\">Result</th></tr><tr class = \"subheader headerLastRow\"><th class = \"rowNumber\" style = \"font-weight: bold; text-align: right;\"></th><th title = \"Int64\" style = \"text-align: left;\">Int64</th><th title = \"Float64\" style = \"text-align: left;\">Float64</th><th title = \"Int64\" style = \"text-align: left;\">Int64</th><th title = \"String\" style = \"text-align: left;\">String</th><th title = \"String\" style = \"text-align: left;\">String</th></tr></thead><tbody><tr><td class = \"rowNumber\" style = \"font-weight: bold; text-align: right;\">1</td><td style = \"text-align: right;\">58</td><td style = \"text-align: right;\">15.1</td><td style = \"text-align: right;\">20</td><td style = \"text-align: left;\">A</td><td style = \"text-align: left;\">Improved</td></tr><tr><td class = \"rowNumber\" style = \"font-weight: bold; text-align: right;\">2</td><td style = \"text-align: right;\">75</td><td style = \"text-align: right;\">10.1</td><td style = \"text-align: right;\">30</td><td style = \"text-align: left;\">A</td><td style = \"text-align: left;\">Improved</td></tr><tr><td class = \"rowNumber\" style = \"font-weight: bold; text-align: right;\">3</td><td style = \"text-align: right;\">69</td><td style = \"text-align: right;\">8.5</td><td style = \"text-align: right;\">50</td><td style = \"text-align: left;\">A</td><td style = \"text-align: left;\">Improved</td></tr><tr><td class = \"rowNumber\" style = \"font-weight: bold; text-align: right;\">4</td><td style = \"text-align: right;\">64</td><td style = \"text-align: right;\">10.9</td><td style = \"text-align: right;\">120</td><td style = \"text-align: left;\">A</td><td style = \"text-align: left;\">Static</td></tr><tr><td class = \"rowNumber\" style = \"font-weight: bold; text-align: right;\">5</td><td style = \"text-align: right;\">57</td><td style = \"text-align: right;\">11.8</td><td style = \"text-align: right;\">10</td><td style = \"text-align: left;\">B</td><td style = \"text-align: left;\">Static</td></tr><tr><td class = \"rowNumber\" style = \"font-weight: bold; text-align: right;\">6</td><td style = \"text-align: right;\">67</td><td style = \"text-align: right;\">11.8</td><td style = \"text-align: right;\">50</td><td style = \"text-align: left;\">B</td><td style = \"text-align: left;\">Worse</td></tr><tr><td class = \"rowNumber\" style = \"font-weight: bold; text-align: right;\">7</td><td style = \"text-align: right;\">72</td><td style = \"text-align: right;\">14.2</td><td style = \"text-align: right;\">70</td><td style = \"text-align: left;\">B</td><td style = \"text-align: left;\">Improved</td></tr><tr><td class = \"rowNumber\" style = \"font-weight: bold; text-align: right;\">8</td><td style = \"text-align: right;\">46</td><td style = \"text-align: right;\">11.4</td><td style = \"text-align: right;\">10</td><td style = \"text-align: left;\">A</td><td style = \"text-align: left;\">Static</td></tr><tr><td class = \"rowNumber\" style = \"font-weight: bold; text-align: right;\">9</td><td style = \"text-align: right;\">54</td><td style = \"text-align: right;\">12.7</td><td style = \"text-align: right;\">50</td><td style = \"text-align: left;\">A</td><td style = \"text-align: left;\">Static</td></tr><tr><td class = \"rowNumber\" style = \"font-weight: bold; text-align: right;\">10</td><td style = \"text-align: right;\">28</td><td style = \"text-align: right;\">14.3</td><td style = \"text-align: right;\">10</td><td style = \"text-align: left;\">B</td><td style = \"text-align: left;\">Static</td></tr><tr><td class = \"rowNumber\" style = \"font-weight: bold; text-align: right;\">11</td><td style = \"text-align: right;\">45</td><td style = \"text-align: right;\">11.7</td><td style = \"text-align: right;\">50</td><td style = \"text-align: left;\">A</td><td style = \"text-align: left;\">Worse</td></tr><tr><td class = \"rowNumber\" style = \"font-weight: bold; text-align: right;\">12</td><td style = \"text-align: right;\">46</td><td style = \"text-align: right;\">10.5</td><td style = \"text-align: right;\">100</td><td style = \"text-align: left;\">B</td><td style = \"text-align: left;\">Improved</td></tr><tr><td class = \"rowNumber\" style = \"font-weight: bold; text-align: right;\">13</td><td style = \"text-align: right;\">33</td><td style = \"text-align: right;\">16.9</td><td style = \"text-align: right;\">20</td><td style = \"text-align: left;\">B</td><td style = \"text-align: left;\">Improved</td></tr><tr><td style = \"text-align: right;\">&vellip;</td><td style = \"text-align: right;\">&vellip;</td><td style = \"text-align: right;\">&vellip;</td><td style = \"text-align: right;\">&vellip;</td><td style = \"text-align: right;\">&vellip;</td><td style = \"text-align: right;\">&vellip;</td></tr><tr><td class = \"rowNumber\" style = \"font-weight: bold; text-align: right;\">89</td><td style = \"text-align: right;\">60</td><td style = \"text-align: right;\">13.5</td><td style = \"text-align: right;\">20</td><td style = \"text-align: left;\">B</td><td style = \"text-align: left;\">Improved</td></tr><tr><td class = \"rowNumber\" style = \"font-weight: bold; text-align: right;\">90</td><td style = \"text-align: right;\">45</td><td style = \"text-align: right;\">12.4</td><td style = \"text-align: right;\">40</td><td style = \"text-align: left;\">A</td><td style = \"text-align: left;\">Improved</td></tr><tr><td class = \"rowNumber\" style = \"font-weight: bold; text-align: right;\">91</td><td style = \"text-align: right;\">32</td><td style = \"text-align: right;\">14.1</td><td style = \"text-align: right;\">30</td><td style = \"text-align: left;\">A</td><td style = \"text-align: left;\">Improved</td></tr><tr><td class = \"rowNumber\" style = \"font-weight: bold; text-align: right;\">92</td><td style = \"text-align: right;\">34</td><td style = \"text-align: right;\">10.8</td><td style = \"text-align: right;\">20</td><td style = \"text-align: left;\">B</td><td style = \"text-align: left;\">Worse</td></tr><tr><td class = \"rowNumber\" style = \"font-weight: bold; text-align: right;\">93</td><td style = \"text-align: right;\">49</td><td style = \"text-align: right;\">12.6</td><td style = \"text-align: right;\">80</td><td style = \"text-align: left;\">B</td><td style = \"text-align: left;\">Static</td></tr><tr><td class = \"rowNumber\" style = \"font-weight: bold; text-align: right;\">94</td><td style = \"text-align: right;\">68</td><td style = \"text-align: right;\">11.3</td><td style = \"text-align: right;\">10</td><td style = \"text-align: left;\">B</td><td style = \"text-align: left;\">Worse</td></tr><tr><td class = \"rowNumber\" style = \"font-weight: bold; text-align: right;\">95</td><td style = \"text-align: right;\">26</td><td style = \"text-align: right;\">12.8</td><td style = \"text-align: right;\">10</td><td style = \"text-align: left;\">A</td><td style = \"text-align: left;\">Worse</td></tr><tr><td class = \"rowNumber\" style = \"font-weight: bold; text-align: right;\">96</td><td style = \"text-align: right;\">56</td><td style = \"text-align: right;\">14.4</td><td style = \"text-align: right;\">10</td><td style = \"text-align: left;\">B</td><td style = \"text-align: left;\">Static</td></tr><tr><td class = \"rowNumber\" style = \"font-weight: bold; text-align: right;\">97</td><td style = \"text-align: right;\">59</td><td style = \"text-align: right;\">14.9</td><td style = \"text-align: right;\">10</td><td style = \"text-align: left;\">B</td><td style = \"text-align: left;\">Improved</td></tr><tr><td class = \"rowNumber\" style = \"font-weight: bold; text-align: right;\">98</td><td style = \"text-align: right;\">65</td><td style = \"text-align: right;\">12.5</td><td style = \"text-align: right;\">40</td><td style = \"text-align: left;\">B</td><td style = \"text-align: left;\">Static</td></tr><tr><td class = \"rowNumber\" style = \"font-weight: bold; text-align: right;\">99</td><td style = \"text-align: right;\">48</td><td style = \"text-align: right;\">12.1</td><td style = \"text-align: right;\">10</td><td style = \"text-align: left;\">B</td><td style = \"text-align: left;\">Static</td></tr><tr><td class = \"rowNumber\" style = \"font-weight: bold; text-align: right;\">100</td><td style = \"text-align: right;\">19</td><td style = \"text-align: right;\">11.5</td><td style = \"text-align: right;\">90</td><td style = \"text-align: left;\">B</td><td style = \"text-align: left;\">Improved</td></tr></tbody></table></div>"
      ],
      "text/latex": [
       "\\begin{tabular}{r|ccccc}\n",
       "\t& Age & WCC & CRP & Treatment & Result\\\\\n",
       "\t\\hline\n",
       "\t& Int64 & Float64 & Int64 & String & String\\\\\n",
       "\t\\hline\n",
       "\t1 & 58 & 15.1 & 20 & A & Improved \\\\\n",
       "\t2 & 75 & 10.1 & 30 & A & Improved \\\\\n",
       "\t3 & 69 & 8.5 & 50 & A & Improved \\\\\n",
       "\t4 & 64 & 10.9 & 120 & A & Static \\\\\n",
       "\t5 & 57 & 11.8 & 10 & B & Static \\\\\n",
       "\t6 & 67 & 11.8 & 50 & B & Worse \\\\\n",
       "\t7 & 72 & 14.2 & 70 & B & Improved \\\\\n",
       "\t8 & 46 & 11.4 & 10 & A & Static \\\\\n",
       "\t9 & 54 & 12.7 & 50 & A & Static \\\\\n",
       "\t10 & 28 & 14.3 & 10 & B & Static \\\\\n",
       "\t11 & 45 & 11.7 & 50 & A & Worse \\\\\n",
       "\t12 & 46 & 10.5 & 100 & B & Improved \\\\\n",
       "\t13 & 33 & 16.9 & 20 & B & Improved \\\\\n",
       "\t14 & 27 & 10.0 & 60 & A & Static \\\\\n",
       "\t15 & 41 & 11.8 & 150 & A & Improved \\\\\n",
       "\t16 & 75 & 16.4 & 20 & A & Improved \\\\\n",
       "\t17 & 58 & 9.6 & 90 & A & Improved \\\\\n",
       "\t18 & 46 & 14.4 & 60 & A & Worse \\\\\n",
       "\t19 & 32 & 7.8 & 30 & A & Static \\\\\n",
       "\t20 & 73 & 13.2 & 20 & B & Improved \\\\\n",
       "\t21 & 63 & 12.5 & 30 & B & Static \\\\\n",
       "\t22 & 60 & 11.0 & 50 & A & Static \\\\\n",
       "\t23 & 76 & 11.1 & 40 & A & Improved \\\\\n",
       "\t24 & 24 & 11.9 & 30 & B & Static \\\\\n",
       "\t$\\dots$ & $\\dots$ & $\\dots$ & $\\dots$ & $\\dots$ & $\\dots$ \\\\\n",
       "\\end{tabular}\n"
      ],
      "text/plain": [
       "\u001b[1m100×5 DataFrame\u001b[0m\n",
       "\u001b[1m Row \u001b[0m│\u001b[1m Age   \u001b[0m\u001b[1m WCC     \u001b[0m\u001b[1m CRP   \u001b[0m\u001b[1m Treatment \u001b[0m\u001b[1m Result   \u001b[0m\n",
       "     │\u001b[90m Int64 \u001b[0m\u001b[90m Float64 \u001b[0m\u001b[90m Int64 \u001b[0m\u001b[90m String    \u001b[0m\u001b[90m String   \u001b[0m\n",
       "─────┼────────────────────────────────────────────\n",
       "   1 │    58     15.1     20  A          Improved\n",
       "   2 │    75     10.1     30  A          Improved\n",
       "   3 │    69      8.5     50  A          Improved\n",
       "   4 │    64     10.9    120  A          Static\n",
       "   5 │    57     11.8     10  B          Static\n",
       "   6 │    67     11.8     50  B          Worse\n",
       "   7 │    72     14.2     70  B          Improved\n",
       "   8 │    46     11.4     10  A          Static\n",
       "  ⋮  │   ⋮       ⋮       ⋮        ⋮         ⋮\n",
       "  94 │    68     11.3     10  B          Worse\n",
       "  95 │    26     12.8     10  A          Worse\n",
       "  96 │    56     14.4     10  B          Static\n",
       "  97 │    59     14.9     10  B          Improved\n",
       "  98 │    65     12.5     40  B          Static\n",
       "  99 │    48     12.1     10  B          Static\n",
       " 100 │    19     11.5     90  B          Improved\n",
       "\u001b[36m                                   85 rows omitted\u001b[0m"
      ]
     },
     "metadata": {},
     "output_type": "display_data"
    }
   ],
   "source": [
    "data = DataFrame(Age = age, WCC = wcc, CRP = crp, Treatment = treatment, Result = result)"
   ]
  },
  {
   "cell_type": "code",
   "execution_count": 28,
   "metadata": {},
   "outputs": [
    {
     "data": {
      "text/plain": [
       "(100, 5)"
      ]
     },
     "metadata": {},
     "output_type": "display_data"
    }
   ],
   "source": [
    "size(data)"
   ]
  },
  {
   "cell_type": "code",
   "execution_count": 33,
   "metadata": {},
   "outputs": [
    {
     "data": {
      "text/html": [
       "<div><div style = \"float: left;\"><span>6×5 DataFrame</span></div><div style = \"clear: both;\"></div></div><div class = \"data-frame\" style = \"overflow-x: scroll;\"><table class = \"data-frame\" style = \"margin-bottom: 6px;\"><thead><tr class = \"header\"><th class = \"rowNumber\" style = \"font-weight: bold; text-align: right;\">Row</th><th style = \"text-align: left;\">Age</th><th style = \"text-align: left;\">WCC</th><th style = \"text-align: left;\">CRP</th><th style = \"text-align: left;\">Treatment</th><th style = \"text-align: left;\">Result</th></tr><tr class = \"subheader headerLastRow\"><th class = \"rowNumber\" style = \"font-weight: bold; text-align: right;\"></th><th title = \"Int64\" style = \"text-align: left;\">Int64</th><th title = \"Float64\" style = \"text-align: left;\">Float64</th><th title = \"Int64\" style = \"text-align: left;\">Int64</th><th title = \"String\" style = \"text-align: left;\">String</th><th title = \"String\" style = \"text-align: left;\">String</th></tr></thead><tbody><tr><td class = \"rowNumber\" style = \"font-weight: bold; text-align: right;\">1</td><td style = \"text-align: right;\">58</td><td style = \"text-align: right;\">15.1</td><td style = \"text-align: right;\">20</td><td style = \"text-align: left;\">A</td><td style = \"text-align: left;\">Improved</td></tr><tr><td class = \"rowNumber\" style = \"font-weight: bold; text-align: right;\">2</td><td style = \"text-align: right;\">75</td><td style = \"text-align: right;\">10.1</td><td style = \"text-align: right;\">30</td><td style = \"text-align: left;\">A</td><td style = \"text-align: left;\">Improved</td></tr><tr><td class = \"rowNumber\" style = \"font-weight: bold; text-align: right;\">3</td><td style = \"text-align: right;\">69</td><td style = \"text-align: right;\">8.5</td><td style = \"text-align: right;\">50</td><td style = \"text-align: left;\">A</td><td style = \"text-align: left;\">Improved</td></tr><tr><td class = \"rowNumber\" style = \"font-weight: bold; text-align: right;\">4</td><td style = \"text-align: right;\">64</td><td style = \"text-align: right;\">10.9</td><td style = \"text-align: right;\">120</td><td style = \"text-align: left;\">A</td><td style = \"text-align: left;\">Static</td></tr><tr><td class = \"rowNumber\" style = \"font-weight: bold; text-align: right;\">5</td><td style = \"text-align: right;\">57</td><td style = \"text-align: right;\">11.8</td><td style = \"text-align: right;\">10</td><td style = \"text-align: left;\">B</td><td style = \"text-align: left;\">Static</td></tr><tr><td class = \"rowNumber\" style = \"font-weight: bold; text-align: right;\">6</td><td style = \"text-align: right;\">67</td><td style = \"text-align: right;\">11.8</td><td style = \"text-align: right;\">50</td><td style = \"text-align: left;\">B</td><td style = \"text-align: left;\">Worse</td></tr></tbody></table></div>"
      ],
      "text/latex": [
       "\\begin{tabular}{r|ccccc}\n",
       "\t& Age & WCC & CRP & Treatment & Result\\\\\n",
       "\t\\hline\n",
       "\t& Int64 & Float64 & Int64 & String & String\\\\\n",
       "\t\\hline\n",
       "\t1 & 58 & 15.1 & 20 & A & Improved \\\\\n",
       "\t2 & 75 & 10.1 & 30 & A & Improved \\\\\n",
       "\t3 & 69 & 8.5 & 50 & A & Improved \\\\\n",
       "\t4 & 64 & 10.9 & 120 & A & Static \\\\\n",
       "\t5 & 57 & 11.8 & 10 & B & Static \\\\\n",
       "\t6 & 67 & 11.8 & 50 & B & Worse \\\\\n",
       "\\end{tabular}\n"
      ],
      "text/plain": [
       "\u001b[1m6×5 DataFrame\u001b[0m\n",
       "\u001b[1m Row \u001b[0m│\u001b[1m Age   \u001b[0m\u001b[1m WCC     \u001b[0m\u001b[1m CRP   \u001b[0m\u001b[1m Treatment \u001b[0m\u001b[1m Result   \u001b[0m\n",
       "     │\u001b[90m Int64 \u001b[0m\u001b[90m Float64 \u001b[0m\u001b[90m Int64 \u001b[0m\u001b[90m String    \u001b[0m\u001b[90m String   \u001b[0m\n",
       "─────┼────────────────────────────────────────────\n",
       "   1 │    58     15.1     20  A          Improved\n",
       "   2 │    75     10.1     30  A          Improved\n",
       "   3 │    69      8.5     50  A          Improved\n",
       "   4 │    64     10.9    120  A          Static\n",
       "   5 │    57     11.8     10  B          Static\n",
       "   6 │    67     11.8     50  B          Worse"
      ]
     },
     "metadata": {},
     "output_type": "display_data"
    }
   ],
   "source": [
    "first(data, 6)"
   ]
  },
  {
   "cell_type": "code",
   "execution_count": 37,
   "metadata": {},
   "outputs": [],
   "source": [
    "dataA = data[data[!,:Treatment] .== \"A\", :]\n",
    "dataB = data[data[!, :Treatment] .== \"B\", :]"
   ]
  },
  {
   "cell_type": "code",
   "execution_count": null,
   "metadata": {},
   "outputs": [],
   "source": []
  }
 ],
 "metadata": {
  "kernelspec": {
   "display_name": "Julia 1.10.2",
   "language": "julia",
   "name": "julia-1.10"
  },
  "language_info": {
   "file_extension": ".jl",
   "mimetype": "application/julia",
   "name": "julia",
   "version": "1.10.2"
  }
 },
 "nbformat": 4,
 "nbformat_minor": 2
}
