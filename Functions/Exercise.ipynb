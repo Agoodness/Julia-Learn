{
 "cells": [
  {
   "cell_type": "markdown",
   "metadata": {},
   "source": [
    "## Exercise 1\n",
    "\n",
    "1. Write a function to calculate the greatest common divisor of two integers. The function should take two integers as input and return an integer as output. Hint: You can use a while loop."
   ]
  },
  {
   "cell_type": "code",
   "execution_count": 5,
   "metadata": {},
   "outputs": [
    {
     "data": {
      "text/plain": [
       "commonDiv (generic function with 1 method)"
      ]
     },
     "metadata": {},
     "output_type": "display_data"
    }
   ],
   "source": [
    "function commonDiv(x::Int64, y::Int64)::Int64\n",
    "    while y !=0\n",
    "        x, y = y, x%y\n",
    "    end \n",
    "    return x\n",
    "end"
   ]
  },
  {
   "cell_type": "code",
   "execution_count": null,
   "metadata": {},
   "outputs": [],
   "source": [
    "# solution\n",
    "\n",
    "function gcd(x::Int64, y::Int64)::Int64\n",
    "    while y != 0\n",
    "        x, y = y, x%y \n",
    "    end\n",
    "    return x \n",
    "end\n"
   ]
  },
  {
   "cell_type": "code",
   "execution_count": 7,
   "metadata": {},
   "outputs": [
    {
     "data": {
      "text/plain": [
       "2"
      ]
     },
     "metadata": {},
     "output_type": "display_data"
    }
   ],
   "source": [
    "commonDiv(56, 30)"
   ]
  },
  {
   "cell_type": "markdown",
   "metadata": {},
   "source": [
    "## Exercise 2\n",
    "\n",
    "2. Write a function which returns the nth Fibonacci number. We have seen a recursive type of this function. This time don't use recursion. Hint: You can use a for loop."
   ]
  },
  {
   "cell_type": "code",
   "execution_count": 38,
   "metadata": {},
   "outputs": [
    {
     "data": {
      "text/plain": [
       "Fibo (generic function with 3 methods)"
      ]
     },
     "metadata": {},
     "output_type": "display_data"
    }
   ],
   "source": [
    "function Fibo(n::Int64)::Int64\n",
    "    arr = Int64[]\n",
    "    b = 1::Int64\n",
    "    append!(arr, 1)\n",
    "    for a in 1:n-1\n",
    "        append!(arr, b)\n",
    "        b = b + arr[a]\n",
    "    end\n",
    "    println(arr)\n",
    "    return arr[end]\n",
    "end"
   ]
  },
  {
   "cell_type": "code",
   "execution_count": 40,
   "metadata": {},
   "outputs": [
    {
     "name": "stdout",
     "output_type": "stream",
     "text": [
      "[1, 1, 2, 3, 5, 8, 13, 21, 34, 55, 89, 144, 233, 377, 610, 987, 1597, 2584, 4181, 6765, 10946, 17711, 28657]\n"
     ]
    },
    {
     "data": {
      "text/plain": [
       "28657"
      ]
     },
     "metadata": {},
     "output_type": "display_data"
    }
   ],
   "source": [
    "Fibo(23)"
   ]
  },
  {
   "cell_type": "code",
   "execution_count": null,
   "metadata": {},
   "outputs": [],
   "source": [
    "# Solution\n",
    "\n",
    "function fib(n::Int64)::Int64 \n",
    "    x, y = 0, 1\n",
    "    for i in 1:n \n",
    "        x, y = y, x+y \n",
    "    end\n",
    "    return x \n",
    "end"
   ]
  },
  {
   "cell_type": "markdown",
   "metadata": {},
   "source": [
    "## Exercise 3\n",
    "\n",
    "3. Write a function that takes in two vectors of equal length and returns a new vector containing the element-wise sum.\n",
    "\n",
    "For example:\n",
    "\n",
    "\n",
    "\n",
    "v1 = [1, 2, 3]\n",
    "v2 = [4, 5, 6]\n",
    " \n",
    "elementwise_sum(v1, v2)\n",
    "# should return [5, 7, 9]\n",
    "\n",
    "Try the following alternatives:\n",
    "\n",
    "- use a for loop\n",
    "\n",
    "- use a comprehension\n",
    "\n",
    "- use broadcasting (actually you don't need a function for this but this is an exercise)\n"
   ]
  },
  {
   "cell_type": "code",
   "execution_count": 59,
   "metadata": {},
   "outputs": [
    {
     "data": {
      "text/plain": [
       "Vec (generic function with 1 method)"
      ]
     },
     "metadata": {},
     "output_type": "display_data"
    }
   ],
   "source": [
    "function Vec(v1::Array{Int64}, v2::Array{Int64})\n",
    "    if lastindex(v1) == lastindex(v2)\n",
    "        newvec = map(+, v1, v2)\n",
    "    else \n",
    "        newvec = \"Please enter equal vectors\"\n",
    "        # println(newvec)\n",
    "    end\n",
    "    return newvec\n",
    "end"
   ]
  },
  {
   "cell_type": "code",
   "execution_count": 63,
   "metadata": {},
   "outputs": [
    {
     "data": {
      "text/plain": [
       "5-element Vector{Int64}:\n",
       " 17\n",
       " 29\n",
       " 41\n",
       " 52\n",
       " 84"
      ]
     },
     "metadata": {},
     "output_type": "display_data"
    }
   ],
   "source": [
    "v1 = [12, 22, 31, 40, 50]\n",
    "v2 = [5, 7, 10, 12, 34]\n",
    "\n",
    "Vec(v1, v2)"
   ]
  },
  {
   "cell_type": "code",
   "execution_count": 62,
   "metadata": {},
   "outputs": [
    {
     "name": "stdout",
     "output_type": "stream",
     "text": [
      "Any[17, 29, 41, 52, 84]\n"
     ]
    }
   ],
   "source": [
    "v1 = [12, 22, 31, 40, 50]\n",
    "v2 = [5, 7, 10, 12, 34]\n",
    "v3 = []\n",
    "\n",
    "for n in 1:length(v1)\n",
    "    a = v1[n] + v2[n]\n",
    "    append!(v3, a)\n",
    "end\n",
    "println(v3)"
   ]
  },
  {
   "cell_type": "code",
   "execution_count": null,
   "metadata": {},
   "outputs": [],
   "source": [
    "# Solution \n",
    "\n",
    "3. Some possible alternatives are below:\n",
    "\n",
    "\n",
    "\n",
    "With for loop:\n",
    "\n",
    "function elementwise_sum(v1, v2)\n",
    "    @assert length(v1) == length(v2) \"Vectors must be same length\"\n",
    "    result = similar(v1)\n",
    "    for i in 1:length(v1) \n",
    "        result[i] = v1[i] + v2[i]\n",
    "    end    \n",
    "    return result\n",
    "end\n",
    " \n",
    "function elementwise_sum(v1, v2)\n",
    "    @assert length(v1) == length(v2) \"Vectors must be same length\"\n",
    "    result = []\n",
    "    for (x, y) ∈ zip(v1, v2)\n",
    "        push!(result, x + y)\n",
    "    end    \n",
    "    return result\n",
    "end\n",
    "\n",
    "\n",
    "With comprehension:\n",
    "\n",
    "function elementwise_sum(v1, v2)\n",
    "    @assert length(v1) == length(v2) \"Vectors must be same length\"\n",
    "    return [v1[i] + v2[i] for i in 1:length(v1)]\n",
    "end\n",
    " \n",
    "function elementwise_sum(v1, v2)\n",
    "    @assert length(v1) == length(v2) \"Vectors must be same length\"\n",
    "    return [(x+y) for (x, y) in zip(v1, v2)]\n",
    "end\n",
    "\n",
    "\n",
    "With broadcasting:\n",
    "\n",
    "function elementwise_sum(v1, v2)\n",
    "    @assert length(v1) == length(v2) \"Vectors must be same length\"\n",
    "    return v1 .+ v2\n",
    "end \n"
   ]
  },
  {
   "cell_type": "markdown",
   "metadata": {},
   "source": [
    "## Exercise 4\n",
    "\n",
    "4. Write a function that takes in a string and returns the number of vowels (a, e, i, o, u) in the string.\n",
    "\n",
    "\n",
    "\n",
    "For example:\n",
    "\n",
    "str = \"Hello World\" \n",
    " \n",
    "count_vowels(str)\n",
    "# should return 3"
   ]
  },
  {
   "cell_type": "code",
   "execution_count": 79,
   "metadata": {},
   "outputs": [
    {
     "data": {
      "text/plain": [
       "Vowel (generic function with 2 methods)"
      ]
     },
     "metadata": {},
     "output_type": "display_data"
    }
   ],
   "source": [
    "function Vowel(input::String)\n",
    "    vowels = ['a', 'e', 'i', 'o', 'u', 'A', 'E', 'I', 'O', 'U']\n",
    "    arr = String[]\n",
    "    for c in vowels\n",
    "        for a in input\n",
    "            a = string(a)\n",
    "            if c == a\n",
    "                push!(arr, a)\n",
    "            end\n",
    "        end\n",
    "    end\n",
    "    println(\"The number of vowel characters are $(length(arr)) and they are $arr\")\n",
    "end"
   ]
  },
  {
   "cell_type": "code",
   "execution_count": 82,
   "metadata": {},
   "outputs": [
    {
     "data": {
      "text/plain": [
       "count_vowels (generic function with 1 method)"
      ]
     },
     "metadata": {},
     "output_type": "display_data"
    }
   ],
   "source": [
    "# Solution\n",
    "\n",
    "function count_vowels(str)\n",
    "    vowels = 0\n",
    "    for c in str\n",
    "        if c in ['a', 'e', 'i', 'o', 'u']\n",
    "            vowels += 1\n",
    "        end\n",
    "    end\n",
    "    return vowels\n",
    "end"
   ]
  },
  {
   "cell_type": "code",
   "execution_count": 84,
   "metadata": {},
   "outputs": [
    {
     "data": {
      "text/plain": [
       "2"
      ]
     },
     "metadata": {},
     "output_type": "display_data"
    }
   ],
   "source": [
    "count_vowels(\"Hello\")"
   ]
  },
  {
   "cell_type": "code",
   "execution_count": null,
   "metadata": {},
   "outputs": [],
   "source": []
  }
 ],
 "metadata": {
  "kernelspec": {
   "display_name": "Julia 1.10.2",
   "language": "julia",
   "name": "julia-1.10"
  },
  "language_info": {
   "file_extension": ".jl",
   "mimetype": "application/julia",
   "name": "julia",
   "version": "1.10.2"
  }
 },
 "nbformat": 4,
 "nbformat_minor": 2
}
